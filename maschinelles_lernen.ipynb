{
 "cells": [
  {
   "cell_type": "markdown",
   "metadata": {},
   "source": [
    "# muss man einbinden"
   ]
  },
  {
   "cell_type": "markdown",
   "metadata": {},
   "source": [
    "Importieren"
   ]
  },
  {
   "cell_type": "code",
   "execution_count": 5,
   "metadata": {},
   "outputs": [],
   "source": [
    "import tensorflow as tf\n",
    "import os\n",
    "import pandas as pd\n",
    "import numpy as np\n",
    "import plotly.express as px\n",
    "from tensorflow.keras.models import Sequential\n",
    "from tensorflow.keras.layers import *\n",
    "from tensorflow.keras.callbacks import ModelCheckpoint\n",
    "from tensorflow.keras.losses import MeanSquaredError\n",
    "from tensorflow.keras.metrics import RootMeanSquaredError\n",
    "from tensorflow.keras.optimizers import Adam\n",
    "from tensorflow.keras.models import load_model\n",
    "from sklearn.linear_model import LinearRegression\n",
    "from sklearn.metrics import mean_squared_error, r2_score"
   ]
  },
  {
   "cell_type": "markdown",
   "metadata": {},
   "source": [
    "einlesen und Trainings- und Testdaten bestimmen"
   ]
  },
  {
   "cell_type": "code",
   "execution_count": 6,
   "metadata": {},
   "outputs": [],
   "source": [
    "# CSV-Datei einlesen\n",
    "average_values = pd.read_csv(\"werte_daten/average_values.csv\")\n",
    "# es werden nur die nötigten Werte genommen\n",
    "land_PM2_5_average = average_values[[\"datum\", \"average_landpm2_5\"]]\n",
    "# Das Datum als Index setzen\n",
    "land_PM2_5_average.set_index('datum', inplace=True)"
   ]
  },
  {
   "cell_type": "code",
   "execution_count": 7,
   "metadata": {},
   "outputs": [],
   "source": [
    "# ein Series mit den Durchschnittsdaten erstellen\n",
    "values_lpm2_5 = land_PM2_5_average[\"average_landpm2_5\"]\n",
    "# das filtern der Datumswerte für die Visualisierung später\n",
    "zeitreihen_index_lpm2_5 = values_lpm2_5.index"
   ]
  },
  {
   "cell_type": "code",
   "execution_count": 8,
   "metadata": {},
   "outputs": [],
   "source": [
    "# es wird eine Definition erstellt, die ein Dataframe in X und y aufteilt, mit Betrachtung eines Windows\n",
    "def df_to_X_y(df, window_size=5):\n",
    "    df_as_np = df.to_numpy()\n",
    "    X = []\n",
    "    y = []\n",
    "    for i in range(len(df_as_np)-window_size):\n",
    "        row = [[a] for a in df_as_np[i:i+5]]\n",
    "        X.append(row)\n",
    "        label = df_as_np[i+5]\n",
    "        y.append(label)\n",
    "    return np.array(X), np.array(y)"
   ]
  },
  {
   "cell_type": "code",
   "execution_count": 9,
   "metadata": {},
   "outputs": [
    {
     "data": {
      "text/plain": [
       "((369, 5, 1), (369,))"
      ]
     },
     "execution_count": 9,
     "metadata": {},
     "output_type": "execute_result"
    }
   ],
   "source": [
    "# X und y werden erstellt und die Größe ausgegeben\n",
    "WINDOW_SIZE = 5\n",
    "X, y = df_to_X_y(values_lpm2_5, WINDOW_SIZE)\n",
    "X.shape, y.shape"
   ]
  },
  {
   "cell_type": "code",
   "execution_count": 10,
   "metadata": {},
   "outputs": [],
   "source": [
    "# die Werte werden unterteilt\n",
    "X_train, y_train = X[:280], y[:280]\n",
    "train_index = zeitreihen_index_lpm2_5[5:285]\n",
    "X_val, y_val = X[:300], y[:300]\n",
    "val_index = zeitreihen_index_lpm2_5[5:305]\n",
    "X_test, y_test = X[300:], y[300:]\n",
    "test_index = zeitreihen_index_lpm2_5[305:]"
   ]
  },
  {
   "cell_type": "markdown",
   "metadata": {},
   "source": [
    "Model bauen und trainieren"
   ]
  },
  {
   "cell_type": "code",
   "execution_count": 214,
   "metadata": {},
   "outputs": [],
   "source": [
    "# das Model wird erstellt\n",
    "model1 = Sequential()\n",
    "model1.add(InputLayer((5,1)))\n",
    "model1.add(LSTM(64))\n",
    "model1.add(Dense(8, 'relu'))\n",
    "model1.add(Dense(1, 'linear'))"
   ]
  },
  {
   "cell_type": "code",
   "execution_count": 115,
   "metadata": {},
   "outputs": [],
   "source": [
    "# es wird ein Checkpoint erstellt, sodass am Ende das beste Model gespeichert wird\n",
    "model1.compile(loss=MeanSquaredError(), optimizer=Adam(learning_rate=0.001), metrics=[RootMeanSquaredError()])"
   ]
  },
  {
   "cell_type": "markdown",
   "metadata": {},
   "source": [
    "Achtung, falls die untere Zeile abbricht, einfach nochmal ausführen, keine Ahnung warum das passiert, muss nicht unbedingt ausgeführt werden. Siehe nächste Markdown-Zelle"
   ]
  },
  {
   "cell_type": "code",
   "execution_count": 116,
   "metadata": {},
   "outputs": [
    {
     "name": "stdout",
     "output_type": "stream",
     "text": [
      "Epoch 1/100\n",
      "\u001b[1m9/9\u001b[0m \u001b[32m━━━━━━━━━━━━━━━━━━━━\u001b[0m\u001b[37m\u001b[0m \u001b[1m3s\u001b[0m 46ms/step - loss: 24.9671 - root_mean_squared_error: 4.9943 - val_loss: 20.3910 - val_root_mean_squared_error: 4.5156\n",
      "Epoch 2/100\n",
      "\u001b[1m9/9\u001b[0m \u001b[32m━━━━━━━━━━━━━━━━━━━━\u001b[0m\u001b[37m\u001b[0m \u001b[1m0s\u001b[0m 21ms/step - loss: 14.7687 - root_mean_squared_error: 3.8277 - val_loss: 15.2547 - val_root_mean_squared_error: 3.9057\n",
      "Epoch 3/100\n",
      "\u001b[1m9/9\u001b[0m \u001b[32m━━━━━━━━━━━━━━━━━━━━\u001b[0m\u001b[37m\u001b[0m \u001b[1m0s\u001b[0m 16ms/step - loss: 15.5400 - root_mean_squared_error: 3.9285 - val_loss: 12.1870 - val_root_mean_squared_error: 3.4910\n",
      "Epoch 4/100\n",
      "\u001b[1m9/9\u001b[0m \u001b[32m━━━━━━━━━━━━━━━━━━━━\u001b[0m\u001b[37m\u001b[0m \u001b[1m0s\u001b[0m 13ms/step - loss: 11.3888 - root_mean_squared_error: 3.3704 - val_loss: 11.8312 - val_root_mean_squared_error: 3.4397\n",
      "Epoch 5/100\n",
      "\u001b[1m9/9\u001b[0m \u001b[32m━━━━━━━━━━━━━━━━━━━━\u001b[0m\u001b[37m\u001b[0m \u001b[1m0s\u001b[0m 12ms/step - loss: 13.9849 - root_mean_squared_error: 3.7127 - val_loss: 11.3385 - val_root_mean_squared_error: 3.3673\n",
      "Epoch 6/100\n",
      "\u001b[1m9/9\u001b[0m \u001b[32m━━━━━━━━━━━━━━━━━━━━\u001b[0m\u001b[37m\u001b[0m \u001b[1m0s\u001b[0m 11ms/step - loss: 8.8220 - root_mean_squared_error: 2.9491 - val_loss: 11.0343 - val_root_mean_squared_error: 3.3218\n",
      "Epoch 7/100\n",
      "\u001b[1m9/9\u001b[0m \u001b[32m━━━━━━━━━━━━━━━━━━━━\u001b[0m\u001b[37m\u001b[0m \u001b[1m0s\u001b[0m 10ms/step - loss: 12.2270 - root_mean_squared_error: 3.4741 - val_loss: 10.6415 - val_root_mean_squared_error: 3.2621\n",
      "Epoch 8/100\n",
      "\u001b[1m9/9\u001b[0m \u001b[32m━━━━━━━━━━━━━━━━━━━━\u001b[0m\u001b[37m\u001b[0m \u001b[1m0s\u001b[0m 10ms/step - loss: 11.2876 - root_mean_squared_error: 3.3444 - val_loss: 10.3354 - val_root_mean_squared_error: 3.2149\n",
      "Epoch 9/100\n",
      "\u001b[1m9/9\u001b[0m \u001b[32m━━━━━━━━━━━━━━━━━━━━\u001b[0m\u001b[37m\u001b[0m \u001b[1m0s\u001b[0m 9ms/step - loss: 10.8443 - root_mean_squared_error: 3.2870 - val_loss: 10.0798 - val_root_mean_squared_error: 3.1749\n",
      "Epoch 10/100\n",
      "\u001b[1m9/9\u001b[0m \u001b[32m━━━━━━━━━━━━━━━━━━━━\u001b[0m\u001b[37m\u001b[0m \u001b[1m0s\u001b[0m 9ms/step - loss: 10.4194 - root_mean_squared_error: 3.2228 - val_loss: 9.9278 - val_root_mean_squared_error: 3.1508\n",
      "Epoch 11/100\n",
      "\u001b[1m9/9\u001b[0m \u001b[32m━━━━━━━━━━━━━━━━━━━━\u001b[0m\u001b[37m\u001b[0m \u001b[1m0s\u001b[0m 20ms/step - loss: 10.0645 - root_mean_squared_error: 3.1675 - val_loss: 9.7713 - val_root_mean_squared_error: 3.1259\n",
      "Epoch 12/100\n",
      "\u001b[1m9/9\u001b[0m \u001b[32m━━━━━━━━━━━━━━━━━━━━\u001b[0m\u001b[37m\u001b[0m \u001b[1m0s\u001b[0m 11ms/step - loss: 10.5243 - root_mean_squared_error: 3.2424 - val_loss: 9.6461 - val_root_mean_squared_error: 3.1058\n",
      "Epoch 13/100\n",
      "\u001b[1m9/9\u001b[0m \u001b[32m━━━━━━━━━━━━━━━━━━━━\u001b[0m\u001b[37m\u001b[0m \u001b[1m0s\u001b[0m 10ms/step - loss: 10.1914 - root_mean_squared_error: 3.1881 - val_loss: 9.5825 - val_root_mean_squared_error: 3.0956\n",
      "Epoch 14/100\n",
      "\u001b[1m9/9\u001b[0m \u001b[32m━━━━━━━━━━━━━━━━━━━━\u001b[0m\u001b[37m\u001b[0m \u001b[1m0s\u001b[0m 9ms/step - loss: 8.0624 - root_mean_squared_error: 2.8321 - val_loss: 9.5541 - val_root_mean_squared_error: 3.0910\n",
      "Epoch 15/100\n",
      "\u001b[1m9/9\u001b[0m \u001b[32m━━━━━━━━━━━━━━━━━━━━\u001b[0m\u001b[37m\u001b[0m \u001b[1m0s\u001b[0m 11ms/step - loss: 9.9739 - root_mean_squared_error: 3.1565 - val_loss: 9.4999 - val_root_mean_squared_error: 3.0822\n",
      "Epoch 16/100\n",
      "\u001b[1m9/9\u001b[0m \u001b[32m━━━━━━━━━━━━━━━━━━━━\u001b[0m\u001b[37m\u001b[0m \u001b[1m0s\u001b[0m 9ms/step - loss: 9.9008 - root_mean_squared_error: 3.1429 - val_loss: 9.4234 - val_root_mean_squared_error: 3.0698\n",
      "Epoch 17/100\n",
      "\u001b[1m9/9\u001b[0m \u001b[32m━━━━━━━━━━━━━━━━━━━━\u001b[0m\u001b[37m\u001b[0m \u001b[1m0s\u001b[0m 10ms/step - loss: 10.1023 - root_mean_squared_error: 3.1696 - val_loss: 9.4058 - val_root_mean_squared_error: 3.0669\n",
      "Epoch 18/100\n",
      "\u001b[1m9/9\u001b[0m \u001b[32m━━━━━━━━━━━━━━━━━━━━\u001b[0m\u001b[37m\u001b[0m \u001b[1m0s\u001b[0m 10ms/step - loss: 7.2412 - root_mean_squared_error: 2.6825 - val_loss: 9.3591 - val_root_mean_squared_error: 3.0593\n",
      "Epoch 19/100\n",
      "\u001b[1m9/9\u001b[0m \u001b[32m━━━━━━━━━━━━━━━━━━━━\u001b[0m\u001b[37m\u001b[0m \u001b[1m0s\u001b[0m 11ms/step - loss: 9.1533 - root_mean_squared_error: 3.0173 - val_loss: 9.3407 - val_root_mean_squared_error: 3.0563\n",
      "Epoch 20/100\n",
      "\u001b[1m9/9\u001b[0m \u001b[32m━━━━━━━━━━━━━━━━━━━━\u001b[0m\u001b[37m\u001b[0m \u001b[1m0s\u001b[0m 10ms/step - loss: 9.1226 - root_mean_squared_error: 3.0130 - val_loss: 9.3006 - val_root_mean_squared_error: 3.0497\n",
      "Epoch 21/100\n",
      "\u001b[1m9/9\u001b[0m \u001b[32m━━━━━━━━━━━━━━━━━━━━\u001b[0m\u001b[37m\u001b[0m \u001b[1m0s\u001b[0m 11ms/step - loss: 8.0052 - root_mean_squared_error: 2.8253 - val_loss: 9.3164 - val_root_mean_squared_error: 3.0523\n",
      "Epoch 22/100\n",
      "\u001b[1m9/9\u001b[0m \u001b[32m━━━━━━━━━━━━━━━━━━━━\u001b[0m\u001b[37m\u001b[0m \u001b[1m0s\u001b[0m 12ms/step - loss: 8.4092 - root_mean_squared_error: 2.8849 - val_loss: 9.2394 - val_root_mean_squared_error: 3.0396\n",
      "Epoch 23/100\n",
      "\u001b[1m9/9\u001b[0m \u001b[32m━━━━━━━━━━━━━━━━━━━━\u001b[0m\u001b[37m\u001b[0m \u001b[1m0s\u001b[0m 11ms/step - loss: 10.3305 - root_mean_squared_error: 3.2100 - val_loss: 9.2337 - val_root_mean_squared_error: 3.0387\n",
      "Epoch 24/100\n",
      "\u001b[1m9/9\u001b[0m \u001b[32m━━━━━━━━━━━━━━━━━━━━\u001b[0m\u001b[37m\u001b[0m \u001b[1m0s\u001b[0m 11ms/step - loss: 12.7359 - root_mean_squared_error: 3.5245 - val_loss: 9.2194 - val_root_mean_squared_error: 3.0363\n",
      "Epoch 25/100\n",
      "\u001b[1m9/9\u001b[0m \u001b[32m━━━━━━━━━━━━━━━━━━━━\u001b[0m\u001b[37m\u001b[0m \u001b[1m0s\u001b[0m 9ms/step - loss: 8.7999 - root_mean_squared_error: 2.9616 - val_loss: 9.1979 - val_root_mean_squared_error: 3.0328\n",
      "Epoch 26/100\n",
      "\u001b[1m9/9\u001b[0m \u001b[32m━━━━━━━━━━━━━━━━━━━━\u001b[0m\u001b[37m\u001b[0m \u001b[1m0s\u001b[0m 10ms/step - loss: 9.0539 - root_mean_squared_error: 3.0050 - val_loss: 9.1591 - val_root_mean_squared_error: 3.0264\n",
      "Epoch 27/100\n",
      "\u001b[1m9/9\u001b[0m \u001b[32m━━━━━━━━━━━━━━━━━━━━\u001b[0m\u001b[37m\u001b[0m \u001b[1m0s\u001b[0m 9ms/step - loss: 9.4055 - root_mean_squared_error: 3.0617 - val_loss: 9.1375 - val_root_mean_squared_error: 3.0228\n",
      "Epoch 28/100\n",
      "\u001b[1m9/9\u001b[0m \u001b[32m━━━━━━━━━━━━━━━━━━━━\u001b[0m\u001b[37m\u001b[0m \u001b[1m0s\u001b[0m 10ms/step - loss: 8.5409 - root_mean_squared_error: 2.9138 - val_loss: 9.1205 - val_root_mean_squared_error: 3.0200\n",
      "Epoch 29/100\n",
      "\u001b[1m9/9\u001b[0m \u001b[32m━━━━━━━━━━━━━━━━━━━━\u001b[0m\u001b[37m\u001b[0m \u001b[1m0s\u001b[0m 10ms/step - loss: 8.5872 - root_mean_squared_error: 2.9274 - val_loss: 9.1023 - val_root_mean_squared_error: 3.0170\n",
      "Epoch 30/100\n",
      "\u001b[1m9/9\u001b[0m \u001b[32m━━━━━━━━━━━━━━━━━━━━\u001b[0m\u001b[37m\u001b[0m \u001b[1m0s\u001b[0m 10ms/step - loss: 10.1498 - root_mean_squared_error: 3.1749 - val_loss: 9.0930 - val_root_mean_squared_error: 3.0155\n",
      "Epoch 31/100\n",
      "\u001b[1m9/9\u001b[0m \u001b[32m━━━━━━━━━━━━━━━━━━━━\u001b[0m\u001b[37m\u001b[0m \u001b[1m0s\u001b[0m 10ms/step - loss: 7.4834 - root_mean_squared_error: 2.7266 - val_loss: 9.0691 - val_root_mean_squared_error: 3.0115\n",
      "Epoch 32/100\n",
      "\u001b[1m9/9\u001b[0m \u001b[32m━━━━━━━━━━━━━━━━━━━━\u001b[0m\u001b[37m\u001b[0m \u001b[1m0s\u001b[0m 8ms/step - loss: 8.2207 - root_mean_squared_error: 2.8581 - val_loss: 9.1075 - val_root_mean_squared_error: 3.0179\n",
      "Epoch 33/100\n",
      "\u001b[1m9/9\u001b[0m \u001b[32m━━━━━━━━━━━━━━━━━━━━\u001b[0m\u001b[37m\u001b[0m \u001b[1m0s\u001b[0m 12ms/step - loss: 8.4667 - root_mean_squared_error: 2.9051 - val_loss: 9.0551 - val_root_mean_squared_error: 3.0092\n",
      "Epoch 34/100\n",
      "\u001b[1m9/9\u001b[0m \u001b[32m━━━━━━━━━━━━━━━━━━━━\u001b[0m\u001b[37m\u001b[0m \u001b[1m0s\u001b[0m 10ms/step - loss: 9.2174 - root_mean_squared_error: 3.0270 - val_loss: 9.0444 - val_root_mean_squared_error: 3.0074\n",
      "Epoch 35/100\n",
      "\u001b[1m9/9\u001b[0m \u001b[32m━━━━━━━━━━━━━━━━━━━━\u001b[0m\u001b[37m\u001b[0m \u001b[1m0s\u001b[0m 8ms/step - loss: 8.3652 - root_mean_squared_error: 2.8836 - val_loss: 9.0133 - val_root_mean_squared_error: 3.0022\n",
      "Epoch 36/100\n",
      "\u001b[1m9/9\u001b[0m \u001b[32m━━━━━━━━━━━━━━━━━━━━\u001b[0m\u001b[37m\u001b[0m \u001b[1m0s\u001b[0m 9ms/step - loss: 9.7606 - root_mean_squared_error: 3.1216 - val_loss: 9.0171 - val_root_mean_squared_error: 3.0029\n",
      "Epoch 37/100\n",
      "\u001b[1m9/9\u001b[0m \u001b[32m━━━━━━━━━━━━━━━━━━━━\u001b[0m\u001b[37m\u001b[0m \u001b[1m0s\u001b[0m 10ms/step - loss: 8.7983 - root_mean_squared_error: 2.9652 - val_loss: 8.9998 - val_root_mean_squared_error: 3.0000\n",
      "Epoch 38/100\n",
      "\u001b[1m9/9\u001b[0m \u001b[32m━━━━━━━━━━━━━━━━━━━━\u001b[0m\u001b[37m\u001b[0m \u001b[1m0s\u001b[0m 10ms/step - loss: 9.6856 - root_mean_squared_error: 3.0964 - val_loss: 8.9882 - val_root_mean_squared_error: 2.9980\n",
      "Epoch 39/100\n",
      "\u001b[1m9/9\u001b[0m \u001b[32m━━━━━━━━━━━━━━━━━━━━\u001b[0m\u001b[37m\u001b[0m \u001b[1m0s\u001b[0m 10ms/step - loss: 7.2484 - root_mean_squared_error: 2.6843 - val_loss: 8.9604 - val_root_mean_squared_error: 2.9934\n",
      "Epoch 40/100\n",
      "\u001b[1m9/9\u001b[0m \u001b[32m━━━━━━━━━━━━━━━━━━━━\u001b[0m\u001b[37m\u001b[0m \u001b[1m0s\u001b[0m 9ms/step - loss: 9.2038 - root_mean_squared_error: 3.0327 - val_loss: 8.9929 - val_root_mean_squared_error: 2.9988\n",
      "Epoch 41/100\n",
      "\u001b[1m9/9\u001b[0m \u001b[32m━━━━━━━━━━━━━━━━━━━━\u001b[0m\u001b[37m\u001b[0m \u001b[1m0s\u001b[0m 10ms/step - loss: 11.0706 - root_mean_squared_error: 3.3079 - val_loss: 8.9574 - val_root_mean_squared_error: 2.9929\n",
      "Epoch 42/100\n",
      "\u001b[1m9/9\u001b[0m \u001b[32m━━━━━━━━━━━━━━━━━━━━\u001b[0m\u001b[37m\u001b[0m \u001b[1m0s\u001b[0m 8ms/step - loss: 7.8735 - root_mean_squared_error: 2.7952 - val_loss: 8.9607 - val_root_mean_squared_error: 2.9934\n",
      "Epoch 43/100\n",
      "\u001b[1m9/9\u001b[0m \u001b[32m━━━━━━━━━━━━━━━━━━━━\u001b[0m\u001b[37m\u001b[0m \u001b[1m0s\u001b[0m 8ms/step - loss: 9.5959 - root_mean_squared_error: 3.0802 - val_loss: 8.9271 - val_root_mean_squared_error: 2.9878\n",
      "Epoch 44/100\n",
      "\u001b[1m9/9\u001b[0m \u001b[32m━━━━━━━━━━━━━━━━━━━━\u001b[0m\u001b[37m\u001b[0m \u001b[1m0s\u001b[0m 9ms/step - loss: 8.1762 - root_mean_squared_error: 2.8562 - val_loss: 8.9155 - val_root_mean_squared_error: 2.9859\n",
      "Epoch 45/100\n",
      "\u001b[1m9/9\u001b[0m \u001b[32m━━━━━━━━━━━━━━━━━━━━\u001b[0m\u001b[37m\u001b[0m \u001b[1m0s\u001b[0m 10ms/step - loss: 7.7462 - root_mean_squared_error: 2.7781 - val_loss: 8.9225 - val_root_mean_squared_error: 2.9871\n",
      "Epoch 46/100\n",
      "\u001b[1m9/9\u001b[0m \u001b[32m━━━━━━━━━━━━━━━━━━━━\u001b[0m\u001b[37m\u001b[0m \u001b[1m0s\u001b[0m 11ms/step - loss: 9.1669 - root_mean_squared_error: 3.0234 - val_loss: 8.9325 - val_root_mean_squared_error: 2.9887\n",
      "Epoch 47/100\n",
      "\u001b[1m9/9\u001b[0m \u001b[32m━━━━━━━━━━━━━━━━━━━━\u001b[0m\u001b[37m\u001b[0m \u001b[1m0s\u001b[0m 8ms/step - loss: 7.6814 - root_mean_squared_error: 2.7520 - val_loss: 8.9353 - val_root_mean_squared_error: 2.9892\n",
      "Epoch 48/100\n",
      "\u001b[1m9/9\u001b[0m \u001b[32m━━━━━━━━━━━━━━━━━━━━\u001b[0m\u001b[37m\u001b[0m \u001b[1m0s\u001b[0m 12ms/step - loss: 9.9943 - root_mean_squared_error: 3.1586 - val_loss: 8.8833 - val_root_mean_squared_error: 2.9805\n",
      "Epoch 49/100\n",
      "\u001b[1m9/9\u001b[0m \u001b[32m━━━━━━━━━━━━━━━━━━━━\u001b[0m\u001b[37m\u001b[0m \u001b[1m0s\u001b[0m 9ms/step - loss: 9.1892 - root_mean_squared_error: 3.0188 - val_loss: 8.8719 - val_root_mean_squared_error: 2.9786\n",
      "Epoch 50/100\n",
      "\u001b[1m9/9\u001b[0m \u001b[32m━━━━━━━━━━━━━━━━━━━━\u001b[0m\u001b[37m\u001b[0m \u001b[1m0s\u001b[0m 11ms/step - loss: 9.5137 - root_mean_squared_error: 3.0828 - val_loss: 8.8626 - val_root_mean_squared_error: 2.9770\n",
      "Epoch 51/100\n",
      "\u001b[1m9/9\u001b[0m \u001b[32m━━━━━━━━━━━━━━━━━━━━\u001b[0m\u001b[37m\u001b[0m \u001b[1m0s\u001b[0m 9ms/step - loss: 10.7464 - root_mean_squared_error: 3.2411 - val_loss: 8.8789 - val_root_mean_squared_error: 2.9797\n",
      "Epoch 52/100\n",
      "\u001b[1m9/9\u001b[0m \u001b[32m━━━━━━━━━━━━━━━━━━━━\u001b[0m\u001b[37m\u001b[0m \u001b[1m0s\u001b[0m 10ms/step - loss: 9.1145 - root_mean_squared_error: 3.0151 - val_loss: 8.8800 - val_root_mean_squared_error: 2.9799\n",
      "Epoch 53/100\n",
      "\u001b[1m9/9\u001b[0m \u001b[32m━━━━━━━━━━━━━━━━━━━━\u001b[0m\u001b[37m\u001b[0m \u001b[1m0s\u001b[0m 9ms/step - loss: 8.4517 - root_mean_squared_error: 2.8988 - val_loss: 8.8633 - val_root_mean_squared_error: 2.9771\n",
      "Epoch 54/100\n",
      "\u001b[1m9/9\u001b[0m \u001b[32m━━━━━━━━━━━━━━━━━━━━\u001b[0m\u001b[37m\u001b[0m \u001b[1m0s\u001b[0m 10ms/step - loss: 8.5415 - root_mean_squared_error: 2.9127 - val_loss: 8.8528 - val_root_mean_squared_error: 2.9754\n",
      "Epoch 55/100\n",
      "\u001b[1m9/9\u001b[0m \u001b[32m━━━━━━━━━━━━━━━━━━━━\u001b[0m\u001b[37m\u001b[0m \u001b[1m0s\u001b[0m 10ms/step - loss: 8.3005 - root_mean_squared_error: 2.8754 - val_loss: 8.8387 - val_root_mean_squared_error: 2.9730\n",
      "Epoch 56/100\n",
      "\u001b[1m9/9\u001b[0m \u001b[32m━━━━━━━━━━━━━━━━━━━━\u001b[0m\u001b[37m\u001b[0m \u001b[1m0s\u001b[0m 9ms/step - loss: 8.0981 - root_mean_squared_error: 2.8439 - val_loss: 8.8464 - val_root_mean_squared_error: 2.9743\n",
      "Epoch 57/100\n",
      "\u001b[1m9/9\u001b[0m \u001b[32m━━━━━━━━━━━━━━━━━━━━\u001b[0m\u001b[37m\u001b[0m \u001b[1m0s\u001b[0m 11ms/step - loss: 7.4002 - root_mean_squared_error: 2.7023 - val_loss: 8.8212 - val_root_mean_squared_error: 2.9700\n",
      "Epoch 58/100\n",
      "\u001b[1m9/9\u001b[0m \u001b[32m━━━━━━━━━━━━━━━━━━━━\u001b[0m\u001b[37m\u001b[0m \u001b[1m0s\u001b[0m 9ms/step - loss: 7.3990 - root_mean_squared_error: 2.7149 - val_loss: 8.8139 - val_root_mean_squared_error: 2.9688\n",
      "Epoch 59/100\n",
      "\u001b[1m9/9\u001b[0m \u001b[32m━━━━━━━━━━━━━━━━━━━━\u001b[0m\u001b[37m\u001b[0m \u001b[1m0s\u001b[0m 10ms/step - loss: 8.3850 - root_mean_squared_error: 2.8931 - val_loss: 8.8401 - val_root_mean_squared_error: 2.9732\n",
      "Epoch 60/100\n",
      "\u001b[1m9/9\u001b[0m \u001b[32m━━━━━━━━━━━━━━━━━━━━\u001b[0m\u001b[37m\u001b[0m \u001b[1m0s\u001b[0m 10ms/step - loss: 10.0578 - root_mean_squared_error: 3.1644 - val_loss: 8.8268 - val_root_mean_squared_error: 2.9710\n",
      "Epoch 61/100\n",
      "\u001b[1m9/9\u001b[0m \u001b[32m━━━━━━━━━━━━━━━━━━━━\u001b[0m\u001b[37m\u001b[0m \u001b[1m0s\u001b[0m 11ms/step - loss: 10.0174 - root_mean_squared_error: 3.1459 - val_loss: 8.7989 - val_root_mean_squared_error: 2.9663\n",
      "Epoch 62/100\n",
      "\u001b[1m9/9\u001b[0m \u001b[32m━━━━━━━━━━━━━━━━━━━━\u001b[0m\u001b[37m\u001b[0m \u001b[1m0s\u001b[0m 10ms/step - loss: 10.7446 - root_mean_squared_error: 3.2499 - val_loss: 8.8044 - val_root_mean_squared_error: 2.9672\n",
      "Epoch 63/100\n",
      "\u001b[1m9/9\u001b[0m \u001b[32m━━━━━━━━━━━━━━━━━━━━\u001b[0m\u001b[37m\u001b[0m \u001b[1m0s\u001b[0m 8ms/step - loss: 7.7954 - root_mean_squared_error: 2.7883 - val_loss: 8.7705 - val_root_mean_squared_error: 2.9615\n",
      "Epoch 64/100\n",
      "\u001b[1m9/9\u001b[0m \u001b[32m━━━━━━━━━━━━━━━━━━━━\u001b[0m\u001b[37m\u001b[0m \u001b[1m0s\u001b[0m 16ms/step - loss: 7.7553 - root_mean_squared_error: 2.7750 - val_loss: 8.7642 - val_root_mean_squared_error: 2.9604\n",
      "Epoch 65/100\n",
      "\u001b[1m9/9\u001b[0m \u001b[32m━━━━━━━━━━━━━━━━━━━━\u001b[0m\u001b[37m\u001b[0m \u001b[1m0s\u001b[0m 10ms/step - loss: 7.4395 - root_mean_squared_error: 2.7223 - val_loss: 8.7558 - val_root_mean_squared_error: 2.9590\n",
      "Epoch 66/100\n",
      "\u001b[1m9/9\u001b[0m \u001b[32m━━━━━━━━━━━━━━━━━━━━\u001b[0m\u001b[37m\u001b[0m \u001b[1m0s\u001b[0m 12ms/step - loss: 10.1754 - root_mean_squared_error: 3.1820 - val_loss: 8.7558 - val_root_mean_squared_error: 2.9590\n",
      "Epoch 67/100\n",
      "\u001b[1m9/9\u001b[0m \u001b[32m━━━━━━━━━━━━━━━━━━━━\u001b[0m\u001b[37m\u001b[0m \u001b[1m0s\u001b[0m 9ms/step - loss: 8.9886 - root_mean_squared_error: 2.9914 - val_loss: 8.8322 - val_root_mean_squared_error: 2.9719\n",
      "Epoch 68/100\n",
      "\u001b[1m9/9\u001b[0m \u001b[32m━━━━━━━━━━━━━━━━━━━━\u001b[0m\u001b[37m\u001b[0m \u001b[1m0s\u001b[0m 10ms/step - loss: 9.5207 - root_mean_squared_error: 3.0763 - val_loss: 8.7911 - val_root_mean_squared_error: 2.9650\n",
      "Epoch 69/100\n",
      "\u001b[1m9/9\u001b[0m \u001b[32m━━━━━━━━━━━━━━━━━━━━\u001b[0m\u001b[37m\u001b[0m \u001b[1m0s\u001b[0m 11ms/step - loss: 7.6598 - root_mean_squared_error: 2.7647 - val_loss: 8.7507 - val_root_mean_squared_error: 2.9582\n",
      "Epoch 70/100\n",
      "\u001b[1m9/9\u001b[0m \u001b[32m━━━━━━━━━━━━━━━━━━━━\u001b[0m\u001b[37m\u001b[0m \u001b[1m0s\u001b[0m 9ms/step - loss: 8.7461 - root_mean_squared_error: 2.9459 - val_loss: 8.7223 - val_root_mean_squared_error: 2.9534\n",
      "Epoch 71/100\n",
      "\u001b[1m9/9\u001b[0m \u001b[32m━━━━━━━━━━━━━━━━━━━━\u001b[0m\u001b[37m\u001b[0m \u001b[1m0s\u001b[0m 10ms/step - loss: 8.0614 - root_mean_squared_error: 2.8228 - val_loss: 8.7224 - val_root_mean_squared_error: 2.9534\n",
      "Epoch 72/100\n",
      "\u001b[1m9/9\u001b[0m \u001b[32m━━━━━━━━━━━━━━━━━━━━\u001b[0m\u001b[37m\u001b[0m \u001b[1m0s\u001b[0m 8ms/step - loss: 8.5118 - root_mean_squared_error: 2.9130 - val_loss: 8.7079 - val_root_mean_squared_error: 2.9509\n",
      "Epoch 73/100\n",
      "\u001b[1m9/9\u001b[0m \u001b[32m━━━━━━━━━━━━━━━━━━━━\u001b[0m\u001b[37m\u001b[0m \u001b[1m0s\u001b[0m 9ms/step - loss: 7.2018 - root_mean_squared_error: 2.6740 - val_loss: 8.7175 - val_root_mean_squared_error: 2.9525\n",
      "Epoch 74/100\n",
      "\u001b[1m9/9\u001b[0m \u001b[32m━━━━━━━━━━━━━━━━━━━━\u001b[0m\u001b[37m\u001b[0m \u001b[1m0s\u001b[0m 9ms/step - loss: 7.7680 - root_mean_squared_error: 2.7817 - val_loss: 8.7217 - val_root_mean_squared_error: 2.9532\n",
      "Epoch 75/100\n",
      "\u001b[1m9/9\u001b[0m \u001b[32m━━━━━━━━━━━━━━━━━━━━\u001b[0m\u001b[37m\u001b[0m \u001b[1m0s\u001b[0m 11ms/step - loss: 7.1232 - root_mean_squared_error: 2.6506 - val_loss: 8.6887 - val_root_mean_squared_error: 2.9477\n",
      "Epoch 76/100\n",
      "\u001b[1m9/9\u001b[0m \u001b[32m━━━━━━━━━━━━━━━━━━━━\u001b[0m\u001b[37m\u001b[0m \u001b[1m0s\u001b[0m 10ms/step - loss: 8.1947 - root_mean_squared_error: 2.8605 - val_loss: 8.7074 - val_root_mean_squared_error: 2.9508\n",
      "Epoch 77/100\n",
      "\u001b[1m9/9\u001b[0m \u001b[32m━━━━━━━━━━━━━━━━━━━━\u001b[0m\u001b[37m\u001b[0m \u001b[1m0s\u001b[0m 11ms/step - loss: 8.3062 - root_mean_squared_error: 2.8803 - val_loss: 8.6725 - val_root_mean_squared_error: 2.9449\n",
      "Epoch 78/100\n",
      "\u001b[1m9/9\u001b[0m \u001b[32m━━━━━━━━━━━━━━━━━━━━\u001b[0m\u001b[37m\u001b[0m \u001b[1m0s\u001b[0m 10ms/step - loss: 9.3912 - root_mean_squared_error: 3.0570 - val_loss: 8.6654 - val_root_mean_squared_error: 2.9437\n",
      "Epoch 79/100\n",
      "\u001b[1m9/9\u001b[0m \u001b[32m━━━━━━━━━━━━━━━━━━━━\u001b[0m\u001b[37m\u001b[0m \u001b[1m0s\u001b[0m 10ms/step - loss: 8.5751 - root_mean_squared_error: 2.9245 - val_loss: 8.6565 - val_root_mean_squared_error: 2.9422\n",
      "Epoch 80/100\n",
      "\u001b[1m9/9\u001b[0m \u001b[32m━━━━━━━━━━━━━━━━━━━━\u001b[0m\u001b[37m\u001b[0m \u001b[1m0s\u001b[0m 11ms/step - loss: 8.9768 - root_mean_squared_error: 2.9910 - val_loss: 8.6436 - val_root_mean_squared_error: 2.9400\n",
      "Epoch 81/100\n",
      "\u001b[1m9/9\u001b[0m \u001b[32m━━━━━━━━━━━━━━━━━━━━\u001b[0m\u001b[37m\u001b[0m \u001b[1m0s\u001b[0m 10ms/step - loss: 7.9195 - root_mean_squared_error: 2.8031 - val_loss: 8.6615 - val_root_mean_squared_error: 2.9430\n",
      "Epoch 82/100\n",
      "\u001b[1m9/9\u001b[0m \u001b[32m━━━━━━━━━━━━━━━━━━━━\u001b[0m\u001b[37m\u001b[0m \u001b[1m0s\u001b[0m 9ms/step - loss: 9.5054 - root_mean_squared_error: 3.0742 - val_loss: 8.6723 - val_root_mean_squared_error: 2.9449\n",
      "Epoch 83/100\n",
      "\u001b[1m9/9\u001b[0m \u001b[32m━━━━━━━━━━━━━━━━━━━━\u001b[0m\u001b[37m\u001b[0m \u001b[1m0s\u001b[0m 9ms/step - loss: 7.1578 - root_mean_squared_error: 2.6434 - val_loss: 8.6369 - val_root_mean_squared_error: 2.9389\n",
      "Epoch 84/100\n",
      "\u001b[1m9/9\u001b[0m \u001b[32m━━━━━━━━━━━━━━━━━━━━\u001b[0m\u001b[37m\u001b[0m \u001b[1m0s\u001b[0m 10ms/step - loss: 7.9754 - root_mean_squared_error: 2.8215 - val_loss: 8.6243 - val_root_mean_squared_error: 2.9367\n",
      "Epoch 85/100\n",
      "\u001b[1m9/9\u001b[0m \u001b[32m━━━━━━━━━━━━━━━━━━━━\u001b[0m\u001b[37m\u001b[0m \u001b[1m0s\u001b[0m 10ms/step - loss: 7.8413 - root_mean_squared_error: 2.7860 - val_loss: 8.6153 - val_root_mean_squared_error: 2.9352\n",
      "Epoch 86/100\n",
      "\u001b[1m9/9\u001b[0m \u001b[32m━━━━━━━━━━━━━━━━━━━━\u001b[0m\u001b[37m\u001b[0m \u001b[1m0s\u001b[0m 10ms/step - loss: 8.1941 - root_mean_squared_error: 2.8609 - val_loss: 8.6007 - val_root_mean_squared_error: 2.9327\n",
      "Epoch 87/100\n",
      "\u001b[1m9/9\u001b[0m \u001b[32m━━━━━━━━━━━━━━━━━━━━\u001b[0m\u001b[37m\u001b[0m \u001b[1m0s\u001b[0m 9ms/step - loss: 8.5551 - root_mean_squared_error: 2.9217 - val_loss: 8.5766 - val_root_mean_squared_error: 2.9286\n",
      "Epoch 88/100\n",
      "\u001b[1m9/9\u001b[0m \u001b[32m━━━━━━━━━━━━━━━━━━━━\u001b[0m\u001b[37m\u001b[0m \u001b[1m0s\u001b[0m 10ms/step - loss: 8.0993 - root_mean_squared_error: 2.8379 - val_loss: 8.5700 - val_root_mean_squared_error: 2.9275\n",
      "Epoch 89/100\n",
      "\u001b[1m9/9\u001b[0m \u001b[32m━━━━━━━━━━━━━━━━━━━━\u001b[0m\u001b[37m\u001b[0m \u001b[1m0s\u001b[0m 10ms/step - loss: 7.4856 - root_mean_squared_error: 2.7273 - val_loss: 8.5920 - val_root_mean_squared_error: 2.9312\n",
      "Epoch 90/100\n",
      "\u001b[1m9/9\u001b[0m \u001b[32m━━━━━━━━━━━━━━━━━━━━\u001b[0m\u001b[37m\u001b[0m \u001b[1m0s\u001b[0m 10ms/step - loss: 9.0257 - root_mean_squared_error: 3.0017 - val_loss: 8.5929 - val_root_mean_squared_error: 2.9314\n",
      "Epoch 91/100\n",
      "\u001b[1m9/9\u001b[0m \u001b[32m━━━━━━━━━━━━━━━━━━━━\u001b[0m\u001b[37m\u001b[0m \u001b[1m0s\u001b[0m 9ms/step - loss: 9.3067 - root_mean_squared_error: 3.0480 - val_loss: 8.5777 - val_root_mean_squared_error: 2.9288\n",
      "Epoch 92/100\n",
      "\u001b[1m9/9\u001b[0m \u001b[32m━━━━━━━━━━━━━━━━━━━━\u001b[0m\u001b[37m\u001b[0m \u001b[1m0s\u001b[0m 9ms/step - loss: 8.1480 - root_mean_squared_error: 2.8518 - val_loss: 8.5309 - val_root_mean_squared_error: 2.9208\n",
      "Epoch 93/100\n",
      "\u001b[1m9/9\u001b[0m \u001b[32m━━━━━━━━━━━━━━━━━━━━\u001b[0m\u001b[37m\u001b[0m \u001b[1m0s\u001b[0m 10ms/step - loss: 9.1907 - root_mean_squared_error: 3.0263 - val_loss: 8.5186 - val_root_mean_squared_error: 2.9187\n",
      "Epoch 94/100\n",
      "\u001b[1m9/9\u001b[0m \u001b[32m━━━━━━━━━━━━━━━━━━━━\u001b[0m\u001b[37m\u001b[0m \u001b[1m0s\u001b[0m 11ms/step - loss: 9.1945 - root_mean_squared_error: 3.0298 - val_loss: 8.5470 - val_root_mean_squared_error: 2.9235\n",
      "Epoch 95/100\n",
      "\u001b[1m9/9\u001b[0m \u001b[32m━━━━━━━━━━━━━━━━━━━━\u001b[0m\u001b[37m\u001b[0m \u001b[1m0s\u001b[0m 9ms/step - loss: 9.5053 - root_mean_squared_error: 3.0774 - val_loss: 8.4668 - val_root_mean_squared_error: 2.9098\n",
      "Epoch 96/100\n",
      "\u001b[1m9/9\u001b[0m \u001b[32m━━━━━━━━━━━━━━━━━━━━\u001b[0m\u001b[37m\u001b[0m \u001b[1m0s\u001b[0m 24ms/step - loss: 6.5759 - root_mean_squared_error: 2.5514 - val_loss: 8.4633 - val_root_mean_squared_error: 2.9092\n",
      "Epoch 97/100\n",
      "\u001b[1m9/9\u001b[0m \u001b[32m━━━━━━━━━━━━━━━━━━━━\u001b[0m\u001b[37m\u001b[0m \u001b[1m0s\u001b[0m 10ms/step - loss: 9.3182 - root_mean_squared_error: 3.0450 - val_loss: 8.4719 - val_root_mean_squared_error: 2.9107\n",
      "Epoch 98/100\n",
      "\u001b[1m9/9\u001b[0m \u001b[32m━━━━━━━━━━━━━━━━━━━━\u001b[0m\u001b[37m\u001b[0m \u001b[1m0s\u001b[0m 10ms/step - loss: 8.3219 - root_mean_squared_error: 2.8782 - val_loss: 8.5265 - val_root_mean_squared_error: 2.9200\n",
      "Epoch 99/100\n",
      "\u001b[1m9/9\u001b[0m \u001b[32m━━━━━━━━━━━━━━━━━━━━\u001b[0m\u001b[37m\u001b[0m \u001b[1m0s\u001b[0m 10ms/step - loss: 8.1761 - root_mean_squared_error: 2.8425 - val_loss: 8.5535 - val_root_mean_squared_error: 2.9246\n",
      "Epoch 100/100\n",
      "\u001b[1m9/9\u001b[0m \u001b[32m━━━━━━━━━━━━━━━━━━━━\u001b[0m\u001b[37m\u001b[0m \u001b[1m0s\u001b[0m 10ms/step - loss: 7.6565 - root_mean_squared_error: 2.7602 - val_loss: 8.5804 - val_root_mean_squared_error: 2.9292\n"
     ]
    }
   ],
   "source": [
    "# das Modell wird trainiert\n",
    "model1.fit(X_train, y_train, validation_data=(X_val, y_val), epochs=100)\n",
    "model1.save('model1.keras')"
   ]
  },
  {
   "cell_type": "markdown",
   "metadata": {},
   "source": [
    "das load wird verwendet, sodass immer das gleiche Model genutzt werden kann"
   ]
  },
  {
   "cell_type": "code",
   "execution_count": 11,
   "metadata": {},
   "outputs": [],
   "source": [
    "model1 = load_model('model1.keras')"
   ]
  },
  {
   "cell_type": "markdown",
   "metadata": {},
   "source": [
    "darstellen von Vergleichen durch visuelle Darstellung"
   ]
  },
  {
   "cell_type": "code",
   "execution_count": 12,
   "metadata": {},
   "outputs": [
    {
     "name": "stdout",
     "output_type": "stream",
     "text": [
      "\u001b[1m9/9\u001b[0m \u001b[32m━━━━━━━━━━━━━━━━━━━━\u001b[0m\u001b[37m\u001b[0m \u001b[1m0s\u001b[0m 21ms/step\n",
      "Mean Absolute Error: 1.8387179004703251\n"
     ]
    }
   ],
   "source": [
    "# es werden die Traingsdaten vorhergesagt und mit den tatsächlichen Werten in ein df geschrieben\n",
    "train_predictions = model1.predict(X_train).flatten()\n",
    "train_results = pd.DataFrame(data={'Train Predictions' : train_predictions, 'Actuals' : y_train}, index=train_index)\n",
    "from sklearn.metrics import mean_absolute_error\n",
    "# Berechnung des Mean Absolute Error (MAE) und R^2 und des MSE\n",
    "mae_lpm2_5= mean_absolute_error(train_results['Actuals'], train_results['Train Predictions'])\n",
    "r_squared_lpm2_5 = r2_score(train_results['Actuals'], train_results['Train Predictions'])\n",
    "mse_lpm2_5 = mean_squared_error(train_results['Actuals'], train_results['Train Predictions'])\n",
    "\n",
    "print(f'Mean Absolute Error: {mae_lpm2_5}')"
   ]
  },
  {
   "cell_type": "code",
   "execution_count": 13,
   "metadata": {},
   "outputs": [
    {
     "data": {
      "application/vnd.plotly.v1+json": {
       "config": {
        "plotlyServerURL": "https://plot.ly"
       },
       "data": [
        {
         "hovertemplate": "variable=Train Predictions<br>datum=%{x}<br>value=%{y}<extra></extra>",
         "legendgroup": "Train Predictions",
         "line": {
          "color": "#636efa",
          "dash": "solid"
         },
         "marker": {
          "symbol": "circle"
         },
         "mode": "lines",
         "name": "Train Predictions",
         "orientation": "v",
         "showlegend": true,
         "type": "scatter",
         "x": [
          "2022-04-17",
          "2022-04-19",
          "2022-04-21",
          "2022-04-23",
          "2022-04-25",
          "2022-04-27",
          "2022-04-29",
          "2022-05-01",
          "2022-05-03",
          "2022-05-05",
          "2022-05-07",
          "2022-05-09",
          "2022-05-11",
          "2022-05-13",
          "2022-05-15",
          "2022-05-17",
          "2022-05-19",
          "2022-05-21",
          "2022-05-23",
          "2022-05-25",
          "2022-05-27",
          "2022-05-29",
          "2022-06-01",
          "2022-06-03",
          "2022-06-05",
          "2022-06-07",
          "2022-06-09",
          "2022-06-11",
          "2022-06-13",
          "2022-06-15",
          "2022-06-17",
          "2022-06-19",
          "2022-06-21",
          "2022-06-23",
          "2022-06-25",
          "2022-06-27",
          "2022-06-29",
          "2022-07-01",
          "2022-07-03",
          "2022-07-05",
          "2022-07-07",
          "2022-07-09",
          "2022-07-11",
          "2022-07-13",
          "2022-07-15",
          "2022-07-17",
          "2022-07-19",
          "2022-07-21",
          "2022-07-23",
          "2022-07-25",
          "2022-07-27",
          "2022-07-29",
          "2022-08-01",
          "2022-08-03",
          "2022-08-05",
          "2022-08-07",
          "2022-08-09",
          "2022-08-11",
          "2022-08-13",
          "2022-08-15",
          "2022-08-17",
          "2022-08-19",
          "2022-08-21",
          "2022-08-23",
          "2022-08-25",
          "2022-08-27",
          "2022-08-29",
          "2022-09-01",
          "2022-09-03",
          "2022-09-05",
          "2022-09-07",
          "2022-09-09",
          "2022-09-11",
          "2022-09-13",
          "2022-09-15",
          "2022-09-17",
          "2022-09-19",
          "2022-09-21",
          "2022-09-23",
          "2022-09-25",
          "2022-09-27",
          "2022-09-29",
          "2022-10-01",
          "2022-10-03",
          "2022-10-05",
          "2022-10-07",
          "2022-10-09",
          "2022-10-11",
          "2022-10-13",
          "2022-10-15",
          "2022-10-17",
          "2022-10-19",
          "2022-10-21",
          "2022-10-23",
          "2022-10-25",
          "2022-10-27",
          "2022-10-29",
          "2022-11-01",
          "2022-11-03",
          "2022-11-05",
          "2022-11-07",
          "2022-11-09",
          "2022-11-11",
          "2022-11-13",
          "2022-11-15",
          "2022-11-17",
          "2022-11-19",
          "2022-11-21",
          "2022-11-23",
          "2022-11-25",
          "2022-11-27",
          "2022-11-29",
          "2022-12-01",
          "2022-12-03",
          "2022-12-05",
          "2022-12-07",
          "2022-12-09",
          "2022-12-11",
          "2022-12-13",
          "2022-12-15",
          "2022-12-17",
          "2022-12-19",
          "2022-12-21",
          "2022-12-23",
          "2022-12-25",
          "2022-12-27",
          "2022-12-29",
          "2023-01-01",
          "2023-01-03",
          "2023-01-05",
          "2023-01-07",
          "2023-01-09",
          "2023-01-11",
          "2023-01-13",
          "2023-01-15",
          "2023-01-17",
          "2023-01-19",
          "2023-01-21",
          "2023-01-23",
          "2023-01-25",
          "2023-01-27",
          "2023-01-29",
          "2023-02-01",
          "2023-02-03",
          "2023-02-05",
          "2023-02-07",
          "2023-02-09",
          "2023-02-11",
          "2023-02-13",
          "2023-02-15",
          "2023-02-17",
          "2023-02-19",
          "2023-02-21",
          "2023-02-23",
          "2023-02-25",
          "2023-02-27",
          "2023-03-01",
          "2023-03-03",
          "2023-03-05",
          "2023-03-07",
          "2023-03-09",
          "2023-03-11",
          "2023-03-13",
          "2023-03-15",
          "2023-03-17",
          "2023-03-19",
          "2023-03-21",
          "2023-03-25",
          "2023-03-27",
          "2023-03-29",
          "2023-04-01",
          "2023-04-03",
          "2023-04-05",
          "2023-04-07",
          "2023-04-09",
          "2023-04-11",
          "2023-04-13",
          "2023-04-15",
          "2023-04-17",
          "2023-04-19",
          "2023-04-21",
          "2023-04-23",
          "2023-04-25",
          "2023-04-27",
          "2023-04-29",
          "2023-05-01",
          "2023-05-03",
          "2023-05-05",
          "2023-05-07",
          "2023-05-09",
          "2023-05-11",
          "2023-05-13",
          "2023-05-15",
          "2023-05-17",
          "2023-05-19",
          "2023-05-21",
          "2023-05-23",
          "2023-05-25",
          "2023-05-27",
          "2023-05-29",
          "2023-06-01",
          "2023-06-03",
          "2023-06-05",
          "2023-06-07",
          "2023-06-09",
          "2023-06-11",
          "2023-06-13",
          "2023-06-15",
          "2023-06-17",
          "2023-06-19",
          "2023-06-21",
          "2023-06-23",
          "2023-06-25",
          "2023-06-27",
          "2023-06-29",
          "2023-07-01",
          "2023-07-03",
          "2023-07-05",
          "2023-07-07",
          "2023-07-09",
          "2023-07-11",
          "2023-07-13",
          "2023-07-15",
          "2023-07-17",
          "2023-07-19",
          "2023-07-21",
          "2023-07-23",
          "2023-07-25",
          "2023-07-27",
          "2023-07-29",
          "2023-08-01",
          "2023-08-03",
          "2023-08-05",
          "2023-08-07",
          "2023-08-09",
          "2023-08-11",
          "2023-08-13",
          "2023-08-15",
          "2023-08-17",
          "2023-08-19",
          "2023-08-21",
          "2023-08-23",
          "2023-08-25",
          "2023-08-27",
          "2023-08-29",
          "2023-09-01",
          "2023-09-03",
          "2023-09-05",
          "2023-09-07",
          "2023-09-09",
          "2023-09-11",
          "2023-09-13",
          "2023-09-15",
          "2023-09-17",
          "2023-09-19",
          "2023-09-21",
          "2023-09-23",
          "2023-09-25",
          "2023-09-27",
          "2023-09-29",
          "2023-10-01",
          "2023-10-03",
          "2023-10-05",
          "2023-10-07",
          "2023-10-09",
          "2023-10-11",
          "2023-10-13",
          "2023-10-15",
          "2023-10-17",
          "2023-10-19",
          "2023-10-21",
          "2023-10-23",
          "2023-10-25",
          "2023-10-27",
          "2023-10-29",
          "2023-11-01",
          "2023-11-03",
          "2023-11-05",
          "2023-11-07",
          "2023-11-09"
         ],
         "xaxis": "x",
         "y": [
          4.001770496368408,
          2.283632516860962,
          2.4724886417388916,
          4.731038570404053,
          4.514253616333008,
          5.140285968780518,
          4.447941780090332,
          4.396430492401123,
          4.0093488693237305,
          3.3797852993011475,
          3.291398048400879,
          2.568939447402954,
          2.628011703491211,
          2.9405357837677,
          2.464401960372925,
          2.1402552127838135,
          2.018643379211426,
          2.324538230895996,
          2.0295937061309814,
          2.1742122173309326,
          2.0002079010009766,
          2.1302218437194824,
          2.1981403827667236,
          2.3078994750976562,
          2.463657855987549,
          2.485901117324829,
          2.2160565853118896,
          2.5255210399627686,
          2.1964099407196045,
          2.074493169784546,
          2.034039258956909,
          1.8640141487121582,
          3.413590669631958,
          2.9969351291656494,
          2.569152593612671,
          4.477243423461914,
          2.4098925590515137,
          4.1005377769470215,
          4.412841796875,
          2.365314245223999,
          2.1818950176239014,
          2.6598598957061768,
          2.285153388977051,
          1.9908318519592285,
          1.8441588878631592,
          1.8583040237426758,
          2.0143144130706787,
          2.6915090084075928,
          3.5834176540374756,
          4.119889259338379,
          3.4104039669036865,
          2.2115657329559326,
          2.455451726913452,
          2.228454113006592,
          2.1120285987854004,
          2.514976739883423,
          2.146453619003296,
          2.3006913661956787,
          2.3550167083740234,
          2.8592629432678223,
          3.373558282852173,
          2.509385824203491,
          4.612865447998047,
          2.4963319301605225,
          4.794417381286621,
          5.380887985229492,
          5.906559944152832,
          3.288679838180542,
          2.942608118057251,
          3.328975200653076,
          3.075792074203491,
          2.2613956928253174,
          1.9396250247955322,
          3.6520731449127197,
          2.6248843669891357,
          2.6713855266571045,
          2.699620008468628,
          2.5703914165496826,
          2.0411040782928467,
          2.2329001426696777,
          3.1677379608154297,
          2.0159924030303955,
          2.7218546867370605,
          2.089822769165039,
          2.4514927864074707,
          2.4996755123138428,
          2.469439744949341,
          2.16056227684021,
          2.709516763687134,
          4.0190253257751465,
          2.6120412349700928,
          2.7952218055725098,
          3.77984881401062,
          3.245009183883667,
          2.140756130218506,
          2.1094679832458496,
          2.4518015384674072,
          2.5369091033935547,
          2.785132646560669,
          3.4047555923461914,
          2.2991461753845215,
          2.681001901626587,
          2.3551082611083984,
          3.2302682399749756,
          4.060767650604248,
          5.188498020172119,
          3.6969234943389893,
          6.185860633850098,
          5.249856948852539,
          7.839745998382568,
          8.3678617477417,
          8.448797225952148,
          8.538736343383789,
          11.368036270141602,
          11.172438621520996,
          8.465359687805176,
          7.166308403015137,
          11.379081726074219,
          10.708854675292969,
          8.177408218383789,
          11.91551685333252,
          11.58824348449707,
          12.420122146606445,
          11.060749053955078,
          4.849510192871094,
          5.915943145751953,
          3.9646546840667725,
          2.8645615577697754,
          2.5133211612701416,
          2.1070034503936768,
          2.1175482273101807,
          2.7273948192596436,
          3.053321361541748,
          2.2177536487579346,
          1.9244160652160645,
          2.0014798641204834,
          2.254216432571411,
          4.700944900512695,
          5.972302436828613,
          8.504188537597656,
          9.345355987548828,
          9.235048294067383,
          10.618200302124023,
          3.8829963207244873,
          5.570341110229492,
          8.027578353881836,
          6.03630256652832,
          5.138838768005371,
          6.889805793762207,
          8.808147430419922,
          10.640084266662598,
          5.447931289672852,
          4.827012062072754,
          6.105515480041504,
          7.086181640625,
          1.9548101425170898,
          2.832571029663086,
          5.820370674133301,
          8.46921443939209,
          5.464056968688965,
          8.683273315429688,
          5.047491073608398,
          2.5638961791992188,
          3.07633900642395,
          2.7413227558135986,
          2.652684211730957,
          3.3329224586486816,
          3.138599157333374,
          1.9691728353500366,
          2.359454393386841,
          2.3377819061279297,
          2.1442325115203857,
          2.497821092605591,
          2.898944616317749,
          3.8469884395599365,
          5.250041961669922,
          2.3727898597717285,
          3.347382068634033,
          5.019123554229736,
          5.470600128173828,
          4.342728614807129,
          3.577592611312866,
          2.5272250175476074,
          3.0236215591430664,
          2.8681514263153076,
          3.1322946548461914,
          2.731764554977417,
          2.645195245742798,
          2.216907024383545,
          2.291529655456543,
          2.5869715213775635,
          2.0599634647369385,
          2.6316492557525635,
          2.2608892917633057,
          2.3427011966705322,
          2.2147934436798096,
          4.074513912200928,
          5.120859622955322,
          3.471250534057617,
          5.422510147094727,
          2.9914886951446533,
          3.2394278049468994,
          2.920397996902466,
          2.719677209854126,
          2.700866460800171,
          2.594336748123169,
          2.6478049755096436,
          2.3291056156158447,
          2.547532320022583,
          2.888885259628296,
          3.06581711769104,
          3.01202654838562,
          2.650773763656616,
          2.353492021560669,
          2.2028419971466064,
          2.488009214401245,
          2.2217628955841064,
          2.7588255405426025,
          2.846184015274048,
          2.449578046798706,
          2.3061282634735107,
          2.6255948543548584,
          2.1674816608428955,
          2.0724713802337646,
          2.518354654312134,
          2.4265973567962646,
          1.9596102237701416,
          2.457712411880493,
          1.9843595027923584,
          2.3739235401153564,
          2.276527166366577,
          1.965395450592041,
          1.9239435195922852,
          2.1470260620117188,
          2.283844470977783,
          2.362373113632202,
          2.684600830078125,
          2.655916452407837,
          2.419696092605591,
          2.5231523513793945,
          2.8822312355041504,
          2.846264362335205,
          2.574838399887085,
          2.772534132003784,
          2.0013062953948975,
          2.7960145473480225,
          1.977936029434204,
          2.3816912174224854,
          2.174952507019043,
          2.7856719493865967,
          3.4916343688964844,
          3.148665428161621,
          2.5564520359039307,
          2.481890916824341,
          2.3139967918395996,
          1.9423319101333618,
          2.0615761280059814,
          3.983999252319336,
          2.3166186809539795,
          3.393869638442993,
          3.6882636547088623,
          3.0332820415496826,
          3.3449668884277344,
          2.3136377334594727,
          1.9567692279815674,
          2.6213130950927734,
          2.8400986194610596,
          2.4149928092956543,
          2.0461883544921875,
          2.5022990703582764,
          3.57879638671875,
          3.15571665763855,
          3.081273317337036,
          2.610136032104492,
          2.521728277206421,
          1.9776840209960938,
          2.051837205886841,
          1.9262855052947998,
          1.882853388786316,
          1.8837532997131348
         ],
         "yaxis": "y"
        },
        {
         "hovertemplate": "variable=Actuals<br>datum=%{x}<br>value=%{y}<extra></extra>",
         "legendgroup": "Actuals",
         "line": {
          "color": "#EF553B",
          "dash": "solid"
         },
         "marker": {
          "symbol": "circle"
         },
         "mode": "lines",
         "name": "Actuals",
         "orientation": "v",
         "showlegend": true,
         "type": "scatter",
         "x": [
          "2022-04-17",
          "2022-04-19",
          "2022-04-21",
          "2022-04-23",
          "2022-04-25",
          "2022-04-27",
          "2022-04-29",
          "2022-05-01",
          "2022-05-03",
          "2022-05-05",
          "2022-05-07",
          "2022-05-09",
          "2022-05-11",
          "2022-05-13",
          "2022-05-15",
          "2022-05-17",
          "2022-05-19",
          "2022-05-21",
          "2022-05-23",
          "2022-05-25",
          "2022-05-27",
          "2022-05-29",
          "2022-06-01",
          "2022-06-03",
          "2022-06-05",
          "2022-06-07",
          "2022-06-09",
          "2022-06-11",
          "2022-06-13",
          "2022-06-15",
          "2022-06-17",
          "2022-06-19",
          "2022-06-21",
          "2022-06-23",
          "2022-06-25",
          "2022-06-27",
          "2022-06-29",
          "2022-07-01",
          "2022-07-03",
          "2022-07-05",
          "2022-07-07",
          "2022-07-09",
          "2022-07-11",
          "2022-07-13",
          "2022-07-15",
          "2022-07-17",
          "2022-07-19",
          "2022-07-21",
          "2022-07-23",
          "2022-07-25",
          "2022-07-27",
          "2022-07-29",
          "2022-08-01",
          "2022-08-03",
          "2022-08-05",
          "2022-08-07",
          "2022-08-09",
          "2022-08-11",
          "2022-08-13",
          "2022-08-15",
          "2022-08-17",
          "2022-08-19",
          "2022-08-21",
          "2022-08-23",
          "2022-08-25",
          "2022-08-27",
          "2022-08-29",
          "2022-09-01",
          "2022-09-03",
          "2022-09-05",
          "2022-09-07",
          "2022-09-09",
          "2022-09-11",
          "2022-09-13",
          "2022-09-15",
          "2022-09-17",
          "2022-09-19",
          "2022-09-21",
          "2022-09-23",
          "2022-09-25",
          "2022-09-27",
          "2022-09-29",
          "2022-10-01",
          "2022-10-03",
          "2022-10-05",
          "2022-10-07",
          "2022-10-09",
          "2022-10-11",
          "2022-10-13",
          "2022-10-15",
          "2022-10-17",
          "2022-10-19",
          "2022-10-21",
          "2022-10-23",
          "2022-10-25",
          "2022-10-27",
          "2022-10-29",
          "2022-11-01",
          "2022-11-03",
          "2022-11-05",
          "2022-11-07",
          "2022-11-09",
          "2022-11-11",
          "2022-11-13",
          "2022-11-15",
          "2022-11-17",
          "2022-11-19",
          "2022-11-21",
          "2022-11-23",
          "2022-11-25",
          "2022-11-27",
          "2022-11-29",
          "2022-12-01",
          "2022-12-03",
          "2022-12-05",
          "2022-12-07",
          "2022-12-09",
          "2022-12-11",
          "2022-12-13",
          "2022-12-15",
          "2022-12-17",
          "2022-12-19",
          "2022-12-21",
          "2022-12-23",
          "2022-12-25",
          "2022-12-27",
          "2022-12-29",
          "2023-01-01",
          "2023-01-03",
          "2023-01-05",
          "2023-01-07",
          "2023-01-09",
          "2023-01-11",
          "2023-01-13",
          "2023-01-15",
          "2023-01-17",
          "2023-01-19",
          "2023-01-21",
          "2023-01-23",
          "2023-01-25",
          "2023-01-27",
          "2023-01-29",
          "2023-02-01",
          "2023-02-03",
          "2023-02-05",
          "2023-02-07",
          "2023-02-09",
          "2023-02-11",
          "2023-02-13",
          "2023-02-15",
          "2023-02-17",
          "2023-02-19",
          "2023-02-21",
          "2023-02-23",
          "2023-02-25",
          "2023-02-27",
          "2023-03-01",
          "2023-03-03",
          "2023-03-05",
          "2023-03-07",
          "2023-03-09",
          "2023-03-11",
          "2023-03-13",
          "2023-03-15",
          "2023-03-17",
          "2023-03-19",
          "2023-03-21",
          "2023-03-25",
          "2023-03-27",
          "2023-03-29",
          "2023-04-01",
          "2023-04-03",
          "2023-04-05",
          "2023-04-07",
          "2023-04-09",
          "2023-04-11",
          "2023-04-13",
          "2023-04-15",
          "2023-04-17",
          "2023-04-19",
          "2023-04-21",
          "2023-04-23",
          "2023-04-25",
          "2023-04-27",
          "2023-04-29",
          "2023-05-01",
          "2023-05-03",
          "2023-05-05",
          "2023-05-07",
          "2023-05-09",
          "2023-05-11",
          "2023-05-13",
          "2023-05-15",
          "2023-05-17",
          "2023-05-19",
          "2023-05-21",
          "2023-05-23",
          "2023-05-25",
          "2023-05-27",
          "2023-05-29",
          "2023-06-01",
          "2023-06-03",
          "2023-06-05",
          "2023-06-07",
          "2023-06-09",
          "2023-06-11",
          "2023-06-13",
          "2023-06-15",
          "2023-06-17",
          "2023-06-19",
          "2023-06-21",
          "2023-06-23",
          "2023-06-25",
          "2023-06-27",
          "2023-06-29",
          "2023-07-01",
          "2023-07-03",
          "2023-07-05",
          "2023-07-07",
          "2023-07-09",
          "2023-07-11",
          "2023-07-13",
          "2023-07-15",
          "2023-07-17",
          "2023-07-19",
          "2023-07-21",
          "2023-07-23",
          "2023-07-25",
          "2023-07-27",
          "2023-07-29",
          "2023-08-01",
          "2023-08-03",
          "2023-08-05",
          "2023-08-07",
          "2023-08-09",
          "2023-08-11",
          "2023-08-13",
          "2023-08-15",
          "2023-08-17",
          "2023-08-19",
          "2023-08-21",
          "2023-08-23",
          "2023-08-25",
          "2023-08-27",
          "2023-08-29",
          "2023-09-01",
          "2023-09-03",
          "2023-09-05",
          "2023-09-07",
          "2023-09-09",
          "2023-09-11",
          "2023-09-13",
          "2023-09-15",
          "2023-09-17",
          "2023-09-19",
          "2023-09-21",
          "2023-09-23",
          "2023-09-25",
          "2023-09-27",
          "2023-09-29",
          "2023-10-01",
          "2023-10-03",
          "2023-10-05",
          "2023-10-07",
          "2023-10-09",
          "2023-10-11",
          "2023-10-13",
          "2023-10-15",
          "2023-10-17",
          "2023-10-19",
          "2023-10-21",
          "2023-10-23",
          "2023-10-25",
          "2023-10-27",
          "2023-10-29",
          "2023-11-01",
          "2023-11-03",
          "2023-11-05",
          "2023-11-07",
          "2023-11-09"
         ],
         "xaxis": "x",
         "y": [
          1.8040000000000005,
          2.1575,
          8.485,
          6.51,
          7.360000000000001,
          4.116,
          3.18,
          4.29,
          4.754,
          6.279999999999999,
          2.7220000000000004,
          2.6125000000000003,
          3.21,
          2.4566666666666666,
          1.876666666666667,
          1.393333333333333,
          2.3600000000000003,
          1.145,
          1.5625,
          0.9325,
          1.35,
          1.2719999999999998,
          1.58,
          1.8575,
          2.103333333333333,
          1.4659999999999995,
          2.6375,
          1.58,
          1.34,
          1.1333333333333333,
          0.675,
          4.8566666666666665,
          2.652,
          1.872,
          8.71,
          1.7499999999999998,
          5.6240000000000006,
          4.705,
          1.1525,
          1.126,
          2.1,
          1.4760000000000002,
          0.8099999999999999,
          0.5625,
          0.6000000000000001,
          0.825,
          2.095,
          3.85,
          5.63,
          4.3420000000000005,
          1.5074999999999998,
          2.225,
          1.286,
          1.4,
          2.44,
          1.3199999999999998,
          1.75,
          1.9550000000000003,
          3.75,
          5.010000000000001,
          2.4366666666666665,
          11.126,
          1.62,
          5.18,
          4.9325,
          7.819999999999999,
          3.6,
          2.4375,
          3.0625,
          3.5925,
          2.314,
          1.132,
          7.6975,
          2.275,
          1.8825,
          1.61,
          1.8566666666666665,
          1.225,
          1.7325,
          4.436,
          0.8266666666666668,
          2.86,
          0.94,
          2.225,
          2,
          2.435,
          1.315,
          3.633333333333333,
          8.075,
          2.155,
          1.865,
          4.05,
          3.6766666666666654,
          1.525,
          1.49,
          2.5325,
          2.735,
          3.33,
          6.023333333333333,
          2.023333333333333,
          3.2125,
          1.6700000000000002,
          5.242500000000001,
          8.0925,
          10.4625,
          2.875,
          4.8825,
          3.5933333333333333,
          19.425,
          12.825,
          7.843333333333334,
          6.536666666666666,
          14.316666666666668,
          16.53,
          7.873333333333334,
          4.285,
          14.3,
          13.616,
          7.522,
          20.15,
          14.915,
          21.450000000000003,
          13.394999999999998,
          3.375,
          3.294,
          2.2466666666666666,
          1.5166666666666666,
          3.1825,
          1.4775,
          1.52,
          3.245,
          4.565,
          1.4333333333333331,
          0.79,
          0.85,
          1.3500000000000003,
          8.395,
          8.3,
          15.483333333333333,
          11.365,
          8.33,
          10.573333333333332,
          2.873333333333333,
          2.6625,
          8.275,
          7.925000000000001,
          7.8,
          8.274999999999999,
          10.340000000000002,
          19.433333333333334,
          4.45,
          1.45,
          3.9133333333333327,
          9.5,
          0.7150000000000001,
          1.1233333333333333,
          6.365,
          18.0925,
          4.216666666666667,
          7.708000000000001,
          3.702,
          0.6,
          2.475,
          1.7375,
          2.8675,
          4.49,
          5.126,
          0.905,
          2.1075,
          1.3375,
          1.1075,
          2.14,
          3.475,
          6.2175,
          10.873333333333331,
          1.34,
          1.1166666666666665,
          2.928,
          7.225,
          6.246,
          3.7925,
          1.343333333333333,
          2.233333333333333,
          3.13,
          5.176,
          2.97,
          3.2999999999999994,
          1.76,
          2.2325,
          3.33,
          1.375,
          3.2775,
          1.8625,
          2.35,
          1.656666666666667,
          9.53,
          8.375,
          2.675,
          4.295,
          1.05,
          3.6166666666666663,
          3.7925,
          3.4,
          3.095,
          3.676,
          3.9075,
          2.594,
          3.455,
          4.743333333333333,
          5.48,
          4.5075,
          2.983333333333334,
          1.875,
          1.54,
          2.822,
          1.8,
          3.54,
          3.702,
          2.776,
          2.21,
          3.7575,
          1.8666666666666665,
          1.5733333333333333,
          2.8625000000000003,
          2.498,
          0.95,
          2.6075,
          0.975,
          2.13,
          1.4733333333333334,
          0.9125,
          0.725,
          1.335,
          1.375,
          1.4625,
          2.3425,
          2.545,
          2.0825,
          2.76,
          4.44,
          4.1875,
          3.0375,
          4.0233333333333325,
          1.2,
          4.325,
          0.8925000000000001,
          2.1933333333333334,
          1.1,
          3.286666666666666,
          4.805,
          4.407500000000001,
          2.36,
          2.78,
          2.066666666666667,
          1.0833333333333333,
          1.4575,
          8.075,
          1.175,
          2.85,
          3.38,
          2.9399999999999995,
          5.59,
          2.2125000000000004,
          0.975,
          2.6075,
          3.2150000000000003,
          2.14,
          1.105,
          3.01,
          6.6875,
          3.73,
          3.235,
          2.36,
          2.4625,
          1.25,
          1.51,
          0.885,
          0.7066666666666667,
          0.6,
          1.5499999999999998
         ],
         "yaxis": "y"
        }
       ],
       "layout": {
        "legend": {
         "title": {
          "text": "variable"
         },
         "tracegroupgap": 0
        },
        "template": {
         "data": {
          "bar": [
           {
            "error_x": {
             "color": "#2a3f5f"
            },
            "error_y": {
             "color": "#2a3f5f"
            },
            "marker": {
             "line": {
              "color": "#E5ECF6",
              "width": 0.5
             },
             "pattern": {
              "fillmode": "overlay",
              "size": 10,
              "solidity": 0.2
             }
            },
            "type": "bar"
           }
          ],
          "barpolar": [
           {
            "marker": {
             "line": {
              "color": "#E5ECF6",
              "width": 0.5
             },
             "pattern": {
              "fillmode": "overlay",
              "size": 10,
              "solidity": 0.2
             }
            },
            "type": "barpolar"
           }
          ],
          "carpet": [
           {
            "aaxis": {
             "endlinecolor": "#2a3f5f",
             "gridcolor": "white",
             "linecolor": "white",
             "minorgridcolor": "white",
             "startlinecolor": "#2a3f5f"
            },
            "baxis": {
             "endlinecolor": "#2a3f5f",
             "gridcolor": "white",
             "linecolor": "white",
             "minorgridcolor": "white",
             "startlinecolor": "#2a3f5f"
            },
            "type": "carpet"
           }
          ],
          "choropleth": [
           {
            "colorbar": {
             "outlinewidth": 0,
             "ticks": ""
            },
            "type": "choropleth"
           }
          ],
          "contour": [
           {
            "colorbar": {
             "outlinewidth": 0,
             "ticks": ""
            },
            "colorscale": [
             [
              0,
              "#0d0887"
             ],
             [
              0.1111111111111111,
              "#46039f"
             ],
             [
              0.2222222222222222,
              "#7201a8"
             ],
             [
              0.3333333333333333,
              "#9c179e"
             ],
             [
              0.4444444444444444,
              "#bd3786"
             ],
             [
              0.5555555555555556,
              "#d8576b"
             ],
             [
              0.6666666666666666,
              "#ed7953"
             ],
             [
              0.7777777777777778,
              "#fb9f3a"
             ],
             [
              0.8888888888888888,
              "#fdca26"
             ],
             [
              1,
              "#f0f921"
             ]
            ],
            "type": "contour"
           }
          ],
          "contourcarpet": [
           {
            "colorbar": {
             "outlinewidth": 0,
             "ticks": ""
            },
            "type": "contourcarpet"
           }
          ],
          "heatmap": [
           {
            "colorbar": {
             "outlinewidth": 0,
             "ticks": ""
            },
            "colorscale": [
             [
              0,
              "#0d0887"
             ],
             [
              0.1111111111111111,
              "#46039f"
             ],
             [
              0.2222222222222222,
              "#7201a8"
             ],
             [
              0.3333333333333333,
              "#9c179e"
             ],
             [
              0.4444444444444444,
              "#bd3786"
             ],
             [
              0.5555555555555556,
              "#d8576b"
             ],
             [
              0.6666666666666666,
              "#ed7953"
             ],
             [
              0.7777777777777778,
              "#fb9f3a"
             ],
             [
              0.8888888888888888,
              "#fdca26"
             ],
             [
              1,
              "#f0f921"
             ]
            ],
            "type": "heatmap"
           }
          ],
          "heatmapgl": [
           {
            "colorbar": {
             "outlinewidth": 0,
             "ticks": ""
            },
            "colorscale": [
             [
              0,
              "#0d0887"
             ],
             [
              0.1111111111111111,
              "#46039f"
             ],
             [
              0.2222222222222222,
              "#7201a8"
             ],
             [
              0.3333333333333333,
              "#9c179e"
             ],
             [
              0.4444444444444444,
              "#bd3786"
             ],
             [
              0.5555555555555556,
              "#d8576b"
             ],
             [
              0.6666666666666666,
              "#ed7953"
             ],
             [
              0.7777777777777778,
              "#fb9f3a"
             ],
             [
              0.8888888888888888,
              "#fdca26"
             ],
             [
              1,
              "#f0f921"
             ]
            ],
            "type": "heatmapgl"
           }
          ],
          "histogram": [
           {
            "marker": {
             "pattern": {
              "fillmode": "overlay",
              "size": 10,
              "solidity": 0.2
             }
            },
            "type": "histogram"
           }
          ],
          "histogram2d": [
           {
            "colorbar": {
             "outlinewidth": 0,
             "ticks": ""
            },
            "colorscale": [
             [
              0,
              "#0d0887"
             ],
             [
              0.1111111111111111,
              "#46039f"
             ],
             [
              0.2222222222222222,
              "#7201a8"
             ],
             [
              0.3333333333333333,
              "#9c179e"
             ],
             [
              0.4444444444444444,
              "#bd3786"
             ],
             [
              0.5555555555555556,
              "#d8576b"
             ],
             [
              0.6666666666666666,
              "#ed7953"
             ],
             [
              0.7777777777777778,
              "#fb9f3a"
             ],
             [
              0.8888888888888888,
              "#fdca26"
             ],
             [
              1,
              "#f0f921"
             ]
            ],
            "type": "histogram2d"
           }
          ],
          "histogram2dcontour": [
           {
            "colorbar": {
             "outlinewidth": 0,
             "ticks": ""
            },
            "colorscale": [
             [
              0,
              "#0d0887"
             ],
             [
              0.1111111111111111,
              "#46039f"
             ],
             [
              0.2222222222222222,
              "#7201a8"
             ],
             [
              0.3333333333333333,
              "#9c179e"
             ],
             [
              0.4444444444444444,
              "#bd3786"
             ],
             [
              0.5555555555555556,
              "#d8576b"
             ],
             [
              0.6666666666666666,
              "#ed7953"
             ],
             [
              0.7777777777777778,
              "#fb9f3a"
             ],
             [
              0.8888888888888888,
              "#fdca26"
             ],
             [
              1,
              "#f0f921"
             ]
            ],
            "type": "histogram2dcontour"
           }
          ],
          "mesh3d": [
           {
            "colorbar": {
             "outlinewidth": 0,
             "ticks": ""
            },
            "type": "mesh3d"
           }
          ],
          "parcoords": [
           {
            "line": {
             "colorbar": {
              "outlinewidth": 0,
              "ticks": ""
             }
            },
            "type": "parcoords"
           }
          ],
          "pie": [
           {
            "automargin": true,
            "type": "pie"
           }
          ],
          "scatter": [
           {
            "fillpattern": {
             "fillmode": "overlay",
             "size": 10,
             "solidity": 0.2
            },
            "type": "scatter"
           }
          ],
          "scatter3d": [
           {
            "line": {
             "colorbar": {
              "outlinewidth": 0,
              "ticks": ""
             }
            },
            "marker": {
             "colorbar": {
              "outlinewidth": 0,
              "ticks": ""
             }
            },
            "type": "scatter3d"
           }
          ],
          "scattercarpet": [
           {
            "marker": {
             "colorbar": {
              "outlinewidth": 0,
              "ticks": ""
             }
            },
            "type": "scattercarpet"
           }
          ],
          "scattergeo": [
           {
            "marker": {
             "colorbar": {
              "outlinewidth": 0,
              "ticks": ""
             }
            },
            "type": "scattergeo"
           }
          ],
          "scattergl": [
           {
            "marker": {
             "colorbar": {
              "outlinewidth": 0,
              "ticks": ""
             }
            },
            "type": "scattergl"
           }
          ],
          "scattermapbox": [
           {
            "marker": {
             "colorbar": {
              "outlinewidth": 0,
              "ticks": ""
             }
            },
            "type": "scattermapbox"
           }
          ],
          "scatterpolar": [
           {
            "marker": {
             "colorbar": {
              "outlinewidth": 0,
              "ticks": ""
             }
            },
            "type": "scatterpolar"
           }
          ],
          "scatterpolargl": [
           {
            "marker": {
             "colorbar": {
              "outlinewidth": 0,
              "ticks": ""
             }
            },
            "type": "scatterpolargl"
           }
          ],
          "scatterternary": [
           {
            "marker": {
             "colorbar": {
              "outlinewidth": 0,
              "ticks": ""
             }
            },
            "type": "scatterternary"
           }
          ],
          "surface": [
           {
            "colorbar": {
             "outlinewidth": 0,
             "ticks": ""
            },
            "colorscale": [
             [
              0,
              "#0d0887"
             ],
             [
              0.1111111111111111,
              "#46039f"
             ],
             [
              0.2222222222222222,
              "#7201a8"
             ],
             [
              0.3333333333333333,
              "#9c179e"
             ],
             [
              0.4444444444444444,
              "#bd3786"
             ],
             [
              0.5555555555555556,
              "#d8576b"
             ],
             [
              0.6666666666666666,
              "#ed7953"
             ],
             [
              0.7777777777777778,
              "#fb9f3a"
             ],
             [
              0.8888888888888888,
              "#fdca26"
             ],
             [
              1,
              "#f0f921"
             ]
            ],
            "type": "surface"
           }
          ],
          "table": [
           {
            "cells": {
             "fill": {
              "color": "#EBF0F8"
             },
             "line": {
              "color": "white"
             }
            },
            "header": {
             "fill": {
              "color": "#C8D4E3"
             },
             "line": {
              "color": "white"
             }
            },
            "type": "table"
           }
          ]
         },
         "layout": {
          "annotationdefaults": {
           "arrowcolor": "#2a3f5f",
           "arrowhead": 0,
           "arrowwidth": 1
          },
          "autotypenumbers": "strict",
          "coloraxis": {
           "colorbar": {
            "outlinewidth": 0,
            "ticks": ""
           }
          },
          "colorscale": {
           "diverging": [
            [
             0,
             "#8e0152"
            ],
            [
             0.1,
             "#c51b7d"
            ],
            [
             0.2,
             "#de77ae"
            ],
            [
             0.3,
             "#f1b6da"
            ],
            [
             0.4,
             "#fde0ef"
            ],
            [
             0.5,
             "#f7f7f7"
            ],
            [
             0.6,
             "#e6f5d0"
            ],
            [
             0.7,
             "#b8e186"
            ],
            [
             0.8,
             "#7fbc41"
            ],
            [
             0.9,
             "#4d9221"
            ],
            [
             1,
             "#276419"
            ]
           ],
           "sequential": [
            [
             0,
             "#0d0887"
            ],
            [
             0.1111111111111111,
             "#46039f"
            ],
            [
             0.2222222222222222,
             "#7201a8"
            ],
            [
             0.3333333333333333,
             "#9c179e"
            ],
            [
             0.4444444444444444,
             "#bd3786"
            ],
            [
             0.5555555555555556,
             "#d8576b"
            ],
            [
             0.6666666666666666,
             "#ed7953"
            ],
            [
             0.7777777777777778,
             "#fb9f3a"
            ],
            [
             0.8888888888888888,
             "#fdca26"
            ],
            [
             1,
             "#f0f921"
            ]
           ],
           "sequentialminus": [
            [
             0,
             "#0d0887"
            ],
            [
             0.1111111111111111,
             "#46039f"
            ],
            [
             0.2222222222222222,
             "#7201a8"
            ],
            [
             0.3333333333333333,
             "#9c179e"
            ],
            [
             0.4444444444444444,
             "#bd3786"
            ],
            [
             0.5555555555555556,
             "#d8576b"
            ],
            [
             0.6666666666666666,
             "#ed7953"
            ],
            [
             0.7777777777777778,
             "#fb9f3a"
            ],
            [
             0.8888888888888888,
             "#fdca26"
            ],
            [
             1,
             "#f0f921"
            ]
           ]
          },
          "colorway": [
           "#636efa",
           "#EF553B",
           "#00cc96",
           "#ab63fa",
           "#FFA15A",
           "#19d3f3",
           "#FF6692",
           "#B6E880",
           "#FF97FF",
           "#FECB52"
          ],
          "font": {
           "color": "#2a3f5f"
          },
          "geo": {
           "bgcolor": "white",
           "lakecolor": "white",
           "landcolor": "#E5ECF6",
           "showlakes": true,
           "showland": true,
           "subunitcolor": "white"
          },
          "hoverlabel": {
           "align": "left"
          },
          "hovermode": "closest",
          "mapbox": {
           "style": "light"
          },
          "paper_bgcolor": "white",
          "plot_bgcolor": "#E5ECF6",
          "polar": {
           "angularaxis": {
            "gridcolor": "white",
            "linecolor": "white",
            "ticks": ""
           },
           "bgcolor": "#E5ECF6",
           "radialaxis": {
            "gridcolor": "white",
            "linecolor": "white",
            "ticks": ""
           }
          },
          "scene": {
           "xaxis": {
            "backgroundcolor": "#E5ECF6",
            "gridcolor": "white",
            "gridwidth": 2,
            "linecolor": "white",
            "showbackground": true,
            "ticks": "",
            "zerolinecolor": "white"
           },
           "yaxis": {
            "backgroundcolor": "#E5ECF6",
            "gridcolor": "white",
            "gridwidth": 2,
            "linecolor": "white",
            "showbackground": true,
            "ticks": "",
            "zerolinecolor": "white"
           },
           "zaxis": {
            "backgroundcolor": "#E5ECF6",
            "gridcolor": "white",
            "gridwidth": 2,
            "linecolor": "white",
            "showbackground": true,
            "ticks": "",
            "zerolinecolor": "white"
           }
          },
          "shapedefaults": {
           "line": {
            "color": "#2a3f5f"
           }
          },
          "ternary": {
           "aaxis": {
            "gridcolor": "white",
            "linecolor": "white",
            "ticks": ""
           },
           "baxis": {
            "gridcolor": "white",
            "linecolor": "white",
            "ticks": ""
           },
           "bgcolor": "#E5ECF6",
           "caxis": {
            "gridcolor": "white",
            "linecolor": "white",
            "ticks": ""
           }
          },
          "title": {
           "x": 0.05
          },
          "xaxis": {
           "automargin": true,
           "gridcolor": "white",
           "linecolor": "white",
           "ticks": "",
           "title": {
            "standoff": 15
           },
           "zerolinecolor": "white",
           "zerolinewidth": 2
          },
          "yaxis": {
           "automargin": true,
           "gridcolor": "white",
           "linecolor": "white",
           "ticks": "",
           "title": {
            "standoff": 15
           },
           "zerolinecolor": "white",
           "zerolinewidth": 2
          }
         }
        },
        "title": {
         "text": "Train Predictions vs Actuals"
        },
        "xaxis": {
         "anchor": "y",
         "domain": [
          0,
          1
         ],
         "title": {
          "text": "datum"
         }
        },
        "yaxis": {
         "anchor": "x",
         "domain": [
          0,
          1
         ],
         "title": {
          "text": "value"
         }
        }
       }
      }
     },
     "metadata": {},
     "output_type": "display_data"
    }
   ],
   "source": [
    "# Plotly Express zur Visualisierung verwenden\n",
    "fig = px.line(train_results, x=train_results.index, y=['Train Predictions', 'Actuals'], title='Train Predictions vs Actuals')\n",
    "fig.show()"
   ]
  },
  {
   "cell_type": "code",
   "execution_count": 14,
   "metadata": {},
   "outputs": [
    {
     "name": "stdout",
     "output_type": "stream",
     "text": [
      "\u001b[1m10/10\u001b[0m \u001b[32m━━━━━━━━━━━━━━━━━━━━\u001b[0m\u001b[37m\u001b[0m \u001b[1m0s\u001b[0m 1ms/step \n"
     ]
    },
    {
     "data": {
      "text/html": [
       "<div>\n",
       "<style scoped>\n",
       "    .dataframe tbody tr th:only-of-type {\n",
       "        vertical-align: middle;\n",
       "    }\n",
       "\n",
       "    .dataframe tbody tr th {\n",
       "        vertical-align: top;\n",
       "    }\n",
       "\n",
       "    .dataframe thead th {\n",
       "        text-align: right;\n",
       "    }\n",
       "</style>\n",
       "<table border=\"1\" class=\"dataframe\">\n",
       "  <thead>\n",
       "    <tr style=\"text-align: right;\">\n",
       "      <th></th>\n",
       "      <th>Val Predictions</th>\n",
       "      <th>Actuals</th>\n",
       "    </tr>\n",
       "    <tr>\n",
       "      <th>datum</th>\n",
       "      <th></th>\n",
       "      <th></th>\n",
       "    </tr>\n",
       "  </thead>\n",
       "  <tbody>\n",
       "    <tr>\n",
       "      <th>2022-04-17</th>\n",
       "      <td>4.001770</td>\n",
       "      <td>1.804000</td>\n",
       "    </tr>\n",
       "    <tr>\n",
       "      <th>2022-04-19</th>\n",
       "      <td>2.283633</td>\n",
       "      <td>2.157500</td>\n",
       "    </tr>\n",
       "    <tr>\n",
       "      <th>2022-04-21</th>\n",
       "      <td>2.472489</td>\n",
       "      <td>8.485000</td>\n",
       "    </tr>\n",
       "    <tr>\n",
       "      <th>2022-04-23</th>\n",
       "      <td>4.731039</td>\n",
       "      <td>6.510000</td>\n",
       "    </tr>\n",
       "    <tr>\n",
       "      <th>2022-04-25</th>\n",
       "      <td>4.514254</td>\n",
       "      <td>7.360000</td>\n",
       "    </tr>\n",
       "    <tr>\n",
       "      <th>...</th>\n",
       "      <td>...</td>\n",
       "      <td>...</td>\n",
       "    </tr>\n",
       "    <tr>\n",
       "      <th>2023-12-11</th>\n",
       "      <td>8.710408</td>\n",
       "      <td>1.433333</td>\n",
       "    </tr>\n",
       "    <tr>\n",
       "      <th>2023-12-13</th>\n",
       "      <td>3.969244</td>\n",
       "      <td>3.450000</td>\n",
       "    </tr>\n",
       "    <tr>\n",
       "      <th>2023-12-15</th>\n",
       "      <td>6.248790</td>\n",
       "      <td>8.955000</td>\n",
       "    </tr>\n",
       "    <tr>\n",
       "      <th>2023-12-17</th>\n",
       "      <td>8.301639</td>\n",
       "      <td>5.327500</td>\n",
       "    </tr>\n",
       "    <tr>\n",
       "      <th>2023-12-19</th>\n",
       "      <td>4.845950</td>\n",
       "      <td>1.650000</td>\n",
       "    </tr>\n",
       "  </tbody>\n",
       "</table>\n",
       "<p>300 rows × 2 columns</p>\n",
       "</div>"
      ],
      "text/plain": [
       "            Val Predictions   Actuals\n",
       "datum                                \n",
       "2022-04-17         4.001770  1.804000\n",
       "2022-04-19         2.283633  2.157500\n",
       "2022-04-21         2.472489  8.485000\n",
       "2022-04-23         4.731039  6.510000\n",
       "2022-04-25         4.514254  7.360000\n",
       "...                     ...       ...\n",
       "2023-12-11         8.710408  1.433333\n",
       "2023-12-13         3.969244  3.450000\n",
       "2023-12-15         6.248790  8.955000\n",
       "2023-12-17         8.301639  5.327500\n",
       "2023-12-19         4.845950  1.650000\n",
       "\n",
       "[300 rows x 2 columns]"
      ]
     },
     "execution_count": 14,
     "metadata": {},
     "output_type": "execute_result"
    }
   ],
   "source": [
    "# es werden die Validierungsdaten vorhergesagt und mit den tatsächlichen Werten in ein df geschrieben\n",
    "val_predictions = model1.predict(X_val).flatten()\n",
    "val_results = pd.DataFrame(data={'Val Predictions':val_predictions, 'Actuals':y_val}, index=val_index)\n",
    "val_results"
   ]
  },
  {
   "cell_type": "code",
   "execution_count": 15,
   "metadata": {},
   "outputs": [
    {
     "data": {
      "application/vnd.plotly.v1+json": {
       "config": {
        "plotlyServerURL": "https://plot.ly"
       },
       "data": [
        {
         "hovertemplate": "variable=Val Predictions<br>datum=%{x}<br>value=%{y}<extra></extra>",
         "legendgroup": "Val Predictions",
         "line": {
          "color": "#636efa",
          "dash": "solid"
         },
         "marker": {
          "symbol": "circle"
         },
         "mode": "lines",
         "name": "Val Predictions",
         "orientation": "v",
         "showlegend": true,
         "type": "scatter",
         "x": [
          "2022-04-17",
          "2022-04-19",
          "2022-04-21",
          "2022-04-23",
          "2022-04-25",
          "2022-04-27",
          "2022-04-29",
          "2022-05-01",
          "2022-05-03",
          "2022-05-05",
          "2022-05-07",
          "2022-05-09",
          "2022-05-11",
          "2022-05-13",
          "2022-05-15",
          "2022-05-17",
          "2022-05-19",
          "2022-05-21",
          "2022-05-23",
          "2022-05-25",
          "2022-05-27",
          "2022-05-29",
          "2022-06-01",
          "2022-06-03",
          "2022-06-05",
          "2022-06-07",
          "2022-06-09",
          "2022-06-11",
          "2022-06-13",
          "2022-06-15",
          "2022-06-17",
          "2022-06-19",
          "2022-06-21",
          "2022-06-23",
          "2022-06-25",
          "2022-06-27",
          "2022-06-29",
          "2022-07-01",
          "2022-07-03",
          "2022-07-05",
          "2022-07-07",
          "2022-07-09",
          "2022-07-11",
          "2022-07-13",
          "2022-07-15",
          "2022-07-17",
          "2022-07-19",
          "2022-07-21",
          "2022-07-23",
          "2022-07-25",
          "2022-07-27",
          "2022-07-29",
          "2022-08-01",
          "2022-08-03",
          "2022-08-05",
          "2022-08-07",
          "2022-08-09",
          "2022-08-11",
          "2022-08-13",
          "2022-08-15",
          "2022-08-17",
          "2022-08-19",
          "2022-08-21",
          "2022-08-23",
          "2022-08-25",
          "2022-08-27",
          "2022-08-29",
          "2022-09-01",
          "2022-09-03",
          "2022-09-05",
          "2022-09-07",
          "2022-09-09",
          "2022-09-11",
          "2022-09-13",
          "2022-09-15",
          "2022-09-17",
          "2022-09-19",
          "2022-09-21",
          "2022-09-23",
          "2022-09-25",
          "2022-09-27",
          "2022-09-29",
          "2022-10-01",
          "2022-10-03",
          "2022-10-05",
          "2022-10-07",
          "2022-10-09",
          "2022-10-11",
          "2022-10-13",
          "2022-10-15",
          "2022-10-17",
          "2022-10-19",
          "2022-10-21",
          "2022-10-23",
          "2022-10-25",
          "2022-10-27",
          "2022-10-29",
          "2022-11-01",
          "2022-11-03",
          "2022-11-05",
          "2022-11-07",
          "2022-11-09",
          "2022-11-11",
          "2022-11-13",
          "2022-11-15",
          "2022-11-17",
          "2022-11-19",
          "2022-11-21",
          "2022-11-23",
          "2022-11-25",
          "2022-11-27",
          "2022-11-29",
          "2022-12-01",
          "2022-12-03",
          "2022-12-05",
          "2022-12-07",
          "2022-12-09",
          "2022-12-11",
          "2022-12-13",
          "2022-12-15",
          "2022-12-17",
          "2022-12-19",
          "2022-12-21",
          "2022-12-23",
          "2022-12-25",
          "2022-12-27",
          "2022-12-29",
          "2023-01-01",
          "2023-01-03",
          "2023-01-05",
          "2023-01-07",
          "2023-01-09",
          "2023-01-11",
          "2023-01-13",
          "2023-01-15",
          "2023-01-17",
          "2023-01-19",
          "2023-01-21",
          "2023-01-23",
          "2023-01-25",
          "2023-01-27",
          "2023-01-29",
          "2023-02-01",
          "2023-02-03",
          "2023-02-05",
          "2023-02-07",
          "2023-02-09",
          "2023-02-11",
          "2023-02-13",
          "2023-02-15",
          "2023-02-17",
          "2023-02-19",
          "2023-02-21",
          "2023-02-23",
          "2023-02-25",
          "2023-02-27",
          "2023-03-01",
          "2023-03-03",
          "2023-03-05",
          "2023-03-07",
          "2023-03-09",
          "2023-03-11",
          "2023-03-13",
          "2023-03-15",
          "2023-03-17",
          "2023-03-19",
          "2023-03-21",
          "2023-03-25",
          "2023-03-27",
          "2023-03-29",
          "2023-04-01",
          "2023-04-03",
          "2023-04-05",
          "2023-04-07",
          "2023-04-09",
          "2023-04-11",
          "2023-04-13",
          "2023-04-15",
          "2023-04-17",
          "2023-04-19",
          "2023-04-21",
          "2023-04-23",
          "2023-04-25",
          "2023-04-27",
          "2023-04-29",
          "2023-05-01",
          "2023-05-03",
          "2023-05-05",
          "2023-05-07",
          "2023-05-09",
          "2023-05-11",
          "2023-05-13",
          "2023-05-15",
          "2023-05-17",
          "2023-05-19",
          "2023-05-21",
          "2023-05-23",
          "2023-05-25",
          "2023-05-27",
          "2023-05-29",
          "2023-06-01",
          "2023-06-03",
          "2023-06-05",
          "2023-06-07",
          "2023-06-09",
          "2023-06-11",
          "2023-06-13",
          "2023-06-15",
          "2023-06-17",
          "2023-06-19",
          "2023-06-21",
          "2023-06-23",
          "2023-06-25",
          "2023-06-27",
          "2023-06-29",
          "2023-07-01",
          "2023-07-03",
          "2023-07-05",
          "2023-07-07",
          "2023-07-09",
          "2023-07-11",
          "2023-07-13",
          "2023-07-15",
          "2023-07-17",
          "2023-07-19",
          "2023-07-21",
          "2023-07-23",
          "2023-07-25",
          "2023-07-27",
          "2023-07-29",
          "2023-08-01",
          "2023-08-03",
          "2023-08-05",
          "2023-08-07",
          "2023-08-09",
          "2023-08-11",
          "2023-08-13",
          "2023-08-15",
          "2023-08-17",
          "2023-08-19",
          "2023-08-21",
          "2023-08-23",
          "2023-08-25",
          "2023-08-27",
          "2023-08-29",
          "2023-09-01",
          "2023-09-03",
          "2023-09-05",
          "2023-09-07",
          "2023-09-09",
          "2023-09-11",
          "2023-09-13",
          "2023-09-15",
          "2023-09-17",
          "2023-09-19",
          "2023-09-21",
          "2023-09-23",
          "2023-09-25",
          "2023-09-27",
          "2023-09-29",
          "2023-10-01",
          "2023-10-03",
          "2023-10-05",
          "2023-10-07",
          "2023-10-09",
          "2023-10-11",
          "2023-10-13",
          "2023-10-15",
          "2023-10-17",
          "2023-10-19",
          "2023-10-21",
          "2023-10-23",
          "2023-10-25",
          "2023-10-27",
          "2023-10-29",
          "2023-11-01",
          "2023-11-03",
          "2023-11-05",
          "2023-11-07",
          "2023-11-09",
          "2023-11-11",
          "2023-11-13",
          "2023-11-15",
          "2023-11-17",
          "2023-11-19",
          "2023-11-21",
          "2023-11-23",
          "2023-11-25",
          "2023-11-27",
          "2023-11-29",
          "2023-12-01",
          "2023-12-03",
          "2023-12-05",
          "2023-12-07",
          "2023-12-09",
          "2023-12-11",
          "2023-12-13",
          "2023-12-15",
          "2023-12-17",
          "2023-12-19"
         ],
         "xaxis": "x",
         "y": [
          4.001770496368408,
          2.283632516860962,
          2.4724886417388916,
          4.731038570404053,
          4.514253616333008,
          5.140285968780518,
          4.447941780090332,
          4.396430492401123,
          4.0093488693237305,
          3.3797852993011475,
          3.291398048400879,
          2.568939447402954,
          2.628011703491211,
          2.9405357837677,
          2.464401960372925,
          2.1402552127838135,
          2.018643379211426,
          2.324538230895996,
          2.0295937061309814,
          2.1742122173309326,
          2.0002079010009766,
          2.1302218437194824,
          2.1981403827667236,
          2.3078994750976562,
          2.463657855987549,
          2.485901117324829,
          2.2160565853118896,
          2.5255210399627686,
          2.1964099407196045,
          2.074493169784546,
          2.034039258956909,
          1.8640141487121582,
          3.413590669631958,
          2.9969351291656494,
          2.569152593612671,
          4.477243423461914,
          2.4098925590515137,
          4.1005377769470215,
          4.412841796875,
          2.365314245223999,
          2.1818950176239014,
          2.6598598957061768,
          2.285153388977051,
          1.9908318519592285,
          1.8441588878631592,
          1.8583040237426758,
          2.0143144130706787,
          2.6915090084075928,
          3.5834176540374756,
          4.119889259338379,
          3.4104039669036865,
          2.2115657329559326,
          2.455451726913452,
          2.228454113006592,
          2.1120285987854004,
          2.514976739883423,
          2.146453619003296,
          2.3006913661956787,
          2.3550167083740234,
          2.8592629432678223,
          3.373558282852173,
          2.509385824203491,
          4.612865447998047,
          2.4963319301605225,
          4.794417381286621,
          5.380887985229492,
          5.906559944152832,
          3.288679838180542,
          2.942608118057251,
          3.328975200653076,
          3.075792074203491,
          2.2613956928253174,
          1.9396250247955322,
          3.6520731449127197,
          2.6248843669891357,
          2.6713855266571045,
          2.699620008468628,
          2.5703914165496826,
          2.0411040782928467,
          2.2329001426696777,
          3.1677379608154297,
          2.0159924030303955,
          2.7218546867370605,
          2.089822769165039,
          2.4514927864074707,
          2.4996755123138428,
          2.469439744949341,
          2.16056227684021,
          2.709516763687134,
          4.0190253257751465,
          2.6120412349700928,
          2.7952218055725098,
          3.77984881401062,
          3.245009183883667,
          2.140756130218506,
          2.1094679832458496,
          2.4518015384674072,
          2.5369091033935547,
          2.785132646560669,
          3.4047555923461914,
          2.2991461753845215,
          2.681001901626587,
          2.3551082611083984,
          3.2302682399749756,
          4.060767650604248,
          5.188498020172119,
          3.6969234943389893,
          6.185860633850098,
          5.249856948852539,
          7.839745998382568,
          8.3678617477417,
          8.448797225952148,
          8.538736343383789,
          11.368036270141602,
          11.172438621520996,
          8.465359687805176,
          7.166308403015137,
          11.379081726074219,
          10.708854675292969,
          8.177408218383789,
          11.91551685333252,
          11.58824348449707,
          12.420122146606445,
          11.060749053955078,
          4.849510192871094,
          5.915943145751953,
          3.9646546840667725,
          2.8645615577697754,
          2.5133211612701416,
          2.1070034503936768,
          2.1175482273101807,
          2.7273948192596436,
          3.053321361541748,
          2.2177536487579346,
          1.9244160652160645,
          2.0014798641204834,
          2.254216432571411,
          4.700944900512695,
          5.972302436828613,
          8.504188537597656,
          9.345355987548828,
          9.235048294067383,
          10.618200302124023,
          3.8829963207244873,
          5.570341110229492,
          8.027578353881836,
          6.03630256652832,
          5.138838768005371,
          6.889805793762207,
          8.808147430419922,
          10.640084266662598,
          5.447931289672852,
          4.827012062072754,
          6.105515480041504,
          7.086181640625,
          1.9548101425170898,
          2.832571029663086,
          5.820370674133301,
          8.46921443939209,
          5.464056968688965,
          8.683273315429688,
          5.047491073608398,
          2.5638961791992188,
          3.07633900642395,
          2.7413227558135986,
          2.652684211730957,
          3.3329224586486816,
          3.138599157333374,
          1.9691728353500366,
          2.359454393386841,
          2.3377819061279297,
          2.1442325115203857,
          2.497821092605591,
          2.898944616317749,
          3.8469884395599365,
          5.250041961669922,
          2.3727898597717285,
          3.347382068634033,
          5.019123554229736,
          5.470600128173828,
          4.342728614807129,
          3.577592611312866,
          2.5272250175476074,
          3.0236215591430664,
          2.8681514263153076,
          3.1322946548461914,
          2.731764554977417,
          2.645195245742798,
          2.216907024383545,
          2.291529655456543,
          2.5869715213775635,
          2.0599634647369385,
          2.6316492557525635,
          2.2608892917633057,
          2.3427011966705322,
          2.2147934436798096,
          4.074513912200928,
          5.120859622955322,
          3.471250534057617,
          5.422510147094727,
          2.9914886951446533,
          3.2394278049468994,
          2.920397996902466,
          2.719677209854126,
          2.700866460800171,
          2.594336748123169,
          2.6478049755096436,
          2.3291056156158447,
          2.547532320022583,
          2.888885259628296,
          3.06581711769104,
          3.01202654838562,
          2.650773763656616,
          2.353492021560669,
          2.2028419971466064,
          2.488009214401245,
          2.2217628955841064,
          2.7588255405426025,
          2.846184015274048,
          2.449578046798706,
          2.3061282634735107,
          2.6255948543548584,
          2.1674816608428955,
          2.0724713802337646,
          2.518354654312134,
          2.4265973567962646,
          1.9596102237701416,
          2.457712411880493,
          1.9843595027923584,
          2.3739235401153564,
          2.276527166366577,
          1.965395450592041,
          1.9239435195922852,
          2.1470260620117188,
          2.283844470977783,
          2.362373113632202,
          2.684600830078125,
          2.655916452407837,
          2.419696092605591,
          2.5231523513793945,
          2.8822312355041504,
          2.846264362335205,
          2.574838399887085,
          2.772534132003784,
          2.0013062953948975,
          2.7960145473480225,
          1.977936029434204,
          2.3816912174224854,
          2.174952507019043,
          2.7856719493865967,
          3.4916343688964844,
          3.148665428161621,
          2.5564520359039307,
          2.481890916824341,
          2.3139967918395996,
          1.9423319101333618,
          2.0615761280059814,
          3.983999252319336,
          2.3166186809539795,
          3.393869638442993,
          3.6882636547088623,
          3.0332820415496826,
          3.3449668884277344,
          2.3136377334594727,
          1.9567692279815674,
          2.6213130950927734,
          2.8400986194610596,
          2.4149928092956543,
          2.0461883544921875,
          2.5022990703582764,
          3.57879638671875,
          3.15571665763855,
          3.081273317337036,
          2.610136032104492,
          2.521728277206421,
          1.9776840209960938,
          2.051837205886841,
          1.9262855052947998,
          1.882853388786316,
          1.8837532997131348,
          2.3231964111328125,
          2.3887956142425537,
          2.565648317337036,
          2.3265020847320557,
          2.970245838165283,
          2.2509007453918457,
          3.1997697353363037,
          2.6500632762908936,
          2.2813966274261475,
          2.892097234725952,
          2.7885401248931885,
          3.2799136638641357,
          4.21626615524292,
          4.429440021514893,
          8.1343994140625,
          8.710408210754395,
          3.9692444801330566,
          6.248790264129639,
          8.30163860321045,
          4.845949649810791
         ],
         "yaxis": "y"
        },
        {
         "hovertemplate": "variable=Actuals<br>datum=%{x}<br>value=%{y}<extra></extra>",
         "legendgroup": "Actuals",
         "line": {
          "color": "#EF553B",
          "dash": "solid"
         },
         "marker": {
          "symbol": "circle"
         },
         "mode": "lines",
         "name": "Actuals",
         "orientation": "v",
         "showlegend": true,
         "type": "scatter",
         "x": [
          "2022-04-17",
          "2022-04-19",
          "2022-04-21",
          "2022-04-23",
          "2022-04-25",
          "2022-04-27",
          "2022-04-29",
          "2022-05-01",
          "2022-05-03",
          "2022-05-05",
          "2022-05-07",
          "2022-05-09",
          "2022-05-11",
          "2022-05-13",
          "2022-05-15",
          "2022-05-17",
          "2022-05-19",
          "2022-05-21",
          "2022-05-23",
          "2022-05-25",
          "2022-05-27",
          "2022-05-29",
          "2022-06-01",
          "2022-06-03",
          "2022-06-05",
          "2022-06-07",
          "2022-06-09",
          "2022-06-11",
          "2022-06-13",
          "2022-06-15",
          "2022-06-17",
          "2022-06-19",
          "2022-06-21",
          "2022-06-23",
          "2022-06-25",
          "2022-06-27",
          "2022-06-29",
          "2022-07-01",
          "2022-07-03",
          "2022-07-05",
          "2022-07-07",
          "2022-07-09",
          "2022-07-11",
          "2022-07-13",
          "2022-07-15",
          "2022-07-17",
          "2022-07-19",
          "2022-07-21",
          "2022-07-23",
          "2022-07-25",
          "2022-07-27",
          "2022-07-29",
          "2022-08-01",
          "2022-08-03",
          "2022-08-05",
          "2022-08-07",
          "2022-08-09",
          "2022-08-11",
          "2022-08-13",
          "2022-08-15",
          "2022-08-17",
          "2022-08-19",
          "2022-08-21",
          "2022-08-23",
          "2022-08-25",
          "2022-08-27",
          "2022-08-29",
          "2022-09-01",
          "2022-09-03",
          "2022-09-05",
          "2022-09-07",
          "2022-09-09",
          "2022-09-11",
          "2022-09-13",
          "2022-09-15",
          "2022-09-17",
          "2022-09-19",
          "2022-09-21",
          "2022-09-23",
          "2022-09-25",
          "2022-09-27",
          "2022-09-29",
          "2022-10-01",
          "2022-10-03",
          "2022-10-05",
          "2022-10-07",
          "2022-10-09",
          "2022-10-11",
          "2022-10-13",
          "2022-10-15",
          "2022-10-17",
          "2022-10-19",
          "2022-10-21",
          "2022-10-23",
          "2022-10-25",
          "2022-10-27",
          "2022-10-29",
          "2022-11-01",
          "2022-11-03",
          "2022-11-05",
          "2022-11-07",
          "2022-11-09",
          "2022-11-11",
          "2022-11-13",
          "2022-11-15",
          "2022-11-17",
          "2022-11-19",
          "2022-11-21",
          "2022-11-23",
          "2022-11-25",
          "2022-11-27",
          "2022-11-29",
          "2022-12-01",
          "2022-12-03",
          "2022-12-05",
          "2022-12-07",
          "2022-12-09",
          "2022-12-11",
          "2022-12-13",
          "2022-12-15",
          "2022-12-17",
          "2022-12-19",
          "2022-12-21",
          "2022-12-23",
          "2022-12-25",
          "2022-12-27",
          "2022-12-29",
          "2023-01-01",
          "2023-01-03",
          "2023-01-05",
          "2023-01-07",
          "2023-01-09",
          "2023-01-11",
          "2023-01-13",
          "2023-01-15",
          "2023-01-17",
          "2023-01-19",
          "2023-01-21",
          "2023-01-23",
          "2023-01-25",
          "2023-01-27",
          "2023-01-29",
          "2023-02-01",
          "2023-02-03",
          "2023-02-05",
          "2023-02-07",
          "2023-02-09",
          "2023-02-11",
          "2023-02-13",
          "2023-02-15",
          "2023-02-17",
          "2023-02-19",
          "2023-02-21",
          "2023-02-23",
          "2023-02-25",
          "2023-02-27",
          "2023-03-01",
          "2023-03-03",
          "2023-03-05",
          "2023-03-07",
          "2023-03-09",
          "2023-03-11",
          "2023-03-13",
          "2023-03-15",
          "2023-03-17",
          "2023-03-19",
          "2023-03-21",
          "2023-03-25",
          "2023-03-27",
          "2023-03-29",
          "2023-04-01",
          "2023-04-03",
          "2023-04-05",
          "2023-04-07",
          "2023-04-09",
          "2023-04-11",
          "2023-04-13",
          "2023-04-15",
          "2023-04-17",
          "2023-04-19",
          "2023-04-21",
          "2023-04-23",
          "2023-04-25",
          "2023-04-27",
          "2023-04-29",
          "2023-05-01",
          "2023-05-03",
          "2023-05-05",
          "2023-05-07",
          "2023-05-09",
          "2023-05-11",
          "2023-05-13",
          "2023-05-15",
          "2023-05-17",
          "2023-05-19",
          "2023-05-21",
          "2023-05-23",
          "2023-05-25",
          "2023-05-27",
          "2023-05-29",
          "2023-06-01",
          "2023-06-03",
          "2023-06-05",
          "2023-06-07",
          "2023-06-09",
          "2023-06-11",
          "2023-06-13",
          "2023-06-15",
          "2023-06-17",
          "2023-06-19",
          "2023-06-21",
          "2023-06-23",
          "2023-06-25",
          "2023-06-27",
          "2023-06-29",
          "2023-07-01",
          "2023-07-03",
          "2023-07-05",
          "2023-07-07",
          "2023-07-09",
          "2023-07-11",
          "2023-07-13",
          "2023-07-15",
          "2023-07-17",
          "2023-07-19",
          "2023-07-21",
          "2023-07-23",
          "2023-07-25",
          "2023-07-27",
          "2023-07-29",
          "2023-08-01",
          "2023-08-03",
          "2023-08-05",
          "2023-08-07",
          "2023-08-09",
          "2023-08-11",
          "2023-08-13",
          "2023-08-15",
          "2023-08-17",
          "2023-08-19",
          "2023-08-21",
          "2023-08-23",
          "2023-08-25",
          "2023-08-27",
          "2023-08-29",
          "2023-09-01",
          "2023-09-03",
          "2023-09-05",
          "2023-09-07",
          "2023-09-09",
          "2023-09-11",
          "2023-09-13",
          "2023-09-15",
          "2023-09-17",
          "2023-09-19",
          "2023-09-21",
          "2023-09-23",
          "2023-09-25",
          "2023-09-27",
          "2023-09-29",
          "2023-10-01",
          "2023-10-03",
          "2023-10-05",
          "2023-10-07",
          "2023-10-09",
          "2023-10-11",
          "2023-10-13",
          "2023-10-15",
          "2023-10-17",
          "2023-10-19",
          "2023-10-21",
          "2023-10-23",
          "2023-10-25",
          "2023-10-27",
          "2023-10-29",
          "2023-11-01",
          "2023-11-03",
          "2023-11-05",
          "2023-11-07",
          "2023-11-09",
          "2023-11-11",
          "2023-11-13",
          "2023-11-15",
          "2023-11-17",
          "2023-11-19",
          "2023-11-21",
          "2023-11-23",
          "2023-11-25",
          "2023-11-27",
          "2023-11-29",
          "2023-12-01",
          "2023-12-03",
          "2023-12-05",
          "2023-12-07",
          "2023-12-09",
          "2023-12-11",
          "2023-12-13",
          "2023-12-15",
          "2023-12-17",
          "2023-12-19"
         ],
         "xaxis": "x",
         "y": [
          1.8040000000000005,
          2.1575,
          8.485,
          6.51,
          7.360000000000001,
          4.116,
          3.18,
          4.29,
          4.754,
          6.279999999999999,
          2.7220000000000004,
          2.6125000000000003,
          3.21,
          2.4566666666666666,
          1.876666666666667,
          1.393333333333333,
          2.3600000000000003,
          1.145,
          1.5625,
          0.9325,
          1.35,
          1.2719999999999998,
          1.58,
          1.8575,
          2.103333333333333,
          1.4659999999999995,
          2.6375,
          1.58,
          1.34,
          1.1333333333333333,
          0.675,
          4.8566666666666665,
          2.652,
          1.872,
          8.71,
          1.7499999999999998,
          5.6240000000000006,
          4.705,
          1.1525,
          1.126,
          2.1,
          1.4760000000000002,
          0.8099999999999999,
          0.5625,
          0.6000000000000001,
          0.825,
          2.095,
          3.85,
          5.63,
          4.3420000000000005,
          1.5074999999999998,
          2.225,
          1.286,
          1.4,
          2.44,
          1.3199999999999998,
          1.75,
          1.9550000000000003,
          3.75,
          5.010000000000001,
          2.4366666666666665,
          11.126,
          1.62,
          5.18,
          4.9325,
          7.819999999999999,
          3.6,
          2.4375,
          3.0625,
          3.5925,
          2.314,
          1.132,
          7.6975,
          2.275,
          1.8825,
          1.61,
          1.8566666666666665,
          1.225,
          1.7325,
          4.436,
          0.8266666666666668,
          2.86,
          0.94,
          2.225,
          2,
          2.435,
          1.315,
          3.633333333333333,
          8.075,
          2.155,
          1.865,
          4.05,
          3.6766666666666654,
          1.525,
          1.49,
          2.5325,
          2.735,
          3.33,
          6.023333333333333,
          2.023333333333333,
          3.2125,
          1.6700000000000002,
          5.242500000000001,
          8.0925,
          10.4625,
          2.875,
          4.8825,
          3.5933333333333333,
          19.425,
          12.825,
          7.843333333333334,
          6.536666666666666,
          14.316666666666668,
          16.53,
          7.873333333333334,
          4.285,
          14.3,
          13.616,
          7.522,
          20.15,
          14.915,
          21.450000000000003,
          13.394999999999998,
          3.375,
          3.294,
          2.2466666666666666,
          1.5166666666666666,
          3.1825,
          1.4775,
          1.52,
          3.245,
          4.565,
          1.4333333333333331,
          0.79,
          0.85,
          1.3500000000000003,
          8.395,
          8.3,
          15.483333333333333,
          11.365,
          8.33,
          10.573333333333332,
          2.873333333333333,
          2.6625,
          8.275,
          7.925000000000001,
          7.8,
          8.274999999999999,
          10.340000000000002,
          19.433333333333334,
          4.45,
          1.45,
          3.9133333333333327,
          9.5,
          0.7150000000000001,
          1.1233333333333333,
          6.365,
          18.0925,
          4.216666666666667,
          7.708000000000001,
          3.702,
          0.6,
          2.475,
          1.7375,
          2.8675,
          4.49,
          5.126,
          0.905,
          2.1075,
          1.3375,
          1.1075,
          2.14,
          3.475,
          6.2175,
          10.873333333333331,
          1.34,
          1.1166666666666665,
          2.928,
          7.225,
          6.246,
          3.7925,
          1.343333333333333,
          2.233333333333333,
          3.13,
          5.176,
          2.97,
          3.2999999999999994,
          1.76,
          2.2325,
          3.33,
          1.375,
          3.2775,
          1.8625,
          2.35,
          1.656666666666667,
          9.53,
          8.375,
          2.675,
          4.295,
          1.05,
          3.6166666666666663,
          3.7925,
          3.4,
          3.095,
          3.676,
          3.9075,
          2.594,
          3.455,
          4.743333333333333,
          5.48,
          4.5075,
          2.983333333333334,
          1.875,
          1.54,
          2.822,
          1.8,
          3.54,
          3.702,
          2.776,
          2.21,
          3.7575,
          1.8666666666666665,
          1.5733333333333333,
          2.8625000000000003,
          2.498,
          0.95,
          2.6075,
          0.975,
          2.13,
          1.4733333333333334,
          0.9125,
          0.725,
          1.335,
          1.375,
          1.4625,
          2.3425,
          2.545,
          2.0825,
          2.76,
          4.44,
          4.1875,
          3.0375,
          4.0233333333333325,
          1.2,
          4.325,
          0.8925000000000001,
          2.1933333333333334,
          1.1,
          3.286666666666666,
          4.805,
          4.407500000000001,
          2.36,
          2.78,
          2.066666666666667,
          1.0833333333333333,
          1.4575,
          8.075,
          1.175,
          2.85,
          3.38,
          2.9399999999999995,
          5.59,
          2.2125000000000004,
          0.975,
          2.6075,
          3.2150000000000003,
          2.14,
          1.105,
          3.01,
          6.6875,
          3.73,
          3.235,
          2.36,
          2.4625,
          1.25,
          1.51,
          0.885,
          0.7066666666666667,
          0.6,
          1.5499999999999998,
          1.3824999999999998,
          1.8325,
          1.4425,
          3.776666666666667,
          1.45,
          4.965,
          2.6,
          1.96,
          3.7,
          3.9175,
          6.050000000000001,
          8.649999999999999,
          7.2625,
          16.7,
          9.326666666666666,
          1.4333333333333331,
          3.4499999999999997,
          8.955,
          5.3275,
          1.65
         ],
         "yaxis": "y"
        }
       ],
       "layout": {
        "legend": {
         "title": {
          "text": "variable"
         },
         "tracegroupgap": 0
        },
        "template": {
         "data": {
          "bar": [
           {
            "error_x": {
             "color": "#2a3f5f"
            },
            "error_y": {
             "color": "#2a3f5f"
            },
            "marker": {
             "line": {
              "color": "#E5ECF6",
              "width": 0.5
             },
             "pattern": {
              "fillmode": "overlay",
              "size": 10,
              "solidity": 0.2
             }
            },
            "type": "bar"
           }
          ],
          "barpolar": [
           {
            "marker": {
             "line": {
              "color": "#E5ECF6",
              "width": 0.5
             },
             "pattern": {
              "fillmode": "overlay",
              "size": 10,
              "solidity": 0.2
             }
            },
            "type": "barpolar"
           }
          ],
          "carpet": [
           {
            "aaxis": {
             "endlinecolor": "#2a3f5f",
             "gridcolor": "white",
             "linecolor": "white",
             "minorgridcolor": "white",
             "startlinecolor": "#2a3f5f"
            },
            "baxis": {
             "endlinecolor": "#2a3f5f",
             "gridcolor": "white",
             "linecolor": "white",
             "minorgridcolor": "white",
             "startlinecolor": "#2a3f5f"
            },
            "type": "carpet"
           }
          ],
          "choropleth": [
           {
            "colorbar": {
             "outlinewidth": 0,
             "ticks": ""
            },
            "type": "choropleth"
           }
          ],
          "contour": [
           {
            "colorbar": {
             "outlinewidth": 0,
             "ticks": ""
            },
            "colorscale": [
             [
              0,
              "#0d0887"
             ],
             [
              0.1111111111111111,
              "#46039f"
             ],
             [
              0.2222222222222222,
              "#7201a8"
             ],
             [
              0.3333333333333333,
              "#9c179e"
             ],
             [
              0.4444444444444444,
              "#bd3786"
             ],
             [
              0.5555555555555556,
              "#d8576b"
             ],
             [
              0.6666666666666666,
              "#ed7953"
             ],
             [
              0.7777777777777778,
              "#fb9f3a"
             ],
             [
              0.8888888888888888,
              "#fdca26"
             ],
             [
              1,
              "#f0f921"
             ]
            ],
            "type": "contour"
           }
          ],
          "contourcarpet": [
           {
            "colorbar": {
             "outlinewidth": 0,
             "ticks": ""
            },
            "type": "contourcarpet"
           }
          ],
          "heatmap": [
           {
            "colorbar": {
             "outlinewidth": 0,
             "ticks": ""
            },
            "colorscale": [
             [
              0,
              "#0d0887"
             ],
             [
              0.1111111111111111,
              "#46039f"
             ],
             [
              0.2222222222222222,
              "#7201a8"
             ],
             [
              0.3333333333333333,
              "#9c179e"
             ],
             [
              0.4444444444444444,
              "#bd3786"
             ],
             [
              0.5555555555555556,
              "#d8576b"
             ],
             [
              0.6666666666666666,
              "#ed7953"
             ],
             [
              0.7777777777777778,
              "#fb9f3a"
             ],
             [
              0.8888888888888888,
              "#fdca26"
             ],
             [
              1,
              "#f0f921"
             ]
            ],
            "type": "heatmap"
           }
          ],
          "heatmapgl": [
           {
            "colorbar": {
             "outlinewidth": 0,
             "ticks": ""
            },
            "colorscale": [
             [
              0,
              "#0d0887"
             ],
             [
              0.1111111111111111,
              "#46039f"
             ],
             [
              0.2222222222222222,
              "#7201a8"
             ],
             [
              0.3333333333333333,
              "#9c179e"
             ],
             [
              0.4444444444444444,
              "#bd3786"
             ],
             [
              0.5555555555555556,
              "#d8576b"
             ],
             [
              0.6666666666666666,
              "#ed7953"
             ],
             [
              0.7777777777777778,
              "#fb9f3a"
             ],
             [
              0.8888888888888888,
              "#fdca26"
             ],
             [
              1,
              "#f0f921"
             ]
            ],
            "type": "heatmapgl"
           }
          ],
          "histogram": [
           {
            "marker": {
             "pattern": {
              "fillmode": "overlay",
              "size": 10,
              "solidity": 0.2
             }
            },
            "type": "histogram"
           }
          ],
          "histogram2d": [
           {
            "colorbar": {
             "outlinewidth": 0,
             "ticks": ""
            },
            "colorscale": [
             [
              0,
              "#0d0887"
             ],
             [
              0.1111111111111111,
              "#46039f"
             ],
             [
              0.2222222222222222,
              "#7201a8"
             ],
             [
              0.3333333333333333,
              "#9c179e"
             ],
             [
              0.4444444444444444,
              "#bd3786"
             ],
             [
              0.5555555555555556,
              "#d8576b"
             ],
             [
              0.6666666666666666,
              "#ed7953"
             ],
             [
              0.7777777777777778,
              "#fb9f3a"
             ],
             [
              0.8888888888888888,
              "#fdca26"
             ],
             [
              1,
              "#f0f921"
             ]
            ],
            "type": "histogram2d"
           }
          ],
          "histogram2dcontour": [
           {
            "colorbar": {
             "outlinewidth": 0,
             "ticks": ""
            },
            "colorscale": [
             [
              0,
              "#0d0887"
             ],
             [
              0.1111111111111111,
              "#46039f"
             ],
             [
              0.2222222222222222,
              "#7201a8"
             ],
             [
              0.3333333333333333,
              "#9c179e"
             ],
             [
              0.4444444444444444,
              "#bd3786"
             ],
             [
              0.5555555555555556,
              "#d8576b"
             ],
             [
              0.6666666666666666,
              "#ed7953"
             ],
             [
              0.7777777777777778,
              "#fb9f3a"
             ],
             [
              0.8888888888888888,
              "#fdca26"
             ],
             [
              1,
              "#f0f921"
             ]
            ],
            "type": "histogram2dcontour"
           }
          ],
          "mesh3d": [
           {
            "colorbar": {
             "outlinewidth": 0,
             "ticks": ""
            },
            "type": "mesh3d"
           }
          ],
          "parcoords": [
           {
            "line": {
             "colorbar": {
              "outlinewidth": 0,
              "ticks": ""
             }
            },
            "type": "parcoords"
           }
          ],
          "pie": [
           {
            "automargin": true,
            "type": "pie"
           }
          ],
          "scatter": [
           {
            "fillpattern": {
             "fillmode": "overlay",
             "size": 10,
             "solidity": 0.2
            },
            "type": "scatter"
           }
          ],
          "scatter3d": [
           {
            "line": {
             "colorbar": {
              "outlinewidth": 0,
              "ticks": ""
             }
            },
            "marker": {
             "colorbar": {
              "outlinewidth": 0,
              "ticks": ""
             }
            },
            "type": "scatter3d"
           }
          ],
          "scattercarpet": [
           {
            "marker": {
             "colorbar": {
              "outlinewidth": 0,
              "ticks": ""
             }
            },
            "type": "scattercarpet"
           }
          ],
          "scattergeo": [
           {
            "marker": {
             "colorbar": {
              "outlinewidth": 0,
              "ticks": ""
             }
            },
            "type": "scattergeo"
           }
          ],
          "scattergl": [
           {
            "marker": {
             "colorbar": {
              "outlinewidth": 0,
              "ticks": ""
             }
            },
            "type": "scattergl"
           }
          ],
          "scattermapbox": [
           {
            "marker": {
             "colorbar": {
              "outlinewidth": 0,
              "ticks": ""
             }
            },
            "type": "scattermapbox"
           }
          ],
          "scatterpolar": [
           {
            "marker": {
             "colorbar": {
              "outlinewidth": 0,
              "ticks": ""
             }
            },
            "type": "scatterpolar"
           }
          ],
          "scatterpolargl": [
           {
            "marker": {
             "colorbar": {
              "outlinewidth": 0,
              "ticks": ""
             }
            },
            "type": "scatterpolargl"
           }
          ],
          "scatterternary": [
           {
            "marker": {
             "colorbar": {
              "outlinewidth": 0,
              "ticks": ""
             }
            },
            "type": "scatterternary"
           }
          ],
          "surface": [
           {
            "colorbar": {
             "outlinewidth": 0,
             "ticks": ""
            },
            "colorscale": [
             [
              0,
              "#0d0887"
             ],
             [
              0.1111111111111111,
              "#46039f"
             ],
             [
              0.2222222222222222,
              "#7201a8"
             ],
             [
              0.3333333333333333,
              "#9c179e"
             ],
             [
              0.4444444444444444,
              "#bd3786"
             ],
             [
              0.5555555555555556,
              "#d8576b"
             ],
             [
              0.6666666666666666,
              "#ed7953"
             ],
             [
              0.7777777777777778,
              "#fb9f3a"
             ],
             [
              0.8888888888888888,
              "#fdca26"
             ],
             [
              1,
              "#f0f921"
             ]
            ],
            "type": "surface"
           }
          ],
          "table": [
           {
            "cells": {
             "fill": {
              "color": "#EBF0F8"
             },
             "line": {
              "color": "white"
             }
            },
            "header": {
             "fill": {
              "color": "#C8D4E3"
             },
             "line": {
              "color": "white"
             }
            },
            "type": "table"
           }
          ]
         },
         "layout": {
          "annotationdefaults": {
           "arrowcolor": "#2a3f5f",
           "arrowhead": 0,
           "arrowwidth": 1
          },
          "autotypenumbers": "strict",
          "coloraxis": {
           "colorbar": {
            "outlinewidth": 0,
            "ticks": ""
           }
          },
          "colorscale": {
           "diverging": [
            [
             0,
             "#8e0152"
            ],
            [
             0.1,
             "#c51b7d"
            ],
            [
             0.2,
             "#de77ae"
            ],
            [
             0.3,
             "#f1b6da"
            ],
            [
             0.4,
             "#fde0ef"
            ],
            [
             0.5,
             "#f7f7f7"
            ],
            [
             0.6,
             "#e6f5d0"
            ],
            [
             0.7,
             "#b8e186"
            ],
            [
             0.8,
             "#7fbc41"
            ],
            [
             0.9,
             "#4d9221"
            ],
            [
             1,
             "#276419"
            ]
           ],
           "sequential": [
            [
             0,
             "#0d0887"
            ],
            [
             0.1111111111111111,
             "#46039f"
            ],
            [
             0.2222222222222222,
             "#7201a8"
            ],
            [
             0.3333333333333333,
             "#9c179e"
            ],
            [
             0.4444444444444444,
             "#bd3786"
            ],
            [
             0.5555555555555556,
             "#d8576b"
            ],
            [
             0.6666666666666666,
             "#ed7953"
            ],
            [
             0.7777777777777778,
             "#fb9f3a"
            ],
            [
             0.8888888888888888,
             "#fdca26"
            ],
            [
             1,
             "#f0f921"
            ]
           ],
           "sequentialminus": [
            [
             0,
             "#0d0887"
            ],
            [
             0.1111111111111111,
             "#46039f"
            ],
            [
             0.2222222222222222,
             "#7201a8"
            ],
            [
             0.3333333333333333,
             "#9c179e"
            ],
            [
             0.4444444444444444,
             "#bd3786"
            ],
            [
             0.5555555555555556,
             "#d8576b"
            ],
            [
             0.6666666666666666,
             "#ed7953"
            ],
            [
             0.7777777777777778,
             "#fb9f3a"
            ],
            [
             0.8888888888888888,
             "#fdca26"
            ],
            [
             1,
             "#f0f921"
            ]
           ]
          },
          "colorway": [
           "#636efa",
           "#EF553B",
           "#00cc96",
           "#ab63fa",
           "#FFA15A",
           "#19d3f3",
           "#FF6692",
           "#B6E880",
           "#FF97FF",
           "#FECB52"
          ],
          "font": {
           "color": "#2a3f5f"
          },
          "geo": {
           "bgcolor": "white",
           "lakecolor": "white",
           "landcolor": "#E5ECF6",
           "showlakes": true,
           "showland": true,
           "subunitcolor": "white"
          },
          "hoverlabel": {
           "align": "left"
          },
          "hovermode": "closest",
          "mapbox": {
           "style": "light"
          },
          "paper_bgcolor": "white",
          "plot_bgcolor": "#E5ECF6",
          "polar": {
           "angularaxis": {
            "gridcolor": "white",
            "linecolor": "white",
            "ticks": ""
           },
           "bgcolor": "#E5ECF6",
           "radialaxis": {
            "gridcolor": "white",
            "linecolor": "white",
            "ticks": ""
           }
          },
          "scene": {
           "xaxis": {
            "backgroundcolor": "#E5ECF6",
            "gridcolor": "white",
            "gridwidth": 2,
            "linecolor": "white",
            "showbackground": true,
            "ticks": "",
            "zerolinecolor": "white"
           },
           "yaxis": {
            "backgroundcolor": "#E5ECF6",
            "gridcolor": "white",
            "gridwidth": 2,
            "linecolor": "white",
            "showbackground": true,
            "ticks": "",
            "zerolinecolor": "white"
           },
           "zaxis": {
            "backgroundcolor": "#E5ECF6",
            "gridcolor": "white",
            "gridwidth": 2,
            "linecolor": "white",
            "showbackground": true,
            "ticks": "",
            "zerolinecolor": "white"
           }
          },
          "shapedefaults": {
           "line": {
            "color": "#2a3f5f"
           }
          },
          "ternary": {
           "aaxis": {
            "gridcolor": "white",
            "linecolor": "white",
            "ticks": ""
           },
           "baxis": {
            "gridcolor": "white",
            "linecolor": "white",
            "ticks": ""
           },
           "bgcolor": "#E5ECF6",
           "caxis": {
            "gridcolor": "white",
            "linecolor": "white",
            "ticks": ""
           }
          },
          "title": {
           "x": 0.05
          },
          "xaxis": {
           "automargin": true,
           "gridcolor": "white",
           "linecolor": "white",
           "ticks": "",
           "title": {
            "standoff": 15
           },
           "zerolinecolor": "white",
           "zerolinewidth": 2
          },
          "yaxis": {
           "automargin": true,
           "gridcolor": "white",
           "linecolor": "white",
           "ticks": "",
           "title": {
            "standoff": 15
           },
           "zerolinecolor": "white",
           "zerolinewidth": 2
          }
         }
        },
        "title": {
         "text": "Val Predictions vs Actuals"
        },
        "xaxis": {
         "anchor": "y",
         "domain": [
          0,
          1
         ],
         "title": {
          "text": "datum"
         }
        },
        "yaxis": {
         "anchor": "x",
         "domain": [
          0,
          1
         ],
         "title": {
          "text": "value"
         }
        }
       }
      }
     },
     "metadata": {},
     "output_type": "display_data"
    }
   ],
   "source": [
    "# Plotly Express zur Visualisierung verwenden\n",
    "fig = px.line(val_results, x=val_results.index, y=['Val Predictions', 'Actuals'], title='Val Predictions vs Actuals')\n",
    "fig.show()"
   ]
  },
  {
   "cell_type": "code",
   "execution_count": 16,
   "metadata": {},
   "outputs": [
    {
     "name": "stdout",
     "output_type": "stream",
     "text": [
      "\u001b[1m3/3\u001b[0m \u001b[32m━━━━━━━━━━━━━━━━━━━━\u001b[0m\u001b[37m\u001b[0m \u001b[1m0s\u001b[0m 1ms/step \n"
     ]
    },
    {
     "data": {
      "text/html": [
       "<div>\n",
       "<style scoped>\n",
       "    .dataframe tbody tr th:only-of-type {\n",
       "        vertical-align: middle;\n",
       "    }\n",
       "\n",
       "    .dataframe tbody tr th {\n",
       "        vertical-align: top;\n",
       "    }\n",
       "\n",
       "    .dataframe thead th {\n",
       "        text-align: right;\n",
       "    }\n",
       "</style>\n",
       "<table border=\"1\" class=\"dataframe\">\n",
       "  <thead>\n",
       "    <tr style=\"text-align: right;\">\n",
       "      <th></th>\n",
       "      <th>Test Predictions</th>\n",
       "      <th>Actuals</th>\n",
       "    </tr>\n",
       "    <tr>\n",
       "      <th>datum</th>\n",
       "      <th></th>\n",
       "      <th></th>\n",
       "    </tr>\n",
       "  </thead>\n",
       "  <tbody>\n",
       "    <tr>\n",
       "      <th>2023-12-21</th>\n",
       "      <td>2.783000</td>\n",
       "      <td>0.5750</td>\n",
       "    </tr>\n",
       "    <tr>\n",
       "      <th>2023-12-23</th>\n",
       "      <td>2.510494</td>\n",
       "      <td>1.0000</td>\n",
       "    </tr>\n",
       "    <tr>\n",
       "      <th>2023-12-25</th>\n",
       "      <td>2.779042</td>\n",
       "      <td>1.2925</td>\n",
       "    </tr>\n",
       "    <tr>\n",
       "      <th>2023-12-27</th>\n",
       "      <td>2.318035</td>\n",
       "      <td>2.5000</td>\n",
       "    </tr>\n",
       "    <tr>\n",
       "      <th>2023-12-29</th>\n",
       "      <td>2.751903</td>\n",
       "      <td>1.7875</td>\n",
       "    </tr>\n",
       "    <tr>\n",
       "      <th>...</th>\n",
       "      <td>...</td>\n",
       "      <td>...</td>\n",
       "    </tr>\n",
       "    <tr>\n",
       "      <th>2024-05-21</th>\n",
       "      <td>2.167176</td>\n",
       "      <td>1.7150</td>\n",
       "    </tr>\n",
       "    <tr>\n",
       "      <th>2024-05-23</th>\n",
       "      <td>2.314510</td>\n",
       "      <td>1.9000</td>\n",
       "    </tr>\n",
       "    <tr>\n",
       "      <th>2024-05-25</th>\n",
       "      <td>2.317093</td>\n",
       "      <td>1.4700</td>\n",
       "    </tr>\n",
       "    <tr>\n",
       "      <th>2024-05-27</th>\n",
       "      <td>2.235245</td>\n",
       "      <td>1.9625</td>\n",
       "    </tr>\n",
       "    <tr>\n",
       "      <th>2024-05-29</th>\n",
       "      <td>2.331344</td>\n",
       "      <td>1.5875</td>\n",
       "    </tr>\n",
       "  </tbody>\n",
       "</table>\n",
       "<p>69 rows × 2 columns</p>\n",
       "</div>"
      ],
      "text/plain": [
       "            Test Predictions  Actuals\n",
       "datum                                \n",
       "2023-12-21          2.783000   0.5750\n",
       "2023-12-23          2.510494   1.0000\n",
       "2023-12-25          2.779042   1.2925\n",
       "2023-12-27          2.318035   2.5000\n",
       "2023-12-29          2.751903   1.7875\n",
       "...                      ...      ...\n",
       "2024-05-21          2.167176   1.7150\n",
       "2024-05-23          2.314510   1.9000\n",
       "2024-05-25          2.317093   1.4700\n",
       "2024-05-27          2.235245   1.9625\n",
       "2024-05-29          2.331344   1.5875\n",
       "\n",
       "[69 rows x 2 columns]"
      ]
     },
     "execution_count": 16,
     "metadata": {},
     "output_type": "execute_result"
    }
   ],
   "source": [
    "# es werden die Testdaten vorhergesagt und mit den tatsächlichen Werten in ein df geschrieben\n",
    "test_predictions = model1.predict(X_test).flatten()\n",
    "test_results = pd.DataFrame(data={'Test Predictions':test_predictions, 'Actuals':y_test}, index=test_index)\n",
    "test_results"
   ]
  },
  {
   "cell_type": "code",
   "execution_count": 17,
   "metadata": {},
   "outputs": [
    {
     "data": {
      "application/vnd.plotly.v1+json": {
       "config": {
        "plotlyServerURL": "https://plot.ly"
       },
       "data": [
        {
         "hovertemplate": "variable=Test Predictions<br>datum=%{x}<br>value=%{y}<extra></extra>",
         "legendgroup": "Test Predictions",
         "line": {
          "color": "#636efa",
          "dash": "solid"
         },
         "marker": {
          "symbol": "circle"
         },
         "mode": "lines",
         "name": "Test Predictions",
         "orientation": "v",
         "showlegend": true,
         "type": "scatter",
         "x": [
          "2023-12-21",
          "2023-12-23",
          "2023-12-25",
          "2023-12-27",
          "2023-12-29",
          "2024-01-01",
          "2024-01-03",
          "2024-01-05",
          "2024-01-07",
          "2024-01-09",
          "2024-01-11",
          "2024-01-13",
          "2024-01-15",
          "2024-01-17",
          "2024-01-19",
          "2024-01-21",
          "2024-01-23",
          "2024-01-25",
          "2024-01-27",
          "2024-01-29",
          "2024-02-01",
          "2024-02-03",
          "2024-02-05",
          "2024-02-07",
          "2024-02-09",
          "2024-02-11",
          "2024-02-13",
          "2024-02-15",
          "2024-02-17",
          "2024-02-19",
          "2024-02-21",
          "2024-02-23",
          "2024-02-25",
          "2024-02-27",
          "2024-02-29",
          "2024-03-01",
          "2024-03-03",
          "2024-03-05",
          "2024-03-07",
          "2024-03-09",
          "2024-03-11",
          "2024-03-13",
          "2024-03-15",
          "2024-04-09",
          "2024-04-11",
          "2024-04-13",
          "2024-04-15",
          "2024-04-17",
          "2024-04-19",
          "2024-04-21",
          "2024-04-23",
          "2024-04-25",
          "2024-04-27",
          "2024-04-29",
          "2024-05-01",
          "2024-05-03",
          "2024-05-05",
          "2024-05-07",
          "2024-05-09",
          "2024-05-11",
          "2024-05-13",
          "2024-05-15",
          "2024-05-17",
          "2024-05-19",
          "2024-05-21",
          "2024-05-23",
          "2024-05-25",
          "2024-05-27",
          "2024-05-29"
         ],
         "xaxis": "x",
         "y": [
          2.7829997539520264,
          2.5104939937591553,
          2.7790420055389404,
          2.3180348873138428,
          2.7519032955169678,
          2.580524206161499,
          2.4661548137664795,
          2.069967746734619,
          2.7713348865509033,
          3.0375373363494873,
          6.02054500579834,
          9.458891868591309,
          8.825465202331543,
          7.587071895599365,
          9.147431373596191,
          6.345839500427246,
          6.117364883422852,
          3.4837071895599365,
          3.6293842792510986,
          2.9822189807891846,
          3.2420473098754883,
          2.6028881072998047,
          2.143306255340576,
          2.1150999069213867,
          3.4685752391815186,
          2.357696294784546,
          4.493439197540283,
          2.4754252433776855,
          3.396700620651245,
          3.2289392948150635,
          2.3407609462738037,
          2.7849526405334473,
          1.9359008073806763,
          1.999352216720581,
          4.599652290344238,
          6.979387283325195,
          10.568944931030273,
          10.78662109375,
          5.431119441986084,
          11.449328422546387,
          8.994047164916992,
          7.356636047363281,
          7.639527797698975,
          5.92656135559082,
          2.5732195377349854,
          2.343970775604248,
          2.200057029724121,
          2.581657648086548,
          2.7305915355682373,
          2.801164388656616,
          2.1141138076782227,
          2.8049328327178955,
          2.045825958251953,
          1.8413457870483398,
          2.3230504989624023,
          2.661198616027832,
          2.172628879547119,
          1.9274924993515015,
          2.050534963607788,
          2.8292043209075928,
          2.7975046634674072,
          2.2588651180267334,
          2.8194549083709717,
          2.0381295680999756,
          2.1671762466430664,
          2.3145101070404053,
          2.3170926570892334,
          2.2352449893951416,
          2.3313443660736084
         ],
         "yaxis": "y"
        },
        {
         "hovertemplate": "variable=Actuals<br>datum=%{x}<br>value=%{y}<extra></extra>",
         "legendgroup": "Actuals",
         "line": {
          "color": "#EF553B",
          "dash": "solid"
         },
         "marker": {
          "symbol": "circle"
         },
         "mode": "lines",
         "name": "Actuals",
         "orientation": "v",
         "showlegend": true,
         "type": "scatter",
         "x": [
          "2023-12-21",
          "2023-12-23",
          "2023-12-25",
          "2023-12-27",
          "2023-12-29",
          "2024-01-01",
          "2024-01-03",
          "2024-01-05",
          "2024-01-07",
          "2024-01-09",
          "2024-01-11",
          "2024-01-13",
          "2024-01-15",
          "2024-01-17",
          "2024-01-19",
          "2024-01-21",
          "2024-01-23",
          "2024-01-25",
          "2024-01-27",
          "2024-01-29",
          "2024-02-01",
          "2024-02-03",
          "2024-02-05",
          "2024-02-07",
          "2024-02-09",
          "2024-02-11",
          "2024-02-13",
          "2024-02-15",
          "2024-02-17",
          "2024-02-19",
          "2024-02-21",
          "2024-02-23",
          "2024-02-25",
          "2024-02-27",
          "2024-02-29",
          "2024-03-01",
          "2024-03-03",
          "2024-03-05",
          "2024-03-07",
          "2024-03-09",
          "2024-03-11",
          "2024-03-13",
          "2024-03-15",
          "2024-04-09",
          "2024-04-11",
          "2024-04-13",
          "2024-04-15",
          "2024-04-17",
          "2024-04-19",
          "2024-04-21",
          "2024-04-23",
          "2024-04-25",
          "2024-04-27",
          "2024-04-29",
          "2024-05-01",
          "2024-05-03",
          "2024-05-05",
          "2024-05-07",
          "2024-05-09",
          "2024-05-11",
          "2024-05-13",
          "2024-05-15",
          "2024-05-17",
          "2024-05-19",
          "2024-05-21",
          "2024-05-23",
          "2024-05-25",
          "2024-05-27",
          "2024-05-29"
         ],
         "xaxis": "x",
         "y": [
          0.575,
          1,
          1.2925,
          2.5,
          1.7875,
          2.033333333333333,
          1.1949999999999998,
          3.75,
          3.985,
          17.786,
          20.994,
          8.76,
          5.008,
          7.959999999999999,
          5.956666666666667,
          6.875,
          2.7,
          2.56,
          2.3266666666666667,
          4.890000000000001,
          3.22,
          1.61,
          1.4250000000000005,
          6.263333333333333,
          1.7433333333333334,
          8.1175,
          1.4674999999999998,
          3.1500000000000004,
          2.53,
          1.225,
          3.71,
          0.87,
          1.0825,
          9.165,
          15.583333333333334,
          24.050000000000004,
          14.11,
          3.723333333333333,
          14.963333333333331,
          9.225,
          5.875,
          5.75,
          4.475,
          0.9,
          1.2200000000000002,
          0.8,
          2.245,
          2.2666666666666666,
          2.783333333333333,
          1.15,
          4.1075,
          1.1,
          0.5833333333333334,
          1.5599999999999998,
          2.41,
          0.975,
          0.625,
          1.1075000000000002,
          2.9425,
          2.2125,
          1.2625,
          3.5333333333333337,
          1.1625,
          1.5699999999999998,
          1.715,
          1.9,
          1.47,
          1.9625,
          1.5875
         ],
         "yaxis": "y"
        }
       ],
       "layout": {
        "legend": {
         "title": {
          "text": "variable"
         },
         "tracegroupgap": 0
        },
        "template": {
         "data": {
          "bar": [
           {
            "error_x": {
             "color": "#2a3f5f"
            },
            "error_y": {
             "color": "#2a3f5f"
            },
            "marker": {
             "line": {
              "color": "#E5ECF6",
              "width": 0.5
             },
             "pattern": {
              "fillmode": "overlay",
              "size": 10,
              "solidity": 0.2
             }
            },
            "type": "bar"
           }
          ],
          "barpolar": [
           {
            "marker": {
             "line": {
              "color": "#E5ECF6",
              "width": 0.5
             },
             "pattern": {
              "fillmode": "overlay",
              "size": 10,
              "solidity": 0.2
             }
            },
            "type": "barpolar"
           }
          ],
          "carpet": [
           {
            "aaxis": {
             "endlinecolor": "#2a3f5f",
             "gridcolor": "white",
             "linecolor": "white",
             "minorgridcolor": "white",
             "startlinecolor": "#2a3f5f"
            },
            "baxis": {
             "endlinecolor": "#2a3f5f",
             "gridcolor": "white",
             "linecolor": "white",
             "minorgridcolor": "white",
             "startlinecolor": "#2a3f5f"
            },
            "type": "carpet"
           }
          ],
          "choropleth": [
           {
            "colorbar": {
             "outlinewidth": 0,
             "ticks": ""
            },
            "type": "choropleth"
           }
          ],
          "contour": [
           {
            "colorbar": {
             "outlinewidth": 0,
             "ticks": ""
            },
            "colorscale": [
             [
              0,
              "#0d0887"
             ],
             [
              0.1111111111111111,
              "#46039f"
             ],
             [
              0.2222222222222222,
              "#7201a8"
             ],
             [
              0.3333333333333333,
              "#9c179e"
             ],
             [
              0.4444444444444444,
              "#bd3786"
             ],
             [
              0.5555555555555556,
              "#d8576b"
             ],
             [
              0.6666666666666666,
              "#ed7953"
             ],
             [
              0.7777777777777778,
              "#fb9f3a"
             ],
             [
              0.8888888888888888,
              "#fdca26"
             ],
             [
              1,
              "#f0f921"
             ]
            ],
            "type": "contour"
           }
          ],
          "contourcarpet": [
           {
            "colorbar": {
             "outlinewidth": 0,
             "ticks": ""
            },
            "type": "contourcarpet"
           }
          ],
          "heatmap": [
           {
            "colorbar": {
             "outlinewidth": 0,
             "ticks": ""
            },
            "colorscale": [
             [
              0,
              "#0d0887"
             ],
             [
              0.1111111111111111,
              "#46039f"
             ],
             [
              0.2222222222222222,
              "#7201a8"
             ],
             [
              0.3333333333333333,
              "#9c179e"
             ],
             [
              0.4444444444444444,
              "#bd3786"
             ],
             [
              0.5555555555555556,
              "#d8576b"
             ],
             [
              0.6666666666666666,
              "#ed7953"
             ],
             [
              0.7777777777777778,
              "#fb9f3a"
             ],
             [
              0.8888888888888888,
              "#fdca26"
             ],
             [
              1,
              "#f0f921"
             ]
            ],
            "type": "heatmap"
           }
          ],
          "heatmapgl": [
           {
            "colorbar": {
             "outlinewidth": 0,
             "ticks": ""
            },
            "colorscale": [
             [
              0,
              "#0d0887"
             ],
             [
              0.1111111111111111,
              "#46039f"
             ],
             [
              0.2222222222222222,
              "#7201a8"
             ],
             [
              0.3333333333333333,
              "#9c179e"
             ],
             [
              0.4444444444444444,
              "#bd3786"
             ],
             [
              0.5555555555555556,
              "#d8576b"
             ],
             [
              0.6666666666666666,
              "#ed7953"
             ],
             [
              0.7777777777777778,
              "#fb9f3a"
             ],
             [
              0.8888888888888888,
              "#fdca26"
             ],
             [
              1,
              "#f0f921"
             ]
            ],
            "type": "heatmapgl"
           }
          ],
          "histogram": [
           {
            "marker": {
             "pattern": {
              "fillmode": "overlay",
              "size": 10,
              "solidity": 0.2
             }
            },
            "type": "histogram"
           }
          ],
          "histogram2d": [
           {
            "colorbar": {
             "outlinewidth": 0,
             "ticks": ""
            },
            "colorscale": [
             [
              0,
              "#0d0887"
             ],
             [
              0.1111111111111111,
              "#46039f"
             ],
             [
              0.2222222222222222,
              "#7201a8"
             ],
             [
              0.3333333333333333,
              "#9c179e"
             ],
             [
              0.4444444444444444,
              "#bd3786"
             ],
             [
              0.5555555555555556,
              "#d8576b"
             ],
             [
              0.6666666666666666,
              "#ed7953"
             ],
             [
              0.7777777777777778,
              "#fb9f3a"
             ],
             [
              0.8888888888888888,
              "#fdca26"
             ],
             [
              1,
              "#f0f921"
             ]
            ],
            "type": "histogram2d"
           }
          ],
          "histogram2dcontour": [
           {
            "colorbar": {
             "outlinewidth": 0,
             "ticks": ""
            },
            "colorscale": [
             [
              0,
              "#0d0887"
             ],
             [
              0.1111111111111111,
              "#46039f"
             ],
             [
              0.2222222222222222,
              "#7201a8"
             ],
             [
              0.3333333333333333,
              "#9c179e"
             ],
             [
              0.4444444444444444,
              "#bd3786"
             ],
             [
              0.5555555555555556,
              "#d8576b"
             ],
             [
              0.6666666666666666,
              "#ed7953"
             ],
             [
              0.7777777777777778,
              "#fb9f3a"
             ],
             [
              0.8888888888888888,
              "#fdca26"
             ],
             [
              1,
              "#f0f921"
             ]
            ],
            "type": "histogram2dcontour"
           }
          ],
          "mesh3d": [
           {
            "colorbar": {
             "outlinewidth": 0,
             "ticks": ""
            },
            "type": "mesh3d"
           }
          ],
          "parcoords": [
           {
            "line": {
             "colorbar": {
              "outlinewidth": 0,
              "ticks": ""
             }
            },
            "type": "parcoords"
           }
          ],
          "pie": [
           {
            "automargin": true,
            "type": "pie"
           }
          ],
          "scatter": [
           {
            "fillpattern": {
             "fillmode": "overlay",
             "size": 10,
             "solidity": 0.2
            },
            "type": "scatter"
           }
          ],
          "scatter3d": [
           {
            "line": {
             "colorbar": {
              "outlinewidth": 0,
              "ticks": ""
             }
            },
            "marker": {
             "colorbar": {
              "outlinewidth": 0,
              "ticks": ""
             }
            },
            "type": "scatter3d"
           }
          ],
          "scattercarpet": [
           {
            "marker": {
             "colorbar": {
              "outlinewidth": 0,
              "ticks": ""
             }
            },
            "type": "scattercarpet"
           }
          ],
          "scattergeo": [
           {
            "marker": {
             "colorbar": {
              "outlinewidth": 0,
              "ticks": ""
             }
            },
            "type": "scattergeo"
           }
          ],
          "scattergl": [
           {
            "marker": {
             "colorbar": {
              "outlinewidth": 0,
              "ticks": ""
             }
            },
            "type": "scattergl"
           }
          ],
          "scattermapbox": [
           {
            "marker": {
             "colorbar": {
              "outlinewidth": 0,
              "ticks": ""
             }
            },
            "type": "scattermapbox"
           }
          ],
          "scatterpolar": [
           {
            "marker": {
             "colorbar": {
              "outlinewidth": 0,
              "ticks": ""
             }
            },
            "type": "scatterpolar"
           }
          ],
          "scatterpolargl": [
           {
            "marker": {
             "colorbar": {
              "outlinewidth": 0,
              "ticks": ""
             }
            },
            "type": "scatterpolargl"
           }
          ],
          "scatterternary": [
           {
            "marker": {
             "colorbar": {
              "outlinewidth": 0,
              "ticks": ""
             }
            },
            "type": "scatterternary"
           }
          ],
          "surface": [
           {
            "colorbar": {
             "outlinewidth": 0,
             "ticks": ""
            },
            "colorscale": [
             [
              0,
              "#0d0887"
             ],
             [
              0.1111111111111111,
              "#46039f"
             ],
             [
              0.2222222222222222,
              "#7201a8"
             ],
             [
              0.3333333333333333,
              "#9c179e"
             ],
             [
              0.4444444444444444,
              "#bd3786"
             ],
             [
              0.5555555555555556,
              "#d8576b"
             ],
             [
              0.6666666666666666,
              "#ed7953"
             ],
             [
              0.7777777777777778,
              "#fb9f3a"
             ],
             [
              0.8888888888888888,
              "#fdca26"
             ],
             [
              1,
              "#f0f921"
             ]
            ],
            "type": "surface"
           }
          ],
          "table": [
           {
            "cells": {
             "fill": {
              "color": "#EBF0F8"
             },
             "line": {
              "color": "white"
             }
            },
            "header": {
             "fill": {
              "color": "#C8D4E3"
             },
             "line": {
              "color": "white"
             }
            },
            "type": "table"
           }
          ]
         },
         "layout": {
          "annotationdefaults": {
           "arrowcolor": "#2a3f5f",
           "arrowhead": 0,
           "arrowwidth": 1
          },
          "autotypenumbers": "strict",
          "coloraxis": {
           "colorbar": {
            "outlinewidth": 0,
            "ticks": ""
           }
          },
          "colorscale": {
           "diverging": [
            [
             0,
             "#8e0152"
            ],
            [
             0.1,
             "#c51b7d"
            ],
            [
             0.2,
             "#de77ae"
            ],
            [
             0.3,
             "#f1b6da"
            ],
            [
             0.4,
             "#fde0ef"
            ],
            [
             0.5,
             "#f7f7f7"
            ],
            [
             0.6,
             "#e6f5d0"
            ],
            [
             0.7,
             "#b8e186"
            ],
            [
             0.8,
             "#7fbc41"
            ],
            [
             0.9,
             "#4d9221"
            ],
            [
             1,
             "#276419"
            ]
           ],
           "sequential": [
            [
             0,
             "#0d0887"
            ],
            [
             0.1111111111111111,
             "#46039f"
            ],
            [
             0.2222222222222222,
             "#7201a8"
            ],
            [
             0.3333333333333333,
             "#9c179e"
            ],
            [
             0.4444444444444444,
             "#bd3786"
            ],
            [
             0.5555555555555556,
             "#d8576b"
            ],
            [
             0.6666666666666666,
             "#ed7953"
            ],
            [
             0.7777777777777778,
             "#fb9f3a"
            ],
            [
             0.8888888888888888,
             "#fdca26"
            ],
            [
             1,
             "#f0f921"
            ]
           ],
           "sequentialminus": [
            [
             0,
             "#0d0887"
            ],
            [
             0.1111111111111111,
             "#46039f"
            ],
            [
             0.2222222222222222,
             "#7201a8"
            ],
            [
             0.3333333333333333,
             "#9c179e"
            ],
            [
             0.4444444444444444,
             "#bd3786"
            ],
            [
             0.5555555555555556,
             "#d8576b"
            ],
            [
             0.6666666666666666,
             "#ed7953"
            ],
            [
             0.7777777777777778,
             "#fb9f3a"
            ],
            [
             0.8888888888888888,
             "#fdca26"
            ],
            [
             1,
             "#f0f921"
            ]
           ]
          },
          "colorway": [
           "#636efa",
           "#EF553B",
           "#00cc96",
           "#ab63fa",
           "#FFA15A",
           "#19d3f3",
           "#FF6692",
           "#B6E880",
           "#FF97FF",
           "#FECB52"
          ],
          "font": {
           "color": "#2a3f5f"
          },
          "geo": {
           "bgcolor": "white",
           "lakecolor": "white",
           "landcolor": "#E5ECF6",
           "showlakes": true,
           "showland": true,
           "subunitcolor": "white"
          },
          "hoverlabel": {
           "align": "left"
          },
          "hovermode": "closest",
          "mapbox": {
           "style": "light"
          },
          "paper_bgcolor": "white",
          "plot_bgcolor": "#E5ECF6",
          "polar": {
           "angularaxis": {
            "gridcolor": "white",
            "linecolor": "white",
            "ticks": ""
           },
           "bgcolor": "#E5ECF6",
           "radialaxis": {
            "gridcolor": "white",
            "linecolor": "white",
            "ticks": ""
           }
          },
          "scene": {
           "xaxis": {
            "backgroundcolor": "#E5ECF6",
            "gridcolor": "white",
            "gridwidth": 2,
            "linecolor": "white",
            "showbackground": true,
            "ticks": "",
            "zerolinecolor": "white"
           },
           "yaxis": {
            "backgroundcolor": "#E5ECF6",
            "gridcolor": "white",
            "gridwidth": 2,
            "linecolor": "white",
            "showbackground": true,
            "ticks": "",
            "zerolinecolor": "white"
           },
           "zaxis": {
            "backgroundcolor": "#E5ECF6",
            "gridcolor": "white",
            "gridwidth": 2,
            "linecolor": "white",
            "showbackground": true,
            "ticks": "",
            "zerolinecolor": "white"
           }
          },
          "shapedefaults": {
           "line": {
            "color": "#2a3f5f"
           }
          },
          "ternary": {
           "aaxis": {
            "gridcolor": "white",
            "linecolor": "white",
            "ticks": ""
           },
           "baxis": {
            "gridcolor": "white",
            "linecolor": "white",
            "ticks": ""
           },
           "bgcolor": "#E5ECF6",
           "caxis": {
            "gridcolor": "white",
            "linecolor": "white",
            "ticks": ""
           }
          },
          "title": {
           "x": 0.05
          },
          "xaxis": {
           "automargin": true,
           "gridcolor": "white",
           "linecolor": "white",
           "ticks": "",
           "title": {
            "standoff": 15
           },
           "zerolinecolor": "white",
           "zerolinewidth": 2
          },
          "yaxis": {
           "automargin": true,
           "gridcolor": "white",
           "linecolor": "white",
           "ticks": "",
           "title": {
            "standoff": 15
           },
           "zerolinecolor": "white",
           "zerolinewidth": 2
          }
         }
        },
        "title": {
         "text": "Test Predictions vs Actuals"
        },
        "xaxis": {
         "anchor": "y",
         "domain": [
          0,
          1
         ],
         "title": {
          "text": "datum"
         }
        },
        "yaxis": {
         "anchor": "x",
         "domain": [
          0,
          1
         ],
         "title": {
          "text": "value"
         }
        }
       }
      }
     },
     "metadata": {},
     "output_type": "display_data"
    }
   ],
   "source": [
    "# Plotly Express zur Visualisierung verwenden\n",
    "fig = px.line(test_results, x=test_results.index, y=['Test Predictions', 'Actuals'], title='Test Predictions vs Actuals')\n",
    "fig.show()"
   ]
  },
  {
   "cell_type": "markdown",
   "metadata": {},
   "source": [
    "nun werden Zukunfsvorhersagen gemacht und visuell dargestellt"
   ]
  },
  {
   "cell_type": "code",
   "execution_count": 18,
   "metadata": {},
   "outputs": [],
   "source": [
    "# es wird eine Funktion erstellt, um Vorhersagen für die Zukunft zu machen\n",
    "def update_X_next(X_prev, y_pred):\n",
    "    X_next = np.append(X_prev[:, 1:, :], np.expand_dims(y_pred, axis=1), axis=1)\n",
    "    return X_next"
   ]
  },
  {
   "cell_type": "code",
   "execution_count": 19,
   "metadata": {},
   "outputs": [
    {
     "name": "stdout",
     "output_type": "stream",
     "text": [
      "\u001b[1m3/3\u001b[0m \u001b[32m━━━━━━━━━━━━━━━━━━━━\u001b[0m\u001b[37m\u001b[0m \u001b[1m0s\u001b[0m 2ms/step \n",
      "\u001b[1m3/3\u001b[0m \u001b[32m━━━━━━━━━━━━━━━━━━━━\u001b[0m\u001b[37m\u001b[0m \u001b[1m0s\u001b[0m 1ms/step \n",
      "\u001b[1m3/3\u001b[0m \u001b[32m━━━━━━━━━━━━━━━━━━━━\u001b[0m\u001b[37m\u001b[0m \u001b[1m0s\u001b[0m 1ms/step \n",
      "\u001b[1m3/3\u001b[0m \u001b[32m━━━━━━━━━━━━━━━━━━━━\u001b[0m\u001b[37m\u001b[0m \u001b[1m0s\u001b[0m 1ms/step \n",
      "\u001b[1m3/3\u001b[0m \u001b[32m━━━━━━━━━━━━━━━━━━━━\u001b[0m\u001b[37m\u001b[0m \u001b[1m0s\u001b[0m 989us/step\n"
     ]
    }
   ],
   "source": [
    "# # Start mit den initialen Eingabedaten\n",
    "X_next = X_test  \n",
    "predictions = []\n",
    "\n",
    "for _ in range(5):\n",
    "    y_pred = model1.predict(X_next)\n",
    "    predictions.append(y_pred)\n",
    "    # Aktualisieren von X_next für den nächsten Schritt\n",
    "    X_next = update_X_next(X_next, y_pred)  "
   ]
  },
  {
   "cell_type": "code",
   "execution_count": 20,
   "metadata": {},
   "outputs": [],
   "source": [
    "# es werden neue Daten für die Zukunft erstellt\n",
    "jahre = [\"2024\", \"2025\", \"2026\"]\n",
    "monate = [\"01\", \"02\", \"03\", \"04\", \"05\", \"06\", \"07\", \"08\", \"09\", \"10\", \"11\", \"12\"]\n",
    "tage = [\"01\", \"03\", \"05\", \"07\", \"09\", \"11\", \"13\", \"15\", \"17\", \"19\", \"21\", \"23\", \"25\", \"27\", \"29\"]\n",
    "\n",
    "start_datum = '2024-06-01'\n",
    "\n",
    "# Erzeugen eines neuen Index basierend auf den angegebenen Listen\n",
    "new_index = []\n",
    "for jahr in jahre:\n",
    "    for monat in monate:\n",
    "        for tag in tage:\n",
    "            date_str = f\"{jahr}-{monat}-{tag}\"\n",
    "            if date_str >= start_datum:\n",
    "                new_index.append(date_str)\n",
    "                if len(new_index) == 80:\n",
    "                    break\n",
    "        else:\n",
    "            continue\n",
    "        break\n",
    "    else:\n",
    "        continue\n",
    "    break"
   ]
  },
  {
   "cell_type": "code",
   "execution_count": 21,
   "metadata": {},
   "outputs": [],
   "source": [
    "# Konvertiere new_index in einen DatetimeIndex\n",
    "new_index_dt = pd.to_datetime(new_index)\n",
    "\n",
    "# Kombiniere beide Indexstrukturen\n",
    "gesamt_index = zeitreihen_index_lpm2_5.append(new_index_dt)"
   ]
  },
  {
   "cell_type": "code",
   "execution_count": 22,
   "metadata": {},
   "outputs": [
    {
     "name": "stdout",
     "output_type": "stream",
     "text": [
      "\u001b[1m3/3\u001b[0m \u001b[32m━━━━━━━━━━━━━━━━━━━━\u001b[0m\u001b[37m\u001b[0m \u001b[1m0s\u001b[0m 1ms/step \n"
     ]
    },
    {
     "data": {
      "application/vnd.plotly.v1+json": {
       "config": {
        "plotlyServerURL": "https://plot.ly"
       },
       "data": [
        {
         "hovertemplate": "<extra></extra>",
         "legendgroup": "",
         "line": {
          "color": "#636efa",
          "dash": "solid"
         },
         "marker": {
          "symbol": "circle"
         },
         "mode": "lines",
         "name": "",
         "orientation": "v",
         "showlegend": false,
         "type": "scatter",
         "xaxis": "x",
         "yaxis": "y"
        },
        {
         "mode": "lines+markers",
         "name": "Historische Daten",
         "type": "scatter",
         "x": [
          "2022-04-07",
          "2022-04-09",
          "2022-04-11",
          "2022-04-13",
          "2022-04-15",
          "2022-04-17",
          "2022-04-19",
          "2022-04-21",
          "2022-04-23",
          "2022-04-25",
          "2022-04-27",
          "2022-04-29",
          "2022-05-01",
          "2022-05-03",
          "2022-05-05",
          "2022-05-07",
          "2022-05-09",
          "2022-05-11",
          "2022-05-13",
          "2022-05-15",
          "2022-05-17",
          "2022-05-19",
          "2022-05-21",
          "2022-05-23",
          "2022-05-25",
          "2022-05-27",
          "2022-05-29",
          "2022-06-01",
          "2022-06-03",
          "2022-06-05",
          "2022-06-07",
          "2022-06-09",
          "2022-06-11",
          "2022-06-13",
          "2022-06-15",
          "2022-06-17",
          "2022-06-19",
          "2022-06-21",
          "2022-06-23",
          "2022-06-25",
          "2022-06-27",
          "2022-06-29",
          "2022-07-01",
          "2022-07-03",
          "2022-07-05",
          "2022-07-07",
          "2022-07-09",
          "2022-07-11",
          "2022-07-13",
          "2022-07-15",
          "2022-07-17",
          "2022-07-19",
          "2022-07-21",
          "2022-07-23",
          "2022-07-25",
          "2022-07-27",
          "2022-07-29",
          "2022-08-01",
          "2022-08-03",
          "2022-08-05",
          "2022-08-07",
          "2022-08-09",
          "2022-08-11",
          "2022-08-13",
          "2022-08-15",
          "2022-08-17",
          "2022-08-19",
          "2022-08-21",
          "2022-08-23",
          "2022-08-25",
          "2022-08-27",
          "2022-08-29",
          "2022-09-01",
          "2022-09-03",
          "2022-09-05",
          "2022-09-07",
          "2022-09-09",
          "2022-09-11",
          "2022-09-13",
          "2022-09-15",
          "2022-09-17",
          "2022-09-19",
          "2022-09-21",
          "2022-09-23",
          "2022-09-25",
          "2022-09-27",
          "2022-09-29",
          "2022-10-01",
          "2022-10-03",
          "2022-10-05",
          "2022-10-07",
          "2022-10-09",
          "2022-10-11",
          "2022-10-13",
          "2022-10-15",
          "2022-10-17",
          "2022-10-19",
          "2022-10-21",
          "2022-10-23",
          "2022-10-25",
          "2022-10-27",
          "2022-10-29",
          "2022-11-01",
          "2022-11-03",
          "2022-11-05",
          "2022-11-07",
          "2022-11-09",
          "2022-11-11",
          "2022-11-13",
          "2022-11-15",
          "2022-11-17",
          "2022-11-19",
          "2022-11-21",
          "2022-11-23",
          "2022-11-25",
          "2022-11-27",
          "2022-11-29",
          "2022-12-01",
          "2022-12-03",
          "2022-12-05",
          "2022-12-07",
          "2022-12-09",
          "2022-12-11",
          "2022-12-13",
          "2022-12-15",
          "2022-12-17",
          "2022-12-19",
          "2022-12-21",
          "2022-12-23",
          "2022-12-25",
          "2022-12-27",
          "2022-12-29",
          "2023-01-01",
          "2023-01-03",
          "2023-01-05",
          "2023-01-07",
          "2023-01-09",
          "2023-01-11",
          "2023-01-13",
          "2023-01-15",
          "2023-01-17",
          "2023-01-19",
          "2023-01-21",
          "2023-01-23",
          "2023-01-25",
          "2023-01-27",
          "2023-01-29",
          "2023-02-01",
          "2023-02-03",
          "2023-02-05",
          "2023-02-07",
          "2023-02-09",
          "2023-02-11",
          "2023-02-13",
          "2023-02-15",
          "2023-02-17",
          "2023-02-19",
          "2023-02-21",
          "2023-02-23",
          "2023-02-25",
          "2023-02-27",
          "2023-03-01",
          "2023-03-03",
          "2023-03-05",
          "2023-03-07",
          "2023-03-09",
          "2023-03-11",
          "2023-03-13",
          "2023-03-15",
          "2023-03-17",
          "2023-03-19",
          "2023-03-21",
          "2023-03-25",
          "2023-03-27",
          "2023-03-29",
          "2023-04-01",
          "2023-04-03",
          "2023-04-05",
          "2023-04-07",
          "2023-04-09",
          "2023-04-11",
          "2023-04-13",
          "2023-04-15",
          "2023-04-17",
          "2023-04-19",
          "2023-04-21",
          "2023-04-23",
          "2023-04-25",
          "2023-04-27",
          "2023-04-29",
          "2023-05-01",
          "2023-05-03",
          "2023-05-05",
          "2023-05-07",
          "2023-05-09",
          "2023-05-11",
          "2023-05-13",
          "2023-05-15",
          "2023-05-17",
          "2023-05-19",
          "2023-05-21",
          "2023-05-23",
          "2023-05-25",
          "2023-05-27",
          "2023-05-29",
          "2023-06-01",
          "2023-06-03",
          "2023-06-05",
          "2023-06-07",
          "2023-06-09",
          "2023-06-11",
          "2023-06-13",
          "2023-06-15",
          "2023-06-17",
          "2023-06-19",
          "2023-06-21",
          "2023-06-23",
          "2023-06-25",
          "2023-06-27",
          "2023-06-29",
          "2023-07-01",
          "2023-07-03",
          "2023-07-05",
          "2023-07-07",
          "2023-07-09",
          "2023-07-11",
          "2023-07-13",
          "2023-07-15",
          "2023-07-17",
          "2023-07-19",
          "2023-07-21",
          "2023-07-23",
          "2023-07-25",
          "2023-07-27",
          "2023-07-29",
          "2023-08-01",
          "2023-08-03",
          "2023-08-05",
          "2023-08-07",
          "2023-08-09",
          "2023-08-11",
          "2023-08-13",
          "2023-08-15",
          "2023-08-17",
          "2023-08-19",
          "2023-08-21",
          "2023-08-23",
          "2023-08-25",
          "2023-08-27",
          "2023-08-29",
          "2023-09-01",
          "2023-09-03",
          "2023-09-05",
          "2023-09-07",
          "2023-09-09",
          "2023-09-11",
          "2023-09-13",
          "2023-09-15",
          "2023-09-17",
          "2023-09-19",
          "2023-09-21",
          "2023-09-23",
          "2023-09-25",
          "2023-09-27",
          "2023-09-29",
          "2023-10-01",
          "2023-10-03",
          "2023-10-05",
          "2023-10-07",
          "2023-10-09",
          "2023-10-11",
          "2023-10-13",
          "2023-10-15",
          "2023-10-17",
          "2023-10-19",
          "2023-10-21",
          "2023-10-23",
          "2023-10-25",
          "2023-10-27",
          "2023-10-29",
          "2023-11-01",
          "2023-11-03",
          "2023-11-05",
          "2023-11-07",
          "2023-11-09",
          "2023-11-11",
          "2023-11-13",
          "2023-11-15",
          "2023-11-17",
          "2023-11-19",
          "2023-11-21",
          "2023-11-23",
          "2023-11-25",
          "2023-11-27",
          "2023-11-29",
          "2023-12-01",
          "2023-12-03",
          "2023-12-05",
          "2023-12-07",
          "2023-12-09",
          "2023-12-11",
          "2023-12-13",
          "2023-12-15",
          "2023-12-17",
          "2023-12-19",
          "2023-12-21",
          "2023-12-23",
          "2023-12-25",
          "2023-12-27",
          "2023-12-29",
          "2024-01-01",
          "2024-01-03",
          "2024-01-05",
          "2024-01-07",
          "2024-01-09",
          "2024-01-11",
          "2024-01-13",
          "2024-01-15",
          "2024-01-17",
          "2024-01-19",
          "2024-01-21",
          "2024-01-23",
          "2024-01-25",
          "2024-01-27",
          "2024-01-29",
          "2024-02-01",
          "2024-02-03",
          "2024-02-05",
          "2024-02-07",
          "2024-02-09",
          "2024-02-11",
          "2024-02-13",
          "2024-02-15",
          "2024-02-17",
          "2024-02-19",
          "2024-02-21",
          "2024-02-23",
          "2024-02-25",
          "2024-02-27",
          "2024-02-29",
          "2024-03-01",
          "2024-03-03",
          "2024-03-05",
          "2024-03-07",
          "2024-03-09",
          "2024-03-11",
          "2024-03-13",
          "2024-03-15",
          "2024-04-09",
          "2024-04-11",
          "2024-04-13",
          "2024-04-15",
          "2024-04-17",
          "2024-04-19",
          "2024-04-21",
          "2024-04-23",
          "2024-04-25",
          "2024-04-27",
          "2024-04-29",
          "2024-05-01",
          "2024-05-03",
          "2024-05-05",
          "2024-05-07",
          "2024-05-09",
          "2024-05-11",
          "2024-05-13",
          "2024-05-15",
          "2024-05-17",
          "2024-05-19",
          "2024-05-21",
          "2024-05-23",
          "2024-05-25",
          "2024-05-27",
          "2024-05-29"
         ],
         "y": [
          0.618,
          2.252,
          3.2,
          3.43,
          6.876666666666666,
          1.8040000000000005,
          2.1575,
          8.485,
          6.51,
          7.360000000000001,
          4.116,
          3.18,
          4.29,
          4.754,
          6.279999999999999,
          2.7220000000000004,
          2.6125000000000003,
          3.21,
          2.4566666666666666,
          1.876666666666667,
          1.393333333333333,
          2.3600000000000003,
          1.145,
          1.5625,
          0.9325,
          1.35,
          1.2719999999999998,
          1.58,
          1.8575,
          2.103333333333333,
          1.4659999999999995,
          2.6375,
          1.58,
          1.34,
          1.1333333333333333,
          0.675,
          4.8566666666666665,
          2.652,
          1.872,
          8.71,
          1.7499999999999998,
          5.6240000000000006,
          4.705,
          1.1525,
          1.126,
          2.1,
          1.4760000000000002,
          0.8099999999999999,
          0.5625,
          0.6000000000000001,
          0.825,
          2.095,
          3.85,
          5.63,
          4.3420000000000005,
          1.5074999999999998,
          2.225,
          1.286,
          1.4,
          2.44,
          1.3199999999999998,
          1.75,
          1.9550000000000003,
          3.75,
          5.010000000000001,
          2.4366666666666665,
          11.126,
          1.62,
          5.18,
          4.9325,
          7.819999999999999,
          3.6,
          2.4375,
          3.0625,
          3.5925,
          2.314,
          1.132,
          7.6975,
          2.275,
          1.8825,
          1.61,
          1.8566666666666665,
          1.225,
          1.7325,
          4.436,
          0.8266666666666668,
          2.86,
          0.94,
          2.225,
          2,
          2.435,
          1.315,
          3.633333333333333,
          8.075,
          2.155,
          1.865,
          4.05,
          3.6766666666666654,
          1.525,
          1.49,
          2.5325,
          2.735,
          3.33,
          6.023333333333333,
          2.023333333333333,
          3.2125,
          1.6700000000000002,
          5.242500000000001,
          8.0925,
          10.4625,
          2.875,
          4.8825,
          3.5933333333333333,
          19.425,
          12.825,
          7.843333333333334,
          6.536666666666666,
          14.316666666666668,
          16.53,
          7.873333333333334,
          4.285,
          14.3,
          13.616,
          7.522,
          20.15,
          14.915,
          21.450000000000003,
          13.394999999999998,
          3.375,
          3.294,
          2.2466666666666666,
          1.5166666666666666,
          3.1825,
          1.4775,
          1.52,
          3.245,
          4.565,
          1.4333333333333331,
          0.79,
          0.85,
          1.3500000000000003,
          8.395,
          8.3,
          15.483333333333333,
          11.365,
          8.33,
          10.573333333333332,
          2.873333333333333,
          2.6625,
          8.275,
          7.925000000000001,
          7.8,
          8.274999999999999,
          10.340000000000002,
          19.433333333333334,
          4.45,
          1.45,
          3.9133333333333327,
          9.5,
          0.7150000000000001,
          1.1233333333333333,
          6.365,
          18.0925,
          4.216666666666667,
          7.708000000000001,
          3.702,
          0.6,
          2.475,
          1.7375,
          2.8675,
          4.49,
          5.126,
          0.905,
          2.1075,
          1.3375,
          1.1075,
          2.14,
          3.475,
          6.2175,
          10.873333333333331,
          1.34,
          1.1166666666666665,
          2.928,
          7.225,
          6.246,
          3.7925,
          1.343333333333333,
          2.233333333333333,
          3.13,
          5.176,
          2.97,
          3.2999999999999994,
          1.76,
          2.2325,
          3.33,
          1.375,
          3.2775,
          1.8625,
          2.35,
          1.656666666666667,
          9.53,
          8.375,
          2.675,
          4.295,
          1.05,
          3.6166666666666663,
          3.7925,
          3.4,
          3.095,
          3.676,
          3.9075,
          2.594,
          3.455,
          4.743333333333333,
          5.48,
          4.5075,
          2.983333333333334,
          1.875,
          1.54,
          2.822,
          1.8,
          3.54,
          3.702,
          2.776,
          2.21,
          3.7575,
          1.8666666666666665,
          1.5733333333333333,
          2.8625000000000003,
          2.498,
          0.95,
          2.6075,
          0.975,
          2.13,
          1.4733333333333334,
          0.9125,
          0.725,
          1.335,
          1.375,
          1.4625,
          2.3425,
          2.545,
          2.0825,
          2.76,
          4.44,
          4.1875,
          3.0375,
          4.0233333333333325,
          1.2,
          4.325,
          0.8925000000000001,
          2.1933333333333334,
          1.1,
          3.286666666666666,
          4.805,
          4.407500000000001,
          2.36,
          2.78,
          2.066666666666667,
          1.0833333333333333,
          1.4575,
          8.075,
          1.175,
          2.85,
          3.38,
          2.9399999999999995,
          5.59,
          2.2125000000000004,
          0.975,
          2.6075,
          3.2150000000000003,
          2.14,
          1.105,
          3.01,
          6.6875,
          3.73,
          3.235,
          2.36,
          2.4625,
          1.25,
          1.51,
          0.885,
          0.7066666666666667,
          0.6,
          1.5499999999999998,
          1.3824999999999998,
          1.8325,
          1.4425,
          3.776666666666667,
          1.45,
          4.965,
          2.6,
          1.96,
          3.7,
          3.9175,
          6.050000000000001,
          8.649999999999999,
          7.2625,
          16.7,
          9.326666666666666,
          1.4333333333333331,
          3.4499999999999997,
          8.955,
          5.3275,
          1.65,
          0.575,
          1,
          1.2925,
          2.5,
          1.7875,
          2.033333333333333,
          1.1949999999999998,
          3.75,
          3.985,
          17.786,
          20.994,
          8.76,
          5.008,
          7.959999999999999,
          5.956666666666667,
          6.875,
          2.7,
          2.56,
          2.3266666666666667,
          4.890000000000001,
          3.22,
          1.61,
          1.4250000000000005,
          6.263333333333333,
          1.7433333333333334,
          8.1175,
          1.4674999999999998,
          3.1500000000000004,
          2.53,
          1.225,
          3.71,
          0.87,
          1.0825,
          9.165,
          15.583333333333334,
          24.050000000000004,
          14.11,
          3.723333333333333,
          14.963333333333331,
          9.225,
          5.875,
          5.75,
          4.475,
          0.9,
          1.2200000000000002,
          0.8,
          2.245,
          2.2666666666666666,
          2.783333333333333,
          1.15,
          4.1075,
          1.1,
          0.5833333333333334,
          1.5599999999999998,
          2.41,
          0.975,
          0.625,
          1.1075000000000002,
          2.9425,
          2.2125,
          1.2625,
          3.5333333333333337,
          1.1625,
          1.5699999999999998,
          1.715,
          1.9,
          1.47,
          1.9625,
          1.5875
         ]
        },
        {
         "mode": "lines+markers",
         "name": "Vorhersage",
         "type": "scatter",
         "x": [
          "2024-06-01T00:00:00",
          "2024-06-03T00:00:00",
          "2024-06-05T00:00:00",
          "2024-06-07T00:00:00",
          "2024-06-09T00:00:00",
          "2024-06-11T00:00:00",
          "2024-06-13T00:00:00",
          "2024-06-15T00:00:00",
          "2024-06-17T00:00:00",
          "2024-06-19T00:00:00",
          "2024-06-21T00:00:00",
          "2024-06-23T00:00:00",
          "2024-06-25T00:00:00",
          "2024-06-27T00:00:00",
          "2024-06-29T00:00:00",
          "2024-07-01T00:00:00",
          "2024-07-03T00:00:00",
          "2024-07-05T00:00:00",
          "2024-07-07T00:00:00",
          "2024-07-09T00:00:00",
          "2024-07-11T00:00:00",
          "2024-07-13T00:00:00",
          "2024-07-15T00:00:00",
          "2024-07-17T00:00:00",
          "2024-07-19T00:00:00",
          "2024-07-21T00:00:00",
          "2024-07-23T00:00:00",
          "2024-07-25T00:00:00",
          "2024-07-27T00:00:00",
          "2024-07-29T00:00:00",
          "2024-08-01T00:00:00",
          "2024-08-03T00:00:00",
          "2024-08-05T00:00:00",
          "2024-08-07T00:00:00",
          "2024-08-09T00:00:00",
          "2024-08-11T00:00:00",
          "2024-08-13T00:00:00",
          "2024-08-15T00:00:00",
          "2024-08-17T00:00:00",
          "2024-08-19T00:00:00",
          "2024-08-21T00:00:00",
          "2024-08-23T00:00:00",
          "2024-08-25T00:00:00",
          "2024-08-27T00:00:00",
          "2024-08-29T00:00:00",
          "2024-09-01T00:00:00",
          "2024-09-03T00:00:00",
          "2024-09-05T00:00:00",
          "2024-09-07T00:00:00",
          "2024-09-09T00:00:00",
          "2024-09-11T00:00:00",
          "2024-09-13T00:00:00",
          "2024-09-15T00:00:00",
          "2024-09-17T00:00:00",
          "2024-09-19T00:00:00",
          "2024-09-21T00:00:00",
          "2024-09-23T00:00:00",
          "2024-09-25T00:00:00",
          "2024-09-27T00:00:00",
          "2024-09-29T00:00:00",
          "2024-10-01T00:00:00",
          "2024-10-03T00:00:00",
          "2024-10-05T00:00:00",
          "2024-10-07T00:00:00",
          "2024-10-09T00:00:00",
          "2024-10-11T00:00:00",
          "2024-10-13T00:00:00",
          "2024-10-15T00:00:00",
          "2024-10-17T00:00:00"
         ],
         "y": [
          2.7829997539520264,
          2.5104939937591553,
          2.7790420055389404,
          2.3180348873138428,
          2.7519032955169678,
          2.580524206161499,
          2.4661548137664795,
          2.069967746734619,
          2.7713348865509033,
          3.0375373363494873,
          6.02054500579834,
          9.458891868591309,
          8.825465202331543,
          7.587071895599365,
          9.147431373596191,
          6.345839500427246,
          6.117364883422852,
          3.4837071895599365,
          3.6293842792510986,
          2.9822189807891846,
          3.2420473098754883,
          2.6028881072998047,
          2.143306255340576,
          2.1150999069213867,
          3.4685752391815186,
          2.357696294784546,
          4.493439197540283,
          2.4754252433776855,
          3.396700620651245,
          3.2289392948150635,
          2.3407609462738037,
          2.7849526405334473,
          1.9359008073806763,
          1.999352216720581,
          4.599652290344238,
          6.979387283325195,
          10.568944931030273,
          10.78662109375,
          5.431119441986084,
          11.449328422546387,
          8.994047164916992,
          7.356636047363281,
          7.639527797698975,
          5.92656135559082,
          2.5732195377349854,
          2.343970775604248,
          2.200057029724121,
          2.581657648086548,
          2.7305915355682373,
          2.801164388656616,
          2.1141138076782227,
          2.8049328327178955,
          2.045825958251953,
          1.8413457870483398,
          2.3230504989624023,
          2.661198616027832,
          2.172628879547119,
          1.9274924993515015,
          2.050534963607788,
          2.8292043209075928,
          2.7975046634674072,
          2.2588651180267334,
          2.8194549083709717,
          2.0381295680999756,
          2.1671762466430664,
          2.3145101070404053,
          2.3170926570892334,
          2.2352449893951416,
          2.3313443660736084
         ]
        }
       ],
       "layout": {
        "legend": {
         "tracegroupgap": 0
        },
        "template": {
         "data": {
          "bar": [
           {
            "error_x": {
             "color": "#2a3f5f"
            },
            "error_y": {
             "color": "#2a3f5f"
            },
            "marker": {
             "line": {
              "color": "#E5ECF6",
              "width": 0.5
             },
             "pattern": {
              "fillmode": "overlay",
              "size": 10,
              "solidity": 0.2
             }
            },
            "type": "bar"
           }
          ],
          "barpolar": [
           {
            "marker": {
             "line": {
              "color": "#E5ECF6",
              "width": 0.5
             },
             "pattern": {
              "fillmode": "overlay",
              "size": 10,
              "solidity": 0.2
             }
            },
            "type": "barpolar"
           }
          ],
          "carpet": [
           {
            "aaxis": {
             "endlinecolor": "#2a3f5f",
             "gridcolor": "white",
             "linecolor": "white",
             "minorgridcolor": "white",
             "startlinecolor": "#2a3f5f"
            },
            "baxis": {
             "endlinecolor": "#2a3f5f",
             "gridcolor": "white",
             "linecolor": "white",
             "minorgridcolor": "white",
             "startlinecolor": "#2a3f5f"
            },
            "type": "carpet"
           }
          ],
          "choropleth": [
           {
            "colorbar": {
             "outlinewidth": 0,
             "ticks": ""
            },
            "type": "choropleth"
           }
          ],
          "contour": [
           {
            "colorbar": {
             "outlinewidth": 0,
             "ticks": ""
            },
            "colorscale": [
             [
              0,
              "#0d0887"
             ],
             [
              0.1111111111111111,
              "#46039f"
             ],
             [
              0.2222222222222222,
              "#7201a8"
             ],
             [
              0.3333333333333333,
              "#9c179e"
             ],
             [
              0.4444444444444444,
              "#bd3786"
             ],
             [
              0.5555555555555556,
              "#d8576b"
             ],
             [
              0.6666666666666666,
              "#ed7953"
             ],
             [
              0.7777777777777778,
              "#fb9f3a"
             ],
             [
              0.8888888888888888,
              "#fdca26"
             ],
             [
              1,
              "#f0f921"
             ]
            ],
            "type": "contour"
           }
          ],
          "contourcarpet": [
           {
            "colorbar": {
             "outlinewidth": 0,
             "ticks": ""
            },
            "type": "contourcarpet"
           }
          ],
          "heatmap": [
           {
            "colorbar": {
             "outlinewidth": 0,
             "ticks": ""
            },
            "colorscale": [
             [
              0,
              "#0d0887"
             ],
             [
              0.1111111111111111,
              "#46039f"
             ],
             [
              0.2222222222222222,
              "#7201a8"
             ],
             [
              0.3333333333333333,
              "#9c179e"
             ],
             [
              0.4444444444444444,
              "#bd3786"
             ],
             [
              0.5555555555555556,
              "#d8576b"
             ],
             [
              0.6666666666666666,
              "#ed7953"
             ],
             [
              0.7777777777777778,
              "#fb9f3a"
             ],
             [
              0.8888888888888888,
              "#fdca26"
             ],
             [
              1,
              "#f0f921"
             ]
            ],
            "type": "heatmap"
           }
          ],
          "heatmapgl": [
           {
            "colorbar": {
             "outlinewidth": 0,
             "ticks": ""
            },
            "colorscale": [
             [
              0,
              "#0d0887"
             ],
             [
              0.1111111111111111,
              "#46039f"
             ],
             [
              0.2222222222222222,
              "#7201a8"
             ],
             [
              0.3333333333333333,
              "#9c179e"
             ],
             [
              0.4444444444444444,
              "#bd3786"
             ],
             [
              0.5555555555555556,
              "#d8576b"
             ],
             [
              0.6666666666666666,
              "#ed7953"
             ],
             [
              0.7777777777777778,
              "#fb9f3a"
             ],
             [
              0.8888888888888888,
              "#fdca26"
             ],
             [
              1,
              "#f0f921"
             ]
            ],
            "type": "heatmapgl"
           }
          ],
          "histogram": [
           {
            "marker": {
             "pattern": {
              "fillmode": "overlay",
              "size": 10,
              "solidity": 0.2
             }
            },
            "type": "histogram"
           }
          ],
          "histogram2d": [
           {
            "colorbar": {
             "outlinewidth": 0,
             "ticks": ""
            },
            "colorscale": [
             [
              0,
              "#0d0887"
             ],
             [
              0.1111111111111111,
              "#46039f"
             ],
             [
              0.2222222222222222,
              "#7201a8"
             ],
             [
              0.3333333333333333,
              "#9c179e"
             ],
             [
              0.4444444444444444,
              "#bd3786"
             ],
             [
              0.5555555555555556,
              "#d8576b"
             ],
             [
              0.6666666666666666,
              "#ed7953"
             ],
             [
              0.7777777777777778,
              "#fb9f3a"
             ],
             [
              0.8888888888888888,
              "#fdca26"
             ],
             [
              1,
              "#f0f921"
             ]
            ],
            "type": "histogram2d"
           }
          ],
          "histogram2dcontour": [
           {
            "colorbar": {
             "outlinewidth": 0,
             "ticks": ""
            },
            "colorscale": [
             [
              0,
              "#0d0887"
             ],
             [
              0.1111111111111111,
              "#46039f"
             ],
             [
              0.2222222222222222,
              "#7201a8"
             ],
             [
              0.3333333333333333,
              "#9c179e"
             ],
             [
              0.4444444444444444,
              "#bd3786"
             ],
             [
              0.5555555555555556,
              "#d8576b"
             ],
             [
              0.6666666666666666,
              "#ed7953"
             ],
             [
              0.7777777777777778,
              "#fb9f3a"
             ],
             [
              0.8888888888888888,
              "#fdca26"
             ],
             [
              1,
              "#f0f921"
             ]
            ],
            "type": "histogram2dcontour"
           }
          ],
          "mesh3d": [
           {
            "colorbar": {
             "outlinewidth": 0,
             "ticks": ""
            },
            "type": "mesh3d"
           }
          ],
          "parcoords": [
           {
            "line": {
             "colorbar": {
              "outlinewidth": 0,
              "ticks": ""
             }
            },
            "type": "parcoords"
           }
          ],
          "pie": [
           {
            "automargin": true,
            "type": "pie"
           }
          ],
          "scatter": [
           {
            "fillpattern": {
             "fillmode": "overlay",
             "size": 10,
             "solidity": 0.2
            },
            "type": "scatter"
           }
          ],
          "scatter3d": [
           {
            "line": {
             "colorbar": {
              "outlinewidth": 0,
              "ticks": ""
             }
            },
            "marker": {
             "colorbar": {
              "outlinewidth": 0,
              "ticks": ""
             }
            },
            "type": "scatter3d"
           }
          ],
          "scattercarpet": [
           {
            "marker": {
             "colorbar": {
              "outlinewidth": 0,
              "ticks": ""
             }
            },
            "type": "scattercarpet"
           }
          ],
          "scattergeo": [
           {
            "marker": {
             "colorbar": {
              "outlinewidth": 0,
              "ticks": ""
             }
            },
            "type": "scattergeo"
           }
          ],
          "scattergl": [
           {
            "marker": {
             "colorbar": {
              "outlinewidth": 0,
              "ticks": ""
             }
            },
            "type": "scattergl"
           }
          ],
          "scattermapbox": [
           {
            "marker": {
             "colorbar": {
              "outlinewidth": 0,
              "ticks": ""
             }
            },
            "type": "scattermapbox"
           }
          ],
          "scatterpolar": [
           {
            "marker": {
             "colorbar": {
              "outlinewidth": 0,
              "ticks": ""
             }
            },
            "type": "scatterpolar"
           }
          ],
          "scatterpolargl": [
           {
            "marker": {
             "colorbar": {
              "outlinewidth": 0,
              "ticks": ""
             }
            },
            "type": "scatterpolargl"
           }
          ],
          "scatterternary": [
           {
            "marker": {
             "colorbar": {
              "outlinewidth": 0,
              "ticks": ""
             }
            },
            "type": "scatterternary"
           }
          ],
          "surface": [
           {
            "colorbar": {
             "outlinewidth": 0,
             "ticks": ""
            },
            "colorscale": [
             [
              0,
              "#0d0887"
             ],
             [
              0.1111111111111111,
              "#46039f"
             ],
             [
              0.2222222222222222,
              "#7201a8"
             ],
             [
              0.3333333333333333,
              "#9c179e"
             ],
             [
              0.4444444444444444,
              "#bd3786"
             ],
             [
              0.5555555555555556,
              "#d8576b"
             ],
             [
              0.6666666666666666,
              "#ed7953"
             ],
             [
              0.7777777777777778,
              "#fb9f3a"
             ],
             [
              0.8888888888888888,
              "#fdca26"
             ],
             [
              1,
              "#f0f921"
             ]
            ],
            "type": "surface"
           }
          ],
          "table": [
           {
            "cells": {
             "fill": {
              "color": "#EBF0F8"
             },
             "line": {
              "color": "white"
             }
            },
            "header": {
             "fill": {
              "color": "#C8D4E3"
             },
             "line": {
              "color": "white"
             }
            },
            "type": "table"
           }
          ]
         },
         "layout": {
          "annotationdefaults": {
           "arrowcolor": "#2a3f5f",
           "arrowhead": 0,
           "arrowwidth": 1
          },
          "autotypenumbers": "strict",
          "coloraxis": {
           "colorbar": {
            "outlinewidth": 0,
            "ticks": ""
           }
          },
          "colorscale": {
           "diverging": [
            [
             0,
             "#8e0152"
            ],
            [
             0.1,
             "#c51b7d"
            ],
            [
             0.2,
             "#de77ae"
            ],
            [
             0.3,
             "#f1b6da"
            ],
            [
             0.4,
             "#fde0ef"
            ],
            [
             0.5,
             "#f7f7f7"
            ],
            [
             0.6,
             "#e6f5d0"
            ],
            [
             0.7,
             "#b8e186"
            ],
            [
             0.8,
             "#7fbc41"
            ],
            [
             0.9,
             "#4d9221"
            ],
            [
             1,
             "#276419"
            ]
           ],
           "sequential": [
            [
             0,
             "#0d0887"
            ],
            [
             0.1111111111111111,
             "#46039f"
            ],
            [
             0.2222222222222222,
             "#7201a8"
            ],
            [
             0.3333333333333333,
             "#9c179e"
            ],
            [
             0.4444444444444444,
             "#bd3786"
            ],
            [
             0.5555555555555556,
             "#d8576b"
            ],
            [
             0.6666666666666666,
             "#ed7953"
            ],
            [
             0.7777777777777778,
             "#fb9f3a"
            ],
            [
             0.8888888888888888,
             "#fdca26"
            ],
            [
             1,
             "#f0f921"
            ]
           ],
           "sequentialminus": [
            [
             0,
             "#0d0887"
            ],
            [
             0.1111111111111111,
             "#46039f"
            ],
            [
             0.2222222222222222,
             "#7201a8"
            ],
            [
             0.3333333333333333,
             "#9c179e"
            ],
            [
             0.4444444444444444,
             "#bd3786"
            ],
            [
             0.5555555555555556,
             "#d8576b"
            ],
            [
             0.6666666666666666,
             "#ed7953"
            ],
            [
             0.7777777777777778,
             "#fb9f3a"
            ],
            [
             0.8888888888888888,
             "#fdca26"
            ],
            [
             1,
             "#f0f921"
            ]
           ]
          },
          "colorway": [
           "#636efa",
           "#EF553B",
           "#00cc96",
           "#ab63fa",
           "#FFA15A",
           "#19d3f3",
           "#FF6692",
           "#B6E880",
           "#FF97FF",
           "#FECB52"
          ],
          "font": {
           "color": "#2a3f5f"
          },
          "geo": {
           "bgcolor": "white",
           "lakecolor": "white",
           "landcolor": "#E5ECF6",
           "showlakes": true,
           "showland": true,
           "subunitcolor": "white"
          },
          "hoverlabel": {
           "align": "left"
          },
          "hovermode": "closest",
          "mapbox": {
           "style": "light"
          },
          "paper_bgcolor": "white",
          "plot_bgcolor": "#E5ECF6",
          "polar": {
           "angularaxis": {
            "gridcolor": "white",
            "linecolor": "white",
            "ticks": ""
           },
           "bgcolor": "#E5ECF6",
           "radialaxis": {
            "gridcolor": "white",
            "linecolor": "white",
            "ticks": ""
           }
          },
          "scene": {
           "xaxis": {
            "backgroundcolor": "#E5ECF6",
            "gridcolor": "white",
            "gridwidth": 2,
            "linecolor": "white",
            "showbackground": true,
            "ticks": "",
            "zerolinecolor": "white"
           },
           "yaxis": {
            "backgroundcolor": "#E5ECF6",
            "gridcolor": "white",
            "gridwidth": 2,
            "linecolor": "white",
            "showbackground": true,
            "ticks": "",
            "zerolinecolor": "white"
           },
           "zaxis": {
            "backgroundcolor": "#E5ECF6",
            "gridcolor": "white",
            "gridwidth": 2,
            "linecolor": "white",
            "showbackground": true,
            "ticks": "",
            "zerolinecolor": "white"
           }
          },
          "shapedefaults": {
           "line": {
            "color": "#2a3f5f"
           }
          },
          "ternary": {
           "aaxis": {
            "gridcolor": "white",
            "linecolor": "white",
            "ticks": ""
           },
           "baxis": {
            "gridcolor": "white",
            "linecolor": "white",
            "ticks": ""
           },
           "bgcolor": "#E5ECF6",
           "caxis": {
            "gridcolor": "white",
            "linecolor": "white",
            "ticks": ""
           }
          },
          "title": {
           "x": 0.05
          },
          "xaxis": {
           "automargin": true,
           "gridcolor": "white",
           "linecolor": "white",
           "ticks": "",
           "title": {
            "standoff": 15
           },
           "zerolinecolor": "white",
           "zerolinewidth": 2
          },
          "yaxis": {
           "automargin": true,
           "gridcolor": "white",
           "linecolor": "white",
           "ticks": "",
           "title": {
            "standoff": 15
           },
           "zerolinecolor": "white",
           "zerolinewidth": 2
          }
         }
        },
        "title": {
         "text": "Vorhersage für den Wert PM2.5 auf dem Land mit LSTM-Modell"
        },
        "xaxis": {
         "anchor": "y",
         "domain": [
          0,
          1
         ],
         "title": {
          "text": "Zeit"
         }
        },
        "yaxis": {
         "anchor": "x",
         "domain": [
          0,
          1
         ],
         "title": {
          "text": "Wert"
         }
        }
       }
      }
     },
     "metadata": {},
     "output_type": "display_data"
    }
   ],
   "source": [
    "# Vorhersage für die Zukunft\n",
    "y_pred_step1 = model1.predict(X_test)\n",
    "\n",
    "# Vorbereiten der Daten für Plotly Express\n",
    "historical_data = values_lpm2_5\n",
    "\n",
    "# Plotly Express-Figur erstellen\n",
    "fig = px.line(title='Vorhersage für den ersten Schritt mit LSTM-Modell')\n",
    "\n",
    "# Plot der historischen Daten\n",
    "fig.add_scatter(x=gesamt_index[:len(historical_data)], y=historical_data, mode='lines+markers', name='Historische Daten')\n",
    "\n",
    "# Plot der Vorhersage für den ersten Schritt\n",
    "x_values_pred = gesamt_index[len(historical_data):len(historical_data) + len(y_pred_step1)]\n",
    "fig.add_scatter(x=x_values_pred, y=y_pred_step1.flatten(), mode='lines+markers', name='Vorhersage')\n",
    "\n",
    "fig.update_layout(xaxis_title='Zeit', yaxis_title='Wert', title='Vorhersage für den Wert PM2.5 auf dem Land mit LSTM-Modell')\n",
    "fig.show()"
   ]
  },
  {
   "cell_type": "markdown",
   "metadata": {},
   "source": [
    "nun wird die Regressionsgerade berechnet"
   ]
  },
  {
   "cell_type": "code",
   "execution_count": 217,
   "metadata": {},
   "outputs": [],
   "source": [
    "# Datum in numerisches Format umwandeln\n",
    "land_PM2_5_average = land_PM2_5_average.copy()\n",
    "land_PM2_5_average.reset_index(inplace=True)\n",
    "land_PM2_5_average['datum'] = pd.to_datetime(land_PM2_5_average['datum'])\n",
    "land_PM2_5_average['datum_numeric'] = (land_PM2_5_average['datum'] - land_PM2_5_average['datum'].min()).dt.days\n",
    "\n",
    "# Lineare Regression\n",
    "X = land_PM2_5_average[['datum_numeric']]\n",
    "y = land_PM2_5_average['average_landpm2_5']\n",
    "model = LinearRegression()\n",
    "model.fit(X, y)\n",
    "land_PM2_5_average['land_PM2_5_average_trend'] = model.predict(X)"
   ]
  },
  {
   "cell_type": "code",
   "execution_count": 218,
   "metadata": {},
   "outputs": [
    {
     "data": {
      "application/vnd.plotly.v1+json": {
       "config": {
        "plotlyServerURL": "https://plot.ly"
       },
       "data": [
        {
         "hovertemplate": "datum=%{x}<br>average_landpm2_5=%{y}<extra></extra>",
         "legendgroup": "",
         "marker": {
          "color": "#636efa",
          "symbol": "circle"
         },
         "mode": "markers",
         "name": "",
         "orientation": "v",
         "showlegend": false,
         "type": "scatter",
         "x": [
          "2022-04-07T00:00:00",
          "2022-04-09T00:00:00",
          "2022-04-11T00:00:00",
          "2022-04-13T00:00:00",
          "2022-04-15T00:00:00",
          "2022-04-17T00:00:00",
          "2022-04-19T00:00:00",
          "2022-04-21T00:00:00",
          "2022-04-23T00:00:00",
          "2022-04-25T00:00:00",
          "2022-04-27T00:00:00",
          "2022-04-29T00:00:00",
          "2022-05-01T00:00:00",
          "2022-05-03T00:00:00",
          "2022-05-05T00:00:00",
          "2022-05-07T00:00:00",
          "2022-05-09T00:00:00",
          "2022-05-11T00:00:00",
          "2022-05-13T00:00:00",
          "2022-05-15T00:00:00",
          "2022-05-17T00:00:00",
          "2022-05-19T00:00:00",
          "2022-05-21T00:00:00",
          "2022-05-23T00:00:00",
          "2022-05-25T00:00:00",
          "2022-05-27T00:00:00",
          "2022-05-29T00:00:00",
          "2022-06-01T00:00:00",
          "2022-06-03T00:00:00",
          "2022-06-05T00:00:00",
          "2022-06-07T00:00:00",
          "2022-06-09T00:00:00",
          "2022-06-11T00:00:00",
          "2022-06-13T00:00:00",
          "2022-06-15T00:00:00",
          "2022-06-17T00:00:00",
          "2022-06-19T00:00:00",
          "2022-06-21T00:00:00",
          "2022-06-23T00:00:00",
          "2022-06-25T00:00:00",
          "2022-06-27T00:00:00",
          "2022-06-29T00:00:00",
          "2022-07-01T00:00:00",
          "2022-07-03T00:00:00",
          "2022-07-05T00:00:00",
          "2022-07-07T00:00:00",
          "2022-07-09T00:00:00",
          "2022-07-11T00:00:00",
          "2022-07-13T00:00:00",
          "2022-07-15T00:00:00",
          "2022-07-17T00:00:00",
          "2022-07-19T00:00:00",
          "2022-07-21T00:00:00",
          "2022-07-23T00:00:00",
          "2022-07-25T00:00:00",
          "2022-07-27T00:00:00",
          "2022-07-29T00:00:00",
          "2022-08-01T00:00:00",
          "2022-08-03T00:00:00",
          "2022-08-05T00:00:00",
          "2022-08-07T00:00:00",
          "2022-08-09T00:00:00",
          "2022-08-11T00:00:00",
          "2022-08-13T00:00:00",
          "2022-08-15T00:00:00",
          "2022-08-17T00:00:00",
          "2022-08-19T00:00:00",
          "2022-08-21T00:00:00",
          "2022-08-23T00:00:00",
          "2022-08-25T00:00:00",
          "2022-08-27T00:00:00",
          "2022-08-29T00:00:00",
          "2022-09-01T00:00:00",
          "2022-09-03T00:00:00",
          "2022-09-05T00:00:00",
          "2022-09-07T00:00:00",
          "2022-09-09T00:00:00",
          "2022-09-11T00:00:00",
          "2022-09-13T00:00:00",
          "2022-09-15T00:00:00",
          "2022-09-17T00:00:00",
          "2022-09-19T00:00:00",
          "2022-09-21T00:00:00",
          "2022-09-23T00:00:00",
          "2022-09-25T00:00:00",
          "2022-09-27T00:00:00",
          "2022-09-29T00:00:00",
          "2022-10-01T00:00:00",
          "2022-10-03T00:00:00",
          "2022-10-05T00:00:00",
          "2022-10-07T00:00:00",
          "2022-10-09T00:00:00",
          "2022-10-11T00:00:00",
          "2022-10-13T00:00:00",
          "2022-10-15T00:00:00",
          "2022-10-17T00:00:00",
          "2022-10-19T00:00:00",
          "2022-10-21T00:00:00",
          "2022-10-23T00:00:00",
          "2022-10-25T00:00:00",
          "2022-10-27T00:00:00",
          "2022-10-29T00:00:00",
          "2022-11-01T00:00:00",
          "2022-11-03T00:00:00",
          "2022-11-05T00:00:00",
          "2022-11-07T00:00:00",
          "2022-11-09T00:00:00",
          "2022-11-11T00:00:00",
          "2022-11-13T00:00:00",
          "2022-11-15T00:00:00",
          "2022-11-17T00:00:00",
          "2022-11-19T00:00:00",
          "2022-11-21T00:00:00",
          "2022-11-23T00:00:00",
          "2022-11-25T00:00:00",
          "2022-11-27T00:00:00",
          "2022-11-29T00:00:00",
          "2022-12-01T00:00:00",
          "2022-12-03T00:00:00",
          "2022-12-05T00:00:00",
          "2022-12-07T00:00:00",
          "2022-12-09T00:00:00",
          "2022-12-11T00:00:00",
          "2022-12-13T00:00:00",
          "2022-12-15T00:00:00",
          "2022-12-17T00:00:00",
          "2022-12-19T00:00:00",
          "2022-12-21T00:00:00",
          "2022-12-23T00:00:00",
          "2022-12-25T00:00:00",
          "2022-12-27T00:00:00",
          "2022-12-29T00:00:00",
          "2023-01-01T00:00:00",
          "2023-01-03T00:00:00",
          "2023-01-05T00:00:00",
          "2023-01-07T00:00:00",
          "2023-01-09T00:00:00",
          "2023-01-11T00:00:00",
          "2023-01-13T00:00:00",
          "2023-01-15T00:00:00",
          "2023-01-17T00:00:00",
          "2023-01-19T00:00:00",
          "2023-01-21T00:00:00",
          "2023-01-23T00:00:00",
          "2023-01-25T00:00:00",
          "2023-01-27T00:00:00",
          "2023-01-29T00:00:00",
          "2023-02-01T00:00:00",
          "2023-02-03T00:00:00",
          "2023-02-05T00:00:00",
          "2023-02-07T00:00:00",
          "2023-02-09T00:00:00",
          "2023-02-11T00:00:00",
          "2023-02-13T00:00:00",
          "2023-02-15T00:00:00",
          "2023-02-17T00:00:00",
          "2023-02-19T00:00:00",
          "2023-02-21T00:00:00",
          "2023-02-23T00:00:00",
          "2023-02-25T00:00:00",
          "2023-02-27T00:00:00",
          "2023-03-01T00:00:00",
          "2023-03-03T00:00:00",
          "2023-03-05T00:00:00",
          "2023-03-07T00:00:00",
          "2023-03-09T00:00:00",
          "2023-03-11T00:00:00",
          "2023-03-13T00:00:00",
          "2023-03-15T00:00:00",
          "2023-03-17T00:00:00",
          "2023-03-19T00:00:00",
          "2023-03-21T00:00:00",
          "2023-03-25T00:00:00",
          "2023-03-27T00:00:00",
          "2023-03-29T00:00:00",
          "2023-04-01T00:00:00",
          "2023-04-03T00:00:00",
          "2023-04-05T00:00:00",
          "2023-04-07T00:00:00",
          "2023-04-09T00:00:00",
          "2023-04-11T00:00:00",
          "2023-04-13T00:00:00",
          "2023-04-15T00:00:00",
          "2023-04-17T00:00:00",
          "2023-04-19T00:00:00",
          "2023-04-21T00:00:00",
          "2023-04-23T00:00:00",
          "2023-04-25T00:00:00",
          "2023-04-27T00:00:00",
          "2023-04-29T00:00:00",
          "2023-05-01T00:00:00",
          "2023-05-03T00:00:00",
          "2023-05-05T00:00:00",
          "2023-05-07T00:00:00",
          "2023-05-09T00:00:00",
          "2023-05-11T00:00:00",
          "2023-05-13T00:00:00",
          "2023-05-15T00:00:00",
          "2023-05-17T00:00:00",
          "2023-05-19T00:00:00",
          "2023-05-21T00:00:00",
          "2023-05-23T00:00:00",
          "2023-05-25T00:00:00",
          "2023-05-27T00:00:00",
          "2023-05-29T00:00:00",
          "2023-06-01T00:00:00",
          "2023-06-03T00:00:00",
          "2023-06-05T00:00:00",
          "2023-06-07T00:00:00",
          "2023-06-09T00:00:00",
          "2023-06-11T00:00:00",
          "2023-06-13T00:00:00",
          "2023-06-15T00:00:00",
          "2023-06-17T00:00:00",
          "2023-06-19T00:00:00",
          "2023-06-21T00:00:00",
          "2023-06-23T00:00:00",
          "2023-06-25T00:00:00",
          "2023-06-27T00:00:00",
          "2023-06-29T00:00:00",
          "2023-07-01T00:00:00",
          "2023-07-03T00:00:00",
          "2023-07-05T00:00:00",
          "2023-07-07T00:00:00",
          "2023-07-09T00:00:00",
          "2023-07-11T00:00:00",
          "2023-07-13T00:00:00",
          "2023-07-15T00:00:00",
          "2023-07-17T00:00:00",
          "2023-07-19T00:00:00",
          "2023-07-21T00:00:00",
          "2023-07-23T00:00:00",
          "2023-07-25T00:00:00",
          "2023-07-27T00:00:00",
          "2023-07-29T00:00:00",
          "2023-08-01T00:00:00",
          "2023-08-03T00:00:00",
          "2023-08-05T00:00:00",
          "2023-08-07T00:00:00",
          "2023-08-09T00:00:00",
          "2023-08-11T00:00:00",
          "2023-08-13T00:00:00",
          "2023-08-15T00:00:00",
          "2023-08-17T00:00:00",
          "2023-08-19T00:00:00",
          "2023-08-21T00:00:00",
          "2023-08-23T00:00:00",
          "2023-08-25T00:00:00",
          "2023-08-27T00:00:00",
          "2023-08-29T00:00:00",
          "2023-09-01T00:00:00",
          "2023-09-03T00:00:00",
          "2023-09-05T00:00:00",
          "2023-09-07T00:00:00",
          "2023-09-09T00:00:00",
          "2023-09-11T00:00:00",
          "2023-09-13T00:00:00",
          "2023-09-15T00:00:00",
          "2023-09-17T00:00:00",
          "2023-09-19T00:00:00",
          "2023-09-21T00:00:00",
          "2023-09-23T00:00:00",
          "2023-09-25T00:00:00",
          "2023-09-27T00:00:00",
          "2023-09-29T00:00:00",
          "2023-10-01T00:00:00",
          "2023-10-03T00:00:00",
          "2023-10-05T00:00:00",
          "2023-10-07T00:00:00",
          "2023-10-09T00:00:00",
          "2023-10-11T00:00:00",
          "2023-10-13T00:00:00",
          "2023-10-15T00:00:00",
          "2023-10-17T00:00:00",
          "2023-10-19T00:00:00",
          "2023-10-21T00:00:00",
          "2023-10-23T00:00:00",
          "2023-10-25T00:00:00",
          "2023-10-27T00:00:00",
          "2023-10-29T00:00:00",
          "2023-11-01T00:00:00",
          "2023-11-03T00:00:00",
          "2023-11-05T00:00:00",
          "2023-11-07T00:00:00",
          "2023-11-09T00:00:00",
          "2023-11-11T00:00:00",
          "2023-11-13T00:00:00",
          "2023-11-15T00:00:00",
          "2023-11-17T00:00:00",
          "2023-11-19T00:00:00",
          "2023-11-21T00:00:00",
          "2023-11-23T00:00:00",
          "2023-11-25T00:00:00",
          "2023-11-27T00:00:00",
          "2023-11-29T00:00:00",
          "2023-12-01T00:00:00",
          "2023-12-03T00:00:00",
          "2023-12-05T00:00:00",
          "2023-12-07T00:00:00",
          "2023-12-09T00:00:00",
          "2023-12-11T00:00:00",
          "2023-12-13T00:00:00",
          "2023-12-15T00:00:00",
          "2023-12-17T00:00:00",
          "2023-12-19T00:00:00",
          "2023-12-21T00:00:00",
          "2023-12-23T00:00:00",
          "2023-12-25T00:00:00",
          "2023-12-27T00:00:00",
          "2023-12-29T00:00:00",
          "2024-01-01T00:00:00",
          "2024-01-03T00:00:00",
          "2024-01-05T00:00:00",
          "2024-01-07T00:00:00",
          "2024-01-09T00:00:00",
          "2024-01-11T00:00:00",
          "2024-01-13T00:00:00",
          "2024-01-15T00:00:00",
          "2024-01-17T00:00:00",
          "2024-01-19T00:00:00",
          "2024-01-21T00:00:00",
          "2024-01-23T00:00:00",
          "2024-01-25T00:00:00",
          "2024-01-27T00:00:00",
          "2024-01-29T00:00:00",
          "2024-02-01T00:00:00",
          "2024-02-03T00:00:00",
          "2024-02-05T00:00:00",
          "2024-02-07T00:00:00",
          "2024-02-09T00:00:00",
          "2024-02-11T00:00:00",
          "2024-02-13T00:00:00",
          "2024-02-15T00:00:00",
          "2024-02-17T00:00:00",
          "2024-02-19T00:00:00",
          "2024-02-21T00:00:00",
          "2024-02-23T00:00:00",
          "2024-02-25T00:00:00",
          "2024-02-27T00:00:00",
          "2024-02-29T00:00:00",
          "2024-03-01T00:00:00",
          "2024-03-03T00:00:00",
          "2024-03-05T00:00:00",
          "2024-03-07T00:00:00",
          "2024-03-09T00:00:00",
          "2024-03-11T00:00:00",
          "2024-03-13T00:00:00",
          "2024-03-15T00:00:00",
          "2024-04-09T00:00:00",
          "2024-04-11T00:00:00",
          "2024-04-13T00:00:00",
          "2024-04-15T00:00:00",
          "2024-04-17T00:00:00",
          "2024-04-19T00:00:00",
          "2024-04-21T00:00:00",
          "2024-04-23T00:00:00",
          "2024-04-25T00:00:00",
          "2024-04-27T00:00:00",
          "2024-04-29T00:00:00",
          "2024-05-01T00:00:00",
          "2024-05-03T00:00:00",
          "2024-05-05T00:00:00",
          "2024-05-07T00:00:00",
          "2024-05-09T00:00:00",
          "2024-05-11T00:00:00",
          "2024-05-13T00:00:00",
          "2024-05-15T00:00:00",
          "2024-05-17T00:00:00",
          "2024-05-19T00:00:00",
          "2024-05-21T00:00:00",
          "2024-05-23T00:00:00",
          "2024-05-25T00:00:00",
          "2024-05-27T00:00:00",
          "2024-05-29T00:00:00"
         ],
         "xaxis": "x",
         "y": [
          0.618,
          2.252,
          3.2,
          3.43,
          6.876666666666666,
          1.8040000000000005,
          2.1575,
          8.485,
          6.51,
          7.360000000000001,
          4.116,
          3.18,
          4.29,
          4.754,
          6.279999999999999,
          2.7220000000000004,
          2.6125000000000003,
          3.21,
          2.4566666666666666,
          1.876666666666667,
          1.393333333333333,
          2.3600000000000003,
          1.145,
          1.5625,
          0.9325,
          1.35,
          1.2719999999999998,
          1.58,
          1.8575,
          2.103333333333333,
          1.4659999999999995,
          2.6375,
          1.58,
          1.34,
          1.1333333333333333,
          0.675,
          4.8566666666666665,
          2.652,
          1.872,
          8.71,
          1.7499999999999998,
          5.6240000000000006,
          4.705,
          1.1525,
          1.126,
          2.1,
          1.4760000000000002,
          0.8099999999999999,
          0.5625,
          0.6000000000000001,
          0.825,
          2.095,
          3.85,
          5.63,
          4.3420000000000005,
          1.5074999999999998,
          2.225,
          1.286,
          1.4,
          2.44,
          1.3199999999999998,
          1.75,
          1.9550000000000003,
          3.75,
          5.010000000000001,
          2.4366666666666665,
          11.126,
          1.62,
          5.18,
          4.9325,
          7.819999999999999,
          3.6,
          2.4375,
          3.0625,
          3.5925,
          2.314,
          1.132,
          7.6975,
          2.275,
          1.8825,
          1.61,
          1.8566666666666665,
          1.225,
          1.7325,
          4.436,
          0.8266666666666668,
          2.86,
          0.94,
          2.225,
          2,
          2.435,
          1.315,
          3.633333333333333,
          8.075,
          2.155,
          1.865,
          4.05,
          3.6766666666666654,
          1.525,
          1.49,
          2.5325,
          2.735,
          3.33,
          6.023333333333333,
          2.023333333333333,
          3.2125,
          1.6700000000000002,
          5.242500000000001,
          8.0925,
          10.4625,
          2.875,
          4.8825,
          3.5933333333333333,
          19.425,
          12.825,
          7.843333333333334,
          6.536666666666666,
          14.316666666666668,
          16.53,
          7.873333333333334,
          4.285,
          14.3,
          13.616,
          7.522,
          20.15,
          14.915,
          21.450000000000003,
          13.394999999999998,
          3.375,
          3.294,
          2.2466666666666666,
          1.5166666666666666,
          3.1825,
          1.4775,
          1.52,
          3.245,
          4.565,
          1.4333333333333331,
          0.79,
          0.85,
          1.3500000000000003,
          8.395,
          8.3,
          15.483333333333333,
          11.365,
          8.33,
          10.573333333333332,
          2.873333333333333,
          2.6625,
          8.275,
          7.925000000000001,
          7.8,
          8.274999999999999,
          10.340000000000002,
          19.433333333333334,
          4.45,
          1.45,
          3.9133333333333327,
          9.5,
          0.7150000000000001,
          1.1233333333333333,
          6.365,
          18.0925,
          4.216666666666667,
          7.708000000000001,
          3.702,
          0.6,
          2.475,
          1.7375,
          2.8675,
          4.49,
          5.126,
          0.905,
          2.1075,
          1.3375,
          1.1075,
          2.14,
          3.475,
          6.2175,
          10.873333333333331,
          1.34,
          1.1166666666666665,
          2.928,
          7.225,
          6.246,
          3.7925,
          1.343333333333333,
          2.233333333333333,
          3.13,
          5.176,
          2.97,
          3.2999999999999994,
          1.76,
          2.2325,
          3.33,
          1.375,
          3.2775,
          1.8625,
          2.35,
          1.656666666666667,
          9.53,
          8.375,
          2.675,
          4.295,
          1.05,
          3.6166666666666663,
          3.7925,
          3.4,
          3.095,
          3.676,
          3.9075,
          2.594,
          3.455,
          4.743333333333333,
          5.48,
          4.5075,
          2.983333333333334,
          1.875,
          1.54,
          2.822,
          1.8,
          3.54,
          3.702,
          2.776,
          2.21,
          3.7575,
          1.8666666666666665,
          1.5733333333333333,
          2.8625000000000003,
          2.498,
          0.95,
          2.6075,
          0.975,
          2.13,
          1.4733333333333334,
          0.9125,
          0.725,
          1.335,
          1.375,
          1.4625,
          2.3425,
          2.545,
          2.0825,
          2.76,
          4.44,
          4.1875,
          3.0375,
          4.0233333333333325,
          1.2,
          4.325,
          0.8925000000000001,
          2.1933333333333334,
          1.1,
          3.286666666666666,
          4.805,
          4.407500000000001,
          2.36,
          2.78,
          2.066666666666667,
          1.0833333333333333,
          1.4575,
          8.075,
          1.175,
          2.85,
          3.38,
          2.9399999999999995,
          5.59,
          2.2125000000000004,
          0.975,
          2.6075,
          3.2150000000000003,
          2.14,
          1.105,
          3.01,
          6.6875,
          3.73,
          3.235,
          2.36,
          2.4625,
          1.25,
          1.51,
          0.885,
          0.7066666666666667,
          0.6,
          1.5499999999999998,
          1.3824999999999998,
          1.8325,
          1.4425,
          3.776666666666667,
          1.45,
          4.965,
          2.6,
          1.96,
          3.7,
          3.9175,
          6.050000000000001,
          8.649999999999999,
          7.2625,
          16.7,
          9.326666666666666,
          1.4333333333333331,
          3.4499999999999997,
          8.955,
          5.3275,
          1.65,
          0.575,
          1,
          1.2925,
          2.5,
          1.7875,
          2.033333333333333,
          1.1949999999999998,
          3.75,
          3.985,
          17.786,
          20.994,
          8.76,
          5.008,
          7.959999999999999,
          5.956666666666667,
          6.875,
          2.7,
          2.56,
          2.3266666666666667,
          4.890000000000001,
          3.22,
          1.61,
          1.4250000000000005,
          6.263333333333333,
          1.7433333333333334,
          8.1175,
          1.4674999999999998,
          3.1500000000000004,
          2.53,
          1.225,
          3.71,
          0.87,
          1.0825,
          9.165,
          15.583333333333334,
          24.050000000000004,
          14.11,
          3.723333333333333,
          14.963333333333331,
          9.225,
          5.875,
          5.75,
          4.475,
          0.9,
          1.2200000000000002,
          0.8,
          2.245,
          2.2666666666666666,
          2.783333333333333,
          1.15,
          4.1075,
          1.1,
          0.5833333333333334,
          1.5599999999999998,
          2.41,
          0.975,
          0.625,
          1.1075000000000002,
          2.9425,
          2.2125,
          1.2625,
          3.5333333333333337,
          1.1625,
          1.5699999999999998,
          1.715,
          1.9,
          1.47,
          1.9625,
          1.5875
         ],
         "yaxis": "y"
        },
        {
         "mode": "lines",
         "name": "Trend",
         "type": "scatter",
         "x": [
          "2022-04-07T00:00:00",
          "2022-04-09T00:00:00",
          "2022-04-11T00:00:00",
          "2022-04-13T00:00:00",
          "2022-04-15T00:00:00",
          "2022-04-17T00:00:00",
          "2022-04-19T00:00:00",
          "2022-04-21T00:00:00",
          "2022-04-23T00:00:00",
          "2022-04-25T00:00:00",
          "2022-04-27T00:00:00",
          "2022-04-29T00:00:00",
          "2022-05-01T00:00:00",
          "2022-05-03T00:00:00",
          "2022-05-05T00:00:00",
          "2022-05-07T00:00:00",
          "2022-05-09T00:00:00",
          "2022-05-11T00:00:00",
          "2022-05-13T00:00:00",
          "2022-05-15T00:00:00",
          "2022-05-17T00:00:00",
          "2022-05-19T00:00:00",
          "2022-05-21T00:00:00",
          "2022-05-23T00:00:00",
          "2022-05-25T00:00:00",
          "2022-05-27T00:00:00",
          "2022-05-29T00:00:00",
          "2022-06-01T00:00:00",
          "2022-06-03T00:00:00",
          "2022-06-05T00:00:00",
          "2022-06-07T00:00:00",
          "2022-06-09T00:00:00",
          "2022-06-11T00:00:00",
          "2022-06-13T00:00:00",
          "2022-06-15T00:00:00",
          "2022-06-17T00:00:00",
          "2022-06-19T00:00:00",
          "2022-06-21T00:00:00",
          "2022-06-23T00:00:00",
          "2022-06-25T00:00:00",
          "2022-06-27T00:00:00",
          "2022-06-29T00:00:00",
          "2022-07-01T00:00:00",
          "2022-07-03T00:00:00",
          "2022-07-05T00:00:00",
          "2022-07-07T00:00:00",
          "2022-07-09T00:00:00",
          "2022-07-11T00:00:00",
          "2022-07-13T00:00:00",
          "2022-07-15T00:00:00",
          "2022-07-17T00:00:00",
          "2022-07-19T00:00:00",
          "2022-07-21T00:00:00",
          "2022-07-23T00:00:00",
          "2022-07-25T00:00:00",
          "2022-07-27T00:00:00",
          "2022-07-29T00:00:00",
          "2022-08-01T00:00:00",
          "2022-08-03T00:00:00",
          "2022-08-05T00:00:00",
          "2022-08-07T00:00:00",
          "2022-08-09T00:00:00",
          "2022-08-11T00:00:00",
          "2022-08-13T00:00:00",
          "2022-08-15T00:00:00",
          "2022-08-17T00:00:00",
          "2022-08-19T00:00:00",
          "2022-08-21T00:00:00",
          "2022-08-23T00:00:00",
          "2022-08-25T00:00:00",
          "2022-08-27T00:00:00",
          "2022-08-29T00:00:00",
          "2022-09-01T00:00:00",
          "2022-09-03T00:00:00",
          "2022-09-05T00:00:00",
          "2022-09-07T00:00:00",
          "2022-09-09T00:00:00",
          "2022-09-11T00:00:00",
          "2022-09-13T00:00:00",
          "2022-09-15T00:00:00",
          "2022-09-17T00:00:00",
          "2022-09-19T00:00:00",
          "2022-09-21T00:00:00",
          "2022-09-23T00:00:00",
          "2022-09-25T00:00:00",
          "2022-09-27T00:00:00",
          "2022-09-29T00:00:00",
          "2022-10-01T00:00:00",
          "2022-10-03T00:00:00",
          "2022-10-05T00:00:00",
          "2022-10-07T00:00:00",
          "2022-10-09T00:00:00",
          "2022-10-11T00:00:00",
          "2022-10-13T00:00:00",
          "2022-10-15T00:00:00",
          "2022-10-17T00:00:00",
          "2022-10-19T00:00:00",
          "2022-10-21T00:00:00",
          "2022-10-23T00:00:00",
          "2022-10-25T00:00:00",
          "2022-10-27T00:00:00",
          "2022-10-29T00:00:00",
          "2022-11-01T00:00:00",
          "2022-11-03T00:00:00",
          "2022-11-05T00:00:00",
          "2022-11-07T00:00:00",
          "2022-11-09T00:00:00",
          "2022-11-11T00:00:00",
          "2022-11-13T00:00:00",
          "2022-11-15T00:00:00",
          "2022-11-17T00:00:00",
          "2022-11-19T00:00:00",
          "2022-11-21T00:00:00",
          "2022-11-23T00:00:00",
          "2022-11-25T00:00:00",
          "2022-11-27T00:00:00",
          "2022-11-29T00:00:00",
          "2022-12-01T00:00:00",
          "2022-12-03T00:00:00",
          "2022-12-05T00:00:00",
          "2022-12-07T00:00:00",
          "2022-12-09T00:00:00",
          "2022-12-11T00:00:00",
          "2022-12-13T00:00:00",
          "2022-12-15T00:00:00",
          "2022-12-17T00:00:00",
          "2022-12-19T00:00:00",
          "2022-12-21T00:00:00",
          "2022-12-23T00:00:00",
          "2022-12-25T00:00:00",
          "2022-12-27T00:00:00",
          "2022-12-29T00:00:00",
          "2023-01-01T00:00:00",
          "2023-01-03T00:00:00",
          "2023-01-05T00:00:00",
          "2023-01-07T00:00:00",
          "2023-01-09T00:00:00",
          "2023-01-11T00:00:00",
          "2023-01-13T00:00:00",
          "2023-01-15T00:00:00",
          "2023-01-17T00:00:00",
          "2023-01-19T00:00:00",
          "2023-01-21T00:00:00",
          "2023-01-23T00:00:00",
          "2023-01-25T00:00:00",
          "2023-01-27T00:00:00",
          "2023-01-29T00:00:00",
          "2023-02-01T00:00:00",
          "2023-02-03T00:00:00",
          "2023-02-05T00:00:00",
          "2023-02-07T00:00:00",
          "2023-02-09T00:00:00",
          "2023-02-11T00:00:00",
          "2023-02-13T00:00:00",
          "2023-02-15T00:00:00",
          "2023-02-17T00:00:00",
          "2023-02-19T00:00:00",
          "2023-02-21T00:00:00",
          "2023-02-23T00:00:00",
          "2023-02-25T00:00:00",
          "2023-02-27T00:00:00",
          "2023-03-01T00:00:00",
          "2023-03-03T00:00:00",
          "2023-03-05T00:00:00",
          "2023-03-07T00:00:00",
          "2023-03-09T00:00:00",
          "2023-03-11T00:00:00",
          "2023-03-13T00:00:00",
          "2023-03-15T00:00:00",
          "2023-03-17T00:00:00",
          "2023-03-19T00:00:00",
          "2023-03-21T00:00:00",
          "2023-03-25T00:00:00",
          "2023-03-27T00:00:00",
          "2023-03-29T00:00:00",
          "2023-04-01T00:00:00",
          "2023-04-03T00:00:00",
          "2023-04-05T00:00:00",
          "2023-04-07T00:00:00",
          "2023-04-09T00:00:00",
          "2023-04-11T00:00:00",
          "2023-04-13T00:00:00",
          "2023-04-15T00:00:00",
          "2023-04-17T00:00:00",
          "2023-04-19T00:00:00",
          "2023-04-21T00:00:00",
          "2023-04-23T00:00:00",
          "2023-04-25T00:00:00",
          "2023-04-27T00:00:00",
          "2023-04-29T00:00:00",
          "2023-05-01T00:00:00",
          "2023-05-03T00:00:00",
          "2023-05-05T00:00:00",
          "2023-05-07T00:00:00",
          "2023-05-09T00:00:00",
          "2023-05-11T00:00:00",
          "2023-05-13T00:00:00",
          "2023-05-15T00:00:00",
          "2023-05-17T00:00:00",
          "2023-05-19T00:00:00",
          "2023-05-21T00:00:00",
          "2023-05-23T00:00:00",
          "2023-05-25T00:00:00",
          "2023-05-27T00:00:00",
          "2023-05-29T00:00:00",
          "2023-06-01T00:00:00",
          "2023-06-03T00:00:00",
          "2023-06-05T00:00:00",
          "2023-06-07T00:00:00",
          "2023-06-09T00:00:00",
          "2023-06-11T00:00:00",
          "2023-06-13T00:00:00",
          "2023-06-15T00:00:00",
          "2023-06-17T00:00:00",
          "2023-06-19T00:00:00",
          "2023-06-21T00:00:00",
          "2023-06-23T00:00:00",
          "2023-06-25T00:00:00",
          "2023-06-27T00:00:00",
          "2023-06-29T00:00:00",
          "2023-07-01T00:00:00",
          "2023-07-03T00:00:00",
          "2023-07-05T00:00:00",
          "2023-07-07T00:00:00",
          "2023-07-09T00:00:00",
          "2023-07-11T00:00:00",
          "2023-07-13T00:00:00",
          "2023-07-15T00:00:00",
          "2023-07-17T00:00:00",
          "2023-07-19T00:00:00",
          "2023-07-21T00:00:00",
          "2023-07-23T00:00:00",
          "2023-07-25T00:00:00",
          "2023-07-27T00:00:00",
          "2023-07-29T00:00:00",
          "2023-08-01T00:00:00",
          "2023-08-03T00:00:00",
          "2023-08-05T00:00:00",
          "2023-08-07T00:00:00",
          "2023-08-09T00:00:00",
          "2023-08-11T00:00:00",
          "2023-08-13T00:00:00",
          "2023-08-15T00:00:00",
          "2023-08-17T00:00:00",
          "2023-08-19T00:00:00",
          "2023-08-21T00:00:00",
          "2023-08-23T00:00:00",
          "2023-08-25T00:00:00",
          "2023-08-27T00:00:00",
          "2023-08-29T00:00:00",
          "2023-09-01T00:00:00",
          "2023-09-03T00:00:00",
          "2023-09-05T00:00:00",
          "2023-09-07T00:00:00",
          "2023-09-09T00:00:00",
          "2023-09-11T00:00:00",
          "2023-09-13T00:00:00",
          "2023-09-15T00:00:00",
          "2023-09-17T00:00:00",
          "2023-09-19T00:00:00",
          "2023-09-21T00:00:00",
          "2023-09-23T00:00:00",
          "2023-09-25T00:00:00",
          "2023-09-27T00:00:00",
          "2023-09-29T00:00:00",
          "2023-10-01T00:00:00",
          "2023-10-03T00:00:00",
          "2023-10-05T00:00:00",
          "2023-10-07T00:00:00",
          "2023-10-09T00:00:00",
          "2023-10-11T00:00:00",
          "2023-10-13T00:00:00",
          "2023-10-15T00:00:00",
          "2023-10-17T00:00:00",
          "2023-10-19T00:00:00",
          "2023-10-21T00:00:00",
          "2023-10-23T00:00:00",
          "2023-10-25T00:00:00",
          "2023-10-27T00:00:00",
          "2023-10-29T00:00:00",
          "2023-11-01T00:00:00",
          "2023-11-03T00:00:00",
          "2023-11-05T00:00:00",
          "2023-11-07T00:00:00",
          "2023-11-09T00:00:00",
          "2023-11-11T00:00:00",
          "2023-11-13T00:00:00",
          "2023-11-15T00:00:00",
          "2023-11-17T00:00:00",
          "2023-11-19T00:00:00",
          "2023-11-21T00:00:00",
          "2023-11-23T00:00:00",
          "2023-11-25T00:00:00",
          "2023-11-27T00:00:00",
          "2023-11-29T00:00:00",
          "2023-12-01T00:00:00",
          "2023-12-03T00:00:00",
          "2023-12-05T00:00:00",
          "2023-12-07T00:00:00",
          "2023-12-09T00:00:00",
          "2023-12-11T00:00:00",
          "2023-12-13T00:00:00",
          "2023-12-15T00:00:00",
          "2023-12-17T00:00:00",
          "2023-12-19T00:00:00",
          "2023-12-21T00:00:00",
          "2023-12-23T00:00:00",
          "2023-12-25T00:00:00",
          "2023-12-27T00:00:00",
          "2023-12-29T00:00:00",
          "2024-01-01T00:00:00",
          "2024-01-03T00:00:00",
          "2024-01-05T00:00:00",
          "2024-01-07T00:00:00",
          "2024-01-09T00:00:00",
          "2024-01-11T00:00:00",
          "2024-01-13T00:00:00",
          "2024-01-15T00:00:00",
          "2024-01-17T00:00:00",
          "2024-01-19T00:00:00",
          "2024-01-21T00:00:00",
          "2024-01-23T00:00:00",
          "2024-01-25T00:00:00",
          "2024-01-27T00:00:00",
          "2024-01-29T00:00:00",
          "2024-02-01T00:00:00",
          "2024-02-03T00:00:00",
          "2024-02-05T00:00:00",
          "2024-02-07T00:00:00",
          "2024-02-09T00:00:00",
          "2024-02-11T00:00:00",
          "2024-02-13T00:00:00",
          "2024-02-15T00:00:00",
          "2024-02-17T00:00:00",
          "2024-02-19T00:00:00",
          "2024-02-21T00:00:00",
          "2024-02-23T00:00:00",
          "2024-02-25T00:00:00",
          "2024-02-27T00:00:00",
          "2024-02-29T00:00:00",
          "2024-03-01T00:00:00",
          "2024-03-03T00:00:00",
          "2024-03-05T00:00:00",
          "2024-03-07T00:00:00",
          "2024-03-09T00:00:00",
          "2024-03-11T00:00:00",
          "2024-03-13T00:00:00",
          "2024-03-15T00:00:00",
          "2024-04-09T00:00:00",
          "2024-04-11T00:00:00",
          "2024-04-13T00:00:00",
          "2024-04-15T00:00:00",
          "2024-04-17T00:00:00",
          "2024-04-19T00:00:00",
          "2024-04-21T00:00:00",
          "2024-04-23T00:00:00",
          "2024-04-25T00:00:00",
          "2024-04-27T00:00:00",
          "2024-04-29T00:00:00",
          "2024-05-01T00:00:00",
          "2024-05-03T00:00:00",
          "2024-05-05T00:00:00",
          "2024-05-07T00:00:00",
          "2024-05-09T00:00:00",
          "2024-05-11T00:00:00",
          "2024-05-13T00:00:00",
          "2024-05-15T00:00:00",
          "2024-05-17T00:00:00",
          "2024-05-19T00:00:00",
          "2024-05-21T00:00:00",
          "2024-05-23T00:00:00",
          "2024-05-25T00:00:00",
          "2024-05-27T00:00:00",
          "2024-05-29T00:00:00"
         ],
         "y": [
          4.036239596498867,
          4.036031884826331,
          4.035824173153794,
          4.035616461481258,
          4.035408749808721,
          4.035201038136185,
          4.034993326463648,
          4.034785614791112,
          4.034577903118574,
          4.034370191446038,
          4.034162479773501,
          4.033954768100965,
          4.033747056428428,
          4.033539344755892,
          4.033331633083355,
          4.0331239214108185,
          4.032916209738282,
          4.0327084980657455,
          4.032500786393209,
          4.032293074720672,
          4.032085363048136,
          4.031877651375599,
          4.031669939703063,
          4.031462228030526,
          4.031254516357989,
          4.031046804685452,
          4.030839093012916,
          4.0305275255041115,
          4.030319813831575,
          4.0301121021590385,
          4.029904390486502,
          4.0296966788139645,
          4.029488967141428,
          4.0292812554688915,
          4.029073543796355,
          4.028865832123818,
          4.028658120451282,
          4.028450408778745,
          4.028242697106209,
          4.028034985433672,
          4.027827273761136,
          4.027619562088599,
          4.027411850416063,
          4.027204138743526,
          4.02699642707099,
          4.026788715398453,
          4.026581003725917,
          4.026373292053379,
          4.026165580380843,
          4.025957868708306,
          4.02575015703577,
          4.025542445363233,
          4.025334733690697,
          4.02512702201816,
          4.024919310345624,
          4.024711598673087,
          4.0245038870005505,
          4.024192319491745,
          4.023984607819209,
          4.023776896146672,
          4.023569184474136,
          4.023361472801599,
          4.023153761129063,
          4.022946049456526,
          4.02273833778399,
          4.022530626111453,
          4.0223229144389165,
          4.02211520276638,
          4.0219074910938435,
          4.021699779421307,
          4.0214920677487695,
          4.021284356076233,
          4.020972788567429,
          4.020765076894892,
          4.020557365222356,
          4.020349653549819,
          4.020141941877283,
          4.019934230204745,
          4.019726518532209,
          4.019518806859672,
          4.019311095187136,
          4.019103383514599,
          4.0188956718420625,
          4.018687960169526,
          4.0184802484969895,
          4.018272536824453,
          4.018064825151916,
          4.01785711347938,
          4.017649401806843,
          4.017441690134307,
          4.01723397846177,
          4.017026266789234,
          4.016818555116697,
          4.01661084344416,
          4.016403131771623,
          4.016195420099087,
          4.01598770842655,
          4.015779996754014,
          4.015572285081477,
          4.015364573408941,
          4.015156861736404,
          4.014949150063868,
          4.014637582555062,
          4.014429870882526,
          4.014222159209989,
          4.014014447537453,
          4.013806735864916,
          4.01359902419238,
          4.013391312519843,
          4.013183600847307,
          4.01297588917477,
          4.012768177502234,
          4.012560465829697,
          4.012352754157161,
          4.012145042484624,
          4.011937330812087,
          4.01172961913955,
          4.011521907467014,
          4.011314195794477,
          4.011106484121941,
          4.010898772449404,
          4.0106910607768675,
          4.010483349104331,
          4.0102756374317945,
          4.010067925759258,
          4.009860214086721,
          4.009652502414185,
          4.009444790741648,
          4.009237079069112,
          4.009029367396575,
          4.008821655724039,
          4.008613944051501,
          4.008302376542697,
          4.0080946648701605,
          4.007886953197624,
          4.0076792415250875,
          4.007471529852551,
          4.007263818180014,
          4.007056106507477,
          4.0068483948349405,
          4.006640683162404,
          4.006432971489867,
          4.006225259817331,
          4.006017548144794,
          4.005809836472258,
          4.005602124799721,
          4.005394413127185,
          4.00508284561838,
          4.004875133945843,
          4.0046674222733065,
          4.00445971060077,
          4.0042519989282335,
          4.004044287255697,
          4.00383657558316,
          4.003628863910624,
          4.003421152238087,
          4.003213440565551,
          4.003005728893014,
          4.002798017220478,
          4.002590305547941,
          4.002382593875405,
          4.002174882202867,
          4.001967170530331,
          4.001759458857794,
          4.001551747185258,
          4.001344035512721,
          4.001136323840185,
          4.000928612167648,
          4.000720900495112,
          4.000513188822575,
          4.000305477150039,
          4.000097765477502,
          3.9996823421324286,
          3.999474630459892,
          3.9992669187873555,
          3.9989553512785507,
          3.998747639606014,
          3.9985399279334777,
          3.998332216260941,
          3.998124504588404,
          3.9979167929158677,
          3.997709081243331,
          3.9975013695707946,
          3.997293657898258,
          3.9970859462257216,
          3.996878234553185,
          3.9966705228806485,
          3.9964628112081115,
          3.996255099535575,
          3.9960473878630385,
          3.995839676190502,
          3.9956319645179654,
          3.995424252845429,
          3.9952165411728924,
          3.995008829500356,
          3.994801117827819,
          3.9945934061552824,
          3.994385694482746,
          3.9941779828102093,
          3.993970271137673,
          3.9937625594651363,
          3.9935548477925997,
          3.993347136120063,
          3.9931394244475262,
          3.9929317127749897,
          3.992620145266185,
          3.9924124335936484,
          3.992204721921112,
          3.9919970102485753,
          3.991789298576039,
          3.991581586903502,
          3.9913738752309653,
          3.991166163558429,
          3.9909584518858923,
          3.9907507402133557,
          3.990543028540819,
          3.9903353168682827,
          3.990127605195746,
          3.989919893523209,
          3.9897121818506727,
          3.989504470178136,
          3.9892967585055996,
          3.989089046833063,
          3.9888813351605266,
          3.98867362348799,
          3.9884659118154535,
          3.9882582001429165,
          3.98805048847038,
          3.9878427767978435,
          3.987635065125307,
          3.9874273534527704,
          3.987219641780234,
          3.9870119301076974,
          3.986804218435161,
          3.986596506762624,
          3.986284939253819,
          3.9860772275812826,
          3.985869515908746,
          3.9856618042362095,
          3.985454092563673,
          3.9852463808911365,
          3.9850386692185995,
          3.984830957546063,
          3.9846232458735265,
          3.98441553420099,
          3.9842078225284534,
          3.984000110855917,
          3.9837923991833804,
          3.983584687510844,
          3.983376975838307,
          3.983065408329502,
          3.9828576966569655,
          3.982649984984429,
          3.9824422733118925,
          3.982234561639356,
          3.9820268499668194,
          3.9818191382942825,
          3.981611426621746,
          3.9814037149492094,
          3.981196003276673,
          3.9809882916041364,
          3.9807805799316,
          3.9805728682590633,
          3.980365156586527,
          3.98015744491399,
          3.9799497332414533,
          3.9797420215689168,
          3.9795343098963802,
          3.9793265982238437,
          3.979118886551307,
          3.9789111748787707,
          3.9787034632062337,
          3.978495751533697,
          3.9782880398611606,
          3.978080328188624,
          3.9778726165160876,
          3.977664904843551,
          3.9774571931710145,
          3.977249481498478,
          3.977041769825941,
          3.9767302023171363,
          3.9765224906445997,
          3.976314778972063,
          3.9761070672995267,
          3.97589935562699,
          3.9756916439544536,
          3.975483932281917,
          3.97527622060938,
          3.9750685089368436,
          3.974860797264307,
          3.9746530855917706,
          3.974445373919234,
          3.9742376622466975,
          3.974029950574161,
          3.973822238901624,
          3.9736145272290875,
          3.973406815556551,
          3.9731991038840144,
          3.972991392211478,
          3.9727836805389414,
          3.972575968866405,
          3.9723682571938683,
          3.9721605455213314,
          3.971952833848795,
          3.9717451221762583,
          3.9715374105037218,
          3.9713296988311853,
          3.9711219871586487,
          3.970914275486112,
          3.9707065638135757,
          3.9703949963047704,
          3.970187284632234,
          3.9699795729596974,
          3.969771861287161,
          3.9695641496146243,
          3.969356437942088,
          3.9691487262695513,
          3.9689410145970143,
          3.968733302924478,
          3.9685255912519413,
          3.9683178795794047,
          3.968110167906868,
          3.9679024562343317,
          3.967694744561795,
          3.9674870328892586,
          3.9671754653804534,
          3.966967753707917,
          3.9667600420353804,
          3.966552330362844,
          3.9663446186903073,
          3.9661369070177708,
          3.9659291953452342,
          3.9657214836726977,
          3.9655137720001608,
          3.9653060603276242,
          3.9650983486550877,
          3.964890636982551,
          3.9646829253100146,
          3.964475213637478,
          3.9642675019649416,
          3.9641636461286733,
          3.9639559344561364,
          3.9637482227836,
          3.9635405111110633,
          3.963332799438527,
          3.9631250877659903,
          3.9629173760934537,
          3.962709664420917,
          3.9601132685142098,
          3.9599055568416732,
          3.9596978451691367,
          3.9594901334966,
          3.9592824218240636,
          3.9590747101515267,
          3.95886699847899,
          3.9586592868064536,
          3.958451575133917,
          3.9582438634613806,
          3.958036151788844,
          3.9578284401163075,
          3.9576207284437706,
          3.957413016771234,
          3.9572053050986975,
          3.956997593426161,
          3.9567898817536244,
          3.956582170081088,
          3.9563744584085514,
          3.956166746736015,
          3.955959035063478,
          3.9557513233909414,
          3.955543611718405,
          3.9553359000458683,
          3.955128188373332,
          3.9549204767007953
         ]
        }
       ],
       "layout": {
        "legend": {
         "tracegroupgap": 0
        },
        "template": {
         "data": {
          "bar": [
           {
            "error_x": {
             "color": "#2a3f5f"
            },
            "error_y": {
             "color": "#2a3f5f"
            },
            "marker": {
             "line": {
              "color": "#E5ECF6",
              "width": 0.5
             },
             "pattern": {
              "fillmode": "overlay",
              "size": 10,
              "solidity": 0.2
             }
            },
            "type": "bar"
           }
          ],
          "barpolar": [
           {
            "marker": {
             "line": {
              "color": "#E5ECF6",
              "width": 0.5
             },
             "pattern": {
              "fillmode": "overlay",
              "size": 10,
              "solidity": 0.2
             }
            },
            "type": "barpolar"
           }
          ],
          "carpet": [
           {
            "aaxis": {
             "endlinecolor": "#2a3f5f",
             "gridcolor": "white",
             "linecolor": "white",
             "minorgridcolor": "white",
             "startlinecolor": "#2a3f5f"
            },
            "baxis": {
             "endlinecolor": "#2a3f5f",
             "gridcolor": "white",
             "linecolor": "white",
             "minorgridcolor": "white",
             "startlinecolor": "#2a3f5f"
            },
            "type": "carpet"
           }
          ],
          "choropleth": [
           {
            "colorbar": {
             "outlinewidth": 0,
             "ticks": ""
            },
            "type": "choropleth"
           }
          ],
          "contour": [
           {
            "colorbar": {
             "outlinewidth": 0,
             "ticks": ""
            },
            "colorscale": [
             [
              0,
              "#0d0887"
             ],
             [
              0.1111111111111111,
              "#46039f"
             ],
             [
              0.2222222222222222,
              "#7201a8"
             ],
             [
              0.3333333333333333,
              "#9c179e"
             ],
             [
              0.4444444444444444,
              "#bd3786"
             ],
             [
              0.5555555555555556,
              "#d8576b"
             ],
             [
              0.6666666666666666,
              "#ed7953"
             ],
             [
              0.7777777777777778,
              "#fb9f3a"
             ],
             [
              0.8888888888888888,
              "#fdca26"
             ],
             [
              1,
              "#f0f921"
             ]
            ],
            "type": "contour"
           }
          ],
          "contourcarpet": [
           {
            "colorbar": {
             "outlinewidth": 0,
             "ticks": ""
            },
            "type": "contourcarpet"
           }
          ],
          "heatmap": [
           {
            "colorbar": {
             "outlinewidth": 0,
             "ticks": ""
            },
            "colorscale": [
             [
              0,
              "#0d0887"
             ],
             [
              0.1111111111111111,
              "#46039f"
             ],
             [
              0.2222222222222222,
              "#7201a8"
             ],
             [
              0.3333333333333333,
              "#9c179e"
             ],
             [
              0.4444444444444444,
              "#bd3786"
             ],
             [
              0.5555555555555556,
              "#d8576b"
             ],
             [
              0.6666666666666666,
              "#ed7953"
             ],
             [
              0.7777777777777778,
              "#fb9f3a"
             ],
             [
              0.8888888888888888,
              "#fdca26"
             ],
             [
              1,
              "#f0f921"
             ]
            ],
            "type": "heatmap"
           }
          ],
          "heatmapgl": [
           {
            "colorbar": {
             "outlinewidth": 0,
             "ticks": ""
            },
            "colorscale": [
             [
              0,
              "#0d0887"
             ],
             [
              0.1111111111111111,
              "#46039f"
             ],
             [
              0.2222222222222222,
              "#7201a8"
             ],
             [
              0.3333333333333333,
              "#9c179e"
             ],
             [
              0.4444444444444444,
              "#bd3786"
             ],
             [
              0.5555555555555556,
              "#d8576b"
             ],
             [
              0.6666666666666666,
              "#ed7953"
             ],
             [
              0.7777777777777778,
              "#fb9f3a"
             ],
             [
              0.8888888888888888,
              "#fdca26"
             ],
             [
              1,
              "#f0f921"
             ]
            ],
            "type": "heatmapgl"
           }
          ],
          "histogram": [
           {
            "marker": {
             "pattern": {
              "fillmode": "overlay",
              "size": 10,
              "solidity": 0.2
             }
            },
            "type": "histogram"
           }
          ],
          "histogram2d": [
           {
            "colorbar": {
             "outlinewidth": 0,
             "ticks": ""
            },
            "colorscale": [
             [
              0,
              "#0d0887"
             ],
             [
              0.1111111111111111,
              "#46039f"
             ],
             [
              0.2222222222222222,
              "#7201a8"
             ],
             [
              0.3333333333333333,
              "#9c179e"
             ],
             [
              0.4444444444444444,
              "#bd3786"
             ],
             [
              0.5555555555555556,
              "#d8576b"
             ],
             [
              0.6666666666666666,
              "#ed7953"
             ],
             [
              0.7777777777777778,
              "#fb9f3a"
             ],
             [
              0.8888888888888888,
              "#fdca26"
             ],
             [
              1,
              "#f0f921"
             ]
            ],
            "type": "histogram2d"
           }
          ],
          "histogram2dcontour": [
           {
            "colorbar": {
             "outlinewidth": 0,
             "ticks": ""
            },
            "colorscale": [
             [
              0,
              "#0d0887"
             ],
             [
              0.1111111111111111,
              "#46039f"
             ],
             [
              0.2222222222222222,
              "#7201a8"
             ],
             [
              0.3333333333333333,
              "#9c179e"
             ],
             [
              0.4444444444444444,
              "#bd3786"
             ],
             [
              0.5555555555555556,
              "#d8576b"
             ],
             [
              0.6666666666666666,
              "#ed7953"
             ],
             [
              0.7777777777777778,
              "#fb9f3a"
             ],
             [
              0.8888888888888888,
              "#fdca26"
             ],
             [
              1,
              "#f0f921"
             ]
            ],
            "type": "histogram2dcontour"
           }
          ],
          "mesh3d": [
           {
            "colorbar": {
             "outlinewidth": 0,
             "ticks": ""
            },
            "type": "mesh3d"
           }
          ],
          "parcoords": [
           {
            "line": {
             "colorbar": {
              "outlinewidth": 0,
              "ticks": ""
             }
            },
            "type": "parcoords"
           }
          ],
          "pie": [
           {
            "automargin": true,
            "type": "pie"
           }
          ],
          "scatter": [
           {
            "fillpattern": {
             "fillmode": "overlay",
             "size": 10,
             "solidity": 0.2
            },
            "type": "scatter"
           }
          ],
          "scatter3d": [
           {
            "line": {
             "colorbar": {
              "outlinewidth": 0,
              "ticks": ""
             }
            },
            "marker": {
             "colorbar": {
              "outlinewidth": 0,
              "ticks": ""
             }
            },
            "type": "scatter3d"
           }
          ],
          "scattercarpet": [
           {
            "marker": {
             "colorbar": {
              "outlinewidth": 0,
              "ticks": ""
             }
            },
            "type": "scattercarpet"
           }
          ],
          "scattergeo": [
           {
            "marker": {
             "colorbar": {
              "outlinewidth": 0,
              "ticks": ""
             }
            },
            "type": "scattergeo"
           }
          ],
          "scattergl": [
           {
            "marker": {
             "colorbar": {
              "outlinewidth": 0,
              "ticks": ""
             }
            },
            "type": "scattergl"
           }
          ],
          "scattermapbox": [
           {
            "marker": {
             "colorbar": {
              "outlinewidth": 0,
              "ticks": ""
             }
            },
            "type": "scattermapbox"
           }
          ],
          "scatterpolar": [
           {
            "marker": {
             "colorbar": {
              "outlinewidth": 0,
              "ticks": ""
             }
            },
            "type": "scatterpolar"
           }
          ],
          "scatterpolargl": [
           {
            "marker": {
             "colorbar": {
              "outlinewidth": 0,
              "ticks": ""
             }
            },
            "type": "scatterpolargl"
           }
          ],
          "scatterternary": [
           {
            "marker": {
             "colorbar": {
              "outlinewidth": 0,
              "ticks": ""
             }
            },
            "type": "scatterternary"
           }
          ],
          "surface": [
           {
            "colorbar": {
             "outlinewidth": 0,
             "ticks": ""
            },
            "colorscale": [
             [
              0,
              "#0d0887"
             ],
             [
              0.1111111111111111,
              "#46039f"
             ],
             [
              0.2222222222222222,
              "#7201a8"
             ],
             [
              0.3333333333333333,
              "#9c179e"
             ],
             [
              0.4444444444444444,
              "#bd3786"
             ],
             [
              0.5555555555555556,
              "#d8576b"
             ],
             [
              0.6666666666666666,
              "#ed7953"
             ],
             [
              0.7777777777777778,
              "#fb9f3a"
             ],
             [
              0.8888888888888888,
              "#fdca26"
             ],
             [
              1,
              "#f0f921"
             ]
            ],
            "type": "surface"
           }
          ],
          "table": [
           {
            "cells": {
             "fill": {
              "color": "#EBF0F8"
             },
             "line": {
              "color": "white"
             }
            },
            "header": {
             "fill": {
              "color": "#C8D4E3"
             },
             "line": {
              "color": "white"
             }
            },
            "type": "table"
           }
          ]
         },
         "layout": {
          "annotationdefaults": {
           "arrowcolor": "#2a3f5f",
           "arrowhead": 0,
           "arrowwidth": 1
          },
          "autotypenumbers": "strict",
          "coloraxis": {
           "colorbar": {
            "outlinewidth": 0,
            "ticks": ""
           }
          },
          "colorscale": {
           "diverging": [
            [
             0,
             "#8e0152"
            ],
            [
             0.1,
             "#c51b7d"
            ],
            [
             0.2,
             "#de77ae"
            ],
            [
             0.3,
             "#f1b6da"
            ],
            [
             0.4,
             "#fde0ef"
            ],
            [
             0.5,
             "#f7f7f7"
            ],
            [
             0.6,
             "#e6f5d0"
            ],
            [
             0.7,
             "#b8e186"
            ],
            [
             0.8,
             "#7fbc41"
            ],
            [
             0.9,
             "#4d9221"
            ],
            [
             1,
             "#276419"
            ]
           ],
           "sequential": [
            [
             0,
             "#0d0887"
            ],
            [
             0.1111111111111111,
             "#46039f"
            ],
            [
             0.2222222222222222,
             "#7201a8"
            ],
            [
             0.3333333333333333,
             "#9c179e"
            ],
            [
             0.4444444444444444,
             "#bd3786"
            ],
            [
             0.5555555555555556,
             "#d8576b"
            ],
            [
             0.6666666666666666,
             "#ed7953"
            ],
            [
             0.7777777777777778,
             "#fb9f3a"
            ],
            [
             0.8888888888888888,
             "#fdca26"
            ],
            [
             1,
             "#f0f921"
            ]
           ],
           "sequentialminus": [
            [
             0,
             "#0d0887"
            ],
            [
             0.1111111111111111,
             "#46039f"
            ],
            [
             0.2222222222222222,
             "#7201a8"
            ],
            [
             0.3333333333333333,
             "#9c179e"
            ],
            [
             0.4444444444444444,
             "#bd3786"
            ],
            [
             0.5555555555555556,
             "#d8576b"
            ],
            [
             0.6666666666666666,
             "#ed7953"
            ],
            [
             0.7777777777777778,
             "#fb9f3a"
            ],
            [
             0.8888888888888888,
             "#fdca26"
            ],
            [
             1,
             "#f0f921"
            ]
           ]
          },
          "colorway": [
           "#636efa",
           "#EF553B",
           "#00cc96",
           "#ab63fa",
           "#FFA15A",
           "#19d3f3",
           "#FF6692",
           "#B6E880",
           "#FF97FF",
           "#FECB52"
          ],
          "font": {
           "color": "#2a3f5f"
          },
          "geo": {
           "bgcolor": "white",
           "lakecolor": "white",
           "landcolor": "#E5ECF6",
           "showlakes": true,
           "showland": true,
           "subunitcolor": "white"
          },
          "hoverlabel": {
           "align": "left"
          },
          "hovermode": "closest",
          "mapbox": {
           "style": "light"
          },
          "paper_bgcolor": "white",
          "plot_bgcolor": "#E5ECF6",
          "polar": {
           "angularaxis": {
            "gridcolor": "white",
            "linecolor": "white",
            "ticks": ""
           },
           "bgcolor": "#E5ECF6",
           "radialaxis": {
            "gridcolor": "white",
            "linecolor": "white",
            "ticks": ""
           }
          },
          "scene": {
           "xaxis": {
            "backgroundcolor": "#E5ECF6",
            "gridcolor": "white",
            "gridwidth": 2,
            "linecolor": "white",
            "showbackground": true,
            "ticks": "",
            "zerolinecolor": "white"
           },
           "yaxis": {
            "backgroundcolor": "#E5ECF6",
            "gridcolor": "white",
            "gridwidth": 2,
            "linecolor": "white",
            "showbackground": true,
            "ticks": "",
            "zerolinecolor": "white"
           },
           "zaxis": {
            "backgroundcolor": "#E5ECF6",
            "gridcolor": "white",
            "gridwidth": 2,
            "linecolor": "white",
            "showbackground": true,
            "ticks": "",
            "zerolinecolor": "white"
           }
          },
          "shapedefaults": {
           "line": {
            "color": "#2a3f5f"
           }
          },
          "ternary": {
           "aaxis": {
            "gridcolor": "white",
            "linecolor": "white",
            "ticks": ""
           },
           "baxis": {
            "gridcolor": "white",
            "linecolor": "white",
            "ticks": ""
           },
           "bgcolor": "#E5ECF6",
           "caxis": {
            "gridcolor": "white",
            "linecolor": "white",
            "ticks": ""
           }
          },
          "title": {
           "x": 0.05
          },
          "xaxis": {
           "automargin": true,
           "gridcolor": "white",
           "linecolor": "white",
           "ticks": "",
           "title": {
            "standoff": 15
           },
           "zerolinecolor": "white",
           "zerolinewidth": 2
          },
          "yaxis": {
           "automargin": true,
           "gridcolor": "white",
           "linecolor": "white",
           "ticks": "",
           "title": {
            "standoff": 15
           },
           "zerolinecolor": "white",
           "zerolinewidth": 2
          }
         }
        },
        "title": {
         "text": "Lineare Regression für average_landpm2_5"
        },
        "xaxis": {
         "anchor": "y",
         "domain": [
          0,
          1
         ],
         "title": {
          "text": "Datum"
         }
        },
        "yaxis": {
         "anchor": "x",
         "domain": [
          0,
          1
         ],
         "title": {
          "text": "average_landpm2_5"
         }
        }
       }
      }
     },
     "metadata": {},
     "output_type": "display_data"
    }
   ],
   "source": [
    "# Berechnung von R^2 und MSE und MAE und die Steigung\n",
    "r_squared_lpm2_5_regression = r2_score(y, land_PM2_5_average['land_PM2_5_average_trend'])\n",
    "mse_lpm2_5_regression = mean_squared_error(y, land_PM2_5_average['land_PM2_5_average_trend'])\n",
    "mae_lpm2_5_regression = mean_absolute_error(y, land_PM2_5_average['land_PM2_5_average_trend'])\n",
    "slope_lpm2_5 = model.coef_[0]\n",
    "\n",
    "# Visualisierung mit Plotly Express\n",
    "fig = px.scatter(land_PM2_5_average, x='datum', y='average_landpm2_5', title='Lineare Regression für average_landpm2_5')\n",
    "fig.add_scatter(x=land_PM2_5_average['datum'], y=land_PM2_5_average['land_PM2_5_average_trend'], mode='lines', name='Trend')\n",
    "fig.update_layout(xaxis_title='Datum', yaxis_title='average_landpm2_5')\n",
    "fig.show()"
   ]
  },
  {
   "cell_type": "markdown",
   "metadata": {},
   "source": [
    "hier fängt die zweite Tabelle an, also die Werte Land PM10"
   ]
  },
  {
   "cell_type": "markdown",
   "metadata": {},
   "source": [
    "es wird wieder die Tabelle eingelesen und in Trainings- und Testdaten unterteilt"
   ]
  },
  {
   "cell_type": "code",
   "execution_count": 220,
   "metadata": {},
   "outputs": [],
   "source": [
    "# CSV-Datei einlesen\n",
    "average_values = pd.read_csv(\"werte_daten/average_values.csv\")\n",
    "# es werden nur die nötigten Werte genommen\n",
    "land_PM10_average = average_values[[\"datum\", \"average_landpm10\"]]\n",
    "# Das Datum als Index setzen\n",
    "land_PM10_average.set_index('datum', inplace=True)\n",
    "\n",
    "# ein Series mit den Durchschnittsdaten erstellen\n",
    "values_lpm10 = land_PM10_average[\"average_landpm10\"]\n",
    "# das filtern der Datumswerte für die Visualisierung später\n",
    "zeitreihen_index_lpm10 = values_lpm10.index"
   ]
  },
  {
   "cell_type": "code",
   "execution_count": 221,
   "metadata": {},
   "outputs": [
    {
     "data": {
      "text/plain": [
       "((369, 5, 1), (369,))"
      ]
     },
     "execution_count": 221,
     "metadata": {},
     "output_type": "execute_result"
    }
   ],
   "source": [
    "# die Funktion ist dafür da, um die Values in X und y Werte zu unterteilen, mit einer gegebenen window-size\n",
    "def df_to_X_y(df, window_size=5):\n",
    "    df_as_np = df.to_numpy()\n",
    "    X = []\n",
    "    y = []\n",
    "    for i in range(len(df_as_np)-window_size):\n",
    "        row = [[a] for a in df_as_np[i:i+5]]\n",
    "        X.append(row)\n",
    "        label = df_as_np[i+5]\n",
    "        y.append(label)\n",
    "    return np.array(X), np.array(y)\n",
    "\n",
    "WINDOW_SIZE = 5\n",
    "X, y = df_to_X_y(values_lpm10, WINDOW_SIZE)\n",
    "X.shape, y.shape"
   ]
  },
  {
   "cell_type": "code",
   "execution_count": 222,
   "metadata": {},
   "outputs": [],
   "source": [
    "# die Daten werden in Traings-, Testdaten unterteilt, zudem wird auch der Index unterteilt\n",
    "X_train, y_train = X[:280], y[:280]\n",
    "train_index = zeitreihen_index_lpm10[5:285]\n",
    "X_val, y_val = X[:300], y[:300]\n",
    "val_index = zeitreihen_index_lpm10[5:305]\n",
    "X_test, y_test = X[300:], y[300:]\n",
    "test_index = zeitreihen_index_lpm10[305:]"
   ]
  },
  {
   "cell_type": "markdown",
   "metadata": {},
   "source": [
    "es wird wieder das Modell trainiert"
   ]
  },
  {
   "cell_type": "code",
   "execution_count": 102,
   "metadata": {},
   "outputs": [
    {
     "name": "stdout",
     "output_type": "stream",
     "text": [
      "Epoch 1/100\n",
      "\u001b[1m9/9\u001b[0m \u001b[32m━━━━━━━━━━━━━━━━━━━━\u001b[0m\u001b[37m\u001b[0m \u001b[1m2s\u001b[0m 50ms/step - loss: 77.5394 - root_mean_squared_error: 8.7720 - val_loss: 56.3892 - val_root_mean_squared_error: 7.5093\n",
      "Epoch 2/100\n",
      "\u001b[1m9/9\u001b[0m \u001b[32m━━━━━━━━━━━━━━━━━━━━\u001b[0m\u001b[37m\u001b[0m \u001b[1m0s\u001b[0m 10ms/step - loss: 54.7351 - root_mean_squared_error: 7.3612 - val_loss: 42.5005 - val_root_mean_squared_error: 6.5192\n",
      "Epoch 3/100\n",
      "\u001b[1m9/9\u001b[0m \u001b[32m━━━━━━━━━━━━━━━━━━━━\u001b[0m\u001b[37m\u001b[0m \u001b[1m0s\u001b[0m 11ms/step - loss: 45.9476 - root_mean_squared_error: 6.7434 - val_loss: 33.5287 - val_root_mean_squared_error: 5.7904\n",
      "Epoch 4/100\n",
      "\u001b[1m9/9\u001b[0m \u001b[32m━━━━━━━━━━━━━━━━━━━━\u001b[0m\u001b[37m\u001b[0m \u001b[1m0s\u001b[0m 12ms/step - loss: 25.6975 - root_mean_squared_error: 5.0390 - val_loss: 30.4349 - val_root_mean_squared_error: 5.5168\n",
      "Epoch 5/100\n",
      "\u001b[1m9/9\u001b[0m \u001b[32m━━━━━━━━━━━━━━━━━━━━\u001b[0m\u001b[37m\u001b[0m \u001b[1m0s\u001b[0m 10ms/step - loss: 34.0884 - root_mean_squared_error: 5.8141 - val_loss: 29.5652 - val_root_mean_squared_error: 5.4374\n",
      "Epoch 6/100\n",
      "\u001b[1m9/9\u001b[0m \u001b[32m━━━━━━━━━━━━━━━━━━━━\u001b[0m\u001b[37m\u001b[0m \u001b[1m0s\u001b[0m 10ms/step - loss: 28.8410 - root_mean_squared_error: 5.3468 - val_loss: 28.4604 - val_root_mean_squared_error: 5.3348\n",
      "Epoch 7/100\n",
      "\u001b[1m9/9\u001b[0m \u001b[32m━━━━━━━━━━━━━━━━━━━━\u001b[0m\u001b[37m\u001b[0m \u001b[1m0s\u001b[0m 8ms/step - loss: 26.3896 - root_mean_squared_error: 5.0988 - val_loss: 27.3767 - val_root_mean_squared_error: 5.2323\n",
      "Epoch 8/100\n",
      "\u001b[1m9/9\u001b[0m \u001b[32m━━━━━━━━━━━━━━━━━━━━\u001b[0m\u001b[37m\u001b[0m \u001b[1m0s\u001b[0m 10ms/step - loss: 20.3486 - root_mean_squared_error: 4.4526 - val_loss: 26.4897 - val_root_mean_squared_error: 5.1468\n",
      "Epoch 9/100\n",
      "\u001b[1m9/9\u001b[0m \u001b[32m━━━━━━━━━━━━━━━━━━━━\u001b[0m\u001b[37m\u001b[0m \u001b[1m0s\u001b[0m 11ms/step - loss: 27.8125 - root_mean_squared_error: 5.2601 - val_loss: 25.2131 - val_root_mean_squared_error: 5.0213\n",
      "Epoch 10/100\n",
      "\u001b[1m9/9\u001b[0m \u001b[32m━━━━━━━━━━━━━━━━━━━━\u001b[0m\u001b[37m\u001b[0m \u001b[1m0s\u001b[0m 8ms/step - loss: 26.4140 - root_mean_squared_error: 5.1275 - val_loss: 24.2964 - val_root_mean_squared_error: 4.9291\n",
      "Epoch 11/100\n",
      "\u001b[1m9/9\u001b[0m \u001b[32m━━━━━━━━━━━━━━━━━━━━\u001b[0m\u001b[37m\u001b[0m \u001b[1m0s\u001b[0m 10ms/step - loss: 22.8924 - root_mean_squared_error: 4.7669 - val_loss: 23.6466 - val_root_mean_squared_error: 4.8628\n",
      "Epoch 12/100\n",
      "\u001b[1m9/9\u001b[0m \u001b[32m━━━━━━━━━━━━━━━━━━━━\u001b[0m\u001b[37m\u001b[0m \u001b[1m0s\u001b[0m 14ms/step - loss: 26.6458 - root_mean_squared_error: 5.1434 - val_loss: 23.0567 - val_root_mean_squared_error: 4.8017\n",
      "Epoch 13/100\n",
      "\u001b[1m9/9\u001b[0m \u001b[32m━━━━━━━━━━━━━━━━━━━━\u001b[0m\u001b[37m\u001b[0m \u001b[1m0s\u001b[0m 14ms/step - loss: 23.9258 - root_mean_squared_error: 4.8294 - val_loss: 22.6765 - val_root_mean_squared_error: 4.7620\n",
      "Epoch 14/100\n",
      "\u001b[1m9/9\u001b[0m \u001b[32m━━━━━━━━━━━━━━━━━━━━\u001b[0m\u001b[37m\u001b[0m \u001b[1m0s\u001b[0m 10ms/step - loss: 20.3520 - root_mean_squared_error: 4.5006 - val_loss: 22.4018 - val_root_mean_squared_error: 4.7330\n",
      "Epoch 15/100\n",
      "\u001b[1m9/9\u001b[0m \u001b[32m━━━━━━━━━━━━━━━━━━━━\u001b[0m\u001b[37m\u001b[0m \u001b[1m0s\u001b[0m 14ms/step - loss: 18.1983 - root_mean_squared_error: 4.2535 - val_loss: 22.1072 - val_root_mean_squared_error: 4.7018\n",
      "Epoch 16/100\n",
      "\u001b[1m9/9\u001b[0m \u001b[32m━━━━━━━━━━━━━━━━━━━━\u001b[0m\u001b[37m\u001b[0m \u001b[1m0s\u001b[0m 12ms/step - loss: 19.8282 - root_mean_squared_error: 4.4181 - val_loss: 22.0867 - val_root_mean_squared_error: 4.6996\n",
      "Epoch 17/100\n",
      "\u001b[1m9/9\u001b[0m \u001b[32m━━━━━━━━━━━━━━━━━━━━\u001b[0m\u001b[37m\u001b[0m \u001b[1m0s\u001b[0m 10ms/step - loss: 16.5286 - root_mean_squared_error: 3.9910 - val_loss: 21.8549 - val_root_mean_squared_error: 4.6749\n",
      "Epoch 18/100\n",
      "\u001b[1m9/9\u001b[0m \u001b[32m━━━━━━━━━━━━━━━━━━━━\u001b[0m\u001b[37m\u001b[0m \u001b[1m0s\u001b[0m 11ms/step - loss: 23.3405 - root_mean_squared_error: 4.8183 - val_loss: 21.6613 - val_root_mean_squared_error: 4.6542\n",
      "Epoch 19/100\n",
      "\u001b[1m9/9\u001b[0m \u001b[32m━━━━━━━━━━━━━━━━━━━━\u001b[0m\u001b[37m\u001b[0m \u001b[1m0s\u001b[0m 12ms/step - loss: 21.7385 - root_mean_squared_error: 4.6448 - val_loss: 21.5378 - val_root_mean_squared_error: 4.6409\n",
      "Epoch 20/100\n",
      "\u001b[1m9/9\u001b[0m \u001b[32m━━━━━━━━━━━━━━━━━━━━\u001b[0m\u001b[37m\u001b[0m \u001b[1m0s\u001b[0m 11ms/step - loss: 24.9162 - root_mean_squared_error: 4.9864 - val_loss: 21.4235 - val_root_mean_squared_error: 4.6286\n",
      "Epoch 21/100\n",
      "\u001b[1m9/9\u001b[0m \u001b[32m━━━━━━━━━━━━━━━━━━━━\u001b[0m\u001b[37m\u001b[0m \u001b[1m0s\u001b[0m 11ms/step - loss: 19.2208 - root_mean_squared_error: 4.3521 - val_loss: 21.3910 - val_root_mean_squared_error: 4.6250\n",
      "Epoch 22/100\n",
      "\u001b[1m9/9\u001b[0m \u001b[32m━━━━━━━━━━━━━━━━━━━━\u001b[0m\u001b[37m\u001b[0m \u001b[1m0s\u001b[0m 13ms/step - loss: 20.6482 - root_mean_squared_error: 4.5401 - val_loss: 21.3869 - val_root_mean_squared_error: 4.6246\n",
      "Epoch 23/100\n",
      "\u001b[1m9/9\u001b[0m \u001b[32m━━━━━━━━━━━━━━━━━━━━\u001b[0m\u001b[37m\u001b[0m \u001b[1m0s\u001b[0m 16ms/step - loss: 21.6727 - root_mean_squared_error: 4.6490 - val_loss: 21.2177 - val_root_mean_squared_error: 4.6063\n",
      "Epoch 24/100\n",
      "\u001b[1m9/9\u001b[0m \u001b[32m━━━━━━━━━━━━━━━━━━━━\u001b[0m\u001b[37m\u001b[0m \u001b[1m0s\u001b[0m 13ms/step - loss: 21.3531 - root_mean_squared_error: 4.5821 - val_loss: 21.1199 - val_root_mean_squared_error: 4.5956\n",
      "Epoch 25/100\n",
      "\u001b[1m9/9\u001b[0m \u001b[32m━━━━━━━━━━━━━━━━━━━━\u001b[0m\u001b[37m\u001b[0m \u001b[1m0s\u001b[0m 11ms/step - loss: 22.6390 - root_mean_squared_error: 4.7513 - val_loss: 21.0965 - val_root_mean_squared_error: 4.5931\n",
      "Epoch 26/100\n",
      "\u001b[1m9/9\u001b[0m \u001b[32m━━━━━━━━━━━━━━━━━━━━\u001b[0m\u001b[37m\u001b[0m \u001b[1m0s\u001b[0m 13ms/step - loss: 18.0529 - root_mean_squared_error: 4.2381 - val_loss: 21.0669 - val_root_mean_squared_error: 4.5899\n",
      "Epoch 27/100\n",
      "\u001b[1m9/9\u001b[0m \u001b[32m━━━━━━━━━━━━━━━━━━━━\u001b[0m\u001b[37m\u001b[0m \u001b[1m0s\u001b[0m 11ms/step - loss: 18.3413 - root_mean_squared_error: 4.2709 - val_loss: 21.0090 - val_root_mean_squared_error: 4.5836\n",
      "Epoch 28/100\n",
      "\u001b[1m9/9\u001b[0m \u001b[32m━━━━━━━━━━━━━━━━━━━━\u001b[0m\u001b[37m\u001b[0m \u001b[1m0s\u001b[0m 11ms/step - loss: 18.6780 - root_mean_squared_error: 4.2963 - val_loss: 20.9167 - val_root_mean_squared_error: 4.5735\n",
      "Epoch 29/100\n",
      "\u001b[1m9/9\u001b[0m \u001b[32m━━━━━━━━━━━━━━━━━━━━\u001b[0m\u001b[37m\u001b[0m \u001b[1m0s\u001b[0m 15ms/step - loss: 19.8243 - root_mean_squared_error: 4.4056 - val_loss: 20.8577 - val_root_mean_squared_error: 4.5670\n",
      "Epoch 30/100\n",
      "\u001b[1m9/9\u001b[0m \u001b[32m━━━━━━━━━━━━━━━━━━━━\u001b[0m\u001b[37m\u001b[0m \u001b[1m0s\u001b[0m 12ms/step - loss: 21.6973 - root_mean_squared_error: 4.6482 - val_loss: 20.8156 - val_root_mean_squared_error: 4.5624\n",
      "Epoch 31/100\n",
      "\u001b[1m9/9\u001b[0m \u001b[32m━━━━━━━━━━━━━━━━━━━━\u001b[0m\u001b[37m\u001b[0m \u001b[1m0s\u001b[0m 12ms/step - loss: 21.3461 - root_mean_squared_error: 4.5964 - val_loss: 20.7670 - val_root_mean_squared_error: 4.5571\n",
      "Epoch 32/100\n",
      "\u001b[1m9/9\u001b[0m \u001b[32m━━━━━━━━━━━━━━━━━━━━\u001b[0m\u001b[37m\u001b[0m \u001b[1m0s\u001b[0m 12ms/step - loss: 21.8172 - root_mean_squared_error: 4.6367 - val_loss: 20.7568 - val_root_mean_squared_error: 4.5560\n",
      "Epoch 33/100\n",
      "\u001b[1m9/9\u001b[0m \u001b[32m━━━━━━━━━━━━━━━━━━━━\u001b[0m\u001b[37m\u001b[0m \u001b[1m0s\u001b[0m 10ms/step - loss: 16.9851 - root_mean_squared_error: 4.1009 - val_loss: 20.7057 - val_root_mean_squared_error: 4.5504\n",
      "Epoch 34/100\n",
      "\u001b[1m9/9\u001b[0m \u001b[32m━━━━━━━━━━━━━━━━━━━━\u001b[0m\u001b[37m\u001b[0m \u001b[1m0s\u001b[0m 10ms/step - loss: 19.8242 - root_mean_squared_error: 4.4431 - val_loss: 20.6928 - val_root_mean_squared_error: 4.5489\n",
      "Epoch 35/100\n",
      "\u001b[1m9/9\u001b[0m \u001b[32m━━━━━━━━━━━━━━━━━━━━\u001b[0m\u001b[37m\u001b[0m \u001b[1m0s\u001b[0m 12ms/step - loss: 24.7695 - root_mean_squared_error: 4.9530 - val_loss: 20.6444 - val_root_mean_squared_error: 4.5436\n",
      "Epoch 36/100\n",
      "\u001b[1m9/9\u001b[0m \u001b[32m━━━━━━━━━━━━━━━━━━━━\u001b[0m\u001b[37m\u001b[0m \u001b[1m0s\u001b[0m 12ms/step - loss: 19.8742 - root_mean_squared_error: 4.4462 - val_loss: 20.6740 - val_root_mean_squared_error: 4.5469\n",
      "Epoch 37/100\n",
      "\u001b[1m9/9\u001b[0m \u001b[32m━━━━━━━━━━━━━━━━━━━━\u001b[0m\u001b[37m\u001b[0m \u001b[1m0s\u001b[0m 23ms/step - loss: 28.4846 - root_mean_squared_error: 5.2807 - val_loss: 20.9104 - val_root_mean_squared_error: 4.5728\n",
      "Epoch 38/100\n",
      "\u001b[1m9/9\u001b[0m \u001b[32m━━━━━━━━━━━━━━━━━━━━\u001b[0m\u001b[37m\u001b[0m \u001b[1m0s\u001b[0m 12ms/step - loss: 19.8018 - root_mean_squared_error: 4.4230 - val_loss: 20.7085 - val_root_mean_squared_error: 4.5507\n",
      "Epoch 39/100\n",
      "\u001b[1m9/9\u001b[0m \u001b[32m━━━━━━━━━━━━━━━━━━━━\u001b[0m\u001b[37m\u001b[0m \u001b[1m0s\u001b[0m 14ms/step - loss: 21.5948 - root_mean_squared_error: 4.6387 - val_loss: 20.6791 - val_root_mean_squared_error: 4.5474\n",
      "Epoch 40/100\n",
      "\u001b[1m9/9\u001b[0m \u001b[32m━━━━━━━━━━━━━━━━━━━━\u001b[0m\u001b[37m\u001b[0m \u001b[1m0s\u001b[0m 14ms/step - loss: 18.1540 - root_mean_squared_error: 4.2521 - val_loss: 20.5653 - val_root_mean_squared_error: 4.5349\n",
      "Epoch 41/100\n",
      "\u001b[1m9/9\u001b[0m \u001b[32m━━━━━━━━━━━━━━━━━━━━\u001b[0m\u001b[37m\u001b[0m \u001b[1m0s\u001b[0m 15ms/step - loss: 22.9040 - root_mean_squared_error: 4.7777 - val_loss: 20.5405 - val_root_mean_squared_error: 4.5322\n",
      "Epoch 42/100\n",
      "\u001b[1m9/9\u001b[0m \u001b[32m━━━━━━━━━━━━━━━━━━━━\u001b[0m\u001b[37m\u001b[0m \u001b[1m0s\u001b[0m 12ms/step - loss: 18.3664 - root_mean_squared_error: 4.2386 - val_loss: 20.4885 - val_root_mean_squared_error: 4.5264\n",
      "Epoch 43/100\n",
      "\u001b[1m9/9\u001b[0m \u001b[32m━━━━━━━━━━━━━━━━━━━━\u001b[0m\u001b[37m\u001b[0m \u001b[1m0s\u001b[0m 10ms/step - loss: 20.7155 - root_mean_squared_error: 4.5344 - val_loss: 20.4840 - val_root_mean_squared_error: 4.5259\n",
      "Epoch 44/100\n",
      "\u001b[1m9/9\u001b[0m \u001b[32m━━━━━━━━━━━━━━━━━━━━\u001b[0m\u001b[37m\u001b[0m \u001b[1m0s\u001b[0m 11ms/step - loss: 20.0924 - root_mean_squared_error: 4.4278 - val_loss: 20.5023 - val_root_mean_squared_error: 4.5279\n",
      "Epoch 45/100\n",
      "\u001b[1m9/9\u001b[0m \u001b[32m━━━━━━━━━━━━━━━━━━━━\u001b[0m\u001b[37m\u001b[0m \u001b[1m0s\u001b[0m 11ms/step - loss: 19.0113 - root_mean_squared_error: 4.3490 - val_loss: 20.3819 - val_root_mean_squared_error: 4.5146\n",
      "Epoch 46/100\n",
      "\u001b[1m9/9\u001b[0m \u001b[32m━━━━━━━━━━━━━━━━━━━━\u001b[0m\u001b[37m\u001b[0m \u001b[1m0s\u001b[0m 10ms/step - loss: 24.4616 - root_mean_squared_error: 4.9358 - val_loss: 20.3400 - val_root_mean_squared_error: 4.5100\n",
      "Epoch 47/100\n",
      "\u001b[1m9/9\u001b[0m \u001b[32m━━━━━━━━━━━━━━━━━━━━\u001b[0m\u001b[37m\u001b[0m \u001b[1m0s\u001b[0m 12ms/step - loss: 23.9420 - root_mean_squared_error: 4.8781 - val_loss: 20.3267 - val_root_mean_squared_error: 4.5085\n",
      "Epoch 48/100\n",
      "\u001b[1m9/9\u001b[0m \u001b[32m━━━━━━━━━━━━━━━━━━━━\u001b[0m\u001b[37m\u001b[0m \u001b[1m0s\u001b[0m 13ms/step - loss: 23.1605 - root_mean_squared_error: 4.8084 - val_loss: 20.3089 - val_root_mean_squared_error: 4.5065\n",
      "Epoch 49/100\n",
      "\u001b[1m9/9\u001b[0m \u001b[32m━━━━━━━━━━━━━━━━━━━━\u001b[0m\u001b[37m\u001b[0m \u001b[1m0s\u001b[0m 10ms/step - loss: 19.9527 - root_mean_squared_error: 4.4651 - val_loss: 20.2874 - val_root_mean_squared_error: 4.5042\n",
      "Epoch 50/100\n",
      "\u001b[1m9/9\u001b[0m \u001b[32m━━━━━━━━━━━━━━━━━━━━\u001b[0m\u001b[37m\u001b[0m \u001b[1m0s\u001b[0m 11ms/step - loss: 19.2021 - root_mean_squared_error: 4.3712 - val_loss: 20.2518 - val_root_mean_squared_error: 4.5002\n",
      "Epoch 51/100\n",
      "\u001b[1m9/9\u001b[0m \u001b[32m━━━━━━━━━━━━━━━━━━━━\u001b[0m\u001b[37m\u001b[0m \u001b[1m0s\u001b[0m 12ms/step - loss: 23.0745 - root_mean_squared_error: 4.7925 - val_loss: 20.2126 - val_root_mean_squared_error: 4.4958\n",
      "Epoch 52/100\n",
      "\u001b[1m9/9\u001b[0m \u001b[32m━━━━━━━━━━━━━━━━━━━━\u001b[0m\u001b[37m\u001b[0m \u001b[1m0s\u001b[0m 12ms/step - loss: 24.8032 - root_mean_squared_error: 4.9655 - val_loss: 20.1684 - val_root_mean_squared_error: 4.4909\n",
      "Epoch 53/100\n",
      "\u001b[1m9/9\u001b[0m \u001b[32m━━━━━━━━━━━━━━━━━━━━\u001b[0m\u001b[37m\u001b[0m \u001b[1m0s\u001b[0m 11ms/step - loss: 17.2104 - root_mean_squared_error: 4.1147 - val_loss: 20.1706 - val_root_mean_squared_error: 4.4912\n",
      "Epoch 54/100\n",
      "\u001b[1m9/9\u001b[0m \u001b[32m━━━━━━━━━━━━━━━━━━━━\u001b[0m\u001b[37m\u001b[0m \u001b[1m0s\u001b[0m 17ms/step - loss: 19.6422 - root_mean_squared_error: 4.4177 - val_loss: 20.1429 - val_root_mean_squared_error: 4.4881\n",
      "Epoch 55/100\n",
      "\u001b[1m9/9\u001b[0m \u001b[32m━━━━━━━━━━━━━━━━━━━━\u001b[0m\u001b[37m\u001b[0m \u001b[1m0s\u001b[0m 11ms/step - loss: 25.2123 - root_mean_squared_error: 5.0108 - val_loss: 20.2429 - val_root_mean_squared_error: 4.4992\n",
      "Epoch 56/100\n",
      "\u001b[1m9/9\u001b[0m \u001b[32m━━━━━━━━━━━━━━━━━━━━\u001b[0m\u001b[37m\u001b[0m \u001b[1m0s\u001b[0m 13ms/step - loss: 18.9376 - root_mean_squared_error: 4.3338 - val_loss: 20.2284 - val_root_mean_squared_error: 4.4976\n",
      "Epoch 57/100\n",
      "\u001b[1m9/9\u001b[0m \u001b[32m━━━━━━━━━━━━━━━━━━━━\u001b[0m\u001b[37m\u001b[0m \u001b[1m0s\u001b[0m 12ms/step - loss: 18.2686 - root_mean_squared_error: 4.2525 - val_loss: 20.0829 - val_root_mean_squared_error: 4.4814\n",
      "Epoch 58/100\n",
      "\u001b[1m9/9\u001b[0m \u001b[32m━━━━━━━━━━━━━━━━━━━━\u001b[0m\u001b[37m\u001b[0m \u001b[1m0s\u001b[0m 12ms/step - loss: 20.2305 - root_mean_squared_error: 4.4956 - val_loss: 20.1046 - val_root_mean_squared_error: 4.4838\n",
      "Epoch 59/100\n",
      "\u001b[1m9/9\u001b[0m \u001b[32m━━━━━━━━━━━━━━━━━━━━\u001b[0m\u001b[37m\u001b[0m \u001b[1m0s\u001b[0m 12ms/step - loss: 17.1620 - root_mean_squared_error: 4.1116 - val_loss: 20.0404 - val_root_mean_squared_error: 4.4766\n",
      "Epoch 60/100\n",
      "\u001b[1m9/9\u001b[0m \u001b[32m━━━━━━━━━━━━━━━━━━━━\u001b[0m\u001b[37m\u001b[0m \u001b[1m0s\u001b[0m 10ms/step - loss: 17.3636 - root_mean_squared_error: 4.1424 - val_loss: 20.0149 - val_root_mean_squared_error: 4.4738\n",
      "Epoch 61/100\n",
      "\u001b[1m9/9\u001b[0m \u001b[32m━━━━━━━━━━━━━━━━━━━━\u001b[0m\u001b[37m\u001b[0m \u001b[1m0s\u001b[0m 11ms/step - loss: 19.9111 - root_mean_squared_error: 4.4508 - val_loss: 19.9688 - val_root_mean_squared_error: 4.4686\n",
      "Epoch 62/100\n",
      "\u001b[1m9/9\u001b[0m \u001b[32m━━━━━━━━━━━━━━━━━━━━\u001b[0m\u001b[37m\u001b[0m \u001b[1m0s\u001b[0m 11ms/step - loss: 17.2285 - root_mean_squared_error: 4.1245 - val_loss: 19.8973 - val_root_mean_squared_error: 4.4606\n",
      "Epoch 63/100\n",
      "\u001b[1m9/9\u001b[0m \u001b[32m━━━━━━━━━━━━━━━━━━━━\u001b[0m\u001b[37m\u001b[0m \u001b[1m0s\u001b[0m 12ms/step - loss: 26.9913 - root_mean_squared_error: 5.1712 - val_loss: 19.9158 - val_root_mean_squared_error: 4.4627\n",
      "Epoch 64/100\n",
      "\u001b[1m9/9\u001b[0m \u001b[32m━━━━━━━━━━━━━━━━━━━━\u001b[0m\u001b[37m\u001b[0m \u001b[1m0s\u001b[0m 12ms/step - loss: 26.6363 - root_mean_squared_error: 5.0872 - val_loss: 19.9009 - val_root_mean_squared_error: 4.4610\n",
      "Epoch 65/100\n",
      "\u001b[1m9/9\u001b[0m \u001b[32m━━━━━━━━━━━━━━━━━━━━\u001b[0m\u001b[37m\u001b[0m \u001b[1m0s\u001b[0m 12ms/step - loss: 17.9542 - root_mean_squared_error: 4.2234 - val_loss: 20.2243 - val_root_mean_squared_error: 4.4971\n",
      "Epoch 66/100\n",
      "\u001b[1m9/9\u001b[0m \u001b[32m━━━━━━━━━━━━━━━━━━━━\u001b[0m\u001b[37m\u001b[0m \u001b[1m0s\u001b[0m 12ms/step - loss: 19.7348 - root_mean_squared_error: 4.4328 - val_loss: 20.2956 - val_root_mean_squared_error: 4.5051\n",
      "Epoch 67/100\n",
      "\u001b[1m9/9\u001b[0m \u001b[32m━━━━━━━━━━━━━━━━━━━━\u001b[0m\u001b[37m\u001b[0m \u001b[1m0s\u001b[0m 12ms/step - loss: 24.3542 - root_mean_squared_error: 4.9077 - val_loss: 19.7756 - val_root_mean_squared_error: 4.4470\n",
      "Epoch 68/100\n",
      "\u001b[1m9/9\u001b[0m \u001b[32m━━━━━━━━━━━━━━━━━━━━\u001b[0m\u001b[37m\u001b[0m \u001b[1m0s\u001b[0m 12ms/step - loss: 22.8683 - root_mean_squared_error: 4.7705 - val_loss: 19.9311 - val_root_mean_squared_error: 4.4644\n",
      "Epoch 69/100\n",
      "\u001b[1m9/9\u001b[0m \u001b[32m━━━━━━━━━━━━━━━━━━━━\u001b[0m\u001b[37m\u001b[0m \u001b[1m0s\u001b[0m 11ms/step - loss: 17.0240 - root_mean_squared_error: 4.0356 - val_loss: 19.7249 - val_root_mean_squared_error: 4.4413\n",
      "Epoch 70/100\n",
      "\u001b[1m9/9\u001b[0m \u001b[32m━━━━━━━━━━━━━━━━━━━━\u001b[0m\u001b[37m\u001b[0m \u001b[1m0s\u001b[0m 11ms/step - loss: 25.6003 - root_mean_squared_error: 5.0199 - val_loss: 19.6980 - val_root_mean_squared_error: 4.4382\n",
      "Epoch 71/100\n",
      "\u001b[1m9/9\u001b[0m \u001b[32m━━━━━━━━━━━━━━━━━━━━\u001b[0m\u001b[37m\u001b[0m \u001b[1m0s\u001b[0m 11ms/step - loss: 18.9435 - root_mean_squared_error: 4.3084 - val_loss: 19.6479 - val_root_mean_squared_error: 4.4326\n",
      "Epoch 72/100\n",
      "\u001b[1m9/9\u001b[0m \u001b[32m━━━━━━━━━━━━━━━━━━━━\u001b[0m\u001b[37m\u001b[0m \u001b[1m0s\u001b[0m 12ms/step - loss: 17.0868 - root_mean_squared_error: 4.0598 - val_loss: 19.5885 - val_root_mean_squared_error: 4.4259\n",
      "Epoch 73/100\n",
      "\u001b[1m9/9\u001b[0m \u001b[32m━━━━━━━━━━━━━━━━━━━━\u001b[0m\u001b[37m\u001b[0m \u001b[1m0s\u001b[0m 12ms/step - loss: 21.3205 - root_mean_squared_error: 4.5906 - val_loss: 19.5515 - val_root_mean_squared_error: 4.4217\n",
      "Epoch 74/100\n",
      "\u001b[1m9/9\u001b[0m \u001b[32m━━━━━━━━━━━━━━━━━━━━\u001b[0m\u001b[37m\u001b[0m \u001b[1m0s\u001b[0m 13ms/step - loss: 18.1307 - root_mean_squared_error: 4.2479 - val_loss: 19.5742 - val_root_mean_squared_error: 4.4243\n",
      "Epoch 75/100\n",
      "\u001b[1m9/9\u001b[0m \u001b[32m━━━━━━━━━━━━━━━━━━━━\u001b[0m\u001b[37m\u001b[0m \u001b[1m0s\u001b[0m 12ms/step - loss: 18.8387 - root_mean_squared_error: 4.3370 - val_loss: 19.4959 - val_root_mean_squared_error: 4.4154\n",
      "Epoch 76/100\n",
      "\u001b[1m9/9\u001b[0m \u001b[32m━━━━━━━━━━━━━━━━━━━━\u001b[0m\u001b[37m\u001b[0m \u001b[1m0s\u001b[0m 11ms/step - loss: 24.4548 - root_mean_squared_error: 4.9168 - val_loss: 19.4641 - val_root_mean_squared_error: 4.4118\n",
      "Epoch 77/100\n",
      "\u001b[1m9/9\u001b[0m \u001b[32m━━━━━━━━━━━━━━━━━━━━\u001b[0m\u001b[37m\u001b[0m \u001b[1m0s\u001b[0m 11ms/step - loss: 19.0354 - root_mean_squared_error: 4.3603 - val_loss: 19.4952 - val_root_mean_squared_error: 4.4153\n",
      "Epoch 78/100\n",
      "\u001b[1m9/9\u001b[0m \u001b[32m━━━━━━━━━━━━━━━━━━━━\u001b[0m\u001b[37m\u001b[0m \u001b[1m0s\u001b[0m 10ms/step - loss: 22.4971 - root_mean_squared_error: 4.7272 - val_loss: 19.3554 - val_root_mean_squared_error: 4.3995\n",
      "Epoch 79/100\n",
      "\u001b[1m9/9\u001b[0m \u001b[32m━━━━━━━━━━━━━━━━━━━━\u001b[0m\u001b[37m\u001b[0m \u001b[1m0s\u001b[0m 17ms/step - loss: 19.1365 - root_mean_squared_error: 4.3641 - val_loss: 19.3391 - val_root_mean_squared_error: 4.3976\n",
      "Epoch 80/100\n",
      "\u001b[1m9/9\u001b[0m \u001b[32m━━━━━━━━━━━━━━━━━━━━\u001b[0m\u001b[37m\u001b[0m \u001b[1m0s\u001b[0m 12ms/step - loss: 19.1985 - root_mean_squared_error: 4.3760 - val_loss: 19.2763 - val_root_mean_squared_error: 4.3905\n",
      "Epoch 81/100\n",
      "\u001b[1m9/9\u001b[0m \u001b[32m━━━━━━━━━━━━━━━━━━━━\u001b[0m\u001b[37m\u001b[0m \u001b[1m0s\u001b[0m 11ms/step - loss: 18.6258 - root_mean_squared_error: 4.3093 - val_loss: 19.2072 - val_root_mean_squared_error: 4.3826\n",
      "Epoch 82/100\n",
      "\u001b[1m9/9\u001b[0m \u001b[32m━━━━━━━━━━━━━━━━━━━━\u001b[0m\u001b[37m\u001b[0m \u001b[1m0s\u001b[0m 12ms/step - loss: 15.8839 - root_mean_squared_error: 3.9639 - val_loss: 19.1597 - val_root_mean_squared_error: 4.3772\n",
      "Epoch 83/100\n",
      "\u001b[1m9/9\u001b[0m \u001b[32m━━━━━━━━━━━━━━━━━━━━\u001b[0m\u001b[37m\u001b[0m \u001b[1m0s\u001b[0m 23ms/step - loss: 17.5784 - root_mean_squared_error: 4.1444 - val_loss: 19.1399 - val_root_mean_squared_error: 4.3749\n",
      "Epoch 84/100\n",
      "\u001b[1m9/9\u001b[0m \u001b[32m━━━━━━━━━━━━━━━━━━━━\u001b[0m\u001b[37m\u001b[0m \u001b[1m0s\u001b[0m 11ms/step - loss: 16.9656 - root_mean_squared_error: 4.1113 - val_loss: 19.0923 - val_root_mean_squared_error: 4.3695\n",
      "Epoch 85/100\n",
      "\u001b[1m9/9\u001b[0m \u001b[32m━━━━━━━━━━━━━━━━━━━━\u001b[0m\u001b[37m\u001b[0m \u001b[1m0s\u001b[0m 12ms/step - loss: 19.2508 - root_mean_squared_error: 4.3798 - val_loss: 19.0193 - val_root_mean_squared_error: 4.3611\n",
      "Epoch 86/100\n",
      "\u001b[1m9/9\u001b[0m \u001b[32m━━━━━━━━━━━━━━━━━━━━\u001b[0m\u001b[37m\u001b[0m \u001b[1m0s\u001b[0m 11ms/step - loss: 18.5715 - root_mean_squared_error: 4.3077 - val_loss: 18.9307 - val_root_mean_squared_error: 4.3509\n",
      "Epoch 87/100\n",
      "\u001b[1m9/9\u001b[0m \u001b[32m━━━━━━━━━━━━━━━━━━━━\u001b[0m\u001b[37m\u001b[0m \u001b[1m0s\u001b[0m 10ms/step - loss: 22.5235 - root_mean_squared_error: 4.7275 - val_loss: 18.8565 - val_root_mean_squared_error: 4.3424\n",
      "Epoch 88/100\n",
      "\u001b[1m9/9\u001b[0m \u001b[32m━━━━━━━━━━━━━━━━━━━━\u001b[0m\u001b[37m\u001b[0m \u001b[1m0s\u001b[0m 11ms/step - loss: 18.3335 - root_mean_squared_error: 4.2607 - val_loss: 18.8991 - val_root_mean_squared_error: 4.3473\n",
      "Epoch 89/100\n",
      "\u001b[1m9/9\u001b[0m \u001b[32m━━━━━━━━━━━━━━━━━━━━\u001b[0m\u001b[37m\u001b[0m \u001b[1m0s\u001b[0m 12ms/step - loss: 17.4444 - root_mean_squared_error: 4.1651 - val_loss: 18.7387 - val_root_mean_squared_error: 4.3288\n",
      "Epoch 90/100\n",
      "\u001b[1m9/9\u001b[0m \u001b[32m━━━━━━━━━━━━━━━━━━━━\u001b[0m\u001b[37m\u001b[0m \u001b[1m0s\u001b[0m 11ms/step - loss: 22.3115 - root_mean_squared_error: 4.6858 - val_loss: 18.6902 - val_root_mean_squared_error: 4.3232\n",
      "Epoch 91/100\n",
      "\u001b[1m9/9\u001b[0m \u001b[32m━━━━━━━━━━━━━━━━━━━━\u001b[0m\u001b[37m\u001b[0m \u001b[1m0s\u001b[0m 16ms/step - loss: 17.8863 - root_mean_squared_error: 4.2145 - val_loss: 18.6242 - val_root_mean_squared_error: 4.3156\n",
      "Epoch 92/100\n",
      "\u001b[1m9/9\u001b[0m \u001b[32m━━━━━━━━━━━━━━━━━━━━\u001b[0m\u001b[37m\u001b[0m \u001b[1m0s\u001b[0m 10ms/step - loss: 21.3121 - root_mean_squared_error: 4.5923 - val_loss: 18.6160 - val_root_mean_squared_error: 4.3146\n",
      "Epoch 93/100\n",
      "\u001b[1m9/9\u001b[0m \u001b[32m━━━━━━━━━━━━━━━━━━━━\u001b[0m\u001b[37m\u001b[0m \u001b[1m0s\u001b[0m 12ms/step - loss: 20.2115 - root_mean_squared_error: 4.4892 - val_loss: 18.5487 - val_root_mean_squared_error: 4.3068\n",
      "Epoch 94/100\n",
      "\u001b[1m9/9\u001b[0m \u001b[32m━━━━━━━━━━━━━━━━━━━━\u001b[0m\u001b[37m\u001b[0m \u001b[1m0s\u001b[0m 10ms/step - loss: 19.1516 - root_mean_squared_error: 4.3671 - val_loss: 18.4081 - val_root_mean_squared_error: 4.2905\n",
      "Epoch 95/100\n",
      "\u001b[1m9/9\u001b[0m \u001b[32m━━━━━━━━━━━━━━━━━━━━\u001b[0m\u001b[37m\u001b[0m \u001b[1m0s\u001b[0m 12ms/step - loss: 15.9942 - root_mean_squared_error: 3.9712 - val_loss: 18.3702 - val_root_mean_squared_error: 4.2860\n",
      "Epoch 96/100\n",
      "\u001b[1m9/9\u001b[0m \u001b[32m━━━━━━━━━━━━━━━━━━━━\u001b[0m\u001b[37m\u001b[0m \u001b[1m0s\u001b[0m 12ms/step - loss: 16.2592 - root_mean_squared_error: 4.0000 - val_loss: 18.2822 - val_root_mean_squared_error: 4.2758\n",
      "Epoch 97/100\n",
      "\u001b[1m9/9\u001b[0m \u001b[32m━━━━━━━━━━━━━━━━━━━━\u001b[0m\u001b[37m\u001b[0m \u001b[1m0s\u001b[0m 11ms/step - loss: 20.9945 - root_mean_squared_error: 4.5717 - val_loss: 18.2022 - val_root_mean_squared_error: 4.2664\n",
      "Epoch 98/100\n",
      "\u001b[1m9/9\u001b[0m \u001b[32m━━━━━━━━━━━━━━━━━━━━\u001b[0m\u001b[37m\u001b[0m \u001b[1m0s\u001b[0m 12ms/step - loss: 21.4524 - root_mean_squared_error: 4.6197 - val_loss: 18.2327 - val_root_mean_squared_error: 4.2700\n",
      "Epoch 99/100\n",
      "\u001b[1m9/9\u001b[0m \u001b[32m━━━━━━━━━━━━━━━━━━━━\u001b[0m\u001b[37m\u001b[0m \u001b[1m0s\u001b[0m 11ms/step - loss: 21.7867 - root_mean_squared_error: 4.6517 - val_loss: 18.1521 - val_root_mean_squared_error: 4.2605\n",
      "Epoch 100/100\n",
      "\u001b[1m9/9\u001b[0m \u001b[32m━━━━━━━━━━━━━━━━━━━━\u001b[0m\u001b[37m\u001b[0m \u001b[1m0s\u001b[0m 12ms/step - loss: 23.3126 - root_mean_squared_error: 4.8107 - val_loss: 17.9716 - val_root_mean_squared_error: 4.2393\n"
     ]
    }
   ],
   "source": [
    "# es wird ein Modell erstellt, trainiert und gespeichert\n",
    "model2 = Sequential()\n",
    "model2.add(InputLayer((5,1)))\n",
    "model2.add(LSTM(64))\n",
    "model2.add(Dense(8, 'relu'))\n",
    "model2.add(Dense(1, 'linear'))\n",
    "model2.compile(loss=MeanSquaredError(), optimizer=Adam(learning_rate=0.001), metrics=[RootMeanSquaredError()])\n",
    "model2.fit(X_train, y_train, validation_data=(X_val, y_val), epochs=100)\n",
    "model2.save('model2.keras')"
   ]
  },
  {
   "cell_type": "code",
   "execution_count": 223,
   "metadata": {},
   "outputs": [],
   "source": [
    "# das Laden des Modells\n",
    "model2 = load_model('model2.keras')"
   ]
  },
  {
   "cell_type": "code",
   "execution_count": 225,
   "metadata": {},
   "outputs": [
    {
     "name": "stdout",
     "output_type": "stream",
     "text": [
      "\u001b[1m9/9\u001b[0m \u001b[32m━━━━━━━━━━━━━━━━━━━━\u001b[0m\u001b[37m\u001b[0m \u001b[1m0s\u001b[0m 2ms/step\n",
      "Mean Absolute Error: 2.6908866172472634\n"
     ]
    }
   ],
   "source": [
    "# es werden die Traingsdaten vorhergesagt und mit den tatsächlichen Werten in ein df geschrieben\n",
    "train_predictions = model2.predict(X_train).flatten()\n",
    "train_results = pd.DataFrame(data={'Train Predictions' : train_predictions, 'Actuals' : y_train}, index=train_index)\n",
    "from sklearn.metrics import mean_absolute_error\n",
    "# Berechnung des Mean Absolute Error (MAE) und R^2 und des MSE\n",
    "mae_lpm10= mean_absolute_error(train_results['Actuals'], train_results['Train Predictions'])\n",
    "r_squared_lpm10 = r2_score(train_results['Actuals'], train_results['Train Predictions'])\n",
    "mse_lpm10 = mean_squared_error(train_results['Actuals'], train_results['Train Predictions'])\n",
    "\n",
    "print(f'Mean Absolute Error: {mae_lpm10}')"
   ]
  },
  {
   "cell_type": "markdown",
   "metadata": {},
   "source": [
    "es werden wieder Zukunftsvorhersagen gemacht"
   ]
  },
  {
   "cell_type": "code",
   "execution_count": 105,
   "metadata": {},
   "outputs": [
    {
     "name": "stdout",
     "output_type": "stream",
     "text": [
      "\u001b[1m3/3\u001b[0m \u001b[32m━━━━━━━━━━━━━━━━━━━━\u001b[0m\u001b[37m\u001b[0m \u001b[1m0s\u001b[0m 8ms/step \n",
      "\u001b[1m3/3\u001b[0m \u001b[32m━━━━━━━━━━━━━━━━━━━━\u001b[0m\u001b[37m\u001b[0m \u001b[1m0s\u001b[0m 2ms/step \n",
      "\u001b[1m3/3\u001b[0m \u001b[32m━━━━━━━━━━━━━━━━━━━━\u001b[0m\u001b[37m\u001b[0m \u001b[1m0s\u001b[0m 4ms/step \n",
      "\u001b[1m3/3\u001b[0m \u001b[32m━━━━━━━━━━━━━━━━━━━━\u001b[0m\u001b[37m\u001b[0m \u001b[1m0s\u001b[0m 0s/step  \n",
      "\u001b[1m3/3\u001b[0m \u001b[32m━━━━━━━━━━━━━━━━━━━━\u001b[0m\u001b[37m\u001b[0m \u001b[1m0s\u001b[0m 9ms/step \n"
     ]
    }
   ],
   "source": [
    "# die Eingabedaten für die Vorhersage der Zukunft werden erstellt\n",
    "X_next = X_test\n",
    "predictions = []\n",
    "\n",
    "for _ in range(5):\n",
    "    y_pred = model1.predict(X_next)\n",
    "    predictions.append(y_pred)\n",
    "    # Aktualisieren von X_next für den nächsten Schritt\n",
    "    X_next = update_X_next(X_next, y_pred)  \n",
    "\n",
    "# Konvertiere new_index in einen DatetimeIndex\n",
    "new_index_dt = pd.to_datetime(new_index)\n",
    "\n",
    "# Kombiniere beide Indexstrukturen\n",
    "gesamt_index = zeitreihen_index_lpm10.append(new_index_dt)"
   ]
  },
  {
   "cell_type": "code",
   "execution_count": 106,
   "metadata": {},
   "outputs": [
    {
     "name": "stdout",
     "output_type": "stream",
     "text": [
      "\u001b[1m3/3\u001b[0m \u001b[32m━━━━━━━━━━━━━━━━━━━━\u001b[0m\u001b[37m\u001b[0m \u001b[1m0s\u001b[0m 3ms/step \n"
     ]
    },
    {
     "data": {
      "application/vnd.plotly.v1+json": {
       "config": {
        "plotlyServerURL": "https://plot.ly"
       },
       "data": [
        {
         "hovertemplate": "<extra></extra>",
         "legendgroup": "",
         "line": {
          "color": "#636efa",
          "dash": "solid"
         },
         "marker": {
          "symbol": "circle"
         },
         "mode": "lines",
         "name": "",
         "orientation": "v",
         "showlegend": false,
         "type": "scatter",
         "xaxis": "x",
         "yaxis": "y"
        },
        {
         "mode": "lines+markers",
         "name": "Historische Daten",
         "type": "scatter",
         "x": [
          "2022-04-07",
          "2022-04-09",
          "2022-04-11",
          "2022-04-13",
          "2022-04-15",
          "2022-04-17",
          "2022-04-19",
          "2022-04-21",
          "2022-04-23",
          "2022-04-25",
          "2022-04-27",
          "2022-04-29",
          "2022-05-01",
          "2022-05-03",
          "2022-05-05",
          "2022-05-07",
          "2022-05-09",
          "2022-05-11",
          "2022-05-13",
          "2022-05-15",
          "2022-05-17",
          "2022-05-19",
          "2022-05-21",
          "2022-05-23",
          "2022-05-25",
          "2022-05-27",
          "2022-05-29",
          "2022-06-01",
          "2022-06-03",
          "2022-06-05",
          "2022-06-07",
          "2022-06-09",
          "2022-06-11",
          "2022-06-13",
          "2022-06-15",
          "2022-06-17",
          "2022-06-19",
          "2022-06-21",
          "2022-06-23",
          "2022-06-25",
          "2022-06-27",
          "2022-06-29",
          "2022-07-01",
          "2022-07-03",
          "2022-07-05",
          "2022-07-07",
          "2022-07-09",
          "2022-07-11",
          "2022-07-13",
          "2022-07-15",
          "2022-07-17",
          "2022-07-19",
          "2022-07-21",
          "2022-07-23",
          "2022-07-25",
          "2022-07-27",
          "2022-07-29",
          "2022-08-01",
          "2022-08-03",
          "2022-08-05",
          "2022-08-07",
          "2022-08-09",
          "2022-08-11",
          "2022-08-13",
          "2022-08-15",
          "2022-08-17",
          "2022-08-19",
          "2022-08-21",
          "2022-08-23",
          "2022-08-25",
          "2022-08-27",
          "2022-08-29",
          "2022-09-01",
          "2022-09-03",
          "2022-09-05",
          "2022-09-07",
          "2022-09-09",
          "2022-09-11",
          "2022-09-13",
          "2022-09-15",
          "2022-09-17",
          "2022-09-19",
          "2022-09-21",
          "2022-09-23",
          "2022-09-25",
          "2022-09-27",
          "2022-09-29",
          "2022-10-01",
          "2022-10-03",
          "2022-10-05",
          "2022-10-07",
          "2022-10-09",
          "2022-10-11",
          "2022-10-13",
          "2022-10-15",
          "2022-10-17",
          "2022-10-19",
          "2022-10-21",
          "2022-10-23",
          "2022-10-25",
          "2022-10-27",
          "2022-10-29",
          "2022-11-01",
          "2022-11-03",
          "2022-11-05",
          "2022-11-07",
          "2022-11-09",
          "2022-11-11",
          "2022-11-13",
          "2022-11-15",
          "2022-11-17",
          "2022-11-19",
          "2022-11-21",
          "2022-11-23",
          "2022-11-25",
          "2022-11-27",
          "2022-11-29",
          "2022-12-01",
          "2022-12-03",
          "2022-12-05",
          "2022-12-07",
          "2022-12-09",
          "2022-12-11",
          "2022-12-13",
          "2022-12-15",
          "2022-12-17",
          "2022-12-19",
          "2022-12-21",
          "2022-12-23",
          "2022-12-25",
          "2022-12-27",
          "2022-12-29",
          "2023-01-01",
          "2023-01-03",
          "2023-01-05",
          "2023-01-07",
          "2023-01-09",
          "2023-01-11",
          "2023-01-13",
          "2023-01-15",
          "2023-01-17",
          "2023-01-19",
          "2023-01-21",
          "2023-01-23",
          "2023-01-25",
          "2023-01-27",
          "2023-01-29",
          "2023-02-01",
          "2023-02-03",
          "2023-02-05",
          "2023-02-07",
          "2023-02-09",
          "2023-02-11",
          "2023-02-13",
          "2023-02-15",
          "2023-02-17",
          "2023-02-19",
          "2023-02-21",
          "2023-02-23",
          "2023-02-25",
          "2023-02-27",
          "2023-03-01",
          "2023-03-03",
          "2023-03-05",
          "2023-03-07",
          "2023-03-09",
          "2023-03-11",
          "2023-03-13",
          "2023-03-15",
          "2023-03-17",
          "2023-03-19",
          "2023-03-21",
          "2023-03-25",
          "2023-03-27",
          "2023-03-29",
          "2023-04-01",
          "2023-04-03",
          "2023-04-05",
          "2023-04-07",
          "2023-04-09",
          "2023-04-11",
          "2023-04-13",
          "2023-04-15",
          "2023-04-17",
          "2023-04-19",
          "2023-04-21",
          "2023-04-23",
          "2023-04-25",
          "2023-04-27",
          "2023-04-29",
          "2023-05-01",
          "2023-05-03",
          "2023-05-05",
          "2023-05-07",
          "2023-05-09",
          "2023-05-11",
          "2023-05-13",
          "2023-05-15",
          "2023-05-17",
          "2023-05-19",
          "2023-05-21",
          "2023-05-23",
          "2023-05-25",
          "2023-05-27",
          "2023-05-29",
          "2023-06-01",
          "2023-06-03",
          "2023-06-05",
          "2023-06-07",
          "2023-06-09",
          "2023-06-11",
          "2023-06-13",
          "2023-06-15",
          "2023-06-17",
          "2023-06-19",
          "2023-06-21",
          "2023-06-23",
          "2023-06-25",
          "2023-06-27",
          "2023-06-29",
          "2023-07-01",
          "2023-07-03",
          "2023-07-05",
          "2023-07-07",
          "2023-07-09",
          "2023-07-11",
          "2023-07-13",
          "2023-07-15",
          "2023-07-17",
          "2023-07-19",
          "2023-07-21",
          "2023-07-23",
          "2023-07-25",
          "2023-07-27",
          "2023-07-29",
          "2023-08-01",
          "2023-08-03",
          "2023-08-05",
          "2023-08-07",
          "2023-08-09",
          "2023-08-11",
          "2023-08-13",
          "2023-08-15",
          "2023-08-17",
          "2023-08-19",
          "2023-08-21",
          "2023-08-23",
          "2023-08-25",
          "2023-08-27",
          "2023-08-29",
          "2023-09-01",
          "2023-09-03",
          "2023-09-05",
          "2023-09-07",
          "2023-09-09",
          "2023-09-11",
          "2023-09-13",
          "2023-09-15",
          "2023-09-17",
          "2023-09-19",
          "2023-09-21",
          "2023-09-23",
          "2023-09-25",
          "2023-09-27",
          "2023-09-29",
          "2023-10-01",
          "2023-10-03",
          "2023-10-05",
          "2023-10-07",
          "2023-10-09",
          "2023-10-11",
          "2023-10-13",
          "2023-10-15",
          "2023-10-17",
          "2023-10-19",
          "2023-10-21",
          "2023-10-23",
          "2023-10-25",
          "2023-10-27",
          "2023-10-29",
          "2023-11-01",
          "2023-11-03",
          "2023-11-05",
          "2023-11-07",
          "2023-11-09",
          "2023-11-11",
          "2023-11-13",
          "2023-11-15",
          "2023-11-17",
          "2023-11-19",
          "2023-11-21",
          "2023-11-23",
          "2023-11-25",
          "2023-11-27",
          "2023-11-29",
          "2023-12-01",
          "2023-12-03",
          "2023-12-05",
          "2023-12-07",
          "2023-12-09",
          "2023-12-11",
          "2023-12-13",
          "2023-12-15",
          "2023-12-17",
          "2023-12-19",
          "2023-12-21",
          "2023-12-23",
          "2023-12-25",
          "2023-12-27",
          "2023-12-29",
          "2024-01-01",
          "2024-01-03",
          "2024-01-05",
          "2024-01-07",
          "2024-01-09",
          "2024-01-11",
          "2024-01-13",
          "2024-01-15",
          "2024-01-17",
          "2024-01-19",
          "2024-01-21",
          "2024-01-23",
          "2024-01-25",
          "2024-01-27",
          "2024-01-29",
          "2024-02-01",
          "2024-02-03",
          "2024-02-05",
          "2024-02-07",
          "2024-02-09",
          "2024-02-11",
          "2024-02-13",
          "2024-02-15",
          "2024-02-17",
          "2024-02-19",
          "2024-02-21",
          "2024-02-23",
          "2024-02-25",
          "2024-02-27",
          "2024-02-29",
          "2024-03-01",
          "2024-03-03",
          "2024-03-05",
          "2024-03-07",
          "2024-03-09",
          "2024-03-11",
          "2024-03-13",
          "2024-03-15",
          "2024-04-09",
          "2024-04-11",
          "2024-04-13",
          "2024-04-15",
          "2024-04-17",
          "2024-04-19",
          "2024-04-21",
          "2024-04-23",
          "2024-04-25",
          "2024-04-27",
          "2024-04-29",
          "2024-05-01",
          "2024-05-03",
          "2024-05-05",
          "2024-05-07",
          "2024-05-09",
          "2024-05-11",
          "2024-05-13",
          "2024-05-15",
          "2024-05-17",
          "2024-05-19",
          "2024-05-21",
          "2024-05-23",
          "2024-05-25",
          "2024-05-27",
          "2024-05-29"
         ],
         "y": [
          1.734,
          4.394,
          13.8825,
          7.43,
          11.616666666666667,
          2.8340000000000005,
          3.4225000000000003,
          14.224999999999998,
          8.870000000000001,
          10.672,
          5.836,
          5.358,
          6.493333333333335,
          7.456000000000001,
          7.65,
          4.326,
          4.535,
          4.901999999999999,
          5.533333333333334,
          3.0933333333333333,
          2.95,
          3.716,
          2.5500000000000003,
          4.1825,
          2.19,
          3.825,
          4.3,
          6.0175,
          2.945,
          3.1566666666666663,
          2.434,
          5.54,
          3.705,
          3.4066666666666667,
          3.2100000000000004,
          1.5,
          9.693333333333332,
          5.101999999999999,
          6.206000000000001,
          10.575,
          2.895,
          7.841999999999999,
          6.579999999999999,
          1.875,
          3.026,
          3.4200000000000004,
          3.654,
          4.216666666666667,
          1.95,
          1.885,
          1.66,
          3.9125,
          5.615,
          7.114,
          7.08,
          3.0875,
          6.295,
          2.1020000000000003,
          2.74,
          5.550000000000001,
          2.3116666666666665,
          2.825,
          3.6725,
          6.416666666666667,
          7.353333333333334,
          3.2566666666666664,
          15.260000000000002,
          3.595,
          8.27,
          11.5125,
          10.99,
          5.59,
          3.22,
          4.5875,
          5.23,
          3.876,
          3.616,
          12.7075,
          4.015,
          5.49,
          5.286666666666666,
          3.856666666666666,
          2.76,
          3.3075,
          6.746,
          1.7900000000000005,
          4.326666666666667,
          1.64,
          7.1225,
          3.87,
          4.815,
          2.825,
          6.876666666666668,
          12.9,
          2.9200000000000004,
          2.78,
          5.533333333333334,
          5.566666666666666,
          2.49,
          4.674,
          9.075,
          8.0675,
          5.295,
          11.033333333333331,
          4.156666666666667,
          6.0625,
          2.9975,
          8.2325,
          11.195,
          13.495,
          5.725,
          8.575,
          5.273333333333333,
          25.775,
          20.385,
          11.393333333333333,
          9.086666666666666,
          17.933333333333334,
          24.8625,
          12.506666666666666,
          7.2925,
          23.225,
          25.642000000000003,
          14.246,
          30.445,
          16.675,
          41.653333333333336,
          22.4725,
          4.55,
          7.665999999999999,
          6.213333333333334,
          2.973333333333334,
          7.115,
          3.41,
          4.946,
          4.3525,
          6.015,
          2.6666666666666665,
          1.7100000000000002,
          1.7333333333333332,
          2.68,
          12.732499999999998,
          14.195,
          35.28333333333333,
          19.915,
          18.776666666666667,
          14.783333333333331,
          7.083333333333333,
          5.6625,
          14.715,
          9.325,
          10.075,
          10.65,
          15.403333333333334,
          27.23333333333333,
          4.883333333333334,
          4.25,
          7.893333333333333,
          13.913333333333332,
          2.64,
          1.35,
          8.450000000000001,
          31.195,
          7.999999999999999,
          12.762,
          7.224000000000001,
          1.4500000000000002,
          5.295,
          4.3925,
          4.925,
          7.55,
          6.574,
          2.265,
          4.88,
          2.2875,
          2.1175,
          4.29,
          6.1,
          10.0675,
          13.683333333333332,
          3.832,
          2.5500000000000003,
          4.436,
          7.85,
          8.558000000000002,
          6.495,
          2.36,
          3.233333333333333,
          6.037999999999999,
          7.1,
          4.494000000000001,
          5.34,
          2.7433333333333336,
          3.05,
          4.154,
          2.09,
          5.4625,
          3.6625,
          4.473333333333334,
          7.423333333333332,
          11.03,
          9.775,
          5.7250000000000005,
          6.625,
          1.65,
          4.976666666666667,
          6.6625,
          4.4,
          3.745,
          4.574,
          5.63,
          4.514,
          5.362499999999999,
          7.093333333333334,
          6.6575,
          7.0625,
          4.659999999999999,
          2.05,
          3.2425,
          5.188000000000001,
          3.91,
          7.483333333333334,
          6.104,
          4.17,
          3.71,
          6.4375,
          4.276666666666666,
          2.483333333333333,
          6.275,
          4.366,
          1.525,
          5.455,
          1.825,
          2.605,
          1.856666666666667,
          1.4875,
          2.575,
          2.1500000000000004,
          2.495,
          2.3575,
          3.205,
          3.9,
          4.055,
          4.66,
          5.69,
          5.17,
          4.7325,
          5.726666666666667,
          2.4,
          5.8,
          2.1,
          3.1366666666666667,
          2.215,
          4.14,
          6.0825000000000005,
          6.3925,
          3.033333333333333,
          3.606666666666667,
          2.89,
          1.7833333333333334,
          2.7475,
          8.575000000000001,
          1.925,
          3.39,
          4.525,
          5.825,
          9.125,
          5.392499999999999,
          2.29,
          8.6325,
          8.945,
          3,
          2.575,
          4.31,
          8.317499999999999,
          4.645,
          5.539999999999999,
          2.6333333333333333,
          3.5875000000000004,
          2.4875,
          2.7,
          1.785,
          1.35,
          0.6,
          2.25,
          2.9250000000000003,
          4.05,
          3.885,
          5.576666666666667,
          2.56,
          6.3075,
          4.075,
          5.375,
          6.137499999999999,
          5.074999999999999,
          8.993333333333332,
          11.5925,
          8.719999999999999,
          19.585,
          10.97,
          3.943333333333333,
          4.6066666666666665,
          12.4875,
          8.8375,
          2.433333333333333,
          1.1949999999999998,
          2.2575000000000003,
          2.705,
          4.7425,
          3.245,
          5.366666666666667,
          3.6375,
          6.880000000000001,
          4.765000000000001,
          40.658,
          42.78,
          18.94333333333333,
          9.483999999999998,
          12.715999999999998,
          11.38,
          13.91,
          10.105999999999998,
          10.71,
          5.556666666666668,
          7.226000000000001,
          5.795,
          4.865,
          6.544999999999999,
          15.826666666666668,
          3.51,
          10.4675,
          2.3775,
          3.525,
          4.43,
          1.65,
          5.164999999999999,
          2.08,
          1.4774999999999998,
          13.05,
          23.683333333333334,
          26.565,
          17.95,
          4.616666666666666,
          20.2,
          10.09,
          6.35,
          6.25,
          5.375,
          1.7800000000000002,
          3.5,
          1.15,
          6.4125,
          3.4266666666666663,
          4.483333333333333,
          1.375,
          6.545,
          1.1833333333333331,
          1.8666666666666665,
          3.3100000000000005,
          9.983333333333333,
          1.375,
          1.3925,
          2.0375,
          3.8975,
          2.6775,
          2.3775,
          5.306666666666668,
          2.15,
          2.1775,
          2.9000000000000004,
          3.14,
          2.813333333333334,
          2.96,
          3.3774999999999995
         ]
        },
        {
         "mode": "lines+markers",
         "name": "Vorhersage",
         "type": "scatter",
         "x": [
          "2024-06-01T00:00:00",
          "2024-06-03T00:00:00",
          "2024-06-05T00:00:00",
          "2024-06-07T00:00:00",
          "2024-06-09T00:00:00",
          "2024-06-11T00:00:00",
          "2024-06-13T00:00:00",
          "2024-06-15T00:00:00",
          "2024-06-17T00:00:00",
          "2024-06-19T00:00:00",
          "2024-06-21T00:00:00",
          "2024-06-23T00:00:00",
          "2024-06-25T00:00:00",
          "2024-06-27T00:00:00",
          "2024-06-29T00:00:00",
          "2024-07-01T00:00:00",
          "2024-07-03T00:00:00",
          "2024-07-05T00:00:00",
          "2024-07-07T00:00:00",
          "2024-07-09T00:00:00",
          "2024-07-11T00:00:00",
          "2024-07-13T00:00:00",
          "2024-07-15T00:00:00",
          "2024-07-17T00:00:00",
          "2024-07-19T00:00:00",
          "2024-07-21T00:00:00",
          "2024-07-23T00:00:00",
          "2024-07-25T00:00:00",
          "2024-07-27T00:00:00",
          "2024-07-29T00:00:00",
          "2024-08-01T00:00:00",
          "2024-08-03T00:00:00",
          "2024-08-05T00:00:00",
          "2024-08-07T00:00:00",
          "2024-08-09T00:00:00",
          "2024-08-11T00:00:00",
          "2024-08-13T00:00:00",
          "2024-08-15T00:00:00",
          "2024-08-17T00:00:00",
          "2024-08-19T00:00:00",
          "2024-08-21T00:00:00",
          "2024-08-23T00:00:00",
          "2024-08-25T00:00:00",
          "2024-08-27T00:00:00",
          "2024-08-29T00:00:00",
          "2024-09-01T00:00:00",
          "2024-09-03T00:00:00",
          "2024-09-05T00:00:00",
          "2024-09-07T00:00:00",
          "2024-09-09T00:00:00",
          "2024-09-11T00:00:00",
          "2024-09-13T00:00:00",
          "2024-09-15T00:00:00",
          "2024-09-17T00:00:00",
          "2024-09-19T00:00:00",
          "2024-09-21T00:00:00",
          "2024-09-23T00:00:00",
          "2024-09-25T00:00:00",
          "2024-09-27T00:00:00",
          "2024-09-29T00:00:00",
          "2024-10-01T00:00:00",
          "2024-10-03T00:00:00",
          "2024-10-05T00:00:00",
          "2024-10-07T00:00:00",
          "2024-10-09T00:00:00",
          "2024-10-11T00:00:00",
          "2024-10-13T00:00:00",
          "2024-10-15T00:00:00",
          "2024-10-17T00:00:00",
          "2024-10-19T00:00:00",
          "2024-10-21T00:00:00",
          "2024-10-23T00:00:00",
          "2024-10-25T00:00:00",
          "2024-10-27T00:00:00",
          "2024-10-29T00:00:00",
          "2024-11-01T00:00:00",
          "2024-11-03T00:00:00",
          "2024-11-05T00:00:00",
          "2024-11-07T00:00:00",
          "2024-11-09T00:00:00"
         ],
         "y": [
          4.092167854309082,
          5.284404277801514,
          6.84112548828125,
          4.575053691864014,
          4.759456157684326,
          4.7147722244262695,
          4.837294101715088,
          4.412405967712402,
          4.912530899047852,
          4.753487586975098,
          9.4705228805542,
          18.512590408325195,
          19.61830711364746,
          13.606498718261719,
          15.497811317443848,
          13.17815113067627,
          12.683815956115723,
          8.349916458129883,
          10.375361442565918,
          8.751175880432129,
          9.822352409362793,
          7.3244547843933105,
          5.350598335266113,
          5.031521320343018,
          6.5575714111328125,
          4.733104705810547,
          7.462982654571533,
          5.359977722167969,
          6.869480609893799,
          5.372037887573242,
          4.257726669311523,
          4.470393657684326,
          4.002264499664307,
          3.588930368423462,
          7.571293830871582,
          15.601971626281738,
          19.847681045532227,
          19.372529983520508,
          9.353464126586914,
          18.427766799926758,
          12.98409366607666,
          9.0729398727417,
          9.254405975341797,
          8.613218307495117,
          4.207622051239014,
          4.492596626281738,
          3.486043930053711,
          3.4279117584228516,
          2.190504550933838,
          2.199498176574707,
          2.3673994541168213,
          10.08828067779541,
          7.268056869506836,
          8.763572692871094,
          5.029282093048096,
          5.70770263671875,
          4.384764671325684,
          3.539686918258667,
          5.331753730773926,
          5.214568138122559,
          4.989638328552246,
          3.919877529144287,
          5.041009426116943,
          3.913681983947754,
          3.7968621253967285,
          4.422977924346924,
          6.528683662414551,
          5.259842872619629,
          4.3028764724731445,
          4.52256965637207,
          5.228384017944336,
          4.237645149230957,
          3.7732648849487305,
          4.689488410949707,
          4.103426933288574,
          3.743752956390381,
          3.5752482414245605,
          3.9846723079681396,
          3.7647266387939453,
          3.847930669784546
         ]
        }
       ],
       "layout": {
        "legend": {
         "tracegroupgap": 0
        },
        "template": {
         "data": {
          "bar": [
           {
            "error_x": {
             "color": "#2a3f5f"
            },
            "error_y": {
             "color": "#2a3f5f"
            },
            "marker": {
             "line": {
              "color": "#E5ECF6",
              "width": 0.5
             },
             "pattern": {
              "fillmode": "overlay",
              "size": 10,
              "solidity": 0.2
             }
            },
            "type": "bar"
           }
          ],
          "barpolar": [
           {
            "marker": {
             "line": {
              "color": "#E5ECF6",
              "width": 0.5
             },
             "pattern": {
              "fillmode": "overlay",
              "size": 10,
              "solidity": 0.2
             }
            },
            "type": "barpolar"
           }
          ],
          "carpet": [
           {
            "aaxis": {
             "endlinecolor": "#2a3f5f",
             "gridcolor": "white",
             "linecolor": "white",
             "minorgridcolor": "white",
             "startlinecolor": "#2a3f5f"
            },
            "baxis": {
             "endlinecolor": "#2a3f5f",
             "gridcolor": "white",
             "linecolor": "white",
             "minorgridcolor": "white",
             "startlinecolor": "#2a3f5f"
            },
            "type": "carpet"
           }
          ],
          "choropleth": [
           {
            "colorbar": {
             "outlinewidth": 0,
             "ticks": ""
            },
            "type": "choropleth"
           }
          ],
          "contour": [
           {
            "colorbar": {
             "outlinewidth": 0,
             "ticks": ""
            },
            "colorscale": [
             [
              0,
              "#0d0887"
             ],
             [
              0.1111111111111111,
              "#46039f"
             ],
             [
              0.2222222222222222,
              "#7201a8"
             ],
             [
              0.3333333333333333,
              "#9c179e"
             ],
             [
              0.4444444444444444,
              "#bd3786"
             ],
             [
              0.5555555555555556,
              "#d8576b"
             ],
             [
              0.6666666666666666,
              "#ed7953"
             ],
             [
              0.7777777777777778,
              "#fb9f3a"
             ],
             [
              0.8888888888888888,
              "#fdca26"
             ],
             [
              1,
              "#f0f921"
             ]
            ],
            "type": "contour"
           }
          ],
          "contourcarpet": [
           {
            "colorbar": {
             "outlinewidth": 0,
             "ticks": ""
            },
            "type": "contourcarpet"
           }
          ],
          "heatmap": [
           {
            "colorbar": {
             "outlinewidth": 0,
             "ticks": ""
            },
            "colorscale": [
             [
              0,
              "#0d0887"
             ],
             [
              0.1111111111111111,
              "#46039f"
             ],
             [
              0.2222222222222222,
              "#7201a8"
             ],
             [
              0.3333333333333333,
              "#9c179e"
             ],
             [
              0.4444444444444444,
              "#bd3786"
             ],
             [
              0.5555555555555556,
              "#d8576b"
             ],
             [
              0.6666666666666666,
              "#ed7953"
             ],
             [
              0.7777777777777778,
              "#fb9f3a"
             ],
             [
              0.8888888888888888,
              "#fdca26"
             ],
             [
              1,
              "#f0f921"
             ]
            ],
            "type": "heatmap"
           }
          ],
          "heatmapgl": [
           {
            "colorbar": {
             "outlinewidth": 0,
             "ticks": ""
            },
            "colorscale": [
             [
              0,
              "#0d0887"
             ],
             [
              0.1111111111111111,
              "#46039f"
             ],
             [
              0.2222222222222222,
              "#7201a8"
             ],
             [
              0.3333333333333333,
              "#9c179e"
             ],
             [
              0.4444444444444444,
              "#bd3786"
             ],
             [
              0.5555555555555556,
              "#d8576b"
             ],
             [
              0.6666666666666666,
              "#ed7953"
             ],
             [
              0.7777777777777778,
              "#fb9f3a"
             ],
             [
              0.8888888888888888,
              "#fdca26"
             ],
             [
              1,
              "#f0f921"
             ]
            ],
            "type": "heatmapgl"
           }
          ],
          "histogram": [
           {
            "marker": {
             "pattern": {
              "fillmode": "overlay",
              "size": 10,
              "solidity": 0.2
             }
            },
            "type": "histogram"
           }
          ],
          "histogram2d": [
           {
            "colorbar": {
             "outlinewidth": 0,
             "ticks": ""
            },
            "colorscale": [
             [
              0,
              "#0d0887"
             ],
             [
              0.1111111111111111,
              "#46039f"
             ],
             [
              0.2222222222222222,
              "#7201a8"
             ],
             [
              0.3333333333333333,
              "#9c179e"
             ],
             [
              0.4444444444444444,
              "#bd3786"
             ],
             [
              0.5555555555555556,
              "#d8576b"
             ],
             [
              0.6666666666666666,
              "#ed7953"
             ],
             [
              0.7777777777777778,
              "#fb9f3a"
             ],
             [
              0.8888888888888888,
              "#fdca26"
             ],
             [
              1,
              "#f0f921"
             ]
            ],
            "type": "histogram2d"
           }
          ],
          "histogram2dcontour": [
           {
            "colorbar": {
             "outlinewidth": 0,
             "ticks": ""
            },
            "colorscale": [
             [
              0,
              "#0d0887"
             ],
             [
              0.1111111111111111,
              "#46039f"
             ],
             [
              0.2222222222222222,
              "#7201a8"
             ],
             [
              0.3333333333333333,
              "#9c179e"
             ],
             [
              0.4444444444444444,
              "#bd3786"
             ],
             [
              0.5555555555555556,
              "#d8576b"
             ],
             [
              0.6666666666666666,
              "#ed7953"
             ],
             [
              0.7777777777777778,
              "#fb9f3a"
             ],
             [
              0.8888888888888888,
              "#fdca26"
             ],
             [
              1,
              "#f0f921"
             ]
            ],
            "type": "histogram2dcontour"
           }
          ],
          "mesh3d": [
           {
            "colorbar": {
             "outlinewidth": 0,
             "ticks": ""
            },
            "type": "mesh3d"
           }
          ],
          "parcoords": [
           {
            "line": {
             "colorbar": {
              "outlinewidth": 0,
              "ticks": ""
             }
            },
            "type": "parcoords"
           }
          ],
          "pie": [
           {
            "automargin": true,
            "type": "pie"
           }
          ],
          "scatter": [
           {
            "fillpattern": {
             "fillmode": "overlay",
             "size": 10,
             "solidity": 0.2
            },
            "type": "scatter"
           }
          ],
          "scatter3d": [
           {
            "line": {
             "colorbar": {
              "outlinewidth": 0,
              "ticks": ""
             }
            },
            "marker": {
             "colorbar": {
              "outlinewidth": 0,
              "ticks": ""
             }
            },
            "type": "scatter3d"
           }
          ],
          "scattercarpet": [
           {
            "marker": {
             "colorbar": {
              "outlinewidth": 0,
              "ticks": ""
             }
            },
            "type": "scattercarpet"
           }
          ],
          "scattergeo": [
           {
            "marker": {
             "colorbar": {
              "outlinewidth": 0,
              "ticks": ""
             }
            },
            "type": "scattergeo"
           }
          ],
          "scattergl": [
           {
            "marker": {
             "colorbar": {
              "outlinewidth": 0,
              "ticks": ""
             }
            },
            "type": "scattergl"
           }
          ],
          "scattermapbox": [
           {
            "marker": {
             "colorbar": {
              "outlinewidth": 0,
              "ticks": ""
             }
            },
            "type": "scattermapbox"
           }
          ],
          "scatterpolar": [
           {
            "marker": {
             "colorbar": {
              "outlinewidth": 0,
              "ticks": ""
             }
            },
            "type": "scatterpolar"
           }
          ],
          "scatterpolargl": [
           {
            "marker": {
             "colorbar": {
              "outlinewidth": 0,
              "ticks": ""
             }
            },
            "type": "scatterpolargl"
           }
          ],
          "scatterternary": [
           {
            "marker": {
             "colorbar": {
              "outlinewidth": 0,
              "ticks": ""
             }
            },
            "type": "scatterternary"
           }
          ],
          "surface": [
           {
            "colorbar": {
             "outlinewidth": 0,
             "ticks": ""
            },
            "colorscale": [
             [
              0,
              "#0d0887"
             ],
             [
              0.1111111111111111,
              "#46039f"
             ],
             [
              0.2222222222222222,
              "#7201a8"
             ],
             [
              0.3333333333333333,
              "#9c179e"
             ],
             [
              0.4444444444444444,
              "#bd3786"
             ],
             [
              0.5555555555555556,
              "#d8576b"
             ],
             [
              0.6666666666666666,
              "#ed7953"
             ],
             [
              0.7777777777777778,
              "#fb9f3a"
             ],
             [
              0.8888888888888888,
              "#fdca26"
             ],
             [
              1,
              "#f0f921"
             ]
            ],
            "type": "surface"
           }
          ],
          "table": [
           {
            "cells": {
             "fill": {
              "color": "#EBF0F8"
             },
             "line": {
              "color": "white"
             }
            },
            "header": {
             "fill": {
              "color": "#C8D4E3"
             },
             "line": {
              "color": "white"
             }
            },
            "type": "table"
           }
          ]
         },
         "layout": {
          "annotationdefaults": {
           "arrowcolor": "#2a3f5f",
           "arrowhead": 0,
           "arrowwidth": 1
          },
          "autotypenumbers": "strict",
          "coloraxis": {
           "colorbar": {
            "outlinewidth": 0,
            "ticks": ""
           }
          },
          "colorscale": {
           "diverging": [
            [
             0,
             "#8e0152"
            ],
            [
             0.1,
             "#c51b7d"
            ],
            [
             0.2,
             "#de77ae"
            ],
            [
             0.3,
             "#f1b6da"
            ],
            [
             0.4,
             "#fde0ef"
            ],
            [
             0.5,
             "#f7f7f7"
            ],
            [
             0.6,
             "#e6f5d0"
            ],
            [
             0.7,
             "#b8e186"
            ],
            [
             0.8,
             "#7fbc41"
            ],
            [
             0.9,
             "#4d9221"
            ],
            [
             1,
             "#276419"
            ]
           ],
           "sequential": [
            [
             0,
             "#0d0887"
            ],
            [
             0.1111111111111111,
             "#46039f"
            ],
            [
             0.2222222222222222,
             "#7201a8"
            ],
            [
             0.3333333333333333,
             "#9c179e"
            ],
            [
             0.4444444444444444,
             "#bd3786"
            ],
            [
             0.5555555555555556,
             "#d8576b"
            ],
            [
             0.6666666666666666,
             "#ed7953"
            ],
            [
             0.7777777777777778,
             "#fb9f3a"
            ],
            [
             0.8888888888888888,
             "#fdca26"
            ],
            [
             1,
             "#f0f921"
            ]
           ],
           "sequentialminus": [
            [
             0,
             "#0d0887"
            ],
            [
             0.1111111111111111,
             "#46039f"
            ],
            [
             0.2222222222222222,
             "#7201a8"
            ],
            [
             0.3333333333333333,
             "#9c179e"
            ],
            [
             0.4444444444444444,
             "#bd3786"
            ],
            [
             0.5555555555555556,
             "#d8576b"
            ],
            [
             0.6666666666666666,
             "#ed7953"
            ],
            [
             0.7777777777777778,
             "#fb9f3a"
            ],
            [
             0.8888888888888888,
             "#fdca26"
            ],
            [
             1,
             "#f0f921"
            ]
           ]
          },
          "colorway": [
           "#636efa",
           "#EF553B",
           "#00cc96",
           "#ab63fa",
           "#FFA15A",
           "#19d3f3",
           "#FF6692",
           "#B6E880",
           "#FF97FF",
           "#FECB52"
          ],
          "font": {
           "color": "#2a3f5f"
          },
          "geo": {
           "bgcolor": "white",
           "lakecolor": "white",
           "landcolor": "#E5ECF6",
           "showlakes": true,
           "showland": true,
           "subunitcolor": "white"
          },
          "hoverlabel": {
           "align": "left"
          },
          "hovermode": "closest",
          "mapbox": {
           "style": "light"
          },
          "paper_bgcolor": "white",
          "plot_bgcolor": "#E5ECF6",
          "polar": {
           "angularaxis": {
            "gridcolor": "white",
            "linecolor": "white",
            "ticks": ""
           },
           "bgcolor": "#E5ECF6",
           "radialaxis": {
            "gridcolor": "white",
            "linecolor": "white",
            "ticks": ""
           }
          },
          "scene": {
           "xaxis": {
            "backgroundcolor": "#E5ECF6",
            "gridcolor": "white",
            "gridwidth": 2,
            "linecolor": "white",
            "showbackground": true,
            "ticks": "",
            "zerolinecolor": "white"
           },
           "yaxis": {
            "backgroundcolor": "#E5ECF6",
            "gridcolor": "white",
            "gridwidth": 2,
            "linecolor": "white",
            "showbackground": true,
            "ticks": "",
            "zerolinecolor": "white"
           },
           "zaxis": {
            "backgroundcolor": "#E5ECF6",
            "gridcolor": "white",
            "gridwidth": 2,
            "linecolor": "white",
            "showbackground": true,
            "ticks": "",
            "zerolinecolor": "white"
           }
          },
          "shapedefaults": {
           "line": {
            "color": "#2a3f5f"
           }
          },
          "ternary": {
           "aaxis": {
            "gridcolor": "white",
            "linecolor": "white",
            "ticks": ""
           },
           "baxis": {
            "gridcolor": "white",
            "linecolor": "white",
            "ticks": ""
           },
           "bgcolor": "#E5ECF6",
           "caxis": {
            "gridcolor": "white",
            "linecolor": "white",
            "ticks": ""
           }
          },
          "title": {
           "x": 0.05
          },
          "xaxis": {
           "automargin": true,
           "gridcolor": "white",
           "linecolor": "white",
           "ticks": "",
           "title": {
            "standoff": 15
           },
           "zerolinecolor": "white",
           "zerolinewidth": 2
          },
          "yaxis": {
           "automargin": true,
           "gridcolor": "white",
           "linecolor": "white",
           "ticks": "",
           "title": {
            "standoff": 15
           },
           "zerolinecolor": "white",
           "zerolinewidth": 2
          }
         }
        },
        "title": {
         "text": "Vorhersage für den Wert PM10 auf dem Land mit LSTM-Modell"
        },
        "xaxis": {
         "anchor": "y",
         "domain": [
          0,
          1
         ],
         "title": {
          "text": "Zeit"
         }
        },
        "yaxis": {
         "anchor": "x",
         "domain": [
          0,
          1
         ],
         "title": {
          "text": "Wert"
         }
        }
       }
      }
     },
     "metadata": {},
     "output_type": "display_data"
    }
   ],
   "source": [
    "# Vorhersage für den ersten Schritt machen\n",
    "y_pred_step1 = model2.predict(X_test)\n",
    "\n",
    "# Vorbereiten der Daten für Plotly Express\n",
    "historical_data = values_lpm10\n",
    "\n",
    "# Plotly Express-Figur erstellen\n",
    "fig = px.line(title='Vorhersage für den ersten Schritt mit LSTM-Modell')\n",
    "\n",
    "# Plot der historischen Daten\n",
    "fig.add_scatter(x=gesamt_index[:len(historical_data)], y=historical_data, mode='lines+markers', name='Historische Daten')\n",
    "\n",
    "# Plot der Vorhersage für den ersten Schritt\n",
    "x_values_pred = gesamt_index[len(historical_data):len(historical_data) + len(y_pred_step1)]\n",
    "fig.add_scatter(x=x_values_pred, y=y_pred_step1.flatten(), mode='lines+markers', name='Vorhersage')\n",
    "\n",
    "fig.update_layout(xaxis_title='Zeit', yaxis_title='Wert', title='Vorhersage für den Wert PM10 auf dem Land mit LSTM-Modell')\n",
    "fig.show()"
   ]
  },
  {
   "cell_type": "markdown",
   "metadata": {},
   "source": [
    "nun wird die Regressionsgerade berechnet"
   ]
  },
  {
   "cell_type": "code",
   "execution_count": 226,
   "metadata": {},
   "outputs": [],
   "source": [
    "# Datum in numerisches Format umwandeln\n",
    "land_PM10_average = land_PM10_average.copy()\n",
    "land_PM10_average.reset_index(inplace=True)\n",
    "land_PM10_average['datum'] = pd.to_datetime(land_PM10_average['datum'])\n",
    "land_PM10_average['datum_numeric'] = (land_PM10_average['datum'] - land_PM10_average['datum'].min()).dt.days\n",
    "\n",
    "# Lineare Regression\n",
    "X = land_PM10_average[['datum_numeric']]\n",
    "y = land_PM10_average['average_landpm10']\n",
    "model = LinearRegression()\n",
    "model.fit(X, y)\n",
    "land_PM10_average['land_PM10_average_trend'] = model.predict(X)"
   ]
  },
  {
   "cell_type": "code",
   "execution_count": 229,
   "metadata": {},
   "outputs": [
    {
     "name": "stdout",
     "output_type": "stream",
     "text": [
      "0.0010528058118836059\n",
      "3.9292037094894616\n",
      "-0.0008877413879296886\n"
     ]
    }
   ],
   "source": [
    "print(r_squared_lpm10_regression)\n",
    "print(mae_lpm10_regression)\n",
    "print(slope_lpm10)"
   ]
  },
  {
   "cell_type": "code",
   "execution_count": 227,
   "metadata": {},
   "outputs": [
    {
     "data": {
      "application/vnd.plotly.v1+json": {
       "config": {
        "plotlyServerURL": "https://plot.ly"
       },
       "data": [
        {
         "hovertemplate": "datum=%{x}<br>average_landpm10=%{y}<extra></extra>",
         "legendgroup": "",
         "marker": {
          "color": "#636efa",
          "symbol": "circle"
         },
         "mode": "markers",
         "name": "",
         "orientation": "v",
         "showlegend": false,
         "type": "scatter",
         "x": [
          "2022-04-07T00:00:00",
          "2022-04-09T00:00:00",
          "2022-04-11T00:00:00",
          "2022-04-13T00:00:00",
          "2022-04-15T00:00:00",
          "2022-04-17T00:00:00",
          "2022-04-19T00:00:00",
          "2022-04-21T00:00:00",
          "2022-04-23T00:00:00",
          "2022-04-25T00:00:00",
          "2022-04-27T00:00:00",
          "2022-04-29T00:00:00",
          "2022-05-01T00:00:00",
          "2022-05-03T00:00:00",
          "2022-05-05T00:00:00",
          "2022-05-07T00:00:00",
          "2022-05-09T00:00:00",
          "2022-05-11T00:00:00",
          "2022-05-13T00:00:00",
          "2022-05-15T00:00:00",
          "2022-05-17T00:00:00",
          "2022-05-19T00:00:00",
          "2022-05-21T00:00:00",
          "2022-05-23T00:00:00",
          "2022-05-25T00:00:00",
          "2022-05-27T00:00:00",
          "2022-05-29T00:00:00",
          "2022-06-01T00:00:00",
          "2022-06-03T00:00:00",
          "2022-06-05T00:00:00",
          "2022-06-07T00:00:00",
          "2022-06-09T00:00:00",
          "2022-06-11T00:00:00",
          "2022-06-13T00:00:00",
          "2022-06-15T00:00:00",
          "2022-06-17T00:00:00",
          "2022-06-19T00:00:00",
          "2022-06-21T00:00:00",
          "2022-06-23T00:00:00",
          "2022-06-25T00:00:00",
          "2022-06-27T00:00:00",
          "2022-06-29T00:00:00",
          "2022-07-01T00:00:00",
          "2022-07-03T00:00:00",
          "2022-07-05T00:00:00",
          "2022-07-07T00:00:00",
          "2022-07-09T00:00:00",
          "2022-07-11T00:00:00",
          "2022-07-13T00:00:00",
          "2022-07-15T00:00:00",
          "2022-07-17T00:00:00",
          "2022-07-19T00:00:00",
          "2022-07-21T00:00:00",
          "2022-07-23T00:00:00",
          "2022-07-25T00:00:00",
          "2022-07-27T00:00:00",
          "2022-07-29T00:00:00",
          "2022-08-01T00:00:00",
          "2022-08-03T00:00:00",
          "2022-08-05T00:00:00",
          "2022-08-07T00:00:00",
          "2022-08-09T00:00:00",
          "2022-08-11T00:00:00",
          "2022-08-13T00:00:00",
          "2022-08-15T00:00:00",
          "2022-08-17T00:00:00",
          "2022-08-19T00:00:00",
          "2022-08-21T00:00:00",
          "2022-08-23T00:00:00",
          "2022-08-25T00:00:00",
          "2022-08-27T00:00:00",
          "2022-08-29T00:00:00",
          "2022-09-01T00:00:00",
          "2022-09-03T00:00:00",
          "2022-09-05T00:00:00",
          "2022-09-07T00:00:00",
          "2022-09-09T00:00:00",
          "2022-09-11T00:00:00",
          "2022-09-13T00:00:00",
          "2022-09-15T00:00:00",
          "2022-09-17T00:00:00",
          "2022-09-19T00:00:00",
          "2022-09-21T00:00:00",
          "2022-09-23T00:00:00",
          "2022-09-25T00:00:00",
          "2022-09-27T00:00:00",
          "2022-09-29T00:00:00",
          "2022-10-01T00:00:00",
          "2022-10-03T00:00:00",
          "2022-10-05T00:00:00",
          "2022-10-07T00:00:00",
          "2022-10-09T00:00:00",
          "2022-10-11T00:00:00",
          "2022-10-13T00:00:00",
          "2022-10-15T00:00:00",
          "2022-10-17T00:00:00",
          "2022-10-19T00:00:00",
          "2022-10-21T00:00:00",
          "2022-10-23T00:00:00",
          "2022-10-25T00:00:00",
          "2022-10-27T00:00:00",
          "2022-10-29T00:00:00",
          "2022-11-01T00:00:00",
          "2022-11-03T00:00:00",
          "2022-11-05T00:00:00",
          "2022-11-07T00:00:00",
          "2022-11-09T00:00:00",
          "2022-11-11T00:00:00",
          "2022-11-13T00:00:00",
          "2022-11-15T00:00:00",
          "2022-11-17T00:00:00",
          "2022-11-19T00:00:00",
          "2022-11-21T00:00:00",
          "2022-11-23T00:00:00",
          "2022-11-25T00:00:00",
          "2022-11-27T00:00:00",
          "2022-11-29T00:00:00",
          "2022-12-01T00:00:00",
          "2022-12-03T00:00:00",
          "2022-12-05T00:00:00",
          "2022-12-07T00:00:00",
          "2022-12-09T00:00:00",
          "2022-12-11T00:00:00",
          "2022-12-13T00:00:00",
          "2022-12-15T00:00:00",
          "2022-12-17T00:00:00",
          "2022-12-19T00:00:00",
          "2022-12-21T00:00:00",
          "2022-12-23T00:00:00",
          "2022-12-25T00:00:00",
          "2022-12-27T00:00:00",
          "2022-12-29T00:00:00",
          "2023-01-01T00:00:00",
          "2023-01-03T00:00:00",
          "2023-01-05T00:00:00",
          "2023-01-07T00:00:00",
          "2023-01-09T00:00:00",
          "2023-01-11T00:00:00",
          "2023-01-13T00:00:00",
          "2023-01-15T00:00:00",
          "2023-01-17T00:00:00",
          "2023-01-19T00:00:00",
          "2023-01-21T00:00:00",
          "2023-01-23T00:00:00",
          "2023-01-25T00:00:00",
          "2023-01-27T00:00:00",
          "2023-01-29T00:00:00",
          "2023-02-01T00:00:00",
          "2023-02-03T00:00:00",
          "2023-02-05T00:00:00",
          "2023-02-07T00:00:00",
          "2023-02-09T00:00:00",
          "2023-02-11T00:00:00",
          "2023-02-13T00:00:00",
          "2023-02-15T00:00:00",
          "2023-02-17T00:00:00",
          "2023-02-19T00:00:00",
          "2023-02-21T00:00:00",
          "2023-02-23T00:00:00",
          "2023-02-25T00:00:00",
          "2023-02-27T00:00:00",
          "2023-03-01T00:00:00",
          "2023-03-03T00:00:00",
          "2023-03-05T00:00:00",
          "2023-03-07T00:00:00",
          "2023-03-09T00:00:00",
          "2023-03-11T00:00:00",
          "2023-03-13T00:00:00",
          "2023-03-15T00:00:00",
          "2023-03-17T00:00:00",
          "2023-03-19T00:00:00",
          "2023-03-21T00:00:00",
          "2023-03-25T00:00:00",
          "2023-03-27T00:00:00",
          "2023-03-29T00:00:00",
          "2023-04-01T00:00:00",
          "2023-04-03T00:00:00",
          "2023-04-05T00:00:00",
          "2023-04-07T00:00:00",
          "2023-04-09T00:00:00",
          "2023-04-11T00:00:00",
          "2023-04-13T00:00:00",
          "2023-04-15T00:00:00",
          "2023-04-17T00:00:00",
          "2023-04-19T00:00:00",
          "2023-04-21T00:00:00",
          "2023-04-23T00:00:00",
          "2023-04-25T00:00:00",
          "2023-04-27T00:00:00",
          "2023-04-29T00:00:00",
          "2023-05-01T00:00:00",
          "2023-05-03T00:00:00",
          "2023-05-05T00:00:00",
          "2023-05-07T00:00:00",
          "2023-05-09T00:00:00",
          "2023-05-11T00:00:00",
          "2023-05-13T00:00:00",
          "2023-05-15T00:00:00",
          "2023-05-17T00:00:00",
          "2023-05-19T00:00:00",
          "2023-05-21T00:00:00",
          "2023-05-23T00:00:00",
          "2023-05-25T00:00:00",
          "2023-05-27T00:00:00",
          "2023-05-29T00:00:00",
          "2023-06-01T00:00:00",
          "2023-06-03T00:00:00",
          "2023-06-05T00:00:00",
          "2023-06-07T00:00:00",
          "2023-06-09T00:00:00",
          "2023-06-11T00:00:00",
          "2023-06-13T00:00:00",
          "2023-06-15T00:00:00",
          "2023-06-17T00:00:00",
          "2023-06-19T00:00:00",
          "2023-06-21T00:00:00",
          "2023-06-23T00:00:00",
          "2023-06-25T00:00:00",
          "2023-06-27T00:00:00",
          "2023-06-29T00:00:00",
          "2023-07-01T00:00:00",
          "2023-07-03T00:00:00",
          "2023-07-05T00:00:00",
          "2023-07-07T00:00:00",
          "2023-07-09T00:00:00",
          "2023-07-11T00:00:00",
          "2023-07-13T00:00:00",
          "2023-07-15T00:00:00",
          "2023-07-17T00:00:00",
          "2023-07-19T00:00:00",
          "2023-07-21T00:00:00",
          "2023-07-23T00:00:00",
          "2023-07-25T00:00:00",
          "2023-07-27T00:00:00",
          "2023-07-29T00:00:00",
          "2023-08-01T00:00:00",
          "2023-08-03T00:00:00",
          "2023-08-05T00:00:00",
          "2023-08-07T00:00:00",
          "2023-08-09T00:00:00",
          "2023-08-11T00:00:00",
          "2023-08-13T00:00:00",
          "2023-08-15T00:00:00",
          "2023-08-17T00:00:00",
          "2023-08-19T00:00:00",
          "2023-08-21T00:00:00",
          "2023-08-23T00:00:00",
          "2023-08-25T00:00:00",
          "2023-08-27T00:00:00",
          "2023-08-29T00:00:00",
          "2023-09-01T00:00:00",
          "2023-09-03T00:00:00",
          "2023-09-05T00:00:00",
          "2023-09-07T00:00:00",
          "2023-09-09T00:00:00",
          "2023-09-11T00:00:00",
          "2023-09-13T00:00:00",
          "2023-09-15T00:00:00",
          "2023-09-17T00:00:00",
          "2023-09-19T00:00:00",
          "2023-09-21T00:00:00",
          "2023-09-23T00:00:00",
          "2023-09-25T00:00:00",
          "2023-09-27T00:00:00",
          "2023-09-29T00:00:00",
          "2023-10-01T00:00:00",
          "2023-10-03T00:00:00",
          "2023-10-05T00:00:00",
          "2023-10-07T00:00:00",
          "2023-10-09T00:00:00",
          "2023-10-11T00:00:00",
          "2023-10-13T00:00:00",
          "2023-10-15T00:00:00",
          "2023-10-17T00:00:00",
          "2023-10-19T00:00:00",
          "2023-10-21T00:00:00",
          "2023-10-23T00:00:00",
          "2023-10-25T00:00:00",
          "2023-10-27T00:00:00",
          "2023-10-29T00:00:00",
          "2023-11-01T00:00:00",
          "2023-11-03T00:00:00",
          "2023-11-05T00:00:00",
          "2023-11-07T00:00:00",
          "2023-11-09T00:00:00",
          "2023-11-11T00:00:00",
          "2023-11-13T00:00:00",
          "2023-11-15T00:00:00",
          "2023-11-17T00:00:00",
          "2023-11-19T00:00:00",
          "2023-11-21T00:00:00",
          "2023-11-23T00:00:00",
          "2023-11-25T00:00:00",
          "2023-11-27T00:00:00",
          "2023-11-29T00:00:00",
          "2023-12-01T00:00:00",
          "2023-12-03T00:00:00",
          "2023-12-05T00:00:00",
          "2023-12-07T00:00:00",
          "2023-12-09T00:00:00",
          "2023-12-11T00:00:00",
          "2023-12-13T00:00:00",
          "2023-12-15T00:00:00",
          "2023-12-17T00:00:00",
          "2023-12-19T00:00:00",
          "2023-12-21T00:00:00",
          "2023-12-23T00:00:00",
          "2023-12-25T00:00:00",
          "2023-12-27T00:00:00",
          "2023-12-29T00:00:00",
          "2024-01-01T00:00:00",
          "2024-01-03T00:00:00",
          "2024-01-05T00:00:00",
          "2024-01-07T00:00:00",
          "2024-01-09T00:00:00",
          "2024-01-11T00:00:00",
          "2024-01-13T00:00:00",
          "2024-01-15T00:00:00",
          "2024-01-17T00:00:00",
          "2024-01-19T00:00:00",
          "2024-01-21T00:00:00",
          "2024-01-23T00:00:00",
          "2024-01-25T00:00:00",
          "2024-01-27T00:00:00",
          "2024-01-29T00:00:00",
          "2024-02-01T00:00:00",
          "2024-02-03T00:00:00",
          "2024-02-05T00:00:00",
          "2024-02-07T00:00:00",
          "2024-02-09T00:00:00",
          "2024-02-11T00:00:00",
          "2024-02-13T00:00:00",
          "2024-02-15T00:00:00",
          "2024-02-17T00:00:00",
          "2024-02-19T00:00:00",
          "2024-02-21T00:00:00",
          "2024-02-23T00:00:00",
          "2024-02-25T00:00:00",
          "2024-02-27T00:00:00",
          "2024-02-29T00:00:00",
          "2024-03-01T00:00:00",
          "2024-03-03T00:00:00",
          "2024-03-05T00:00:00",
          "2024-03-07T00:00:00",
          "2024-03-09T00:00:00",
          "2024-03-11T00:00:00",
          "2024-03-13T00:00:00",
          "2024-03-15T00:00:00",
          "2024-04-09T00:00:00",
          "2024-04-11T00:00:00",
          "2024-04-13T00:00:00",
          "2024-04-15T00:00:00",
          "2024-04-17T00:00:00",
          "2024-04-19T00:00:00",
          "2024-04-21T00:00:00",
          "2024-04-23T00:00:00",
          "2024-04-25T00:00:00",
          "2024-04-27T00:00:00",
          "2024-04-29T00:00:00",
          "2024-05-01T00:00:00",
          "2024-05-03T00:00:00",
          "2024-05-05T00:00:00",
          "2024-05-07T00:00:00",
          "2024-05-09T00:00:00",
          "2024-05-11T00:00:00",
          "2024-05-13T00:00:00",
          "2024-05-15T00:00:00",
          "2024-05-17T00:00:00",
          "2024-05-19T00:00:00",
          "2024-05-21T00:00:00",
          "2024-05-23T00:00:00",
          "2024-05-25T00:00:00",
          "2024-05-27T00:00:00",
          "2024-05-29T00:00:00"
         ],
         "xaxis": "x",
         "y": [
          1.734,
          4.394,
          13.8825,
          7.43,
          11.616666666666667,
          2.8340000000000005,
          3.4225000000000003,
          14.224999999999998,
          8.870000000000001,
          10.672,
          5.836,
          5.358,
          6.493333333333335,
          7.456000000000001,
          7.65,
          4.326,
          4.535,
          4.901999999999999,
          5.533333333333334,
          3.0933333333333333,
          2.95,
          3.716,
          2.5500000000000003,
          4.1825,
          2.19,
          3.825,
          4.3,
          6.0175,
          2.945,
          3.1566666666666663,
          2.434,
          5.54,
          3.705,
          3.4066666666666667,
          3.2100000000000004,
          1.5,
          9.693333333333332,
          5.101999999999999,
          6.206000000000001,
          10.575,
          2.895,
          7.841999999999999,
          6.579999999999999,
          1.875,
          3.026,
          3.4200000000000004,
          3.654,
          4.216666666666667,
          1.95,
          1.885,
          1.66,
          3.9125,
          5.615,
          7.114,
          7.08,
          3.0875,
          6.295,
          2.1020000000000003,
          2.74,
          5.550000000000001,
          2.3116666666666665,
          2.825,
          3.6725,
          6.416666666666667,
          7.353333333333334,
          3.2566666666666664,
          15.260000000000002,
          3.595,
          8.27,
          11.5125,
          10.99,
          5.59,
          3.22,
          4.5875,
          5.23,
          3.876,
          3.616,
          12.7075,
          4.015,
          5.49,
          5.286666666666666,
          3.856666666666666,
          2.76,
          3.3075,
          6.746,
          1.7900000000000005,
          4.326666666666667,
          1.64,
          7.1225,
          3.87,
          4.815,
          2.825,
          6.876666666666668,
          12.9,
          2.9200000000000004,
          2.78,
          5.533333333333334,
          5.566666666666666,
          2.49,
          4.674,
          9.075,
          8.0675,
          5.295,
          11.033333333333331,
          4.156666666666667,
          6.0625,
          2.9975,
          8.2325,
          11.195,
          13.495,
          5.725,
          8.575,
          5.273333333333333,
          25.775,
          20.385,
          11.393333333333333,
          9.086666666666666,
          17.933333333333334,
          24.8625,
          12.506666666666666,
          7.2925,
          23.225,
          25.642000000000003,
          14.246,
          30.445,
          16.675,
          41.653333333333336,
          22.4725,
          4.55,
          7.665999999999999,
          6.213333333333334,
          2.973333333333334,
          7.115,
          3.41,
          4.946,
          4.3525,
          6.015,
          2.6666666666666665,
          1.7100000000000002,
          1.7333333333333332,
          2.68,
          12.732499999999998,
          14.195,
          35.28333333333333,
          19.915,
          18.776666666666667,
          14.783333333333331,
          7.083333333333333,
          5.6625,
          14.715,
          9.325,
          10.075,
          10.65,
          15.403333333333334,
          27.23333333333333,
          4.883333333333334,
          4.25,
          7.893333333333333,
          13.913333333333332,
          2.64,
          1.35,
          8.450000000000001,
          31.195,
          7.999999999999999,
          12.762,
          7.224000000000001,
          1.4500000000000002,
          5.295,
          4.3925,
          4.925,
          7.55,
          6.574,
          2.265,
          4.88,
          2.2875,
          2.1175,
          4.29,
          6.1,
          10.0675,
          13.683333333333332,
          3.832,
          2.5500000000000003,
          4.436,
          7.85,
          8.558000000000002,
          6.495,
          2.36,
          3.233333333333333,
          6.037999999999999,
          7.1,
          4.494000000000001,
          5.34,
          2.7433333333333336,
          3.05,
          4.154,
          2.09,
          5.4625,
          3.6625,
          4.473333333333334,
          7.423333333333332,
          11.03,
          9.775,
          5.7250000000000005,
          6.625,
          1.65,
          4.976666666666667,
          6.6625,
          4.4,
          3.745,
          4.574,
          5.63,
          4.514,
          5.362499999999999,
          7.093333333333334,
          6.6575,
          7.0625,
          4.659999999999999,
          2.05,
          3.2425,
          5.188000000000001,
          3.91,
          7.483333333333334,
          6.104,
          4.17,
          3.71,
          6.4375,
          4.276666666666666,
          2.483333333333333,
          6.275,
          4.366,
          1.525,
          5.455,
          1.825,
          2.605,
          1.856666666666667,
          1.4875,
          2.575,
          2.1500000000000004,
          2.495,
          2.3575,
          3.205,
          3.9,
          4.055,
          4.66,
          5.69,
          5.17,
          4.7325,
          5.726666666666667,
          2.4,
          5.8,
          2.1,
          3.1366666666666667,
          2.215,
          4.14,
          6.0825000000000005,
          6.3925,
          3.033333333333333,
          3.606666666666667,
          2.89,
          1.7833333333333334,
          2.7475,
          8.575000000000001,
          1.925,
          3.39,
          4.525,
          5.825,
          9.125,
          5.392499999999999,
          2.29,
          8.6325,
          8.945,
          3,
          2.575,
          4.31,
          8.317499999999999,
          4.645,
          5.539999999999999,
          2.6333333333333333,
          3.5875000000000004,
          2.4875,
          2.7,
          1.785,
          1.35,
          0.6,
          2.25,
          2.9250000000000003,
          4.05,
          3.885,
          5.576666666666667,
          2.56,
          6.3075,
          4.075,
          5.375,
          6.137499999999999,
          5.074999999999999,
          8.993333333333332,
          11.5925,
          8.719999999999999,
          19.585,
          10.97,
          3.943333333333333,
          4.6066666666666665,
          12.4875,
          8.8375,
          2.433333333333333,
          1.1949999999999998,
          2.2575000000000003,
          2.705,
          4.7425,
          3.245,
          5.366666666666667,
          3.6375,
          6.880000000000001,
          4.765000000000001,
          40.658,
          42.78,
          18.94333333333333,
          9.483999999999998,
          12.715999999999998,
          11.38,
          13.91,
          10.105999999999998,
          10.71,
          5.556666666666668,
          7.226000000000001,
          5.795,
          4.865,
          6.544999999999999,
          15.826666666666668,
          3.51,
          10.4675,
          2.3775,
          3.525,
          4.43,
          1.65,
          5.164999999999999,
          2.08,
          1.4774999999999998,
          13.05,
          23.683333333333334,
          26.565,
          17.95,
          4.616666666666666,
          20.2,
          10.09,
          6.35,
          6.25,
          5.375,
          1.7800000000000002,
          3.5,
          1.15,
          6.4125,
          3.4266666666666663,
          4.483333333333333,
          1.375,
          6.545,
          1.1833333333333331,
          1.8666666666666665,
          3.3100000000000005,
          9.983333333333333,
          1.375,
          1.3925,
          2.0375,
          3.8975,
          2.6775,
          2.3775,
          5.306666666666668,
          2.15,
          2.1775,
          2.9000000000000004,
          3.14,
          2.813333333333334,
          2.96,
          3.3774999999999995
         ],
         "yaxis": "y"
        },
        {
         "mode": "lines",
         "name": "Trend",
         "type": "scatter",
         "x": [
          "2022-04-07T00:00:00",
          "2022-04-09T00:00:00",
          "2022-04-11T00:00:00",
          "2022-04-13T00:00:00",
          "2022-04-15T00:00:00",
          "2022-04-17T00:00:00",
          "2022-04-19T00:00:00",
          "2022-04-21T00:00:00",
          "2022-04-23T00:00:00",
          "2022-04-25T00:00:00",
          "2022-04-27T00:00:00",
          "2022-04-29T00:00:00",
          "2022-05-01T00:00:00",
          "2022-05-03T00:00:00",
          "2022-05-05T00:00:00",
          "2022-05-07T00:00:00",
          "2022-05-09T00:00:00",
          "2022-05-11T00:00:00",
          "2022-05-13T00:00:00",
          "2022-05-15T00:00:00",
          "2022-05-17T00:00:00",
          "2022-05-19T00:00:00",
          "2022-05-21T00:00:00",
          "2022-05-23T00:00:00",
          "2022-05-25T00:00:00",
          "2022-05-27T00:00:00",
          "2022-05-29T00:00:00",
          "2022-06-01T00:00:00",
          "2022-06-03T00:00:00",
          "2022-06-05T00:00:00",
          "2022-06-07T00:00:00",
          "2022-06-09T00:00:00",
          "2022-06-11T00:00:00",
          "2022-06-13T00:00:00",
          "2022-06-15T00:00:00",
          "2022-06-17T00:00:00",
          "2022-06-19T00:00:00",
          "2022-06-21T00:00:00",
          "2022-06-23T00:00:00",
          "2022-06-25T00:00:00",
          "2022-06-27T00:00:00",
          "2022-06-29T00:00:00",
          "2022-07-01T00:00:00",
          "2022-07-03T00:00:00",
          "2022-07-05T00:00:00",
          "2022-07-07T00:00:00",
          "2022-07-09T00:00:00",
          "2022-07-11T00:00:00",
          "2022-07-13T00:00:00",
          "2022-07-15T00:00:00",
          "2022-07-17T00:00:00",
          "2022-07-19T00:00:00",
          "2022-07-21T00:00:00",
          "2022-07-23T00:00:00",
          "2022-07-25T00:00:00",
          "2022-07-27T00:00:00",
          "2022-07-29T00:00:00",
          "2022-08-01T00:00:00",
          "2022-08-03T00:00:00",
          "2022-08-05T00:00:00",
          "2022-08-07T00:00:00",
          "2022-08-09T00:00:00",
          "2022-08-11T00:00:00",
          "2022-08-13T00:00:00",
          "2022-08-15T00:00:00",
          "2022-08-17T00:00:00",
          "2022-08-19T00:00:00",
          "2022-08-21T00:00:00",
          "2022-08-23T00:00:00",
          "2022-08-25T00:00:00",
          "2022-08-27T00:00:00",
          "2022-08-29T00:00:00",
          "2022-09-01T00:00:00",
          "2022-09-03T00:00:00",
          "2022-09-05T00:00:00",
          "2022-09-07T00:00:00",
          "2022-09-09T00:00:00",
          "2022-09-11T00:00:00",
          "2022-09-13T00:00:00",
          "2022-09-15T00:00:00",
          "2022-09-17T00:00:00",
          "2022-09-19T00:00:00",
          "2022-09-21T00:00:00",
          "2022-09-23T00:00:00",
          "2022-09-25T00:00:00",
          "2022-09-27T00:00:00",
          "2022-09-29T00:00:00",
          "2022-10-01T00:00:00",
          "2022-10-03T00:00:00",
          "2022-10-05T00:00:00",
          "2022-10-07T00:00:00",
          "2022-10-09T00:00:00",
          "2022-10-11T00:00:00",
          "2022-10-13T00:00:00",
          "2022-10-15T00:00:00",
          "2022-10-17T00:00:00",
          "2022-10-19T00:00:00",
          "2022-10-21T00:00:00",
          "2022-10-23T00:00:00",
          "2022-10-25T00:00:00",
          "2022-10-27T00:00:00",
          "2022-10-29T00:00:00",
          "2022-11-01T00:00:00",
          "2022-11-03T00:00:00",
          "2022-11-05T00:00:00",
          "2022-11-07T00:00:00",
          "2022-11-09T00:00:00",
          "2022-11-11T00:00:00",
          "2022-11-13T00:00:00",
          "2022-11-15T00:00:00",
          "2022-11-17T00:00:00",
          "2022-11-19T00:00:00",
          "2022-11-21T00:00:00",
          "2022-11-23T00:00:00",
          "2022-11-25T00:00:00",
          "2022-11-27T00:00:00",
          "2022-11-29T00:00:00",
          "2022-12-01T00:00:00",
          "2022-12-03T00:00:00",
          "2022-12-05T00:00:00",
          "2022-12-07T00:00:00",
          "2022-12-09T00:00:00",
          "2022-12-11T00:00:00",
          "2022-12-13T00:00:00",
          "2022-12-15T00:00:00",
          "2022-12-17T00:00:00",
          "2022-12-19T00:00:00",
          "2022-12-21T00:00:00",
          "2022-12-23T00:00:00",
          "2022-12-25T00:00:00",
          "2022-12-27T00:00:00",
          "2022-12-29T00:00:00",
          "2023-01-01T00:00:00",
          "2023-01-03T00:00:00",
          "2023-01-05T00:00:00",
          "2023-01-07T00:00:00",
          "2023-01-09T00:00:00",
          "2023-01-11T00:00:00",
          "2023-01-13T00:00:00",
          "2023-01-15T00:00:00",
          "2023-01-17T00:00:00",
          "2023-01-19T00:00:00",
          "2023-01-21T00:00:00",
          "2023-01-23T00:00:00",
          "2023-01-25T00:00:00",
          "2023-01-27T00:00:00",
          "2023-01-29T00:00:00",
          "2023-02-01T00:00:00",
          "2023-02-03T00:00:00",
          "2023-02-05T00:00:00",
          "2023-02-07T00:00:00",
          "2023-02-09T00:00:00",
          "2023-02-11T00:00:00",
          "2023-02-13T00:00:00",
          "2023-02-15T00:00:00",
          "2023-02-17T00:00:00",
          "2023-02-19T00:00:00",
          "2023-02-21T00:00:00",
          "2023-02-23T00:00:00",
          "2023-02-25T00:00:00",
          "2023-02-27T00:00:00",
          "2023-03-01T00:00:00",
          "2023-03-03T00:00:00",
          "2023-03-05T00:00:00",
          "2023-03-07T00:00:00",
          "2023-03-09T00:00:00",
          "2023-03-11T00:00:00",
          "2023-03-13T00:00:00",
          "2023-03-15T00:00:00",
          "2023-03-17T00:00:00",
          "2023-03-19T00:00:00",
          "2023-03-21T00:00:00",
          "2023-03-25T00:00:00",
          "2023-03-27T00:00:00",
          "2023-03-29T00:00:00",
          "2023-04-01T00:00:00",
          "2023-04-03T00:00:00",
          "2023-04-05T00:00:00",
          "2023-04-07T00:00:00",
          "2023-04-09T00:00:00",
          "2023-04-11T00:00:00",
          "2023-04-13T00:00:00",
          "2023-04-15T00:00:00",
          "2023-04-17T00:00:00",
          "2023-04-19T00:00:00",
          "2023-04-21T00:00:00",
          "2023-04-23T00:00:00",
          "2023-04-25T00:00:00",
          "2023-04-27T00:00:00",
          "2023-04-29T00:00:00",
          "2023-05-01T00:00:00",
          "2023-05-03T00:00:00",
          "2023-05-05T00:00:00",
          "2023-05-07T00:00:00",
          "2023-05-09T00:00:00",
          "2023-05-11T00:00:00",
          "2023-05-13T00:00:00",
          "2023-05-15T00:00:00",
          "2023-05-17T00:00:00",
          "2023-05-19T00:00:00",
          "2023-05-21T00:00:00",
          "2023-05-23T00:00:00",
          "2023-05-25T00:00:00",
          "2023-05-27T00:00:00",
          "2023-05-29T00:00:00",
          "2023-06-01T00:00:00",
          "2023-06-03T00:00:00",
          "2023-06-05T00:00:00",
          "2023-06-07T00:00:00",
          "2023-06-09T00:00:00",
          "2023-06-11T00:00:00",
          "2023-06-13T00:00:00",
          "2023-06-15T00:00:00",
          "2023-06-17T00:00:00",
          "2023-06-19T00:00:00",
          "2023-06-21T00:00:00",
          "2023-06-23T00:00:00",
          "2023-06-25T00:00:00",
          "2023-06-27T00:00:00",
          "2023-06-29T00:00:00",
          "2023-07-01T00:00:00",
          "2023-07-03T00:00:00",
          "2023-07-05T00:00:00",
          "2023-07-07T00:00:00",
          "2023-07-09T00:00:00",
          "2023-07-11T00:00:00",
          "2023-07-13T00:00:00",
          "2023-07-15T00:00:00",
          "2023-07-17T00:00:00",
          "2023-07-19T00:00:00",
          "2023-07-21T00:00:00",
          "2023-07-23T00:00:00",
          "2023-07-25T00:00:00",
          "2023-07-27T00:00:00",
          "2023-07-29T00:00:00",
          "2023-08-01T00:00:00",
          "2023-08-03T00:00:00",
          "2023-08-05T00:00:00",
          "2023-08-07T00:00:00",
          "2023-08-09T00:00:00",
          "2023-08-11T00:00:00",
          "2023-08-13T00:00:00",
          "2023-08-15T00:00:00",
          "2023-08-17T00:00:00",
          "2023-08-19T00:00:00",
          "2023-08-21T00:00:00",
          "2023-08-23T00:00:00",
          "2023-08-25T00:00:00",
          "2023-08-27T00:00:00",
          "2023-08-29T00:00:00",
          "2023-09-01T00:00:00",
          "2023-09-03T00:00:00",
          "2023-09-05T00:00:00",
          "2023-09-07T00:00:00",
          "2023-09-09T00:00:00",
          "2023-09-11T00:00:00",
          "2023-09-13T00:00:00",
          "2023-09-15T00:00:00",
          "2023-09-17T00:00:00",
          "2023-09-19T00:00:00",
          "2023-09-21T00:00:00",
          "2023-09-23T00:00:00",
          "2023-09-25T00:00:00",
          "2023-09-27T00:00:00",
          "2023-09-29T00:00:00",
          "2023-10-01T00:00:00",
          "2023-10-03T00:00:00",
          "2023-10-05T00:00:00",
          "2023-10-07T00:00:00",
          "2023-10-09T00:00:00",
          "2023-10-11T00:00:00",
          "2023-10-13T00:00:00",
          "2023-10-15T00:00:00",
          "2023-10-17T00:00:00",
          "2023-10-19T00:00:00",
          "2023-10-21T00:00:00",
          "2023-10-23T00:00:00",
          "2023-10-25T00:00:00",
          "2023-10-27T00:00:00",
          "2023-10-29T00:00:00",
          "2023-11-01T00:00:00",
          "2023-11-03T00:00:00",
          "2023-11-05T00:00:00",
          "2023-11-07T00:00:00",
          "2023-11-09T00:00:00",
          "2023-11-11T00:00:00",
          "2023-11-13T00:00:00",
          "2023-11-15T00:00:00",
          "2023-11-17T00:00:00",
          "2023-11-19T00:00:00",
          "2023-11-21T00:00:00",
          "2023-11-23T00:00:00",
          "2023-11-25T00:00:00",
          "2023-11-27T00:00:00",
          "2023-11-29T00:00:00",
          "2023-12-01T00:00:00",
          "2023-12-03T00:00:00",
          "2023-12-05T00:00:00",
          "2023-12-07T00:00:00",
          "2023-12-09T00:00:00",
          "2023-12-11T00:00:00",
          "2023-12-13T00:00:00",
          "2023-12-15T00:00:00",
          "2023-12-17T00:00:00",
          "2023-12-19T00:00:00",
          "2023-12-21T00:00:00",
          "2023-12-23T00:00:00",
          "2023-12-25T00:00:00",
          "2023-12-27T00:00:00",
          "2023-12-29T00:00:00",
          "2024-01-01T00:00:00",
          "2024-01-03T00:00:00",
          "2024-01-05T00:00:00",
          "2024-01-07T00:00:00",
          "2024-01-09T00:00:00",
          "2024-01-11T00:00:00",
          "2024-01-13T00:00:00",
          "2024-01-15T00:00:00",
          "2024-01-17T00:00:00",
          "2024-01-19T00:00:00",
          "2024-01-21T00:00:00",
          "2024-01-23T00:00:00",
          "2024-01-25T00:00:00",
          "2024-01-27T00:00:00",
          "2024-01-29T00:00:00",
          "2024-02-01T00:00:00",
          "2024-02-03T00:00:00",
          "2024-02-05T00:00:00",
          "2024-02-07T00:00:00",
          "2024-02-09T00:00:00",
          "2024-02-11T00:00:00",
          "2024-02-13T00:00:00",
          "2024-02-15T00:00:00",
          "2024-02-17T00:00:00",
          "2024-02-19T00:00:00",
          "2024-02-21T00:00:00",
          "2024-02-23T00:00:00",
          "2024-02-25T00:00:00",
          "2024-02-27T00:00:00",
          "2024-02-29T00:00:00",
          "2024-03-01T00:00:00",
          "2024-03-03T00:00:00",
          "2024-03-05T00:00:00",
          "2024-03-07T00:00:00",
          "2024-03-09T00:00:00",
          "2024-03-11T00:00:00",
          "2024-03-13T00:00:00",
          "2024-03-15T00:00:00",
          "2024-04-09T00:00:00",
          "2024-04-11T00:00:00",
          "2024-04-13T00:00:00",
          "2024-04-15T00:00:00",
          "2024-04-17T00:00:00",
          "2024-04-19T00:00:00",
          "2024-04-21T00:00:00",
          "2024-04-23T00:00:00",
          "2024-04-25T00:00:00",
          "2024-04-27T00:00:00",
          "2024-04-29T00:00:00",
          "2024-05-01T00:00:00",
          "2024-05-03T00:00:00",
          "2024-05-05T00:00:00",
          "2024-05-07T00:00:00",
          "2024-05-09T00:00:00",
          "2024-05-11T00:00:00",
          "2024-05-13T00:00:00",
          "2024-05-15T00:00:00",
          "2024-05-17T00:00:00",
          "2024-05-19T00:00:00",
          "2024-05-21T00:00:00",
          "2024-05-23T00:00:00",
          "2024-05-25T00:00:00",
          "2024-05-27T00:00:00",
          "2024-05-29T00:00:00"
         ],
         "y": [
          6.976261144192775,
          6.9744856614169155,
          6.972710178641056,
          6.970934695865197,
          6.969159213089338,
          6.967383730313478,
          6.965608247537618,
          6.96383276476176,
          6.9620572819859,
          6.9602817992100405,
          6.958506316434181,
          6.956730833658322,
          6.954955350882463,
          6.953179868106603,
          6.9514043853307435,
          6.949628902554885,
          6.947853419779025,
          6.946077937003166,
          6.944302454227306,
          6.942526971451447,
          6.940751488675588,
          6.938976005899728,
          6.9372005231238685,
          6.93542504034801,
          6.93364955757215,
          6.931874074796291,
          6.930098592020431,
          6.927435367856642,
          6.9256598850807825,
          6.923884402304924,
          6.922108919529064,
          6.920333436753205,
          6.918557953977345,
          6.916782471201486,
          6.915006988425627,
          6.913231505649767,
          6.9114560228739075,
          6.909680540098049,
          6.907905057322189,
          6.90612957454633,
          6.90435409177047,
          6.902578608994611,
          6.900803126218752,
          6.899027643442892,
          6.8972521606670325,
          6.895476677891174,
          6.893701195115314,
          6.891925712339455,
          6.890150229563595,
          6.888374746787736,
          6.886599264011877,
          6.884823781236017,
          6.8830482984601575,
          6.881272815684299,
          6.879497332908439,
          6.87772185013258,
          6.87594636735672,
          6.873283143192931,
          6.8715076604170715,
          6.869732177641213,
          6.867956694865353,
          6.866181212089494,
          6.864405729313634,
          6.862630246537775,
          6.860854763761916,
          6.859079280986056,
          6.8573037982101965,
          6.855528315434338,
          6.853752832658478,
          6.851977349882619,
          6.850201867106759,
          6.8484263843309,
          6.8457631601671105,
          6.843987677391252,
          6.842212194615392,
          6.840436711839533,
          6.838661229063673,
          6.836885746287814,
          6.835110263511955,
          6.833334780736095,
          6.8315592979602355,
          6.829783815184377,
          6.828008332408517,
          6.826232849632658,
          6.824457366856798,
          6.822681884080939,
          6.82090640130508,
          6.81913091852922,
          6.817355435753361,
          6.815579952977502,
          6.813804470201642,
          6.812028987425783,
          6.810253504649923,
          6.808478021874064,
          6.806702539098205,
          6.804927056322345,
          6.803151573546486,
          6.801376090770626,
          6.799600607994767,
          6.797825125218908,
          6.796049642443048,
          6.7942741596671885,
          6.7916109355034,
          6.789835452727541,
          6.788059969951681,
          6.786284487175822,
          6.784509004399962,
          6.782733521624103,
          6.780958038848244,
          6.779182556072384,
          6.777407073296525,
          6.775631590520666,
          6.773856107744806,
          6.772080624968947,
          6.770305142193087,
          6.7685296594172275,
          6.766754176641369,
          6.764978693865509,
          6.76320321108965,
          6.76142772831379,
          6.759652245537931,
          6.757876762762072,
          6.756101279986212,
          6.7543257972103525,
          6.752550314434494,
          6.750774831658634,
          6.748999348882775,
          6.747223866106915,
          6.745448383331056,
          6.743672900555197,
          6.741897417779337,
          6.740121935003478,
          6.737458710839689,
          6.735683228063829,
          6.73390774528797,
          6.732132262512111,
          6.730356779736251,
          6.728581296960392,
          6.726805814184533,
          6.725030331408673,
          6.723254848632814,
          6.721479365856954,
          6.719703883081095,
          6.717928400305236,
          6.716152917529376,
          6.714377434753517,
          6.712601951977658,
          6.709938727813869,
          6.708163245038009,
          6.70638776226215,
          6.70461227948629,
          6.7028367967104305,
          6.701061313934572,
          6.699285831158712,
          6.697510348382853,
          6.695734865606994,
          6.693959382831134,
          6.692183900055275,
          6.690408417279415,
          6.688632934503556,
          6.686857451727697,
          6.685081968951837,
          6.683306486175978,
          6.681531003400118,
          6.679755520624259,
          6.6779800378484,
          6.67620455507254,
          6.674429072296681,
          6.672653589520822,
          6.670878106744962,
          6.669102623969103,
          6.667327141193243,
          6.663776175641525,
          6.662000692865665,
          6.660225210089806,
          6.657561985926017,
          6.655786503150157,
          6.654011020374298,
          6.652235537598439,
          6.650460054822579,
          6.64868457204672,
          6.646909089270861,
          6.645133606495001,
          6.643358123719142,
          6.641582640943282,
          6.639807158167423,
          6.638031675391564,
          6.636256192615704,
          6.634480709839845,
          6.632705227063986,
          6.630929744288126,
          6.629154261512267,
          6.627378778736407,
          6.625603295960548,
          6.623827813184689,
          6.622052330408829,
          6.62027684763297,
          6.618501364857111,
          6.616725882081251,
          6.614950399305392,
          6.613174916529532,
          6.6113994337536734,
          6.609623950977814,
          6.607848468201954,
          6.606072985426095,
          6.603409761262306,
          6.601634278486446,
          6.599858795710587,
          6.598083312934728,
          6.596307830158868,
          6.594532347383009,
          6.59275686460715,
          6.59098138183129,
          6.589205899055431,
          6.587430416279571,
          6.5856549335037124,
          6.583879450727853,
          6.582103967951993,
          6.580328485176134,
          6.578553002400275,
          6.576777519624415,
          6.575002036848556,
          6.573226554072696,
          6.5714510712968375,
          6.569675588520978,
          6.567900105745118,
          6.566124622969259,
          6.5643491401934,
          6.56257365741754,
          6.560798174641681,
          6.559022691865821,
          6.557247209089962,
          6.555471726314103,
          6.553696243538243,
          6.551920760762384,
          6.549257536598595,
          6.547482053822735,
          6.5457065710468765,
          6.543931088271017,
          6.542155605495157,
          6.540380122719298,
          6.538604639943439,
          6.536829157167579,
          6.53505367439172,
          6.53327819161586,
          6.5315027088400015,
          6.529727226064142,
          6.527951743288282,
          6.526176260512423,
          6.524400777736563,
          6.521737553572774,
          6.5199620707969155,
          6.518186588021056,
          6.516411105245196,
          6.514635622469337,
          6.512860139693478,
          6.511084656917618,
          6.509309174141759,
          6.507533691365899,
          6.5057582085900405,
          6.503982725814181,
          6.502207243038321,
          6.500431760262462,
          6.498656277486603,
          6.496880794710743,
          6.495105311934884,
          6.493329829159024,
          6.491554346383165,
          6.489778863607306,
          6.488003380831446,
          6.486227898055587,
          6.484452415279728,
          6.4826769325038684,
          6.480901449728009,
          6.479125966952149,
          6.47735048417629,
          6.475575001400431,
          6.473799518624571,
          6.472024035848712,
          6.470248553072853,
          6.467585328909063,
          6.4658098461332045,
          6.464034363357345,
          6.462258880581485,
          6.460483397805626,
          6.458707915029766,
          6.4569324322539075,
          6.455156949478048,
          6.453381466702188,
          6.45160598392633,
          6.44983050115047,
          6.44805501837461,
          6.446279535598751,
          6.444504052822891,
          6.4427285700470325,
          6.440953087271173,
          6.439177604495313,
          6.437402121719455,
          6.435626638943595,
          6.433851156167735,
          6.432075673391876,
          6.430300190616016,
          6.4285247078401575,
          6.426749225064298,
          6.424973742288438,
          6.423198259512579,
          6.42142277673672,
          6.41964729396086,
          6.417871811185001,
          6.416096328409141,
          6.413433104245352,
          6.411657621469493,
          6.409882138693634,
          6.408106655917774,
          6.406331173141915,
          6.404555690366056,
          6.4027802075901965,
          6.401004724814337,
          6.399229242038477,
          6.397453759262618,
          6.395678276486759,
          6.393902793710899,
          6.39212731093504,
          6.39035182815918,
          6.3885763453833215,
          6.385913121219533,
          6.384137638443673,
          6.382362155667813,
          6.380586672891954,
          6.378811190116094,
          6.3770357073402355,
          6.375260224564376,
          6.373484741788516,
          6.371709259012658,
          6.369933776236798,
          6.368158293460938,
          6.366382810685079,
          6.364607327909219,
          6.3628318451333605,
          6.361056362357501,
          6.360168620969571,
          6.358393138193712,
          6.356617655417852,
          6.354842172641993,
          6.353066689866134,
          6.3512912070902745,
          6.349515724314415,
          6.347740241538555,
          6.3255467068403135,
          6.323771224064454,
          6.321995741288594,
          6.320220258512736,
          6.318444775736876,
          6.316669292961016,
          6.314893810185157,
          6.313118327409297,
          6.3113428446334385,
          6.309567361857579,
          6.307791879081719,
          6.306016396305861,
          6.304240913530001,
          6.3024654307541415,
          6.300689947978282,
          6.298914465202422,
          6.297138982426564,
          6.295363499650704,
          6.293588016874844,
          6.291812534098985,
          6.290037051323126,
          6.2882615685472665,
          6.286486085771407,
          6.284710602995547,
          6.282935120219689,
          6.281159637443829
         ]
        }
       ],
       "layout": {
        "legend": {
         "tracegroupgap": 0
        },
        "template": {
         "data": {
          "bar": [
           {
            "error_x": {
             "color": "#2a3f5f"
            },
            "error_y": {
             "color": "#2a3f5f"
            },
            "marker": {
             "line": {
              "color": "#E5ECF6",
              "width": 0.5
             },
             "pattern": {
              "fillmode": "overlay",
              "size": 10,
              "solidity": 0.2
             }
            },
            "type": "bar"
           }
          ],
          "barpolar": [
           {
            "marker": {
             "line": {
              "color": "#E5ECF6",
              "width": 0.5
             },
             "pattern": {
              "fillmode": "overlay",
              "size": 10,
              "solidity": 0.2
             }
            },
            "type": "barpolar"
           }
          ],
          "carpet": [
           {
            "aaxis": {
             "endlinecolor": "#2a3f5f",
             "gridcolor": "white",
             "linecolor": "white",
             "minorgridcolor": "white",
             "startlinecolor": "#2a3f5f"
            },
            "baxis": {
             "endlinecolor": "#2a3f5f",
             "gridcolor": "white",
             "linecolor": "white",
             "minorgridcolor": "white",
             "startlinecolor": "#2a3f5f"
            },
            "type": "carpet"
           }
          ],
          "choropleth": [
           {
            "colorbar": {
             "outlinewidth": 0,
             "ticks": ""
            },
            "type": "choropleth"
           }
          ],
          "contour": [
           {
            "colorbar": {
             "outlinewidth": 0,
             "ticks": ""
            },
            "colorscale": [
             [
              0,
              "#0d0887"
             ],
             [
              0.1111111111111111,
              "#46039f"
             ],
             [
              0.2222222222222222,
              "#7201a8"
             ],
             [
              0.3333333333333333,
              "#9c179e"
             ],
             [
              0.4444444444444444,
              "#bd3786"
             ],
             [
              0.5555555555555556,
              "#d8576b"
             ],
             [
              0.6666666666666666,
              "#ed7953"
             ],
             [
              0.7777777777777778,
              "#fb9f3a"
             ],
             [
              0.8888888888888888,
              "#fdca26"
             ],
             [
              1,
              "#f0f921"
             ]
            ],
            "type": "contour"
           }
          ],
          "contourcarpet": [
           {
            "colorbar": {
             "outlinewidth": 0,
             "ticks": ""
            },
            "type": "contourcarpet"
           }
          ],
          "heatmap": [
           {
            "colorbar": {
             "outlinewidth": 0,
             "ticks": ""
            },
            "colorscale": [
             [
              0,
              "#0d0887"
             ],
             [
              0.1111111111111111,
              "#46039f"
             ],
             [
              0.2222222222222222,
              "#7201a8"
             ],
             [
              0.3333333333333333,
              "#9c179e"
             ],
             [
              0.4444444444444444,
              "#bd3786"
             ],
             [
              0.5555555555555556,
              "#d8576b"
             ],
             [
              0.6666666666666666,
              "#ed7953"
             ],
             [
              0.7777777777777778,
              "#fb9f3a"
             ],
             [
              0.8888888888888888,
              "#fdca26"
             ],
             [
              1,
              "#f0f921"
             ]
            ],
            "type": "heatmap"
           }
          ],
          "heatmapgl": [
           {
            "colorbar": {
             "outlinewidth": 0,
             "ticks": ""
            },
            "colorscale": [
             [
              0,
              "#0d0887"
             ],
             [
              0.1111111111111111,
              "#46039f"
             ],
             [
              0.2222222222222222,
              "#7201a8"
             ],
             [
              0.3333333333333333,
              "#9c179e"
             ],
             [
              0.4444444444444444,
              "#bd3786"
             ],
             [
              0.5555555555555556,
              "#d8576b"
             ],
             [
              0.6666666666666666,
              "#ed7953"
             ],
             [
              0.7777777777777778,
              "#fb9f3a"
             ],
             [
              0.8888888888888888,
              "#fdca26"
             ],
             [
              1,
              "#f0f921"
             ]
            ],
            "type": "heatmapgl"
           }
          ],
          "histogram": [
           {
            "marker": {
             "pattern": {
              "fillmode": "overlay",
              "size": 10,
              "solidity": 0.2
             }
            },
            "type": "histogram"
           }
          ],
          "histogram2d": [
           {
            "colorbar": {
             "outlinewidth": 0,
             "ticks": ""
            },
            "colorscale": [
             [
              0,
              "#0d0887"
             ],
             [
              0.1111111111111111,
              "#46039f"
             ],
             [
              0.2222222222222222,
              "#7201a8"
             ],
             [
              0.3333333333333333,
              "#9c179e"
             ],
             [
              0.4444444444444444,
              "#bd3786"
             ],
             [
              0.5555555555555556,
              "#d8576b"
             ],
             [
              0.6666666666666666,
              "#ed7953"
             ],
             [
              0.7777777777777778,
              "#fb9f3a"
             ],
             [
              0.8888888888888888,
              "#fdca26"
             ],
             [
              1,
              "#f0f921"
             ]
            ],
            "type": "histogram2d"
           }
          ],
          "histogram2dcontour": [
           {
            "colorbar": {
             "outlinewidth": 0,
             "ticks": ""
            },
            "colorscale": [
             [
              0,
              "#0d0887"
             ],
             [
              0.1111111111111111,
              "#46039f"
             ],
             [
              0.2222222222222222,
              "#7201a8"
             ],
             [
              0.3333333333333333,
              "#9c179e"
             ],
             [
              0.4444444444444444,
              "#bd3786"
             ],
             [
              0.5555555555555556,
              "#d8576b"
             ],
             [
              0.6666666666666666,
              "#ed7953"
             ],
             [
              0.7777777777777778,
              "#fb9f3a"
             ],
             [
              0.8888888888888888,
              "#fdca26"
             ],
             [
              1,
              "#f0f921"
             ]
            ],
            "type": "histogram2dcontour"
           }
          ],
          "mesh3d": [
           {
            "colorbar": {
             "outlinewidth": 0,
             "ticks": ""
            },
            "type": "mesh3d"
           }
          ],
          "parcoords": [
           {
            "line": {
             "colorbar": {
              "outlinewidth": 0,
              "ticks": ""
             }
            },
            "type": "parcoords"
           }
          ],
          "pie": [
           {
            "automargin": true,
            "type": "pie"
           }
          ],
          "scatter": [
           {
            "fillpattern": {
             "fillmode": "overlay",
             "size": 10,
             "solidity": 0.2
            },
            "type": "scatter"
           }
          ],
          "scatter3d": [
           {
            "line": {
             "colorbar": {
              "outlinewidth": 0,
              "ticks": ""
             }
            },
            "marker": {
             "colorbar": {
              "outlinewidth": 0,
              "ticks": ""
             }
            },
            "type": "scatter3d"
           }
          ],
          "scattercarpet": [
           {
            "marker": {
             "colorbar": {
              "outlinewidth": 0,
              "ticks": ""
             }
            },
            "type": "scattercarpet"
           }
          ],
          "scattergeo": [
           {
            "marker": {
             "colorbar": {
              "outlinewidth": 0,
              "ticks": ""
             }
            },
            "type": "scattergeo"
           }
          ],
          "scattergl": [
           {
            "marker": {
             "colorbar": {
              "outlinewidth": 0,
              "ticks": ""
             }
            },
            "type": "scattergl"
           }
          ],
          "scattermapbox": [
           {
            "marker": {
             "colorbar": {
              "outlinewidth": 0,
              "ticks": ""
             }
            },
            "type": "scattermapbox"
           }
          ],
          "scatterpolar": [
           {
            "marker": {
             "colorbar": {
              "outlinewidth": 0,
              "ticks": ""
             }
            },
            "type": "scatterpolar"
           }
          ],
          "scatterpolargl": [
           {
            "marker": {
             "colorbar": {
              "outlinewidth": 0,
              "ticks": ""
             }
            },
            "type": "scatterpolargl"
           }
          ],
          "scatterternary": [
           {
            "marker": {
             "colorbar": {
              "outlinewidth": 0,
              "ticks": ""
             }
            },
            "type": "scatterternary"
           }
          ],
          "surface": [
           {
            "colorbar": {
             "outlinewidth": 0,
             "ticks": ""
            },
            "colorscale": [
             [
              0,
              "#0d0887"
             ],
             [
              0.1111111111111111,
              "#46039f"
             ],
             [
              0.2222222222222222,
              "#7201a8"
             ],
             [
              0.3333333333333333,
              "#9c179e"
             ],
             [
              0.4444444444444444,
              "#bd3786"
             ],
             [
              0.5555555555555556,
              "#d8576b"
             ],
             [
              0.6666666666666666,
              "#ed7953"
             ],
             [
              0.7777777777777778,
              "#fb9f3a"
             ],
             [
              0.8888888888888888,
              "#fdca26"
             ],
             [
              1,
              "#f0f921"
             ]
            ],
            "type": "surface"
           }
          ],
          "table": [
           {
            "cells": {
             "fill": {
              "color": "#EBF0F8"
             },
             "line": {
              "color": "white"
             }
            },
            "header": {
             "fill": {
              "color": "#C8D4E3"
             },
             "line": {
              "color": "white"
             }
            },
            "type": "table"
           }
          ]
         },
         "layout": {
          "annotationdefaults": {
           "arrowcolor": "#2a3f5f",
           "arrowhead": 0,
           "arrowwidth": 1
          },
          "autotypenumbers": "strict",
          "coloraxis": {
           "colorbar": {
            "outlinewidth": 0,
            "ticks": ""
           }
          },
          "colorscale": {
           "diverging": [
            [
             0,
             "#8e0152"
            ],
            [
             0.1,
             "#c51b7d"
            ],
            [
             0.2,
             "#de77ae"
            ],
            [
             0.3,
             "#f1b6da"
            ],
            [
             0.4,
             "#fde0ef"
            ],
            [
             0.5,
             "#f7f7f7"
            ],
            [
             0.6,
             "#e6f5d0"
            ],
            [
             0.7,
             "#b8e186"
            ],
            [
             0.8,
             "#7fbc41"
            ],
            [
             0.9,
             "#4d9221"
            ],
            [
             1,
             "#276419"
            ]
           ],
           "sequential": [
            [
             0,
             "#0d0887"
            ],
            [
             0.1111111111111111,
             "#46039f"
            ],
            [
             0.2222222222222222,
             "#7201a8"
            ],
            [
             0.3333333333333333,
             "#9c179e"
            ],
            [
             0.4444444444444444,
             "#bd3786"
            ],
            [
             0.5555555555555556,
             "#d8576b"
            ],
            [
             0.6666666666666666,
             "#ed7953"
            ],
            [
             0.7777777777777778,
             "#fb9f3a"
            ],
            [
             0.8888888888888888,
             "#fdca26"
            ],
            [
             1,
             "#f0f921"
            ]
           ],
           "sequentialminus": [
            [
             0,
             "#0d0887"
            ],
            [
             0.1111111111111111,
             "#46039f"
            ],
            [
             0.2222222222222222,
             "#7201a8"
            ],
            [
             0.3333333333333333,
             "#9c179e"
            ],
            [
             0.4444444444444444,
             "#bd3786"
            ],
            [
             0.5555555555555556,
             "#d8576b"
            ],
            [
             0.6666666666666666,
             "#ed7953"
            ],
            [
             0.7777777777777778,
             "#fb9f3a"
            ],
            [
             0.8888888888888888,
             "#fdca26"
            ],
            [
             1,
             "#f0f921"
            ]
           ]
          },
          "colorway": [
           "#636efa",
           "#EF553B",
           "#00cc96",
           "#ab63fa",
           "#FFA15A",
           "#19d3f3",
           "#FF6692",
           "#B6E880",
           "#FF97FF",
           "#FECB52"
          ],
          "font": {
           "color": "#2a3f5f"
          },
          "geo": {
           "bgcolor": "white",
           "lakecolor": "white",
           "landcolor": "#E5ECF6",
           "showlakes": true,
           "showland": true,
           "subunitcolor": "white"
          },
          "hoverlabel": {
           "align": "left"
          },
          "hovermode": "closest",
          "mapbox": {
           "style": "light"
          },
          "paper_bgcolor": "white",
          "plot_bgcolor": "#E5ECF6",
          "polar": {
           "angularaxis": {
            "gridcolor": "white",
            "linecolor": "white",
            "ticks": ""
           },
           "bgcolor": "#E5ECF6",
           "radialaxis": {
            "gridcolor": "white",
            "linecolor": "white",
            "ticks": ""
           }
          },
          "scene": {
           "xaxis": {
            "backgroundcolor": "#E5ECF6",
            "gridcolor": "white",
            "gridwidth": 2,
            "linecolor": "white",
            "showbackground": true,
            "ticks": "",
            "zerolinecolor": "white"
           },
           "yaxis": {
            "backgroundcolor": "#E5ECF6",
            "gridcolor": "white",
            "gridwidth": 2,
            "linecolor": "white",
            "showbackground": true,
            "ticks": "",
            "zerolinecolor": "white"
           },
           "zaxis": {
            "backgroundcolor": "#E5ECF6",
            "gridcolor": "white",
            "gridwidth": 2,
            "linecolor": "white",
            "showbackground": true,
            "ticks": "",
            "zerolinecolor": "white"
           }
          },
          "shapedefaults": {
           "line": {
            "color": "#2a3f5f"
           }
          },
          "ternary": {
           "aaxis": {
            "gridcolor": "white",
            "linecolor": "white",
            "ticks": ""
           },
           "baxis": {
            "gridcolor": "white",
            "linecolor": "white",
            "ticks": ""
           },
           "bgcolor": "#E5ECF6",
           "caxis": {
            "gridcolor": "white",
            "linecolor": "white",
            "ticks": ""
           }
          },
          "title": {
           "x": 0.05
          },
          "xaxis": {
           "automargin": true,
           "gridcolor": "white",
           "linecolor": "white",
           "ticks": "",
           "title": {
            "standoff": 15
           },
           "zerolinecolor": "white",
           "zerolinewidth": 2
          },
          "yaxis": {
           "automargin": true,
           "gridcolor": "white",
           "linecolor": "white",
           "ticks": "",
           "title": {
            "standoff": 15
           },
           "zerolinecolor": "white",
           "zerolinewidth": 2
          }
         }
        },
        "title": {
         "text": "Lineare Regression für average_landpm10"
        },
        "xaxis": {
         "anchor": "y",
         "domain": [
          0,
          1
         ],
         "title": {
          "text": "Datum"
         }
        },
        "yaxis": {
         "anchor": "x",
         "domain": [
          0,
          1
         ],
         "title": {
          "text": "average_landpm10"
         }
        }
       }
      }
     },
     "metadata": {},
     "output_type": "display_data"
    }
   ],
   "source": [
    "# Berechnung von R^2 und MSE und MAE und die Steigung\n",
    "r_squared_lpm10_regression = r2_score(y, land_PM10_average['land_PM10_average_trend'])\n",
    "mse_lpm10_regression = mean_squared_error(y, land_PM10_average['land_PM10_average_trend'])\n",
    "mae_lpm10_regression = mean_absolute_error(y, land_PM10_average['land_PM10_average_trend'])\n",
    "slope_lpm10 = model.coef_[0]\n",
    "\n",
    "# Visualisierung mit Plotly Express\n",
    "fig = px.scatter(land_PM10_average, x='datum', y='average_landpm10', title='Lineare Regression für average_landpm10')\n",
    "fig.add_scatter(x=land_PM10_average['datum'], y=land_PM10_average['land_PM10_average_trend'], mode='lines', name='Trend')\n",
    "fig.update_layout(xaxis_title='Datum', yaxis_title='average_landpm10')\n",
    "fig.show()"
   ]
  },
  {
   "cell_type": "markdown",
   "metadata": {},
   "source": [
    "Jetzt wird die Prognose für die Tabelle der PM2.5 Werte in der Stadt gemacht"
   ]
  },
  {
   "cell_type": "markdown",
   "metadata": {},
   "source": [
    "es wird wieder die Tabelle eingelesen und in Trainings- und Testdaten unterteilt"
   ]
  },
  {
   "cell_type": "code",
   "execution_count": 230,
   "metadata": {},
   "outputs": [],
   "source": [
    "# CSV-Datei einlesen\n",
    "average_values = pd.read_csv(\"werte_daten/average_values.csv\")\n",
    "# es werden nur die nötigten Werte genommen\n",
    "stadt_PM2_5_average = average_values[[\"datum\", \"average_stadtpm2_5\"]]\n",
    "# Das Datum als Index setzen\n",
    "stadt_PM2_5_average.set_index('datum', inplace=True)\n",
    "\n",
    "# ein Series mit den Durchschnittsdaten erstellen\n",
    "values_spm2_5 = stadt_PM2_5_average[\"average_stadtpm2_5\"]\n",
    "# das filtern der Datumswerte für die Visualisierung später\n",
    "zeitreihen_index_spm2_5 = values_spm2_5.index"
   ]
  },
  {
   "cell_type": "code",
   "execution_count": 231,
   "metadata": {},
   "outputs": [
    {
     "data": {
      "text/plain": [
       "((369, 5, 1), (369,))"
      ]
     },
     "execution_count": 231,
     "metadata": {},
     "output_type": "execute_result"
    }
   ],
   "source": [
    "# die Funktion ist dafür da, um die Values in X und y Werte zu unterteilen, mit einer gegebenen window-size\n",
    "def df_to_X_y(df, window_size=5):\n",
    "    df_as_np = df.to_numpy()\n",
    "    X = []\n",
    "    y = []\n",
    "    for i in range(len(df_as_np)-window_size):\n",
    "        row = [[a] for a in df_as_np[i:i+5]]\n",
    "        X.append(row)\n",
    "        label = df_as_np[i+5]\n",
    "        y.append(label)\n",
    "    return np.array(X), np.array(y)\n",
    "\n",
    "WINDOW_SIZE = 5\n",
    "X, y = df_to_X_y(values_spm2_5, WINDOW_SIZE)\n",
    "X.shape, y.shape"
   ]
  },
  {
   "cell_type": "code",
   "execution_count": 232,
   "metadata": {},
   "outputs": [],
   "source": [
    "# die Daten werden in Traings-, Testdaten unterteilt, zudem wird auch der Index unterteilt\n",
    "X_train, y_train = X[:280], y[:280]\n",
    "train_index = zeitreihen_index_spm2_5[5:285]\n",
    "X_val, y_val = X[:300], y[:300]\n",
    "val_index = zeitreihen_index_spm2_5[5:305]\n",
    "X_test, y_test = X[300:], y[300:]\n",
    "test_index = zeitreihen_index_spm2_5[305:]"
   ]
  },
  {
   "cell_type": "markdown",
   "metadata": {},
   "source": [
    "es wird wieder das Modell trainiert"
   ]
  },
  {
   "cell_type": "code",
   "execution_count": 135,
   "metadata": {},
   "outputs": [
    {
     "name": "stdout",
     "output_type": "stream",
     "text": [
      "Epoch 1/100\n",
      "\u001b[1m9/9\u001b[0m \u001b[32m━━━━━━━━━━━━━━━━━━━━\u001b[0m\u001b[37m\u001b[0m \u001b[1m3s\u001b[0m 69ms/step - loss: 44.8720 - root_mean_squared_error: 6.6788 - val_loss: 44.1817 - val_root_mean_squared_error: 6.6469\n",
      "Epoch 2/100\n",
      "\u001b[1m9/9\u001b[0m \u001b[32m━━━━━━━━━━━━━━━━━━━━\u001b[0m\u001b[37m\u001b[0m \u001b[1m0s\u001b[0m 12ms/step - loss: 47.5184 - root_mean_squared_error: 6.8297 - val_loss: 36.6400 - val_root_mean_squared_error: 6.0531\n",
      "Epoch 3/100\n",
      "\u001b[1m9/9\u001b[0m \u001b[32m━━━━━━━━━━━━━━━━━━━━\u001b[0m\u001b[37m\u001b[0m \u001b[1m0s\u001b[0m 12ms/step - loss: 32.5161 - root_mean_squared_error: 5.7006 - val_loss: 27.6277 - val_root_mean_squared_error: 5.2562\n",
      "Epoch 4/100\n",
      "\u001b[1m9/9\u001b[0m \u001b[32m━━━━━━━━━━━━━━━━━━━━\u001b[0m\u001b[37m\u001b[0m \u001b[1m0s\u001b[0m 13ms/step - loss: 21.8416 - root_mean_squared_error: 4.6679 - val_loss: 22.5487 - val_root_mean_squared_error: 4.7485\n",
      "Epoch 5/100\n",
      "\u001b[1m9/9\u001b[0m \u001b[32m━━━━━━━━━━━━━━━━━━━━\u001b[0m\u001b[37m\u001b[0m \u001b[1m0s\u001b[0m 17ms/step - loss: 22.1186 - root_mean_squared_error: 4.6942 - val_loss: 21.6734 - val_root_mean_squared_error: 4.6555\n",
      "Epoch 6/100\n",
      "\u001b[1m9/9\u001b[0m \u001b[32m━━━━━━━━━━━━━━━━━━━━\u001b[0m\u001b[37m\u001b[0m \u001b[1m0s\u001b[0m 13ms/step - loss: 20.5259 - root_mean_squared_error: 4.5165 - val_loss: 21.3824 - val_root_mean_squared_error: 4.6241\n",
      "Epoch 7/100\n",
      "\u001b[1m9/9\u001b[0m \u001b[32m━━━━━━━━━━━━━━━━━━━━\u001b[0m\u001b[37m\u001b[0m \u001b[1m0s\u001b[0m 13ms/step - loss: 23.4995 - root_mean_squared_error: 4.8389 - val_loss: 20.7478 - val_root_mean_squared_error: 4.5550\n",
      "Epoch 8/100\n",
      "\u001b[1m9/9\u001b[0m \u001b[32m━━━━━━━━━━━━━━━━━━━━\u001b[0m\u001b[37m\u001b[0m \u001b[1m0s\u001b[0m 13ms/step - loss: 19.0119 - root_mean_squared_error: 4.3426 - val_loss: 20.4772 - val_root_mean_squared_error: 4.5252\n",
      "Epoch 9/100\n",
      "\u001b[1m9/9\u001b[0m \u001b[32m━━━━━━━━━━━━━━━━━━━━\u001b[0m\u001b[37m\u001b[0m \u001b[1m0s\u001b[0m 13ms/step - loss: 20.9809 - root_mean_squared_error: 4.5697 - val_loss: 20.0629 - val_root_mean_squared_error: 4.4792\n",
      "Epoch 10/100\n",
      "\u001b[1m9/9\u001b[0m \u001b[32m━━━━━━━━━━━━━━━━━━━━\u001b[0m\u001b[37m\u001b[0m \u001b[1m0s\u001b[0m 10ms/step - loss: 17.1789 - root_mean_squared_error: 4.1249 - val_loss: 19.6471 - val_root_mean_squared_error: 4.4325\n",
      "Epoch 11/100\n",
      "\u001b[1m9/9\u001b[0m \u001b[32m━━━━━━━━━━━━━━━━━━━━\u001b[0m\u001b[37m\u001b[0m \u001b[1m0s\u001b[0m 11ms/step - loss: 17.8229 - root_mean_squared_error: 4.1998 - val_loss: 19.3067 - val_root_mean_squared_error: 4.3939\n",
      "Epoch 12/100\n",
      "\u001b[1m9/9\u001b[0m \u001b[32m━━━━━━━━━━━━━━━━━━━━\u001b[0m\u001b[37m\u001b[0m \u001b[1m0s\u001b[0m 13ms/step - loss: 16.6496 - root_mean_squared_error: 4.0748 - val_loss: 18.9911 - val_root_mean_squared_error: 4.3579\n",
      "Epoch 13/100\n",
      "\u001b[1m9/9\u001b[0m \u001b[32m━━━━━━━━━━━━━━━━━━━━\u001b[0m\u001b[37m\u001b[0m \u001b[1m0s\u001b[0m 11ms/step - loss: 15.8248 - root_mean_squared_error: 3.9569 - val_loss: 18.7471 - val_root_mean_squared_error: 4.3298\n",
      "Epoch 14/100\n",
      "\u001b[1m9/9\u001b[0m \u001b[32m━━━━━━━━━━━━━━━━━━━━\u001b[0m\u001b[37m\u001b[0m \u001b[1m0s\u001b[0m 12ms/step - loss: 18.3843 - root_mean_squared_error: 4.2821 - val_loss: 18.5285 - val_root_mean_squared_error: 4.3045\n",
      "Epoch 15/100\n",
      "\u001b[1m9/9\u001b[0m \u001b[32m━━━━━━━━━━━━━━━━━━━━\u001b[0m\u001b[37m\u001b[0m \u001b[1m0s\u001b[0m 13ms/step - loss: 17.0874 - root_mean_squared_error: 4.1248 - val_loss: 18.3089 - val_root_mean_squared_error: 4.2789\n",
      "Epoch 16/100\n",
      "\u001b[1m9/9\u001b[0m \u001b[32m━━━━━━━━━━━━━━━━━━━━\u001b[0m\u001b[37m\u001b[0m \u001b[1m0s\u001b[0m 11ms/step - loss: 15.3208 - root_mean_squared_error: 3.9090 - val_loss: 18.2164 - val_root_mean_squared_error: 4.2681\n",
      "Epoch 17/100\n",
      "\u001b[1m9/9\u001b[0m \u001b[32m━━━━━━━━━━━━━━━━━━━━\u001b[0m\u001b[37m\u001b[0m \u001b[1m0s\u001b[0m 13ms/step - loss: 17.1764 - root_mean_squared_error: 4.1365 - val_loss: 18.0197 - val_root_mean_squared_error: 4.2450\n",
      "Epoch 18/100\n",
      "\u001b[1m9/9\u001b[0m \u001b[32m━━━━━━━━━━━━━━━━━━━━\u001b[0m\u001b[37m\u001b[0m \u001b[1m0s\u001b[0m 12ms/step - loss: 18.8011 - root_mean_squared_error: 4.3106 - val_loss: 17.9789 - val_root_mean_squared_error: 4.2402\n",
      "Epoch 19/100\n",
      "\u001b[1m9/9\u001b[0m \u001b[32m━━━━━━━━━━━━━━━━━━━━\u001b[0m\u001b[37m\u001b[0m \u001b[1m0s\u001b[0m 15ms/step - loss: 15.7996 - root_mean_squared_error: 3.9525 - val_loss: 17.8526 - val_root_mean_squared_error: 4.2252\n",
      "Epoch 20/100\n",
      "\u001b[1m9/9\u001b[0m \u001b[32m━━━━━━━━━━━━━━━━━━━━\u001b[0m\u001b[37m\u001b[0m \u001b[1m0s\u001b[0m 12ms/step - loss: 17.1299 - root_mean_squared_error: 4.1349 - val_loss: 17.7549 - val_root_mean_squared_error: 4.2137\n",
      "Epoch 21/100\n",
      "\u001b[1m9/9\u001b[0m \u001b[32m━━━━━━━━━━━━━━━━━━━━\u001b[0m\u001b[37m\u001b[0m \u001b[1m0s\u001b[0m 12ms/step - loss: 16.5567 - root_mean_squared_error: 4.0660 - val_loss: 17.7059 - val_root_mean_squared_error: 4.2078\n",
      "Epoch 22/100\n",
      "\u001b[1m9/9\u001b[0m \u001b[32m━━━━━━━━━━━━━━━━━━━━\u001b[0m\u001b[37m\u001b[0m \u001b[1m0s\u001b[0m 11ms/step - loss: 15.4062 - root_mean_squared_error: 3.9215 - val_loss: 17.6677 - val_root_mean_squared_error: 4.2033\n",
      "Epoch 23/100\n",
      "\u001b[1m9/9\u001b[0m \u001b[32m━━━━━━━━━━━━━━━━━━━━\u001b[0m\u001b[37m\u001b[0m \u001b[1m0s\u001b[0m 12ms/step - loss: 16.2767 - root_mean_squared_error: 4.0327 - val_loss: 17.6051 - val_root_mean_squared_error: 4.1958\n",
      "Epoch 24/100\n",
      "\u001b[1m9/9\u001b[0m \u001b[32m━━━━━━━━━━━━━━━━━━━━\u001b[0m\u001b[37m\u001b[0m \u001b[1m0s\u001b[0m 12ms/step - loss: 15.6683 - root_mean_squared_error: 3.9481 - val_loss: 17.6235 - val_root_mean_squared_error: 4.1980\n",
      "Epoch 25/100\n",
      "\u001b[1m9/9\u001b[0m \u001b[32m━━━━━━━━━━━━━━━━━━━━\u001b[0m\u001b[37m\u001b[0m \u001b[1m0s\u001b[0m 12ms/step - loss: 19.5386 - root_mean_squared_error: 4.4109 - val_loss: 17.5413 - val_root_mean_squared_error: 4.1882\n",
      "Epoch 26/100\n",
      "\u001b[1m9/9\u001b[0m \u001b[32m━━━━━━━━━━━━━━━━━━━━\u001b[0m\u001b[37m\u001b[0m \u001b[1m0s\u001b[0m 16ms/step - loss: 17.9659 - root_mean_squared_error: 4.2323 - val_loss: 17.5563 - val_root_mean_squared_error: 4.1900\n",
      "Epoch 27/100\n",
      "\u001b[1m9/9\u001b[0m \u001b[32m━━━━━━━━━━━━━━━━━━━━\u001b[0m\u001b[37m\u001b[0m \u001b[1m0s\u001b[0m 12ms/step - loss: 15.4191 - root_mean_squared_error: 3.9014 - val_loss: 17.4506 - val_root_mean_squared_error: 4.1774\n",
      "Epoch 28/100\n",
      "\u001b[1m9/9\u001b[0m \u001b[32m━━━━━━━━━━━━━━━━━━━━\u001b[0m\u001b[37m\u001b[0m \u001b[1m0s\u001b[0m 12ms/step - loss: 19.1473 - root_mean_squared_error: 4.3379 - val_loss: 17.4280 - val_root_mean_squared_error: 4.1747\n",
      "Epoch 29/100\n",
      "\u001b[1m9/9\u001b[0m \u001b[32m━━━━━━━━━━━━━━━━━━━━\u001b[0m\u001b[37m\u001b[0m \u001b[1m0s\u001b[0m 12ms/step - loss: 18.4024 - root_mean_squared_error: 4.2747 - val_loss: 17.5529 - val_root_mean_squared_error: 4.1896\n",
      "Epoch 30/100\n",
      "\u001b[1m9/9\u001b[0m \u001b[32m━━━━━━━━━━━━━━━━━━━━\u001b[0m\u001b[37m\u001b[0m \u001b[1m0s\u001b[0m 11ms/step - loss: 17.8209 - root_mean_squared_error: 4.2173 - val_loss: 17.3769 - val_root_mean_squared_error: 4.1686\n",
      "Epoch 31/100\n",
      "\u001b[1m9/9\u001b[0m \u001b[32m━━━━━━━━━━━━━━━━━━━━\u001b[0m\u001b[37m\u001b[0m \u001b[1m0s\u001b[0m 13ms/step - loss: 15.0456 - root_mean_squared_error: 3.8664 - val_loss: 17.3548 - val_root_mean_squared_error: 4.1659\n",
      "Epoch 32/100\n",
      "\u001b[1m9/9\u001b[0m \u001b[32m━━━━━━━━━━━━━━━━━━━━\u001b[0m\u001b[37m\u001b[0m \u001b[1m0s\u001b[0m 12ms/step - loss: 17.6425 - root_mean_squared_error: 4.1883 - val_loss: 17.3172 - val_root_mean_squared_error: 4.1614\n",
      "Epoch 33/100\n",
      "\u001b[1m9/9\u001b[0m \u001b[32m━━━━━━━━━━━━━━━━━━━━\u001b[0m\u001b[37m\u001b[0m \u001b[1m0s\u001b[0m 13ms/step - loss: 15.3791 - root_mean_squared_error: 3.9068 - val_loss: 17.2967 - val_root_mean_squared_error: 4.1589\n",
      "Epoch 34/100\n",
      "\u001b[1m9/9\u001b[0m \u001b[32m━━━━━━━━━━━━━━━━━━━━\u001b[0m\u001b[37m\u001b[0m \u001b[1m0s\u001b[0m 13ms/step - loss: 18.0895 - root_mean_squared_error: 4.2508 - val_loss: 17.2824 - val_root_mean_squared_error: 4.1572\n",
      "Epoch 35/100\n",
      "\u001b[1m9/9\u001b[0m \u001b[32m━━━━━━━━━━━━━━━━━━━━\u001b[0m\u001b[37m\u001b[0m \u001b[1m0s\u001b[0m 13ms/step - loss: 14.4786 - root_mean_squared_error: 3.8009 - val_loss: 17.3888 - val_root_mean_squared_error: 4.1700\n",
      "Epoch 36/100\n",
      "\u001b[1m9/9\u001b[0m \u001b[32m━━━━━━━━━━━━━━━━━━━━\u001b[0m\u001b[37m\u001b[0m \u001b[1m0s\u001b[0m 12ms/step - loss: 17.9014 - root_mean_squared_error: 4.2260 - val_loss: 17.3903 - val_root_mean_squared_error: 4.1702\n",
      "Epoch 37/100\n",
      "\u001b[1m9/9\u001b[0m \u001b[32m━━━━━━━━━━━━━━━━━━━━\u001b[0m\u001b[37m\u001b[0m \u001b[1m0s\u001b[0m 12ms/step - loss: 14.1917 - root_mean_squared_error: 3.7571 - val_loss: 17.4006 - val_root_mean_squared_error: 4.1714\n",
      "Epoch 38/100\n",
      "\u001b[1m9/9\u001b[0m \u001b[32m━━━━━━━━━━━━━━━━━━━━\u001b[0m\u001b[37m\u001b[0m \u001b[1m0s\u001b[0m 12ms/step - loss: 15.2257 - root_mean_squared_error: 3.8785 - val_loss: 17.1903 - val_root_mean_squared_error: 4.1461\n",
      "Epoch 39/100\n",
      "\u001b[1m9/9\u001b[0m \u001b[32m━━━━━━━━━━━━━━━━━━━━\u001b[0m\u001b[37m\u001b[0m \u001b[1m0s\u001b[0m 18ms/step - loss: 15.3967 - root_mean_squared_error: 3.9097 - val_loss: 17.1739 - val_root_mean_squared_error: 4.1441\n",
      "Epoch 40/100\n",
      "\u001b[1m9/9\u001b[0m \u001b[32m━━━━━━━━━━━━━━━━━━━━\u001b[0m\u001b[37m\u001b[0m \u001b[1m0s\u001b[0m 12ms/step - loss: 16.7376 - root_mean_squared_error: 4.0879 - val_loss: 17.1568 - val_root_mean_squared_error: 4.1421\n",
      "Epoch 41/100\n",
      "\u001b[1m9/9\u001b[0m \u001b[32m━━━━━━━━━━━━━━━━━━━━\u001b[0m\u001b[37m\u001b[0m \u001b[1m0s\u001b[0m 11ms/step - loss: 14.5331 - root_mean_squared_error: 3.8035 - val_loss: 17.3260 - val_root_mean_squared_error: 4.1625\n",
      "Epoch 42/100\n",
      "\u001b[1m9/9\u001b[0m \u001b[32m━━━━━━━━━━━━━━━━━━━━\u001b[0m\u001b[37m\u001b[0m \u001b[1m0s\u001b[0m 12ms/step - loss: 15.3461 - root_mean_squared_error: 3.9016 - val_loss: 17.1990 - val_root_mean_squared_error: 4.1472\n",
      "Epoch 43/100\n",
      "\u001b[1m9/9\u001b[0m \u001b[32m━━━━━━━━━━━━━━━━━━━━\u001b[0m\u001b[37m\u001b[0m \u001b[1m0s\u001b[0m 13ms/step - loss: 16.5280 - root_mean_squared_error: 4.0590 - val_loss: 17.1003 - val_root_mean_squared_error: 4.1352\n",
      "Epoch 44/100\n",
      "\u001b[1m9/9\u001b[0m \u001b[32m━━━━━━━━━━━━━━━━━━━━\u001b[0m\u001b[37m\u001b[0m \u001b[1m0s\u001b[0m 10ms/step - loss: 14.9019 - root_mean_squared_error: 3.8555 - val_loss: 17.1740 - val_root_mean_squared_error: 4.1442\n",
      "Epoch 45/100\n",
      "\u001b[1m9/9\u001b[0m \u001b[32m━━━━━━━━━━━━━━━━━━━━\u001b[0m\u001b[37m\u001b[0m \u001b[1m0s\u001b[0m 12ms/step - loss: 20.4203 - root_mean_squared_error: 4.4977 - val_loss: 17.0635 - val_root_mean_squared_error: 4.1308\n",
      "Epoch 46/100\n",
      "\u001b[1m9/9\u001b[0m \u001b[32m━━━━━━━━━━━━━━━━━━━━\u001b[0m\u001b[37m\u001b[0m \u001b[1m0s\u001b[0m 11ms/step - loss: 17.6474 - root_mean_squared_error: 4.1971 - val_loss: 17.0599 - val_root_mean_squared_error: 4.1304\n",
      "Epoch 47/100\n",
      "\u001b[1m9/9\u001b[0m \u001b[32m━━━━━━━━━━━━━━━━━━━━\u001b[0m\u001b[37m\u001b[0m \u001b[1m0s\u001b[0m 13ms/step - loss: 12.0812 - root_mean_squared_error: 3.4529 - val_loss: 17.1725 - val_root_mean_squared_error: 4.1440\n",
      "Epoch 48/100\n",
      "\u001b[1m9/9\u001b[0m \u001b[32m━━━━━━━━━━━━━━━━━━━━\u001b[0m\u001b[37m\u001b[0m \u001b[1m0s\u001b[0m 11ms/step - loss: 14.2084 - root_mean_squared_error: 3.7651 - val_loss: 16.9981 - val_root_mean_squared_error: 4.1229\n",
      "Epoch 49/100\n",
      "\u001b[1m9/9\u001b[0m \u001b[32m━━━━━━━━━━━━━━━━━━━━\u001b[0m\u001b[37m\u001b[0m \u001b[1m0s\u001b[0m 12ms/step - loss: 18.0786 - root_mean_squared_error: 4.2458 - val_loss: 17.0598 - val_root_mean_squared_error: 4.1303\n",
      "Epoch 50/100\n",
      "\u001b[1m9/9\u001b[0m \u001b[32m━━━━━━━━━━━━━━━━━━━━\u001b[0m\u001b[37m\u001b[0m \u001b[1m0s\u001b[0m 16ms/step - loss: 17.2801 - root_mean_squared_error: 4.1550 - val_loss: 17.1283 - val_root_mean_squared_error: 4.1386\n",
      "Epoch 51/100\n",
      "\u001b[1m9/9\u001b[0m \u001b[32m━━━━━━━━━━━━━━━━━━━━\u001b[0m\u001b[37m\u001b[0m \u001b[1m0s\u001b[0m 13ms/step - loss: 15.7135 - root_mean_squared_error: 3.9507 - val_loss: 16.9909 - val_root_mean_squared_error: 4.1220\n",
      "Epoch 52/100\n",
      "\u001b[1m9/9\u001b[0m \u001b[32m━━━━━━━━━━━━━━━━━━━━\u001b[0m\u001b[37m\u001b[0m \u001b[1m0s\u001b[0m 12ms/step - loss: 18.0164 - root_mean_squared_error: 4.2410 - val_loss: 16.9689 - val_root_mean_squared_error: 4.1193\n",
      "Epoch 53/100\n",
      "\u001b[1m9/9\u001b[0m \u001b[32m━━━━━━━━━━━━━━━━━━━━\u001b[0m\u001b[37m\u001b[0m \u001b[1m0s\u001b[0m 15ms/step - loss: 18.6162 - root_mean_squared_error: 4.2982 - val_loss: 16.9115 - val_root_mean_squared_error: 4.1124\n",
      "Epoch 54/100\n",
      "\u001b[1m9/9\u001b[0m \u001b[32m━━━━━━━━━━━━━━━━━━━━\u001b[0m\u001b[37m\u001b[0m \u001b[1m0s\u001b[0m 11ms/step - loss: 13.3904 - root_mean_squared_error: 3.6480 - val_loss: 17.4174 - val_root_mean_squared_error: 4.1734\n",
      "Epoch 55/100\n",
      "\u001b[1m9/9\u001b[0m \u001b[32m━━━━━━━━━━━━━━━━━━━━\u001b[0m\u001b[37m\u001b[0m \u001b[1m0s\u001b[0m 12ms/step - loss: 20.4392 - root_mean_squared_error: 4.5013 - val_loss: 17.0176 - val_root_mean_squared_error: 4.1252\n",
      "Epoch 56/100\n",
      "\u001b[1m9/9\u001b[0m \u001b[32m━━━━━━━━━━━━━━━━━━━━\u001b[0m\u001b[37m\u001b[0m \u001b[1m0s\u001b[0m 12ms/step - loss: 14.0090 - root_mean_squared_error: 3.7196 - val_loss: 16.8624 - val_root_mean_squared_error: 4.1064\n",
      "Epoch 57/100\n",
      "\u001b[1m9/9\u001b[0m \u001b[32m━━━━━━━━━━━━━━━━━━━━\u001b[0m\u001b[37m\u001b[0m \u001b[1m0s\u001b[0m 11ms/step - loss: 13.9482 - root_mean_squared_error: 3.7274 - val_loss: 17.0218 - val_root_mean_squared_error: 4.1258\n",
      "Epoch 58/100\n",
      "\u001b[1m9/9\u001b[0m \u001b[32m━━━━━━━━━━━━━━━━━━━━\u001b[0m\u001b[37m\u001b[0m \u001b[1m0s\u001b[0m 12ms/step - loss: 13.9534 - root_mean_squared_error: 3.7081 - val_loss: 16.8218 - val_root_mean_squared_error: 4.1014\n",
      "Epoch 59/100\n",
      "\u001b[1m9/9\u001b[0m \u001b[32m━━━━━━━━━━━━━━━━━━━━\u001b[0m\u001b[37m\u001b[0m \u001b[1m0s\u001b[0m 10ms/step - loss: 16.0552 - root_mean_squared_error: 3.9988 - val_loss: 16.8390 - val_root_mean_squared_error: 4.1035\n",
      "Epoch 60/100\n",
      "\u001b[1m9/9\u001b[0m \u001b[32m━━━━━━━━━━━━━━━━━━━━\u001b[0m\u001b[37m\u001b[0m \u001b[1m0s\u001b[0m 13ms/step - loss: 18.8920 - root_mean_squared_error: 4.3372 - val_loss: 16.8567 - val_root_mean_squared_error: 4.1057\n",
      "Epoch 61/100\n",
      "\u001b[1m9/9\u001b[0m \u001b[32m━━━━━━━━━━━━━━━━━━━━\u001b[0m\u001b[37m\u001b[0m \u001b[1m0s\u001b[0m 16ms/step - loss: 14.7487 - root_mean_squared_error: 3.8368 - val_loss: 17.0554 - val_root_mean_squared_error: 4.1298\n",
      "Epoch 62/100\n",
      "\u001b[1m9/9\u001b[0m \u001b[32m━━━━━━━━━━━━━━━━━━━━\u001b[0m\u001b[37m\u001b[0m \u001b[1m0s\u001b[0m 13ms/step - loss: 13.1177 - root_mean_squared_error: 3.5995 - val_loss: 16.7851 - val_root_mean_squared_error: 4.0970\n",
      "Epoch 63/100\n",
      "\u001b[1m9/9\u001b[0m \u001b[32m━━━━━━━━━━━━━━━━━━━━\u001b[0m\u001b[37m\u001b[0m \u001b[1m0s\u001b[0m 12ms/step - loss: 19.5460 - root_mean_squared_error: 4.3715 - val_loss: 16.7748 - val_root_mean_squared_error: 4.0957\n",
      "Epoch 64/100\n",
      "\u001b[1m9/9\u001b[0m \u001b[32m━━━━━━━━━━━━━━━━━━━━\u001b[0m\u001b[37m\u001b[0m \u001b[1m0s\u001b[0m 12ms/step - loss: 14.5659 - root_mean_squared_error: 3.8088 - val_loss: 16.8566 - val_root_mean_squared_error: 4.1057\n",
      "Epoch 65/100\n",
      "\u001b[1m9/9\u001b[0m \u001b[32m━━━━━━━━━━━━━━━━━━━━\u001b[0m\u001b[37m\u001b[0m \u001b[1m0s\u001b[0m 13ms/step - loss: 15.6753 - root_mean_squared_error: 3.9512 - val_loss: 16.7032 - val_root_mean_squared_error: 4.0870\n",
      "Epoch 66/100\n",
      "\u001b[1m9/9\u001b[0m \u001b[32m━━━━━━━━━━━━━━━━━━━━\u001b[0m\u001b[37m\u001b[0m \u001b[1m0s\u001b[0m 15ms/step - loss: 16.7141 - root_mean_squared_error: 4.0865 - val_loss: 16.6728 - val_root_mean_squared_error: 4.0832\n",
      "Epoch 67/100\n",
      "\u001b[1m9/9\u001b[0m \u001b[32m━━━━━━━━━━━━━━━━━━━━\u001b[0m\u001b[37m\u001b[0m \u001b[1m0s\u001b[0m 13ms/step - loss: 15.7427 - root_mean_squared_error: 3.9564 - val_loss: 16.7243 - val_root_mean_squared_error: 4.0895\n",
      "Epoch 68/100\n",
      "\u001b[1m9/9\u001b[0m \u001b[32m━━━━━━━━━━━━━━━━━━━━\u001b[0m\u001b[37m\u001b[0m \u001b[1m0s\u001b[0m 11ms/step - loss: 17.7813 - root_mean_squared_error: 4.2109 - val_loss: 16.6670 - val_root_mean_squared_error: 4.0825\n",
      "Epoch 69/100\n",
      "\u001b[1m9/9\u001b[0m \u001b[32m━━━━━━━━━━━━━━━━━━━━\u001b[0m\u001b[37m\u001b[0m \u001b[1m0s\u001b[0m 12ms/step - loss: 12.3781 - root_mean_squared_error: 3.4857 - val_loss: 16.7421 - val_root_mean_squared_error: 4.0917\n",
      "Epoch 70/100\n",
      "\u001b[1m9/9\u001b[0m \u001b[32m━━━━━━━━━━━━━━━━━━━━\u001b[0m\u001b[37m\u001b[0m \u001b[1m0s\u001b[0m 12ms/step - loss: 17.6866 - root_mean_squared_error: 4.1773 - val_loss: 16.7426 - val_root_mean_squared_error: 4.0918\n",
      "Epoch 71/100\n",
      "\u001b[1m9/9\u001b[0m \u001b[32m━━━━━━━━━━━━━━━━━━━━\u001b[0m\u001b[37m\u001b[0m \u001b[1m0s\u001b[0m 10ms/step - loss: 14.6373 - root_mean_squared_error: 3.8122 - val_loss: 16.6438 - val_root_mean_squared_error: 4.0797\n",
      "Epoch 72/100\n",
      "\u001b[1m9/9\u001b[0m \u001b[32m━━━━━━━━━━━━━━━━━━━━\u001b[0m\u001b[37m\u001b[0m \u001b[1m0s\u001b[0m 12ms/step - loss: 16.3511 - root_mean_squared_error: 4.0366 - val_loss: 16.5708 - val_root_mean_squared_error: 4.0707\n",
      "Epoch 73/100\n",
      "\u001b[1m9/9\u001b[0m \u001b[32m━━━━━━━━━━━━━━━━━━━━\u001b[0m\u001b[37m\u001b[0m \u001b[1m0s\u001b[0m 13ms/step - loss: 13.8201 - root_mean_squared_error: 3.7120 - val_loss: 16.5272 - val_root_mean_squared_error: 4.0654\n",
      "Epoch 74/100\n",
      "\u001b[1m9/9\u001b[0m \u001b[32m━━━━━━━━━━━━━━━━━━━━\u001b[0m\u001b[37m\u001b[0m \u001b[1m0s\u001b[0m 18ms/step - loss: 14.6265 - root_mean_squared_error: 3.8118 - val_loss: 16.5236 - val_root_mean_squared_error: 4.0649\n",
      "Epoch 75/100\n",
      "\u001b[1m9/9\u001b[0m \u001b[32m━━━━━━━━━━━━━━━━━━━━\u001b[0m\u001b[37m\u001b[0m \u001b[1m0s\u001b[0m 13ms/step - loss: 16.1158 - root_mean_squared_error: 4.0120 - val_loss: 16.4773 - val_root_mean_squared_error: 4.0592\n",
      "Epoch 76/100\n",
      "\u001b[1m9/9\u001b[0m \u001b[32m━━━━━━━━━━━━━━━━━━━━\u001b[0m\u001b[37m\u001b[0m \u001b[1m0s\u001b[0m 11ms/step - loss: 12.7623 - root_mean_squared_error: 3.5553 - val_loss: 16.4726 - val_root_mean_squared_error: 4.0587\n",
      "Epoch 77/100\n",
      "\u001b[1m9/9\u001b[0m \u001b[32m━━━━━━━━━━━━━━━━━━━━\u001b[0m\u001b[37m\u001b[0m \u001b[1m0s\u001b[0m 12ms/step - loss: 17.7552 - root_mean_squared_error: 4.1921 - val_loss: 16.4600 - val_root_mean_squared_error: 4.0571\n",
      "Epoch 78/100\n",
      "\u001b[1m9/9\u001b[0m \u001b[32m━━━━━━━━━━━━━━━━━━━━\u001b[0m\u001b[37m\u001b[0m \u001b[1m0s\u001b[0m 12ms/step - loss: 16.3285 - root_mean_squared_error: 4.0318 - val_loss: 16.4859 - val_root_mean_squared_error: 4.0603\n",
      "Epoch 79/100\n",
      "\u001b[1m9/9\u001b[0m \u001b[32m━━━━━━━━━━━━━━━━━━━━\u001b[0m\u001b[37m\u001b[0m \u001b[1m0s\u001b[0m 14ms/step - loss: 12.5207 - root_mean_squared_error: 3.5235 - val_loss: 16.4507 - val_root_mean_squared_error: 4.0559\n",
      "Epoch 80/100\n",
      "\u001b[1m9/9\u001b[0m \u001b[32m━━━━━━━━━━━━━━━━━━━━\u001b[0m\u001b[37m\u001b[0m \u001b[1m0s\u001b[0m 12ms/step - loss: 17.5185 - root_mean_squared_error: 4.1623 - val_loss: 16.3878 - val_root_mean_squared_error: 4.0482\n",
      "Epoch 81/100\n",
      "\u001b[1m9/9\u001b[0m \u001b[32m━━━━━━━━━━━━━━━━━━━━\u001b[0m\u001b[37m\u001b[0m \u001b[1m0s\u001b[0m 12ms/step - loss: 12.8043 - root_mean_squared_error: 3.5584 - val_loss: 16.4572 - val_root_mean_squared_error: 4.0567\n",
      "Epoch 82/100\n",
      "\u001b[1m9/9\u001b[0m \u001b[32m━━━━━━━━━━━━━━━━━━━━\u001b[0m\u001b[37m\u001b[0m \u001b[1m0s\u001b[0m 12ms/step - loss: 17.1510 - root_mean_squared_error: 4.1342 - val_loss: 16.3199 - val_root_mean_squared_error: 4.0398\n",
      "Epoch 83/100\n",
      "\u001b[1m9/9\u001b[0m \u001b[32m━━━━━━━━━━━━━━━━━━━━\u001b[0m\u001b[37m\u001b[0m \u001b[1m0s\u001b[0m 12ms/step - loss: 12.6977 - root_mean_squared_error: 3.5423 - val_loss: 16.3012 - val_root_mean_squared_error: 4.0375\n",
      "Epoch 84/100\n",
      "\u001b[1m9/9\u001b[0m \u001b[32m━━━━━━━━━━━━━━━━━━━━\u001b[0m\u001b[37m\u001b[0m \u001b[1m0s\u001b[0m 12ms/step - loss: 14.9460 - root_mean_squared_error: 3.8552 - val_loss: 16.3053 - val_root_mean_squared_error: 4.0380\n",
      "Epoch 85/100\n",
      "\u001b[1m9/9\u001b[0m \u001b[32m━━━━━━━━━━━━━━━━━━━━\u001b[0m\u001b[37m\u001b[0m \u001b[1m0s\u001b[0m 15ms/step - loss: 15.5505 - root_mean_squared_error: 3.9424 - val_loss: 16.2503 - val_root_mean_squared_error: 4.0312\n",
      "Epoch 86/100\n",
      "\u001b[1m9/9\u001b[0m \u001b[32m━━━━━━━━━━━━━━━━━━━━\u001b[0m\u001b[37m\u001b[0m \u001b[1m0s\u001b[0m 11ms/step - loss: 14.6407 - root_mean_squared_error: 3.8185 - val_loss: 16.3001 - val_root_mean_squared_error: 4.0373\n",
      "Epoch 87/100\n",
      "\u001b[1m9/9\u001b[0m \u001b[32m━━━━━━━━━━━━━━━━━━━━\u001b[0m\u001b[37m\u001b[0m \u001b[1m0s\u001b[0m 13ms/step - loss: 13.7010 - root_mean_squared_error: 3.6953 - val_loss: 16.2411 - val_root_mean_squared_error: 4.0300\n",
      "Epoch 88/100\n",
      "\u001b[1m9/9\u001b[0m \u001b[32m━━━━━━━━━━━━━━━━━━━━\u001b[0m\u001b[37m\u001b[0m \u001b[1m0s\u001b[0m 12ms/step - loss: 14.5395 - root_mean_squared_error: 3.7967 - val_loss: 16.1746 - val_root_mean_squared_error: 4.0218\n",
      "Epoch 89/100\n",
      "\u001b[1m9/9\u001b[0m \u001b[32m━━━━━━━━━━━━━━━━━━━━\u001b[0m\u001b[37m\u001b[0m \u001b[1m0s\u001b[0m 12ms/step - loss: 13.8121 - root_mean_squared_error: 3.7075 - val_loss: 16.1609 - val_root_mean_squared_error: 4.0201\n",
      "Epoch 90/100\n",
      "\u001b[1m9/9\u001b[0m \u001b[32m━━━━━━━━━━━━━━━━━━━━\u001b[0m\u001b[37m\u001b[0m \u001b[1m0s\u001b[0m 10ms/step - loss: 11.7420 - root_mean_squared_error: 3.3450 - val_loss: 16.1058 - val_root_mean_squared_error: 4.0132\n",
      "Epoch 91/100\n",
      "\u001b[1m9/9\u001b[0m \u001b[32m━━━━━━━━━━━━━━━━━━━━\u001b[0m\u001b[37m\u001b[0m \u001b[1m0s\u001b[0m 19ms/step - loss: 12.8026 - root_mean_squared_error: 3.5620 - val_loss: 16.0901 - val_root_mean_squared_error: 4.0112\n",
      "Epoch 92/100\n",
      "\u001b[1m9/9\u001b[0m \u001b[32m━━━━━━━━━━━━━━━━━━━━\u001b[0m\u001b[37m\u001b[0m \u001b[1m0s\u001b[0m 12ms/step - loss: 15.8713 - root_mean_squared_error: 3.9604 - val_loss: 16.1210 - val_root_mean_squared_error: 4.0151\n",
      "Epoch 93/100\n",
      "\u001b[1m9/9\u001b[0m \u001b[32m━━━━━━━━━━━━━━━━━━━━\u001b[0m\u001b[37m\u001b[0m \u001b[1m0s\u001b[0m 11ms/step - loss: 14.0010 - root_mean_squared_error: 3.7384 - val_loss: 16.0307 - val_root_mean_squared_error: 4.0038\n",
      "Epoch 94/100\n",
      "\u001b[1m9/9\u001b[0m \u001b[32m━━━━━━━━━━━━━━━━━━━━\u001b[0m\u001b[37m\u001b[0m \u001b[1m0s\u001b[0m 11ms/step - loss: 14.3593 - root_mean_squared_error: 3.7837 - val_loss: 15.9887 - val_root_mean_squared_error: 3.9986\n",
      "Epoch 95/100\n",
      "\u001b[1m9/9\u001b[0m \u001b[32m━━━━━━━━━━━━━━━━━━━━\u001b[0m\u001b[37m\u001b[0m \u001b[1m0s\u001b[0m 17ms/step - loss: 14.7859 - root_mean_squared_error: 3.8339 - val_loss: 16.1549 - val_root_mean_squared_error: 4.0193\n",
      "Epoch 96/100\n",
      "\u001b[1m9/9\u001b[0m \u001b[32m━━━━━━━━━━━━━━━━━━━━\u001b[0m\u001b[37m\u001b[0m \u001b[1m0s\u001b[0m 14ms/step - loss: 14.9281 - root_mean_squared_error: 3.8448 - val_loss: 15.9268 - val_root_mean_squared_error: 3.9908\n",
      "Epoch 97/100\n",
      "\u001b[1m9/9\u001b[0m \u001b[32m━━━━━━━━━━━━━━━━━━━━\u001b[0m\u001b[37m\u001b[0m \u001b[1m0s\u001b[0m 12ms/step - loss: 13.6902 - root_mean_squared_error: 3.6927 - val_loss: 15.9058 - val_root_mean_squared_error: 3.9882\n",
      "Epoch 98/100\n",
      "\u001b[1m9/9\u001b[0m \u001b[32m━━━━━━━━━━━━━━━━━━━━\u001b[0m\u001b[37m\u001b[0m \u001b[1m0s\u001b[0m 11ms/step - loss: 15.0736 - root_mean_squared_error: 3.8794 - val_loss: 15.8985 - val_root_mean_squared_error: 3.9873\n",
      "Epoch 99/100\n",
      "\u001b[1m9/9\u001b[0m \u001b[32m━━━━━━━━━━━━━━━━━━━━\u001b[0m\u001b[37m\u001b[0m \u001b[1m0s\u001b[0m 13ms/step - loss: 13.3964 - root_mean_squared_error: 3.6471 - val_loss: 15.8110 - val_root_mean_squared_error: 3.9763\n",
      "Epoch 100/100\n",
      "\u001b[1m9/9\u001b[0m \u001b[32m━━━━━━━━━━━━━━━━━━━━\u001b[0m\u001b[37m\u001b[0m \u001b[1m0s\u001b[0m 15ms/step - loss: 11.9699 - root_mean_squared_error: 3.4400 - val_loss: 15.8089 - val_root_mean_squared_error: 3.9760\n"
     ]
    }
   ],
   "source": [
    "# es wird ein Modell erstellt, trainiert und gespeichert\n",
    "model3 = Sequential()\n",
    "model3.add(InputLayer((5,1)))\n",
    "model3.add(LSTM(64))\n",
    "model3.add(Dense(8, 'relu'))\n",
    "model3.add(Dense(1, 'linear'))\n",
    "model3.compile(loss=MeanSquaredError(), optimizer=Adam(learning_rate=0.001), metrics=[RootMeanSquaredError()])\n",
    "model3.fit(X_train, y_train, validation_data=(X_val, y_val), epochs=100)\n",
    "model3.save('model3.keras')"
   ]
  },
  {
   "cell_type": "code",
   "execution_count": 233,
   "metadata": {},
   "outputs": [],
   "source": [
    "# das Laden des Modells\n",
    "model3 = load_model('model3.keras')"
   ]
  },
  {
   "cell_type": "code",
   "execution_count": 234,
   "metadata": {},
   "outputs": [
    {
     "name": "stdout",
     "output_type": "stream",
     "text": [
      "\u001b[1m9/9\u001b[0m \u001b[32m━━━━━━━━━━━━━━━━━━━━\u001b[0m\u001b[37m\u001b[0m \u001b[1m0s\u001b[0m 11ms/step\n",
      "Mean Absolute Error: 2.6354170004163464\n"
     ]
    }
   ],
   "source": [
    "# es werden die Traingsdaten vorhergesagt und mit den tatsächlichen Werten in ein df geschrieben\n",
    "train_predictions = model3.predict(X_train).flatten()\n",
    "train_results = pd.DataFrame(data={'Train Predictions' : train_predictions, 'Actuals' : y_train}, index=train_index)\n",
    "from sklearn.metrics import mean_absolute_error\n",
    "# Berechnung des Mean Absolute Error (MAE) und R^2 und des MSE\n",
    "mae_spm2_5 = mean_absolute_error(train_results['Actuals'], train_results['Train Predictions'])\n",
    "r_squared_spm2_5 = r2_score(train_results['Actuals'], train_results['Train Predictions'])\n",
    "mse_spm2_5 = mean_squared_error(train_results['Actuals'], train_results['Train Predictions'])\n",
    "\n",
    "print(f'Mean Absolute Error: {mae_spm2_5}')"
   ]
  },
  {
   "cell_type": "markdown",
   "metadata": {},
   "source": [
    "es werden wieder Zukunftsvorhersagen gemacht"
   ]
  },
  {
   "cell_type": "code",
   "execution_count": 138,
   "metadata": {},
   "outputs": [
    {
     "name": "stdout",
     "output_type": "stream",
     "text": [
      "\u001b[1m3/3\u001b[0m \u001b[32m━━━━━━━━━━━━━━━━━━━━\u001b[0m\u001b[37m\u001b[0m \u001b[1m0s\u001b[0m 4ms/step \n",
      "\u001b[1m3/3\u001b[0m \u001b[32m━━━━━━━━━━━━━━━━━━━━\u001b[0m\u001b[37m\u001b[0m \u001b[1m0s\u001b[0m 0s/step  \n",
      "\u001b[1m3/3\u001b[0m \u001b[32m━━━━━━━━━━━━━━━━━━━━\u001b[0m\u001b[37m\u001b[0m \u001b[1m0s\u001b[0m 0s/step  \n",
      "\u001b[1m3/3\u001b[0m \u001b[32m━━━━━━━━━━━━━━━━━━━━\u001b[0m\u001b[37m\u001b[0m \u001b[1m0s\u001b[0m 1ms/step \n",
      "\u001b[1m3/3\u001b[0m \u001b[32m━━━━━━━━━━━━━━━━━━━━\u001b[0m\u001b[37m\u001b[0m \u001b[1m0s\u001b[0m 0s/step  \n"
     ]
    }
   ],
   "source": [
    "# die Eingabedaten für die Vorhersage der Zukunft werden erstellt\n",
    "X_next = X_test\n",
    "predictions = []\n",
    "\n",
    "for _ in range(5):\n",
    "    y_pred = model1.predict(X_next)\n",
    "    predictions.append(y_pred)\n",
    "    # Aktualisieren von X_next für den nächsten Schritt\n",
    "    X_next = update_X_next(X_next, y_pred)  \n",
    "\n",
    "# Konvertiere new_index in einen DatetimeIndex\n",
    "new_index_dt = pd.to_datetime(new_index)\n",
    "\n",
    "# Kombiniere beide Indexstrukturen\n",
    "gesamt_index = zeitreihen_index_spm2_5.append(new_index_dt)"
   ]
  },
  {
   "cell_type": "code",
   "execution_count": 139,
   "metadata": {},
   "outputs": [
    {
     "name": "stdout",
     "output_type": "stream",
     "text": [
      "\u001b[1m3/3\u001b[0m \u001b[32m━━━━━━━━━━━━━━━━━━━━\u001b[0m\u001b[37m\u001b[0m \u001b[1m0s\u001b[0m 6ms/step \n"
     ]
    },
    {
     "data": {
      "application/vnd.plotly.v1+json": {
       "config": {
        "plotlyServerURL": "https://plot.ly"
       },
       "data": [
        {
         "hovertemplate": "<extra></extra>",
         "legendgroup": "",
         "line": {
          "color": "#636efa",
          "dash": "solid"
         },
         "marker": {
          "symbol": "circle"
         },
         "mode": "lines",
         "name": "",
         "orientation": "v",
         "showlegend": false,
         "type": "scatter",
         "xaxis": "x",
         "yaxis": "y"
        },
        {
         "mode": "lines+markers",
         "name": "Historische Daten",
         "type": "scatter",
         "x": [
          "2022-04-07",
          "2022-04-09",
          "2022-04-11",
          "2022-04-13",
          "2022-04-15",
          "2022-04-17",
          "2022-04-19",
          "2022-04-21",
          "2022-04-23",
          "2022-04-25",
          "2022-04-27",
          "2022-04-29",
          "2022-05-01",
          "2022-05-03",
          "2022-05-05",
          "2022-05-07",
          "2022-05-09",
          "2022-05-11",
          "2022-05-13",
          "2022-05-15",
          "2022-05-17",
          "2022-05-19",
          "2022-05-21",
          "2022-05-23",
          "2022-05-25",
          "2022-05-27",
          "2022-05-29",
          "2022-06-01",
          "2022-06-03",
          "2022-06-05",
          "2022-06-07",
          "2022-06-09",
          "2022-06-11",
          "2022-06-13",
          "2022-06-15",
          "2022-06-17",
          "2022-06-19",
          "2022-06-21",
          "2022-06-23",
          "2022-06-25",
          "2022-06-27",
          "2022-06-29",
          "2022-07-01",
          "2022-07-03",
          "2022-07-05",
          "2022-07-07",
          "2022-07-09",
          "2022-07-11",
          "2022-07-13",
          "2022-07-15",
          "2022-07-17",
          "2022-07-19",
          "2022-07-21",
          "2022-07-23",
          "2022-07-25",
          "2022-07-27",
          "2022-07-29",
          "2022-08-01",
          "2022-08-03",
          "2022-08-05",
          "2022-08-07",
          "2022-08-09",
          "2022-08-11",
          "2022-08-13",
          "2022-08-15",
          "2022-08-17",
          "2022-08-19",
          "2022-08-21",
          "2022-08-23",
          "2022-08-25",
          "2022-08-27",
          "2022-08-29",
          "2022-09-01",
          "2022-09-03",
          "2022-09-05",
          "2022-09-07",
          "2022-09-09",
          "2022-09-11",
          "2022-09-13",
          "2022-09-15",
          "2022-09-17",
          "2022-09-19",
          "2022-09-21",
          "2022-09-23",
          "2022-09-25",
          "2022-09-27",
          "2022-09-29",
          "2022-10-01",
          "2022-10-03",
          "2022-10-05",
          "2022-10-07",
          "2022-10-09",
          "2022-10-11",
          "2022-10-13",
          "2022-10-15",
          "2022-10-17",
          "2022-10-19",
          "2022-10-21",
          "2022-10-23",
          "2022-10-25",
          "2022-10-27",
          "2022-10-29",
          "2022-11-01",
          "2022-11-03",
          "2022-11-05",
          "2022-11-07",
          "2022-11-09",
          "2022-11-11",
          "2022-11-13",
          "2022-11-15",
          "2022-11-17",
          "2022-11-19",
          "2022-11-21",
          "2022-11-23",
          "2022-11-25",
          "2022-11-27",
          "2022-11-29",
          "2022-12-01",
          "2022-12-03",
          "2022-12-05",
          "2022-12-07",
          "2022-12-09",
          "2022-12-11",
          "2022-12-13",
          "2022-12-15",
          "2022-12-17",
          "2022-12-19",
          "2022-12-21",
          "2022-12-23",
          "2022-12-25",
          "2022-12-27",
          "2022-12-29",
          "2023-01-01",
          "2023-01-03",
          "2023-01-05",
          "2023-01-07",
          "2023-01-09",
          "2023-01-11",
          "2023-01-13",
          "2023-01-15",
          "2023-01-17",
          "2023-01-19",
          "2023-01-21",
          "2023-01-23",
          "2023-01-25",
          "2023-01-27",
          "2023-01-29",
          "2023-02-01",
          "2023-02-03",
          "2023-02-05",
          "2023-02-07",
          "2023-02-09",
          "2023-02-11",
          "2023-02-13",
          "2023-02-15",
          "2023-02-17",
          "2023-02-19",
          "2023-02-21",
          "2023-02-23",
          "2023-02-25",
          "2023-02-27",
          "2023-03-01",
          "2023-03-03",
          "2023-03-05",
          "2023-03-07",
          "2023-03-09",
          "2023-03-11",
          "2023-03-13",
          "2023-03-15",
          "2023-03-17",
          "2023-03-19",
          "2023-03-21",
          "2023-03-25",
          "2023-03-27",
          "2023-03-29",
          "2023-04-01",
          "2023-04-03",
          "2023-04-05",
          "2023-04-07",
          "2023-04-09",
          "2023-04-11",
          "2023-04-13",
          "2023-04-15",
          "2023-04-17",
          "2023-04-19",
          "2023-04-21",
          "2023-04-23",
          "2023-04-25",
          "2023-04-27",
          "2023-04-29",
          "2023-05-01",
          "2023-05-03",
          "2023-05-05",
          "2023-05-07",
          "2023-05-09",
          "2023-05-11",
          "2023-05-13",
          "2023-05-15",
          "2023-05-17",
          "2023-05-19",
          "2023-05-21",
          "2023-05-23",
          "2023-05-25",
          "2023-05-27",
          "2023-05-29",
          "2023-06-01",
          "2023-06-03",
          "2023-06-05",
          "2023-06-07",
          "2023-06-09",
          "2023-06-11",
          "2023-06-13",
          "2023-06-15",
          "2023-06-17",
          "2023-06-19",
          "2023-06-21",
          "2023-06-23",
          "2023-06-25",
          "2023-06-27",
          "2023-06-29",
          "2023-07-01",
          "2023-07-03",
          "2023-07-05",
          "2023-07-07",
          "2023-07-09",
          "2023-07-11",
          "2023-07-13",
          "2023-07-15",
          "2023-07-17",
          "2023-07-19",
          "2023-07-21",
          "2023-07-23",
          "2023-07-25",
          "2023-07-27",
          "2023-07-29",
          "2023-08-01",
          "2023-08-03",
          "2023-08-05",
          "2023-08-07",
          "2023-08-09",
          "2023-08-11",
          "2023-08-13",
          "2023-08-15",
          "2023-08-17",
          "2023-08-19",
          "2023-08-21",
          "2023-08-23",
          "2023-08-25",
          "2023-08-27",
          "2023-08-29",
          "2023-09-01",
          "2023-09-03",
          "2023-09-05",
          "2023-09-07",
          "2023-09-09",
          "2023-09-11",
          "2023-09-13",
          "2023-09-15",
          "2023-09-17",
          "2023-09-19",
          "2023-09-21",
          "2023-09-23",
          "2023-09-25",
          "2023-09-27",
          "2023-09-29",
          "2023-10-01",
          "2023-10-03",
          "2023-10-05",
          "2023-10-07",
          "2023-10-09",
          "2023-10-11",
          "2023-10-13",
          "2023-10-15",
          "2023-10-17",
          "2023-10-19",
          "2023-10-21",
          "2023-10-23",
          "2023-10-25",
          "2023-10-27",
          "2023-10-29",
          "2023-11-01",
          "2023-11-03",
          "2023-11-05",
          "2023-11-07",
          "2023-11-09",
          "2023-11-11",
          "2023-11-13",
          "2023-11-15",
          "2023-11-17",
          "2023-11-19",
          "2023-11-21",
          "2023-11-23",
          "2023-11-25",
          "2023-11-27",
          "2023-11-29",
          "2023-12-01",
          "2023-12-03",
          "2023-12-05",
          "2023-12-07",
          "2023-12-09",
          "2023-12-11",
          "2023-12-13",
          "2023-12-15",
          "2023-12-17",
          "2023-12-19",
          "2023-12-21",
          "2023-12-23",
          "2023-12-25",
          "2023-12-27",
          "2023-12-29",
          "2024-01-01",
          "2024-01-03",
          "2024-01-05",
          "2024-01-07",
          "2024-01-09",
          "2024-01-11",
          "2024-01-13",
          "2024-01-15",
          "2024-01-17",
          "2024-01-19",
          "2024-01-21",
          "2024-01-23",
          "2024-01-25",
          "2024-01-27",
          "2024-01-29",
          "2024-02-01",
          "2024-02-03",
          "2024-02-05",
          "2024-02-07",
          "2024-02-09",
          "2024-02-11",
          "2024-02-13",
          "2024-02-15",
          "2024-02-17",
          "2024-02-19",
          "2024-02-21",
          "2024-02-23",
          "2024-02-25",
          "2024-02-27",
          "2024-02-29",
          "2024-03-01",
          "2024-03-03",
          "2024-03-05",
          "2024-03-07",
          "2024-03-09",
          "2024-03-11",
          "2024-03-13",
          "2024-03-15",
          "2024-04-09",
          "2024-04-11",
          "2024-04-13",
          "2024-04-15",
          "2024-04-17",
          "2024-04-19",
          "2024-04-21",
          "2024-04-23",
          "2024-04-25",
          "2024-04-27",
          "2024-04-29",
          "2024-05-01",
          "2024-05-03",
          "2024-05-05",
          "2024-05-07",
          "2024-05-09",
          "2024-05-11",
          "2024-05-13",
          "2024-05-15",
          "2024-05-17",
          "2024-05-19",
          "2024-05-21",
          "2024-05-23",
          "2024-05-25",
          "2024-05-27",
          "2024-05-29"
         ],
         "y": [
          1.4349999999999998,
          1.7926666666666669,
          2.552222222222222,
          8.693750000000001,
          5.747777777777777,
          2.15,
          3.5483333333333333,
          4.726,
          9.111111111111107,
          4.544166666666667,
          5.902666666666667,
          9.081666666666669,
          6.221666666666667,
          4.2775,
          6.076666666666667,
          7.221999999999999,
          4.526999999999999,
          3.5916666666666663,
          2.475,
          2.084,
          3.9958333333333336,
          3.822,
          3.681666666666666,
          2.63125,
          1.406,
          2.6825,
          2.8920000000000003,
          3.24,
          2.371111111111111,
          7.153333333333333,
          4.753,
          5.347,
          2.9925,
          1.875,
          4.6,
          2.2025,
          4.29375,
          2.49,
          3.278,
          2.5166666666666666,
          10.183333333333332,
          2.438888888888889,
          2.1716666666666664,
          2.289333333333333,
          1.905,
          3.464,
          1.885,
          1.7666666666666666,
          2.2266666666666666,
          1.5340000000000005,
          2.7833333333333337,
          3.711333333333333,
          11.985,
          9.784666666666666,
          5.102222222222223,
          2.52375,
          2.32875,
          4.953333333333334,
          2.18875,
          3.7466666666666666,
          2.265,
          1.8825,
          2.856666666666667,
          2.99,
          6.1450000000000005,
          10.466666666666669,
          13.404999999999998,
          2.32875,
          2.414,
          3.52125,
          5.79,
          4.928333333333333,
          1.611,
          2.302222222222222,
          3.42,
          7.2625,
          4.205,
          8.378333333333332,
          3.554,
          2.2183333333333333,
          1.75,
          1.609,
          1.795,
          2.721666666666667,
          6.544,
          1.6450000000000002,
          4.683333333333334,
          4.746666666666667,
          2.4850000000000003,
          2.5875000000000004,
          3.6775,
          2.4541666666666666,
          4.757499999999999,
          12.161666666666669,
          0.8374999999999999,
          3.463,
          3.609,
          8.066999999999998,
          2.9,
          2.6425,
          4.261,
          4.305,
          5.938999999999999,
          3.394,
          2.0341666666666667,
          2.278,
          1.48,
          7.931249999999999,
          6.621666666666667,
          12.06,
          4.9193333333333324,
          3.73625,
          8.139999999999999,
          2.6833333333333336,
          11.50875,
          9,
          22.2525,
          23.620000000000005,
          16.422666666666665,
          17.416,
          4.3475,
          14.163,
          13.423000000000002,
          12.8175,
          28.225,
          22.67625,
          15.57,
          12.103750000000002,
          7.335,
          11.190666666666669,
          1.3675,
          1.0833333333333333,
          4.013333333333334,
          1.8275,
          2.61375,
          1.7833333333333334,
          3.3349999999999995,
          4.4725,
          2.172,
          1.2262499999999998,
          2.95,
          9.9925,
          14.748333333333331,
          14.9925,
          17.3425,
          3.6109999999999993,
          14.125,
          4.7875,
          4.772,
          3.2100000000000004,
          12.868333333333332,
          10.27,
          11.378,
          9.27375,
          22.1875,
          9.09125,
          2.33,
          29.765,
          22.636000000000003,
          1.505,
          1.91,
          12.326000000000002,
          15.687499999999998,
          3.40125,
          4.123333333333334,
          8.77,
          3.8375,
          2.4625,
          18.53125,
          3.04875,
          2.275,
          12.878,
          1.9833333333333332,
          1.36625,
          3.9525,
          2.2925,
          1.7600000000000002,
          6.833333333333333,
          6.09,
          10.038333333333334,
          2.44375,
          2.1083333333333334,
          9.19,
          9.278333333333332,
          4.623333333333333,
          7.076666666666666,
          5.78,
          2.1339999999999995,
          3.445333333333333,
          15.782999999999998,
          3.39,
          4.088,
          4.6433333333333335,
          2.56,
          3.6913333333333336,
          5.070666666666666,
          3.703333333333333,
          6.5120000000000005,
          2.5375000000000005,
          3.424444444444445,
          11.3275,
          8.884666666666666,
          7.0325,
          3.948888888888888,
          3.9,
          9.338888888888889,
          2.5333333333333337,
          2.9716666666666667,
          6.813333333333333,
          3.6591666666666662,
          4.405,
          4.203333333333333,
          2.997777777777777,
          6.26,
          5.097499999999999,
          6.1625,
          6.285833333333334,
          5.223333333333333,
          2.5875,
          7.235333333333332,
          3.5450000000000004,
          4.22,
          4.125,
          2.29,
          3.2099999999999995,
          2.928888888888889,
          2.206,
          3.078333333333333,
          3.4322222222222223,
          3.698,
          2.85,
          4.775,
          1.83,
          3.8406666666666665,
          3.8333333333333335,
          2.575,
          1.456,
          2.043333333333333,
          2.567333333333333,
          3.4633333333333334,
          2.781111111111111,
          2.5591666666666666,
          6.046666666666667,
          6.111333333333333,
          7.25,
          4.107333333333334,
          3.028666666666667,
          10.293,
          2.245,
          5.391666666666667,
          2.5666666666666664,
          2.973333333333333,
          2.154166666666667,
          4.255,
          5.971333333333333,
          6.65,
          6.012666666666666,
          3.2349999999999994,
          3.653333333333333,
          3.08,
          2.186,
          1.59,
          1.7033333333333331,
          4.532666666666667,
          5.922499999999999,
          5.638333333333333,
          5.714,
          2.1983333333333333,
          5.259,
          4.73625,
          7.880000000000001,
          6.325,
          2.2525,
          3.1975000000000007,
          9.0225,
          1.045,
          2.9360000000000004,
          6.602000000000001,
          2.495,
          1.7977777777777777,
          1.7491666666666663,
          2.1726666666666667,
          1.954166666666667,
          1.5375,
          1.5644444444444443,
          3.126,
          4.298,
          2.067333333333333,
          9.326666666666668,
          5.633333333333334,
          6.720666666666666,
          5.538,
          2.1133333333333333,
          3.188,
          9.195,
          7.643333333333333,
          10.317333333333334,
          10.34,
          29.376666666666665,
          8.656,
          3.880833333333333,
          7.147999999999999,
          11.5825,
          5.680833333333333,
          2.14,
          1.9975,
          2.233333333333333,
          2.608666666666667,
          2.313,
          1.6060000000000003,
          2.2166666666666663,
          1.41,
          2.7553333333333336,
          7.280833333333333,
          7.671333333333334,
          19.108,
          7.5791666666666675,
          3.364666666666667,
          7.242,
          9.33,
          3.59125,
          5.184,
          5.907,
          4.4944444444444445,
          3.69,
          3.846666666666666,
          3.240666666666667,
          3.7433333333333336,
          4.742500000000001,
          4.9016666666666655,
          13.763,
          6.119166666666667,
          8.581999999999999,
          8.666666666666666,
          3.662222222222223,
          4.027777777777778,
          1.16,
          1.5750000000000002,
          14.633333333333336,
          10.06,
          13.775,
          14.73,
          9.20875,
          12.129166666666668,
          16.38222222222222,
          7.92875,
          9.542,
          39.35266666666666,
          4.370833333333333,
          2.9866666666666664,
          2.066666666666667,
          3.586666666666668,
          1.1,
          3.5933333333333333,
          1.81,
          5.110000000000001,
          3.3,
          2.703333333333333,
          1.7275,
          5.94,
          1.15,
          1.285,
          7,
          5.4350000000000005,
          4.458,
          2.4966666666666666,
          2.758,
          1.635,
          5.3425,
          3.1,
          2.8,
          8.377500000000001,
          3.254,
          2.09
         ]
        },
        {
         "mode": "lines+markers",
         "name": "Vorhersage",
         "type": "scatter",
         "x": [
          "2024-06-01T00:00:00",
          "2024-06-03T00:00:00",
          "2024-06-05T00:00:00",
          "2024-06-07T00:00:00",
          "2024-06-09T00:00:00",
          "2024-06-11T00:00:00",
          "2024-06-13T00:00:00",
          "2024-06-15T00:00:00",
          "2024-06-17T00:00:00",
          "2024-06-19T00:00:00",
          "2024-06-21T00:00:00",
          "2024-06-23T00:00:00",
          "2024-06-25T00:00:00",
          "2024-06-27T00:00:00",
          "2024-06-29T00:00:00",
          "2024-07-01T00:00:00",
          "2024-07-03T00:00:00",
          "2024-07-05T00:00:00",
          "2024-07-07T00:00:00",
          "2024-07-09T00:00:00",
          "2024-07-11T00:00:00",
          "2024-07-13T00:00:00",
          "2024-07-15T00:00:00",
          "2024-07-17T00:00:00",
          "2024-07-19T00:00:00",
          "2024-07-21T00:00:00",
          "2024-07-23T00:00:00",
          "2024-07-25T00:00:00",
          "2024-07-27T00:00:00",
          "2024-07-29T00:00:00",
          "2024-08-01T00:00:00",
          "2024-08-03T00:00:00",
          "2024-08-05T00:00:00",
          "2024-08-07T00:00:00",
          "2024-08-09T00:00:00",
          "2024-08-11T00:00:00",
          "2024-08-13T00:00:00",
          "2024-08-15T00:00:00",
          "2024-08-17T00:00:00",
          "2024-08-19T00:00:00",
          "2024-08-21T00:00:00",
          "2024-08-23T00:00:00",
          "2024-08-25T00:00:00",
          "2024-08-27T00:00:00",
          "2024-08-29T00:00:00",
          "2024-09-01T00:00:00",
          "2024-09-03T00:00:00",
          "2024-09-05T00:00:00",
          "2024-09-07T00:00:00",
          "2024-09-09T00:00:00",
          "2024-09-11T00:00:00",
          "2024-09-13T00:00:00",
          "2024-09-15T00:00:00",
          "2024-09-17T00:00:00",
          "2024-09-19T00:00:00",
          "2024-09-21T00:00:00",
          "2024-09-23T00:00:00",
          "2024-09-25T00:00:00",
          "2024-09-27T00:00:00",
          "2024-09-29T00:00:00",
          "2024-10-01T00:00:00",
          "2024-10-03T00:00:00",
          "2024-10-05T00:00:00",
          "2024-10-07T00:00:00",
          "2024-10-09T00:00:00",
          "2024-10-11T00:00:00",
          "2024-10-13T00:00:00",
          "2024-10-15T00:00:00",
          "2024-10-17T00:00:00"
         ],
         "y": [
          6.2664690017700195,
          4.808459281921387,
          3.7800071239471436,
          3.4800987243652344,
          3.5080559253692627,
          3.294862747192383,
          3.4046525955200195,
          3.1056628227233887,
          3.526524305343628,
          5.463647365570068,
          6.210934162139893,
          12.095808982849121,
          7.770360469818115,
          10.809249877929688,
          6.684246063232422,
          5.0799055099487305,
          4.1010236740112305,
          5.861873626708984,
          4.618823528289795,
          4.415589332580566,
          4.5701398849487305,
          4.337359428405762,
          3.954554796218872,
          4.100027084350586,
          4.365511417388916,
          4.4950737953186035,
          7.86748743057251,
          5.2286834716796875,
          8.379127502441406,
          6.213084697723389,
          4.958218097686768,
          5.659741401672363,
          4.244678974151611,
          3.6097609996795654,
          7.400817394256592,
          8.212928771972656,
          11.618249893188477,
          11.847967147827148,
          10.94458293914795,
          11.99258804321289,
          12.144648551940918,
          9.89101505279541,
          11.696891784667969,
          16.22988510131836,
          6.673193454742432,
          12.399333000183105,
          5.913967132568359,
          4.893998146057129,
          3.138237476348877,
          3.936293125152588,
          3.300593614578247,
          4.518481731414795,
          3.9806149005889893,
          3.9846839904785156,
          3.5826709270477295,
          4.531800746917725,
          3.1261959075927734,
          3.603358030319214,
          4.837866306304932,
          4.628134727478027,
          4.993313789367676,
          4.393216609954834,
          4.1147308349609375,
          3.3706696033477783,
          4.426288604736328,
          3.848710536956787,
          4.055330753326416,
          5.576035022735596,
          3.7142629623413086
         ]
        }
       ],
       "layout": {
        "legend": {
         "tracegroupgap": 0
        },
        "template": {
         "data": {
          "bar": [
           {
            "error_x": {
             "color": "#2a3f5f"
            },
            "error_y": {
             "color": "#2a3f5f"
            },
            "marker": {
             "line": {
              "color": "#E5ECF6",
              "width": 0.5
             },
             "pattern": {
              "fillmode": "overlay",
              "size": 10,
              "solidity": 0.2
             }
            },
            "type": "bar"
           }
          ],
          "barpolar": [
           {
            "marker": {
             "line": {
              "color": "#E5ECF6",
              "width": 0.5
             },
             "pattern": {
              "fillmode": "overlay",
              "size": 10,
              "solidity": 0.2
             }
            },
            "type": "barpolar"
           }
          ],
          "carpet": [
           {
            "aaxis": {
             "endlinecolor": "#2a3f5f",
             "gridcolor": "white",
             "linecolor": "white",
             "minorgridcolor": "white",
             "startlinecolor": "#2a3f5f"
            },
            "baxis": {
             "endlinecolor": "#2a3f5f",
             "gridcolor": "white",
             "linecolor": "white",
             "minorgridcolor": "white",
             "startlinecolor": "#2a3f5f"
            },
            "type": "carpet"
           }
          ],
          "choropleth": [
           {
            "colorbar": {
             "outlinewidth": 0,
             "ticks": ""
            },
            "type": "choropleth"
           }
          ],
          "contour": [
           {
            "colorbar": {
             "outlinewidth": 0,
             "ticks": ""
            },
            "colorscale": [
             [
              0,
              "#0d0887"
             ],
             [
              0.1111111111111111,
              "#46039f"
             ],
             [
              0.2222222222222222,
              "#7201a8"
             ],
             [
              0.3333333333333333,
              "#9c179e"
             ],
             [
              0.4444444444444444,
              "#bd3786"
             ],
             [
              0.5555555555555556,
              "#d8576b"
             ],
             [
              0.6666666666666666,
              "#ed7953"
             ],
             [
              0.7777777777777778,
              "#fb9f3a"
             ],
             [
              0.8888888888888888,
              "#fdca26"
             ],
             [
              1,
              "#f0f921"
             ]
            ],
            "type": "contour"
           }
          ],
          "contourcarpet": [
           {
            "colorbar": {
             "outlinewidth": 0,
             "ticks": ""
            },
            "type": "contourcarpet"
           }
          ],
          "heatmap": [
           {
            "colorbar": {
             "outlinewidth": 0,
             "ticks": ""
            },
            "colorscale": [
             [
              0,
              "#0d0887"
             ],
             [
              0.1111111111111111,
              "#46039f"
             ],
             [
              0.2222222222222222,
              "#7201a8"
             ],
             [
              0.3333333333333333,
              "#9c179e"
             ],
             [
              0.4444444444444444,
              "#bd3786"
             ],
             [
              0.5555555555555556,
              "#d8576b"
             ],
             [
              0.6666666666666666,
              "#ed7953"
             ],
             [
              0.7777777777777778,
              "#fb9f3a"
             ],
             [
              0.8888888888888888,
              "#fdca26"
             ],
             [
              1,
              "#f0f921"
             ]
            ],
            "type": "heatmap"
           }
          ],
          "heatmapgl": [
           {
            "colorbar": {
             "outlinewidth": 0,
             "ticks": ""
            },
            "colorscale": [
             [
              0,
              "#0d0887"
             ],
             [
              0.1111111111111111,
              "#46039f"
             ],
             [
              0.2222222222222222,
              "#7201a8"
             ],
             [
              0.3333333333333333,
              "#9c179e"
             ],
             [
              0.4444444444444444,
              "#bd3786"
             ],
             [
              0.5555555555555556,
              "#d8576b"
             ],
             [
              0.6666666666666666,
              "#ed7953"
             ],
             [
              0.7777777777777778,
              "#fb9f3a"
             ],
             [
              0.8888888888888888,
              "#fdca26"
             ],
             [
              1,
              "#f0f921"
             ]
            ],
            "type": "heatmapgl"
           }
          ],
          "histogram": [
           {
            "marker": {
             "pattern": {
              "fillmode": "overlay",
              "size": 10,
              "solidity": 0.2
             }
            },
            "type": "histogram"
           }
          ],
          "histogram2d": [
           {
            "colorbar": {
             "outlinewidth": 0,
             "ticks": ""
            },
            "colorscale": [
             [
              0,
              "#0d0887"
             ],
             [
              0.1111111111111111,
              "#46039f"
             ],
             [
              0.2222222222222222,
              "#7201a8"
             ],
             [
              0.3333333333333333,
              "#9c179e"
             ],
             [
              0.4444444444444444,
              "#bd3786"
             ],
             [
              0.5555555555555556,
              "#d8576b"
             ],
             [
              0.6666666666666666,
              "#ed7953"
             ],
             [
              0.7777777777777778,
              "#fb9f3a"
             ],
             [
              0.8888888888888888,
              "#fdca26"
             ],
             [
              1,
              "#f0f921"
             ]
            ],
            "type": "histogram2d"
           }
          ],
          "histogram2dcontour": [
           {
            "colorbar": {
             "outlinewidth": 0,
             "ticks": ""
            },
            "colorscale": [
             [
              0,
              "#0d0887"
             ],
             [
              0.1111111111111111,
              "#46039f"
             ],
             [
              0.2222222222222222,
              "#7201a8"
             ],
             [
              0.3333333333333333,
              "#9c179e"
             ],
             [
              0.4444444444444444,
              "#bd3786"
             ],
             [
              0.5555555555555556,
              "#d8576b"
             ],
             [
              0.6666666666666666,
              "#ed7953"
             ],
             [
              0.7777777777777778,
              "#fb9f3a"
             ],
             [
              0.8888888888888888,
              "#fdca26"
             ],
             [
              1,
              "#f0f921"
             ]
            ],
            "type": "histogram2dcontour"
           }
          ],
          "mesh3d": [
           {
            "colorbar": {
             "outlinewidth": 0,
             "ticks": ""
            },
            "type": "mesh3d"
           }
          ],
          "parcoords": [
           {
            "line": {
             "colorbar": {
              "outlinewidth": 0,
              "ticks": ""
             }
            },
            "type": "parcoords"
           }
          ],
          "pie": [
           {
            "automargin": true,
            "type": "pie"
           }
          ],
          "scatter": [
           {
            "fillpattern": {
             "fillmode": "overlay",
             "size": 10,
             "solidity": 0.2
            },
            "type": "scatter"
           }
          ],
          "scatter3d": [
           {
            "line": {
             "colorbar": {
              "outlinewidth": 0,
              "ticks": ""
             }
            },
            "marker": {
             "colorbar": {
              "outlinewidth": 0,
              "ticks": ""
             }
            },
            "type": "scatter3d"
           }
          ],
          "scattercarpet": [
           {
            "marker": {
             "colorbar": {
              "outlinewidth": 0,
              "ticks": ""
             }
            },
            "type": "scattercarpet"
           }
          ],
          "scattergeo": [
           {
            "marker": {
             "colorbar": {
              "outlinewidth": 0,
              "ticks": ""
             }
            },
            "type": "scattergeo"
           }
          ],
          "scattergl": [
           {
            "marker": {
             "colorbar": {
              "outlinewidth": 0,
              "ticks": ""
             }
            },
            "type": "scattergl"
           }
          ],
          "scattermapbox": [
           {
            "marker": {
             "colorbar": {
              "outlinewidth": 0,
              "ticks": ""
             }
            },
            "type": "scattermapbox"
           }
          ],
          "scatterpolar": [
           {
            "marker": {
             "colorbar": {
              "outlinewidth": 0,
              "ticks": ""
             }
            },
            "type": "scatterpolar"
           }
          ],
          "scatterpolargl": [
           {
            "marker": {
             "colorbar": {
              "outlinewidth": 0,
              "ticks": ""
             }
            },
            "type": "scatterpolargl"
           }
          ],
          "scatterternary": [
           {
            "marker": {
             "colorbar": {
              "outlinewidth": 0,
              "ticks": ""
             }
            },
            "type": "scatterternary"
           }
          ],
          "surface": [
           {
            "colorbar": {
             "outlinewidth": 0,
             "ticks": ""
            },
            "colorscale": [
             [
              0,
              "#0d0887"
             ],
             [
              0.1111111111111111,
              "#46039f"
             ],
             [
              0.2222222222222222,
              "#7201a8"
             ],
             [
              0.3333333333333333,
              "#9c179e"
             ],
             [
              0.4444444444444444,
              "#bd3786"
             ],
             [
              0.5555555555555556,
              "#d8576b"
             ],
             [
              0.6666666666666666,
              "#ed7953"
             ],
             [
              0.7777777777777778,
              "#fb9f3a"
             ],
             [
              0.8888888888888888,
              "#fdca26"
             ],
             [
              1,
              "#f0f921"
             ]
            ],
            "type": "surface"
           }
          ],
          "table": [
           {
            "cells": {
             "fill": {
              "color": "#EBF0F8"
             },
             "line": {
              "color": "white"
             }
            },
            "header": {
             "fill": {
              "color": "#C8D4E3"
             },
             "line": {
              "color": "white"
             }
            },
            "type": "table"
           }
          ]
         },
         "layout": {
          "annotationdefaults": {
           "arrowcolor": "#2a3f5f",
           "arrowhead": 0,
           "arrowwidth": 1
          },
          "autotypenumbers": "strict",
          "coloraxis": {
           "colorbar": {
            "outlinewidth": 0,
            "ticks": ""
           }
          },
          "colorscale": {
           "diverging": [
            [
             0,
             "#8e0152"
            ],
            [
             0.1,
             "#c51b7d"
            ],
            [
             0.2,
             "#de77ae"
            ],
            [
             0.3,
             "#f1b6da"
            ],
            [
             0.4,
             "#fde0ef"
            ],
            [
             0.5,
             "#f7f7f7"
            ],
            [
             0.6,
             "#e6f5d0"
            ],
            [
             0.7,
             "#b8e186"
            ],
            [
             0.8,
             "#7fbc41"
            ],
            [
             0.9,
             "#4d9221"
            ],
            [
             1,
             "#276419"
            ]
           ],
           "sequential": [
            [
             0,
             "#0d0887"
            ],
            [
             0.1111111111111111,
             "#46039f"
            ],
            [
             0.2222222222222222,
             "#7201a8"
            ],
            [
             0.3333333333333333,
             "#9c179e"
            ],
            [
             0.4444444444444444,
             "#bd3786"
            ],
            [
             0.5555555555555556,
             "#d8576b"
            ],
            [
             0.6666666666666666,
             "#ed7953"
            ],
            [
             0.7777777777777778,
             "#fb9f3a"
            ],
            [
             0.8888888888888888,
             "#fdca26"
            ],
            [
             1,
             "#f0f921"
            ]
           ],
           "sequentialminus": [
            [
             0,
             "#0d0887"
            ],
            [
             0.1111111111111111,
             "#46039f"
            ],
            [
             0.2222222222222222,
             "#7201a8"
            ],
            [
             0.3333333333333333,
             "#9c179e"
            ],
            [
             0.4444444444444444,
             "#bd3786"
            ],
            [
             0.5555555555555556,
             "#d8576b"
            ],
            [
             0.6666666666666666,
             "#ed7953"
            ],
            [
             0.7777777777777778,
             "#fb9f3a"
            ],
            [
             0.8888888888888888,
             "#fdca26"
            ],
            [
             1,
             "#f0f921"
            ]
           ]
          },
          "colorway": [
           "#636efa",
           "#EF553B",
           "#00cc96",
           "#ab63fa",
           "#FFA15A",
           "#19d3f3",
           "#FF6692",
           "#B6E880",
           "#FF97FF",
           "#FECB52"
          ],
          "font": {
           "color": "#2a3f5f"
          },
          "geo": {
           "bgcolor": "white",
           "lakecolor": "white",
           "landcolor": "#E5ECF6",
           "showlakes": true,
           "showland": true,
           "subunitcolor": "white"
          },
          "hoverlabel": {
           "align": "left"
          },
          "hovermode": "closest",
          "mapbox": {
           "style": "light"
          },
          "paper_bgcolor": "white",
          "plot_bgcolor": "#E5ECF6",
          "polar": {
           "angularaxis": {
            "gridcolor": "white",
            "linecolor": "white",
            "ticks": ""
           },
           "bgcolor": "#E5ECF6",
           "radialaxis": {
            "gridcolor": "white",
            "linecolor": "white",
            "ticks": ""
           }
          },
          "scene": {
           "xaxis": {
            "backgroundcolor": "#E5ECF6",
            "gridcolor": "white",
            "gridwidth": 2,
            "linecolor": "white",
            "showbackground": true,
            "ticks": "",
            "zerolinecolor": "white"
           },
           "yaxis": {
            "backgroundcolor": "#E5ECF6",
            "gridcolor": "white",
            "gridwidth": 2,
            "linecolor": "white",
            "showbackground": true,
            "ticks": "",
            "zerolinecolor": "white"
           },
           "zaxis": {
            "backgroundcolor": "#E5ECF6",
            "gridcolor": "white",
            "gridwidth": 2,
            "linecolor": "white",
            "showbackground": true,
            "ticks": "",
            "zerolinecolor": "white"
           }
          },
          "shapedefaults": {
           "line": {
            "color": "#2a3f5f"
           }
          },
          "ternary": {
           "aaxis": {
            "gridcolor": "white",
            "linecolor": "white",
            "ticks": ""
           },
           "baxis": {
            "gridcolor": "white",
            "linecolor": "white",
            "ticks": ""
           },
           "bgcolor": "#E5ECF6",
           "caxis": {
            "gridcolor": "white",
            "linecolor": "white",
            "ticks": ""
           }
          },
          "title": {
           "x": 0.05
          },
          "xaxis": {
           "automargin": true,
           "gridcolor": "white",
           "linecolor": "white",
           "ticks": "",
           "title": {
            "standoff": 15
           },
           "zerolinecolor": "white",
           "zerolinewidth": 2
          },
          "yaxis": {
           "automargin": true,
           "gridcolor": "white",
           "linecolor": "white",
           "ticks": "",
           "title": {
            "standoff": 15
           },
           "zerolinecolor": "white",
           "zerolinewidth": 2
          }
         }
        },
        "title": {
         "text": "Vorhersage für den Wert PM2.5 in der Stadt mit LSTM-Modell"
        },
        "xaxis": {
         "anchor": "y",
         "domain": [
          0,
          1
         ],
         "title": {
          "text": "Zeit"
         }
        },
        "yaxis": {
         "anchor": "x",
         "domain": [
          0,
          1
         ],
         "title": {
          "text": "Wert"
         }
        }
       }
      }
     },
     "metadata": {},
     "output_type": "display_data"
    }
   ],
   "source": [
    "# Vorhersage für den ersten Schritt machen\n",
    "y_pred_step1 = model3.predict(X_test)\n",
    "\n",
    "# Vorbereiten der Daten für Plotly Express\n",
    "historical_data = values_spm2_5\n",
    "\n",
    "# Plotly Express-Figur erstellen\n",
    "fig = px.line(title='Vorhersage für den ersten Schritt mit LSTM-Modell')\n",
    "\n",
    "# Plot der historischen Daten\n",
    "fig.add_scatter(x=gesamt_index[:len(historical_data)], y=historical_data, mode='lines+markers', name='Historische Daten')\n",
    "\n",
    "# Plot der Vorhersage für den ersten Schritt\n",
    "x_values_pred = gesamt_index[len(historical_data):len(historical_data) + len(y_pred_step1)]\n",
    "fig.add_scatter(x=x_values_pred, y=y_pred_step1.flatten(), mode='lines+markers', name='Vorhersage')\n",
    "\n",
    "fig.update_layout(xaxis_title='Zeit', yaxis_title='Wert', title='Vorhersage für den Wert PM2.5 in der Stadt mit LSTM-Modell')\n",
    "fig.show()"
   ]
  },
  {
   "cell_type": "markdown",
   "metadata": {},
   "source": [
    "Nun wird die Regressionsgerade berechnet"
   ]
  },
  {
   "cell_type": "code",
   "execution_count": 235,
   "metadata": {},
   "outputs": [],
   "source": [
    "# Datum in numerisches Format umwandeln\n",
    "stadt_PM2_5_average = stadt_PM2_5_average.copy()\n",
    "stadt_PM2_5_average.reset_index(inplace=True)\n",
    "stadt_PM2_5_average['datum'] = pd.to_datetime(stadt_PM2_5_average['datum'])\n",
    "stadt_PM2_5_average['datum_numeric'] = (stadt_PM2_5_average['datum'] - stadt_PM2_5_average['datum'].min()).dt.days\n",
    "\n",
    "# Lineare Regression\n",
    "X = stadt_PM2_5_average[['datum_numeric']]\n",
    "y = stadt_PM2_5_average['average_stadtpm2_5']\n",
    "model = LinearRegression()\n",
    "model.fit(X, y)\n",
    "stadt_PM2_5_average['stadt_PM2_5_average_trend'] = model.predict(X)"
   ]
  },
  {
   "cell_type": "code",
   "execution_count": 236,
   "metadata": {},
   "outputs": [
    {
     "data": {
      "application/vnd.plotly.v1+json": {
       "config": {
        "plotlyServerURL": "https://plot.ly"
       },
       "data": [
        {
         "hovertemplate": "datum=%{x}<br>average_stadtpm2_5=%{y}<extra></extra>",
         "legendgroup": "",
         "marker": {
          "color": "#636efa",
          "symbol": "circle"
         },
         "mode": "markers",
         "name": "",
         "orientation": "v",
         "showlegend": false,
         "type": "scatter",
         "x": [
          "2022-04-07T00:00:00",
          "2022-04-09T00:00:00",
          "2022-04-11T00:00:00",
          "2022-04-13T00:00:00",
          "2022-04-15T00:00:00",
          "2022-04-17T00:00:00",
          "2022-04-19T00:00:00",
          "2022-04-21T00:00:00",
          "2022-04-23T00:00:00",
          "2022-04-25T00:00:00",
          "2022-04-27T00:00:00",
          "2022-04-29T00:00:00",
          "2022-05-01T00:00:00",
          "2022-05-03T00:00:00",
          "2022-05-05T00:00:00",
          "2022-05-07T00:00:00",
          "2022-05-09T00:00:00",
          "2022-05-11T00:00:00",
          "2022-05-13T00:00:00",
          "2022-05-15T00:00:00",
          "2022-05-17T00:00:00",
          "2022-05-19T00:00:00",
          "2022-05-21T00:00:00",
          "2022-05-23T00:00:00",
          "2022-05-25T00:00:00",
          "2022-05-27T00:00:00",
          "2022-05-29T00:00:00",
          "2022-06-01T00:00:00",
          "2022-06-03T00:00:00",
          "2022-06-05T00:00:00",
          "2022-06-07T00:00:00",
          "2022-06-09T00:00:00",
          "2022-06-11T00:00:00",
          "2022-06-13T00:00:00",
          "2022-06-15T00:00:00",
          "2022-06-17T00:00:00",
          "2022-06-19T00:00:00",
          "2022-06-21T00:00:00",
          "2022-06-23T00:00:00",
          "2022-06-25T00:00:00",
          "2022-06-27T00:00:00",
          "2022-06-29T00:00:00",
          "2022-07-01T00:00:00",
          "2022-07-03T00:00:00",
          "2022-07-05T00:00:00",
          "2022-07-07T00:00:00",
          "2022-07-09T00:00:00",
          "2022-07-11T00:00:00",
          "2022-07-13T00:00:00",
          "2022-07-15T00:00:00",
          "2022-07-17T00:00:00",
          "2022-07-19T00:00:00",
          "2022-07-21T00:00:00",
          "2022-07-23T00:00:00",
          "2022-07-25T00:00:00",
          "2022-07-27T00:00:00",
          "2022-07-29T00:00:00",
          "2022-08-01T00:00:00",
          "2022-08-03T00:00:00",
          "2022-08-05T00:00:00",
          "2022-08-07T00:00:00",
          "2022-08-09T00:00:00",
          "2022-08-11T00:00:00",
          "2022-08-13T00:00:00",
          "2022-08-15T00:00:00",
          "2022-08-17T00:00:00",
          "2022-08-19T00:00:00",
          "2022-08-21T00:00:00",
          "2022-08-23T00:00:00",
          "2022-08-25T00:00:00",
          "2022-08-27T00:00:00",
          "2022-08-29T00:00:00",
          "2022-09-01T00:00:00",
          "2022-09-03T00:00:00",
          "2022-09-05T00:00:00",
          "2022-09-07T00:00:00",
          "2022-09-09T00:00:00",
          "2022-09-11T00:00:00",
          "2022-09-13T00:00:00",
          "2022-09-15T00:00:00",
          "2022-09-17T00:00:00",
          "2022-09-19T00:00:00",
          "2022-09-21T00:00:00",
          "2022-09-23T00:00:00",
          "2022-09-25T00:00:00",
          "2022-09-27T00:00:00",
          "2022-09-29T00:00:00",
          "2022-10-01T00:00:00",
          "2022-10-03T00:00:00",
          "2022-10-05T00:00:00",
          "2022-10-07T00:00:00",
          "2022-10-09T00:00:00",
          "2022-10-11T00:00:00",
          "2022-10-13T00:00:00",
          "2022-10-15T00:00:00",
          "2022-10-17T00:00:00",
          "2022-10-19T00:00:00",
          "2022-10-21T00:00:00",
          "2022-10-23T00:00:00",
          "2022-10-25T00:00:00",
          "2022-10-27T00:00:00",
          "2022-10-29T00:00:00",
          "2022-11-01T00:00:00",
          "2022-11-03T00:00:00",
          "2022-11-05T00:00:00",
          "2022-11-07T00:00:00",
          "2022-11-09T00:00:00",
          "2022-11-11T00:00:00",
          "2022-11-13T00:00:00",
          "2022-11-15T00:00:00",
          "2022-11-17T00:00:00",
          "2022-11-19T00:00:00",
          "2022-11-21T00:00:00",
          "2022-11-23T00:00:00",
          "2022-11-25T00:00:00",
          "2022-11-27T00:00:00",
          "2022-11-29T00:00:00",
          "2022-12-01T00:00:00",
          "2022-12-03T00:00:00",
          "2022-12-05T00:00:00",
          "2022-12-07T00:00:00",
          "2022-12-09T00:00:00",
          "2022-12-11T00:00:00",
          "2022-12-13T00:00:00",
          "2022-12-15T00:00:00",
          "2022-12-17T00:00:00",
          "2022-12-19T00:00:00",
          "2022-12-21T00:00:00",
          "2022-12-23T00:00:00",
          "2022-12-25T00:00:00",
          "2022-12-27T00:00:00",
          "2022-12-29T00:00:00",
          "2023-01-01T00:00:00",
          "2023-01-03T00:00:00",
          "2023-01-05T00:00:00",
          "2023-01-07T00:00:00",
          "2023-01-09T00:00:00",
          "2023-01-11T00:00:00",
          "2023-01-13T00:00:00",
          "2023-01-15T00:00:00",
          "2023-01-17T00:00:00",
          "2023-01-19T00:00:00",
          "2023-01-21T00:00:00",
          "2023-01-23T00:00:00",
          "2023-01-25T00:00:00",
          "2023-01-27T00:00:00",
          "2023-01-29T00:00:00",
          "2023-02-01T00:00:00",
          "2023-02-03T00:00:00",
          "2023-02-05T00:00:00",
          "2023-02-07T00:00:00",
          "2023-02-09T00:00:00",
          "2023-02-11T00:00:00",
          "2023-02-13T00:00:00",
          "2023-02-15T00:00:00",
          "2023-02-17T00:00:00",
          "2023-02-19T00:00:00",
          "2023-02-21T00:00:00",
          "2023-02-23T00:00:00",
          "2023-02-25T00:00:00",
          "2023-02-27T00:00:00",
          "2023-03-01T00:00:00",
          "2023-03-03T00:00:00",
          "2023-03-05T00:00:00",
          "2023-03-07T00:00:00",
          "2023-03-09T00:00:00",
          "2023-03-11T00:00:00",
          "2023-03-13T00:00:00",
          "2023-03-15T00:00:00",
          "2023-03-17T00:00:00",
          "2023-03-19T00:00:00",
          "2023-03-21T00:00:00",
          "2023-03-25T00:00:00",
          "2023-03-27T00:00:00",
          "2023-03-29T00:00:00",
          "2023-04-01T00:00:00",
          "2023-04-03T00:00:00",
          "2023-04-05T00:00:00",
          "2023-04-07T00:00:00",
          "2023-04-09T00:00:00",
          "2023-04-11T00:00:00",
          "2023-04-13T00:00:00",
          "2023-04-15T00:00:00",
          "2023-04-17T00:00:00",
          "2023-04-19T00:00:00",
          "2023-04-21T00:00:00",
          "2023-04-23T00:00:00",
          "2023-04-25T00:00:00",
          "2023-04-27T00:00:00",
          "2023-04-29T00:00:00",
          "2023-05-01T00:00:00",
          "2023-05-03T00:00:00",
          "2023-05-05T00:00:00",
          "2023-05-07T00:00:00",
          "2023-05-09T00:00:00",
          "2023-05-11T00:00:00",
          "2023-05-13T00:00:00",
          "2023-05-15T00:00:00",
          "2023-05-17T00:00:00",
          "2023-05-19T00:00:00",
          "2023-05-21T00:00:00",
          "2023-05-23T00:00:00",
          "2023-05-25T00:00:00",
          "2023-05-27T00:00:00",
          "2023-05-29T00:00:00",
          "2023-06-01T00:00:00",
          "2023-06-03T00:00:00",
          "2023-06-05T00:00:00",
          "2023-06-07T00:00:00",
          "2023-06-09T00:00:00",
          "2023-06-11T00:00:00",
          "2023-06-13T00:00:00",
          "2023-06-15T00:00:00",
          "2023-06-17T00:00:00",
          "2023-06-19T00:00:00",
          "2023-06-21T00:00:00",
          "2023-06-23T00:00:00",
          "2023-06-25T00:00:00",
          "2023-06-27T00:00:00",
          "2023-06-29T00:00:00",
          "2023-07-01T00:00:00",
          "2023-07-03T00:00:00",
          "2023-07-05T00:00:00",
          "2023-07-07T00:00:00",
          "2023-07-09T00:00:00",
          "2023-07-11T00:00:00",
          "2023-07-13T00:00:00",
          "2023-07-15T00:00:00",
          "2023-07-17T00:00:00",
          "2023-07-19T00:00:00",
          "2023-07-21T00:00:00",
          "2023-07-23T00:00:00",
          "2023-07-25T00:00:00",
          "2023-07-27T00:00:00",
          "2023-07-29T00:00:00",
          "2023-08-01T00:00:00",
          "2023-08-03T00:00:00",
          "2023-08-05T00:00:00",
          "2023-08-07T00:00:00",
          "2023-08-09T00:00:00",
          "2023-08-11T00:00:00",
          "2023-08-13T00:00:00",
          "2023-08-15T00:00:00",
          "2023-08-17T00:00:00",
          "2023-08-19T00:00:00",
          "2023-08-21T00:00:00",
          "2023-08-23T00:00:00",
          "2023-08-25T00:00:00",
          "2023-08-27T00:00:00",
          "2023-08-29T00:00:00",
          "2023-09-01T00:00:00",
          "2023-09-03T00:00:00",
          "2023-09-05T00:00:00",
          "2023-09-07T00:00:00",
          "2023-09-09T00:00:00",
          "2023-09-11T00:00:00",
          "2023-09-13T00:00:00",
          "2023-09-15T00:00:00",
          "2023-09-17T00:00:00",
          "2023-09-19T00:00:00",
          "2023-09-21T00:00:00",
          "2023-09-23T00:00:00",
          "2023-09-25T00:00:00",
          "2023-09-27T00:00:00",
          "2023-09-29T00:00:00",
          "2023-10-01T00:00:00",
          "2023-10-03T00:00:00",
          "2023-10-05T00:00:00",
          "2023-10-07T00:00:00",
          "2023-10-09T00:00:00",
          "2023-10-11T00:00:00",
          "2023-10-13T00:00:00",
          "2023-10-15T00:00:00",
          "2023-10-17T00:00:00",
          "2023-10-19T00:00:00",
          "2023-10-21T00:00:00",
          "2023-10-23T00:00:00",
          "2023-10-25T00:00:00",
          "2023-10-27T00:00:00",
          "2023-10-29T00:00:00",
          "2023-11-01T00:00:00",
          "2023-11-03T00:00:00",
          "2023-11-05T00:00:00",
          "2023-11-07T00:00:00",
          "2023-11-09T00:00:00",
          "2023-11-11T00:00:00",
          "2023-11-13T00:00:00",
          "2023-11-15T00:00:00",
          "2023-11-17T00:00:00",
          "2023-11-19T00:00:00",
          "2023-11-21T00:00:00",
          "2023-11-23T00:00:00",
          "2023-11-25T00:00:00",
          "2023-11-27T00:00:00",
          "2023-11-29T00:00:00",
          "2023-12-01T00:00:00",
          "2023-12-03T00:00:00",
          "2023-12-05T00:00:00",
          "2023-12-07T00:00:00",
          "2023-12-09T00:00:00",
          "2023-12-11T00:00:00",
          "2023-12-13T00:00:00",
          "2023-12-15T00:00:00",
          "2023-12-17T00:00:00",
          "2023-12-19T00:00:00",
          "2023-12-21T00:00:00",
          "2023-12-23T00:00:00",
          "2023-12-25T00:00:00",
          "2023-12-27T00:00:00",
          "2023-12-29T00:00:00",
          "2024-01-01T00:00:00",
          "2024-01-03T00:00:00",
          "2024-01-05T00:00:00",
          "2024-01-07T00:00:00",
          "2024-01-09T00:00:00",
          "2024-01-11T00:00:00",
          "2024-01-13T00:00:00",
          "2024-01-15T00:00:00",
          "2024-01-17T00:00:00",
          "2024-01-19T00:00:00",
          "2024-01-21T00:00:00",
          "2024-01-23T00:00:00",
          "2024-01-25T00:00:00",
          "2024-01-27T00:00:00",
          "2024-01-29T00:00:00",
          "2024-02-01T00:00:00",
          "2024-02-03T00:00:00",
          "2024-02-05T00:00:00",
          "2024-02-07T00:00:00",
          "2024-02-09T00:00:00",
          "2024-02-11T00:00:00",
          "2024-02-13T00:00:00",
          "2024-02-15T00:00:00",
          "2024-02-17T00:00:00",
          "2024-02-19T00:00:00",
          "2024-02-21T00:00:00",
          "2024-02-23T00:00:00",
          "2024-02-25T00:00:00",
          "2024-02-27T00:00:00",
          "2024-02-29T00:00:00",
          "2024-03-01T00:00:00",
          "2024-03-03T00:00:00",
          "2024-03-05T00:00:00",
          "2024-03-07T00:00:00",
          "2024-03-09T00:00:00",
          "2024-03-11T00:00:00",
          "2024-03-13T00:00:00",
          "2024-03-15T00:00:00",
          "2024-04-09T00:00:00",
          "2024-04-11T00:00:00",
          "2024-04-13T00:00:00",
          "2024-04-15T00:00:00",
          "2024-04-17T00:00:00",
          "2024-04-19T00:00:00",
          "2024-04-21T00:00:00",
          "2024-04-23T00:00:00",
          "2024-04-25T00:00:00",
          "2024-04-27T00:00:00",
          "2024-04-29T00:00:00",
          "2024-05-01T00:00:00",
          "2024-05-03T00:00:00",
          "2024-05-05T00:00:00",
          "2024-05-07T00:00:00",
          "2024-05-09T00:00:00",
          "2024-05-11T00:00:00",
          "2024-05-13T00:00:00",
          "2024-05-15T00:00:00",
          "2024-05-17T00:00:00",
          "2024-05-19T00:00:00",
          "2024-05-21T00:00:00",
          "2024-05-23T00:00:00",
          "2024-05-25T00:00:00",
          "2024-05-27T00:00:00",
          "2024-05-29T00:00:00"
         ],
         "xaxis": "x",
         "y": [
          1.4349999999999998,
          1.7926666666666669,
          2.552222222222222,
          8.693750000000001,
          5.747777777777777,
          2.15,
          3.5483333333333333,
          4.726,
          9.111111111111107,
          4.544166666666667,
          5.902666666666667,
          9.081666666666669,
          6.221666666666667,
          4.2775,
          6.076666666666667,
          7.221999999999999,
          4.526999999999999,
          3.5916666666666663,
          2.475,
          2.084,
          3.9958333333333336,
          3.822,
          3.681666666666666,
          2.63125,
          1.406,
          2.6825,
          2.8920000000000003,
          3.24,
          2.371111111111111,
          7.153333333333333,
          4.753,
          5.347,
          2.9925,
          1.875,
          4.6,
          2.2025,
          4.29375,
          2.49,
          3.278,
          2.5166666666666666,
          10.183333333333332,
          2.438888888888889,
          2.1716666666666664,
          2.289333333333333,
          1.905,
          3.464,
          1.885,
          1.7666666666666666,
          2.2266666666666666,
          1.5340000000000005,
          2.7833333333333337,
          3.711333333333333,
          11.985,
          9.784666666666666,
          5.102222222222223,
          2.52375,
          2.32875,
          4.953333333333334,
          2.18875,
          3.7466666666666666,
          2.265,
          1.8825,
          2.856666666666667,
          2.99,
          6.1450000000000005,
          10.466666666666669,
          13.404999999999998,
          2.32875,
          2.414,
          3.52125,
          5.79,
          4.928333333333333,
          1.611,
          2.302222222222222,
          3.42,
          7.2625,
          4.205,
          8.378333333333332,
          3.554,
          2.2183333333333333,
          1.75,
          1.609,
          1.795,
          2.721666666666667,
          6.544,
          1.6450000000000002,
          4.683333333333334,
          4.746666666666667,
          2.4850000000000003,
          2.5875000000000004,
          3.6775,
          2.4541666666666666,
          4.757499999999999,
          12.161666666666669,
          0.8374999999999999,
          3.463,
          3.609,
          8.066999999999998,
          2.9,
          2.6425,
          4.261,
          4.305,
          5.938999999999999,
          3.394,
          2.0341666666666667,
          2.278,
          1.48,
          7.931249999999999,
          6.621666666666667,
          12.06,
          4.9193333333333324,
          3.73625,
          8.139999999999999,
          2.6833333333333336,
          11.50875,
          9,
          22.2525,
          23.620000000000005,
          16.422666666666665,
          17.416,
          4.3475,
          14.163,
          13.423000000000002,
          12.8175,
          28.225,
          22.67625,
          15.57,
          12.103750000000002,
          7.335,
          11.190666666666669,
          1.3675,
          1.0833333333333333,
          4.013333333333334,
          1.8275,
          2.61375,
          1.7833333333333334,
          3.3349999999999995,
          4.4725,
          2.172,
          1.2262499999999998,
          2.95,
          9.9925,
          14.748333333333331,
          14.9925,
          17.3425,
          3.6109999999999993,
          14.125,
          4.7875,
          4.772,
          3.2100000000000004,
          12.868333333333332,
          10.27,
          11.378,
          9.27375,
          22.1875,
          9.09125,
          2.33,
          29.765,
          22.636000000000003,
          1.505,
          1.91,
          12.326000000000002,
          15.687499999999998,
          3.40125,
          4.123333333333334,
          8.77,
          3.8375,
          2.4625,
          18.53125,
          3.04875,
          2.275,
          12.878,
          1.9833333333333332,
          1.36625,
          3.9525,
          2.2925,
          1.7600000000000002,
          6.833333333333333,
          6.09,
          10.038333333333334,
          2.44375,
          2.1083333333333334,
          9.19,
          9.278333333333332,
          4.623333333333333,
          7.076666666666666,
          5.78,
          2.1339999999999995,
          3.445333333333333,
          15.782999999999998,
          3.39,
          4.088,
          4.6433333333333335,
          2.56,
          3.6913333333333336,
          5.070666666666666,
          3.703333333333333,
          6.5120000000000005,
          2.5375000000000005,
          3.424444444444445,
          11.3275,
          8.884666666666666,
          7.0325,
          3.948888888888888,
          3.9,
          9.338888888888889,
          2.5333333333333337,
          2.9716666666666667,
          6.813333333333333,
          3.6591666666666662,
          4.405,
          4.203333333333333,
          2.997777777777777,
          6.26,
          5.097499999999999,
          6.1625,
          6.285833333333334,
          5.223333333333333,
          2.5875,
          7.235333333333332,
          3.5450000000000004,
          4.22,
          4.125,
          2.29,
          3.2099999999999995,
          2.928888888888889,
          2.206,
          3.078333333333333,
          3.4322222222222223,
          3.698,
          2.85,
          4.775,
          1.83,
          3.8406666666666665,
          3.8333333333333335,
          2.575,
          1.456,
          2.043333333333333,
          2.567333333333333,
          3.4633333333333334,
          2.781111111111111,
          2.5591666666666666,
          6.046666666666667,
          6.111333333333333,
          7.25,
          4.107333333333334,
          3.028666666666667,
          10.293,
          2.245,
          5.391666666666667,
          2.5666666666666664,
          2.973333333333333,
          2.154166666666667,
          4.255,
          5.971333333333333,
          6.65,
          6.012666666666666,
          3.2349999999999994,
          3.653333333333333,
          3.08,
          2.186,
          1.59,
          1.7033333333333331,
          4.532666666666667,
          5.922499999999999,
          5.638333333333333,
          5.714,
          2.1983333333333333,
          5.259,
          4.73625,
          7.880000000000001,
          6.325,
          2.2525,
          3.1975000000000007,
          9.0225,
          1.045,
          2.9360000000000004,
          6.602000000000001,
          2.495,
          1.7977777777777777,
          1.7491666666666663,
          2.1726666666666667,
          1.954166666666667,
          1.5375,
          1.5644444444444443,
          3.126,
          4.298,
          2.067333333333333,
          9.326666666666668,
          5.633333333333334,
          6.720666666666666,
          5.538,
          2.1133333333333333,
          3.188,
          9.195,
          7.643333333333333,
          10.317333333333334,
          10.34,
          29.376666666666665,
          8.656,
          3.880833333333333,
          7.147999999999999,
          11.5825,
          5.680833333333333,
          2.14,
          1.9975,
          2.233333333333333,
          2.608666666666667,
          2.313,
          1.6060000000000003,
          2.2166666666666663,
          1.41,
          2.7553333333333336,
          7.280833333333333,
          7.671333333333334,
          19.108,
          7.5791666666666675,
          3.364666666666667,
          7.242,
          9.33,
          3.59125,
          5.184,
          5.907,
          4.4944444444444445,
          3.69,
          3.846666666666666,
          3.240666666666667,
          3.7433333333333336,
          4.742500000000001,
          4.9016666666666655,
          13.763,
          6.119166666666667,
          8.581999999999999,
          8.666666666666666,
          3.662222222222223,
          4.027777777777778,
          1.16,
          1.5750000000000002,
          14.633333333333336,
          10.06,
          13.775,
          14.73,
          9.20875,
          12.129166666666668,
          16.38222222222222,
          7.92875,
          9.542,
          39.35266666666666,
          4.370833333333333,
          2.9866666666666664,
          2.066666666666667,
          3.586666666666668,
          1.1,
          3.5933333333333333,
          1.81,
          5.110000000000001,
          3.3,
          2.703333333333333,
          1.7275,
          5.94,
          1.15,
          1.285,
          7,
          5.4350000000000005,
          4.458,
          2.4966666666666666,
          2.758,
          1.635,
          5.3425,
          3.1,
          2.8,
          8.377500000000001,
          3.254,
          2.09
         ],
         "yaxis": "y"
        },
        {
         "mode": "lines",
         "name": "Trend",
         "type": "scatter",
         "x": [
          "2022-04-07T00:00:00",
          "2022-04-09T00:00:00",
          "2022-04-11T00:00:00",
          "2022-04-13T00:00:00",
          "2022-04-15T00:00:00",
          "2022-04-17T00:00:00",
          "2022-04-19T00:00:00",
          "2022-04-21T00:00:00",
          "2022-04-23T00:00:00",
          "2022-04-25T00:00:00",
          "2022-04-27T00:00:00",
          "2022-04-29T00:00:00",
          "2022-05-01T00:00:00",
          "2022-05-03T00:00:00",
          "2022-05-05T00:00:00",
          "2022-05-07T00:00:00",
          "2022-05-09T00:00:00",
          "2022-05-11T00:00:00",
          "2022-05-13T00:00:00",
          "2022-05-15T00:00:00",
          "2022-05-17T00:00:00",
          "2022-05-19T00:00:00",
          "2022-05-21T00:00:00",
          "2022-05-23T00:00:00",
          "2022-05-25T00:00:00",
          "2022-05-27T00:00:00",
          "2022-05-29T00:00:00",
          "2022-06-01T00:00:00",
          "2022-06-03T00:00:00",
          "2022-06-05T00:00:00",
          "2022-06-07T00:00:00",
          "2022-06-09T00:00:00",
          "2022-06-11T00:00:00",
          "2022-06-13T00:00:00",
          "2022-06-15T00:00:00",
          "2022-06-17T00:00:00",
          "2022-06-19T00:00:00",
          "2022-06-21T00:00:00",
          "2022-06-23T00:00:00",
          "2022-06-25T00:00:00",
          "2022-06-27T00:00:00",
          "2022-06-29T00:00:00",
          "2022-07-01T00:00:00",
          "2022-07-03T00:00:00",
          "2022-07-05T00:00:00",
          "2022-07-07T00:00:00",
          "2022-07-09T00:00:00",
          "2022-07-11T00:00:00",
          "2022-07-13T00:00:00",
          "2022-07-15T00:00:00",
          "2022-07-17T00:00:00",
          "2022-07-19T00:00:00",
          "2022-07-21T00:00:00",
          "2022-07-23T00:00:00",
          "2022-07-25T00:00:00",
          "2022-07-27T00:00:00",
          "2022-07-29T00:00:00",
          "2022-08-01T00:00:00",
          "2022-08-03T00:00:00",
          "2022-08-05T00:00:00",
          "2022-08-07T00:00:00",
          "2022-08-09T00:00:00",
          "2022-08-11T00:00:00",
          "2022-08-13T00:00:00",
          "2022-08-15T00:00:00",
          "2022-08-17T00:00:00",
          "2022-08-19T00:00:00",
          "2022-08-21T00:00:00",
          "2022-08-23T00:00:00",
          "2022-08-25T00:00:00",
          "2022-08-27T00:00:00",
          "2022-08-29T00:00:00",
          "2022-09-01T00:00:00",
          "2022-09-03T00:00:00",
          "2022-09-05T00:00:00",
          "2022-09-07T00:00:00",
          "2022-09-09T00:00:00",
          "2022-09-11T00:00:00",
          "2022-09-13T00:00:00",
          "2022-09-15T00:00:00",
          "2022-09-17T00:00:00",
          "2022-09-19T00:00:00",
          "2022-09-21T00:00:00",
          "2022-09-23T00:00:00",
          "2022-09-25T00:00:00",
          "2022-09-27T00:00:00",
          "2022-09-29T00:00:00",
          "2022-10-01T00:00:00",
          "2022-10-03T00:00:00",
          "2022-10-05T00:00:00",
          "2022-10-07T00:00:00",
          "2022-10-09T00:00:00",
          "2022-10-11T00:00:00",
          "2022-10-13T00:00:00",
          "2022-10-15T00:00:00",
          "2022-10-17T00:00:00",
          "2022-10-19T00:00:00",
          "2022-10-21T00:00:00",
          "2022-10-23T00:00:00",
          "2022-10-25T00:00:00",
          "2022-10-27T00:00:00",
          "2022-10-29T00:00:00",
          "2022-11-01T00:00:00",
          "2022-11-03T00:00:00",
          "2022-11-05T00:00:00",
          "2022-11-07T00:00:00",
          "2022-11-09T00:00:00",
          "2022-11-11T00:00:00",
          "2022-11-13T00:00:00",
          "2022-11-15T00:00:00",
          "2022-11-17T00:00:00",
          "2022-11-19T00:00:00",
          "2022-11-21T00:00:00",
          "2022-11-23T00:00:00",
          "2022-11-25T00:00:00",
          "2022-11-27T00:00:00",
          "2022-11-29T00:00:00",
          "2022-12-01T00:00:00",
          "2022-12-03T00:00:00",
          "2022-12-05T00:00:00",
          "2022-12-07T00:00:00",
          "2022-12-09T00:00:00",
          "2022-12-11T00:00:00",
          "2022-12-13T00:00:00",
          "2022-12-15T00:00:00",
          "2022-12-17T00:00:00",
          "2022-12-19T00:00:00",
          "2022-12-21T00:00:00",
          "2022-12-23T00:00:00",
          "2022-12-25T00:00:00",
          "2022-12-27T00:00:00",
          "2022-12-29T00:00:00",
          "2023-01-01T00:00:00",
          "2023-01-03T00:00:00",
          "2023-01-05T00:00:00",
          "2023-01-07T00:00:00",
          "2023-01-09T00:00:00",
          "2023-01-11T00:00:00",
          "2023-01-13T00:00:00",
          "2023-01-15T00:00:00",
          "2023-01-17T00:00:00",
          "2023-01-19T00:00:00",
          "2023-01-21T00:00:00",
          "2023-01-23T00:00:00",
          "2023-01-25T00:00:00",
          "2023-01-27T00:00:00",
          "2023-01-29T00:00:00",
          "2023-02-01T00:00:00",
          "2023-02-03T00:00:00",
          "2023-02-05T00:00:00",
          "2023-02-07T00:00:00",
          "2023-02-09T00:00:00",
          "2023-02-11T00:00:00",
          "2023-02-13T00:00:00",
          "2023-02-15T00:00:00",
          "2023-02-17T00:00:00",
          "2023-02-19T00:00:00",
          "2023-02-21T00:00:00",
          "2023-02-23T00:00:00",
          "2023-02-25T00:00:00",
          "2023-02-27T00:00:00",
          "2023-03-01T00:00:00",
          "2023-03-03T00:00:00",
          "2023-03-05T00:00:00",
          "2023-03-07T00:00:00",
          "2023-03-09T00:00:00",
          "2023-03-11T00:00:00",
          "2023-03-13T00:00:00",
          "2023-03-15T00:00:00",
          "2023-03-17T00:00:00",
          "2023-03-19T00:00:00",
          "2023-03-21T00:00:00",
          "2023-03-25T00:00:00",
          "2023-03-27T00:00:00",
          "2023-03-29T00:00:00",
          "2023-04-01T00:00:00",
          "2023-04-03T00:00:00",
          "2023-04-05T00:00:00",
          "2023-04-07T00:00:00",
          "2023-04-09T00:00:00",
          "2023-04-11T00:00:00",
          "2023-04-13T00:00:00",
          "2023-04-15T00:00:00",
          "2023-04-17T00:00:00",
          "2023-04-19T00:00:00",
          "2023-04-21T00:00:00",
          "2023-04-23T00:00:00",
          "2023-04-25T00:00:00",
          "2023-04-27T00:00:00",
          "2023-04-29T00:00:00",
          "2023-05-01T00:00:00",
          "2023-05-03T00:00:00",
          "2023-05-05T00:00:00",
          "2023-05-07T00:00:00",
          "2023-05-09T00:00:00",
          "2023-05-11T00:00:00",
          "2023-05-13T00:00:00",
          "2023-05-15T00:00:00",
          "2023-05-17T00:00:00",
          "2023-05-19T00:00:00",
          "2023-05-21T00:00:00",
          "2023-05-23T00:00:00",
          "2023-05-25T00:00:00",
          "2023-05-27T00:00:00",
          "2023-05-29T00:00:00",
          "2023-06-01T00:00:00",
          "2023-06-03T00:00:00",
          "2023-06-05T00:00:00",
          "2023-06-07T00:00:00",
          "2023-06-09T00:00:00",
          "2023-06-11T00:00:00",
          "2023-06-13T00:00:00",
          "2023-06-15T00:00:00",
          "2023-06-17T00:00:00",
          "2023-06-19T00:00:00",
          "2023-06-21T00:00:00",
          "2023-06-23T00:00:00",
          "2023-06-25T00:00:00",
          "2023-06-27T00:00:00",
          "2023-06-29T00:00:00",
          "2023-07-01T00:00:00",
          "2023-07-03T00:00:00",
          "2023-07-05T00:00:00",
          "2023-07-07T00:00:00",
          "2023-07-09T00:00:00",
          "2023-07-11T00:00:00",
          "2023-07-13T00:00:00",
          "2023-07-15T00:00:00",
          "2023-07-17T00:00:00",
          "2023-07-19T00:00:00",
          "2023-07-21T00:00:00",
          "2023-07-23T00:00:00",
          "2023-07-25T00:00:00",
          "2023-07-27T00:00:00",
          "2023-07-29T00:00:00",
          "2023-08-01T00:00:00",
          "2023-08-03T00:00:00",
          "2023-08-05T00:00:00",
          "2023-08-07T00:00:00",
          "2023-08-09T00:00:00",
          "2023-08-11T00:00:00",
          "2023-08-13T00:00:00",
          "2023-08-15T00:00:00",
          "2023-08-17T00:00:00",
          "2023-08-19T00:00:00",
          "2023-08-21T00:00:00",
          "2023-08-23T00:00:00",
          "2023-08-25T00:00:00",
          "2023-08-27T00:00:00",
          "2023-08-29T00:00:00",
          "2023-09-01T00:00:00",
          "2023-09-03T00:00:00",
          "2023-09-05T00:00:00",
          "2023-09-07T00:00:00",
          "2023-09-09T00:00:00",
          "2023-09-11T00:00:00",
          "2023-09-13T00:00:00",
          "2023-09-15T00:00:00",
          "2023-09-17T00:00:00",
          "2023-09-19T00:00:00",
          "2023-09-21T00:00:00",
          "2023-09-23T00:00:00",
          "2023-09-25T00:00:00",
          "2023-09-27T00:00:00",
          "2023-09-29T00:00:00",
          "2023-10-01T00:00:00",
          "2023-10-03T00:00:00",
          "2023-10-05T00:00:00",
          "2023-10-07T00:00:00",
          "2023-10-09T00:00:00",
          "2023-10-11T00:00:00",
          "2023-10-13T00:00:00",
          "2023-10-15T00:00:00",
          "2023-10-17T00:00:00",
          "2023-10-19T00:00:00",
          "2023-10-21T00:00:00",
          "2023-10-23T00:00:00",
          "2023-10-25T00:00:00",
          "2023-10-27T00:00:00",
          "2023-10-29T00:00:00",
          "2023-11-01T00:00:00",
          "2023-11-03T00:00:00",
          "2023-11-05T00:00:00",
          "2023-11-07T00:00:00",
          "2023-11-09T00:00:00",
          "2023-11-11T00:00:00",
          "2023-11-13T00:00:00",
          "2023-11-15T00:00:00",
          "2023-11-17T00:00:00",
          "2023-11-19T00:00:00",
          "2023-11-21T00:00:00",
          "2023-11-23T00:00:00",
          "2023-11-25T00:00:00",
          "2023-11-27T00:00:00",
          "2023-11-29T00:00:00",
          "2023-12-01T00:00:00",
          "2023-12-03T00:00:00",
          "2023-12-05T00:00:00",
          "2023-12-07T00:00:00",
          "2023-12-09T00:00:00",
          "2023-12-11T00:00:00",
          "2023-12-13T00:00:00",
          "2023-12-15T00:00:00",
          "2023-12-17T00:00:00",
          "2023-12-19T00:00:00",
          "2023-12-21T00:00:00",
          "2023-12-23T00:00:00",
          "2023-12-25T00:00:00",
          "2023-12-27T00:00:00",
          "2023-12-29T00:00:00",
          "2024-01-01T00:00:00",
          "2024-01-03T00:00:00",
          "2024-01-05T00:00:00",
          "2024-01-07T00:00:00",
          "2024-01-09T00:00:00",
          "2024-01-11T00:00:00",
          "2024-01-13T00:00:00",
          "2024-01-15T00:00:00",
          "2024-01-17T00:00:00",
          "2024-01-19T00:00:00",
          "2024-01-21T00:00:00",
          "2024-01-23T00:00:00",
          "2024-01-25T00:00:00",
          "2024-01-27T00:00:00",
          "2024-01-29T00:00:00",
          "2024-02-01T00:00:00",
          "2024-02-03T00:00:00",
          "2024-02-05T00:00:00",
          "2024-02-07T00:00:00",
          "2024-02-09T00:00:00",
          "2024-02-11T00:00:00",
          "2024-02-13T00:00:00",
          "2024-02-15T00:00:00",
          "2024-02-17T00:00:00",
          "2024-02-19T00:00:00",
          "2024-02-21T00:00:00",
          "2024-02-23T00:00:00",
          "2024-02-25T00:00:00",
          "2024-02-27T00:00:00",
          "2024-02-29T00:00:00",
          "2024-03-01T00:00:00",
          "2024-03-03T00:00:00",
          "2024-03-05T00:00:00",
          "2024-03-07T00:00:00",
          "2024-03-09T00:00:00",
          "2024-03-11T00:00:00",
          "2024-03-13T00:00:00",
          "2024-03-15T00:00:00",
          "2024-04-09T00:00:00",
          "2024-04-11T00:00:00",
          "2024-04-13T00:00:00",
          "2024-04-15T00:00:00",
          "2024-04-17T00:00:00",
          "2024-04-19T00:00:00",
          "2024-04-21T00:00:00",
          "2024-04-23T00:00:00",
          "2024-04-25T00:00:00",
          "2024-04-27T00:00:00",
          "2024-04-29T00:00:00",
          "2024-05-01T00:00:00",
          "2024-05-03T00:00:00",
          "2024-05-05T00:00:00",
          "2024-05-07T00:00:00",
          "2024-05-09T00:00:00",
          "2024-05-11T00:00:00",
          "2024-05-13T00:00:00",
          "2024-05-15T00:00:00",
          "2024-05-17T00:00:00",
          "2024-05-19T00:00:00",
          "2024-05-21T00:00:00",
          "2024-05-23T00:00:00",
          "2024-05-25T00:00:00",
          "2024-05-27T00:00:00",
          "2024-05-29T00:00:00"
         ],
         "y": [
          5.341048603479911,
          5.342518931612837,
          5.343989259745762,
          5.345459587878688,
          5.3469299160116135,
          5.348400244144539,
          5.349870572277465,
          5.35134090041039,
          5.352811228543317,
          5.354281556676242,
          5.355751884809168,
          5.357222212942093,
          5.358692541075019,
          5.360162869207945,
          5.36163319734087,
          5.363103525473796,
          5.364573853606721,
          5.366044181739647,
          5.3675145098725725,
          5.368984838005498,
          5.370455166138424,
          5.371925494271349,
          5.373395822404276,
          5.374866150537201,
          5.376336478670127,
          5.3778068068030525,
          5.379277134935978,
          5.381482627135366,
          5.3829529552682915,
          5.384423283401218,
          5.385893611534144,
          5.387363939667069,
          5.388834267799995,
          5.39030459593292,
          5.391774924065846,
          5.3932452521987715,
          5.394715580331697,
          5.396185908464623,
          5.397656236597548,
          5.399126564730474,
          5.400596892863399,
          5.402067220996325,
          5.4035375491292506,
          5.405007877262177,
          5.406478205395103,
          5.407948533528028,
          5.409418861660954,
          5.410889189793879,
          5.412359517926805,
          5.4138298460597305,
          5.415300174192656,
          5.416770502325582,
          5.418240830458507,
          5.419711158591433,
          5.421181486724358,
          5.422651814857284,
          5.42412214299021,
          5.426327635189598,
          5.427797963322524,
          5.4292682914554495,
          5.430738619588375,
          5.432208947721301,
          5.433679275854226,
          5.435149603987152,
          5.436619932120077,
          5.438090260253004,
          5.4395605883859295,
          5.441030916518855,
          5.442501244651781,
          5.443971572784706,
          5.445441900917632,
          5.446912229050557,
          5.449117721249946,
          5.450588049382872,
          5.452058377515797,
          5.453528705648723,
          5.4549990337816485,
          5.456469361914574,
          5.4579396900475,
          5.459410018180425,
          5.460880346313351,
          5.462350674446276,
          5.463821002579202,
          5.465291330712128,
          5.466761658845053,
          5.46823198697798,
          5.469702315110905,
          5.471172643243831,
          5.472642971376756,
          5.474113299509682,
          5.4755836276426075,
          5.477053955775533,
          5.478524283908459,
          5.479994612041384,
          5.48146494017431,
          5.482935268307235,
          5.484405596440161,
          5.485875924573087,
          5.487346252706012,
          5.488816580838938,
          5.490286908971864,
          5.49175723710479,
          5.493962729304178,
          5.495433057437103,
          5.496903385570029,
          5.4983737137029545,
          5.49984404183588,
          5.5013143699688065,
          5.502784698101732,
          5.504255026234658,
          5.505725354367583,
          5.507195682500509,
          5.508666010633434,
          5.51013633876636,
          5.511606666899286,
          5.513076995032211,
          5.514547323165137,
          5.516017651298062,
          5.517487979430988,
          5.5189583075639135,
          5.520428635696839,
          5.5218989638297655,
          5.523369291962691,
          5.524839620095617,
          5.526309948228542,
          5.527780276361468,
          5.529250604494393,
          5.530720932627319,
          5.532191260760245,
          5.53366158889317,
          5.535131917026096,
          5.536602245159021,
          5.53880773735841,
          5.540278065491336,
          5.541748393624261,
          5.543218721757187,
          5.5446890498901125,
          5.546159378023038,
          5.547629706155964,
          5.549100034288889,
          5.550570362421815,
          5.55204069055474,
          5.553511018687667,
          5.554981346820592,
          5.556451674953518,
          5.557922003086444,
          5.559392331219369,
          5.561597823418757,
          5.563068151551683,
          5.564538479684609,
          5.566008807817535,
          5.56747913595046,
          5.568949464083386,
          5.5704197922163114,
          5.571890120349237,
          5.573360448482163,
          5.574830776615088,
          5.576301104748014,
          5.577771432880939,
          5.579241761013865,
          5.5807120891467905,
          5.582182417279716,
          5.583652745412642,
          5.585123073545567,
          5.586593401678494,
          5.588063729811419,
          5.589534057944345,
          5.5910043860772705,
          5.592474714210196,
          5.593945042343122,
          5.595415370476047,
          5.596885698608973,
          5.599826354874824,
          5.6012966830077495,
          5.602767011140675,
          5.604972503340064,
          5.6064428314729895,
          5.607913159605915,
          5.609383487738841,
          5.610853815871766,
          5.612324144004692,
          5.613794472137617,
          5.615264800270543,
          5.6167351284034694,
          5.618205456536395,
          5.619675784669321,
          5.621146112802246,
          5.622616440935172,
          5.624086769068097,
          5.625557097201023,
          5.6270274253339485,
          5.628497753466874,
          5.6299680815998,
          5.631438409732725,
          5.632908737865651,
          5.634379065998576,
          5.635849394131502,
          5.637319722264428,
          5.638790050397354,
          5.64026037853028,
          5.641730706663205,
          5.643201034796131,
          5.644671362929056,
          5.646141691061982,
          5.6476120191949075,
          5.649817511394296,
          5.651287839527222,
          5.6527581676601475,
          5.654228495793073,
          5.655698823925999,
          5.657169152058924,
          5.65863948019185,
          5.660109808324775,
          5.661580136457701,
          5.6630504645906266,
          5.664520792723552,
          5.665991120856478,
          5.667461448989403,
          5.668931777122329,
          5.6704021052552545,
          5.671872433388181,
          5.6733427615211065,
          5.674813089654032,
          5.676283417786958,
          5.677753745919883,
          5.679224074052809,
          5.680694402185734,
          5.68216473031866,
          5.683635058451586,
          5.685105386584511,
          5.686575714717437,
          5.688046042850362,
          5.689516370983288,
          5.690986699116214,
          5.69245702724914,
          5.694662519448528,
          5.696132847581453,
          5.697603175714379,
          5.699073503847305,
          5.70054383198023,
          5.702014160113157,
          5.703484488246082,
          5.704954816379008,
          5.706425144511933,
          5.707895472644859,
          5.7093658007777845,
          5.71083612891071,
          5.712306457043636,
          5.713776785176561,
          5.715247113309487,
          5.717452605508876,
          5.718922933641801,
          5.720393261774727,
          5.721863589907652,
          5.723333918040578,
          5.724804246173504,
          5.726274574306429,
          5.727744902439355,
          5.72921523057228,
          5.730685558705206,
          5.7321558868381315,
          5.733626214971057,
          5.7350965431039835,
          5.736566871236909,
          5.738037199369835,
          5.73950752750276,
          5.740977855635686,
          5.742448183768611,
          5.743918511901537,
          5.745388840034463,
          5.746859168167388,
          5.748329496300314,
          5.749799824433239,
          5.751270152566165,
          5.7527404806990905,
          5.754210808832017,
          5.7556811369649425,
          5.757151465097868,
          5.758621793230794,
          5.760092121363719,
          5.762297613563107,
          5.763767941696033,
          5.765238269828959,
          5.766708597961885,
          5.76817892609481,
          5.769649254227736,
          5.771119582360662,
          5.772589910493587,
          5.774060238626513,
          5.775530566759438,
          5.777000894892364,
          5.7784712230252895,
          5.779941551158215,
          5.781411879291141,
          5.782882207424066,
          5.784352535556992,
          5.785822863689917,
          5.787293191822844,
          5.788763519955769,
          5.790233848088695,
          5.791704176221621,
          5.793174504354546,
          5.794644832487472,
          5.796115160620397,
          5.797585488753323,
          5.7990558168862485,
          5.800526145019174,
          5.8019964731521,
          5.803466801285025,
          5.804937129417951,
          5.80714262161734,
          5.808612949750265,
          5.810083277883191,
          5.811553606016116,
          5.813023934149042,
          5.8144942622819675,
          5.815964590414893,
          5.817434918547819,
          5.818905246680745,
          5.820375574813671,
          5.821845902946596,
          5.823316231079522,
          5.8247865592124475,
          5.826256887345373,
          5.827727215478299,
          5.8299327076776875,
          5.831403035810613,
          5.832873363943539,
          5.834343692076464,
          5.83581402020939,
          5.837284348342315,
          5.838754676475241,
          5.8402250046081665,
          5.841695332741092,
          5.843165660874018,
          5.844635989006943,
          5.846106317139869,
          5.847576645272794,
          5.84904697340572,
          5.8505173015386465,
          5.851252465605109,
          5.852722793738034,
          5.85419312187096,
          5.8556634500038856,
          5.857133778136811,
          5.858604106269737,
          5.860074434402662,
          5.861544762535589,
          5.879923864197159,
          5.8813941923300845,
          5.88286452046301,
          5.884334848595936,
          5.885805176728861,
          5.887275504861787,
          5.888745832994712,
          5.890216161127638,
          5.8916864892605645,
          5.893156817393489,
          5.894627145526416,
          5.896097473659341,
          5.897567801792267,
          5.899038129925192,
          5.900508458058118,
          5.9019787861910435,
          5.903449114323969,
          5.904919442456895,
          5.90638977058982,
          5.907860098722746,
          5.9093304268556714,
          5.910800754988597,
          5.912271083121523,
          5.913741411254449,
          5.915211739387375,
          5.9166820675203
         ]
        }
       ],
       "layout": {
        "legend": {
         "tracegroupgap": 0
        },
        "template": {
         "data": {
          "bar": [
           {
            "error_x": {
             "color": "#2a3f5f"
            },
            "error_y": {
             "color": "#2a3f5f"
            },
            "marker": {
             "line": {
              "color": "#E5ECF6",
              "width": 0.5
             },
             "pattern": {
              "fillmode": "overlay",
              "size": 10,
              "solidity": 0.2
             }
            },
            "type": "bar"
           }
          ],
          "barpolar": [
           {
            "marker": {
             "line": {
              "color": "#E5ECF6",
              "width": 0.5
             },
             "pattern": {
              "fillmode": "overlay",
              "size": 10,
              "solidity": 0.2
             }
            },
            "type": "barpolar"
           }
          ],
          "carpet": [
           {
            "aaxis": {
             "endlinecolor": "#2a3f5f",
             "gridcolor": "white",
             "linecolor": "white",
             "minorgridcolor": "white",
             "startlinecolor": "#2a3f5f"
            },
            "baxis": {
             "endlinecolor": "#2a3f5f",
             "gridcolor": "white",
             "linecolor": "white",
             "minorgridcolor": "white",
             "startlinecolor": "#2a3f5f"
            },
            "type": "carpet"
           }
          ],
          "choropleth": [
           {
            "colorbar": {
             "outlinewidth": 0,
             "ticks": ""
            },
            "type": "choropleth"
           }
          ],
          "contour": [
           {
            "colorbar": {
             "outlinewidth": 0,
             "ticks": ""
            },
            "colorscale": [
             [
              0,
              "#0d0887"
             ],
             [
              0.1111111111111111,
              "#46039f"
             ],
             [
              0.2222222222222222,
              "#7201a8"
             ],
             [
              0.3333333333333333,
              "#9c179e"
             ],
             [
              0.4444444444444444,
              "#bd3786"
             ],
             [
              0.5555555555555556,
              "#d8576b"
             ],
             [
              0.6666666666666666,
              "#ed7953"
             ],
             [
              0.7777777777777778,
              "#fb9f3a"
             ],
             [
              0.8888888888888888,
              "#fdca26"
             ],
             [
              1,
              "#f0f921"
             ]
            ],
            "type": "contour"
           }
          ],
          "contourcarpet": [
           {
            "colorbar": {
             "outlinewidth": 0,
             "ticks": ""
            },
            "type": "contourcarpet"
           }
          ],
          "heatmap": [
           {
            "colorbar": {
             "outlinewidth": 0,
             "ticks": ""
            },
            "colorscale": [
             [
              0,
              "#0d0887"
             ],
             [
              0.1111111111111111,
              "#46039f"
             ],
             [
              0.2222222222222222,
              "#7201a8"
             ],
             [
              0.3333333333333333,
              "#9c179e"
             ],
             [
              0.4444444444444444,
              "#bd3786"
             ],
             [
              0.5555555555555556,
              "#d8576b"
             ],
             [
              0.6666666666666666,
              "#ed7953"
             ],
             [
              0.7777777777777778,
              "#fb9f3a"
             ],
             [
              0.8888888888888888,
              "#fdca26"
             ],
             [
              1,
              "#f0f921"
             ]
            ],
            "type": "heatmap"
           }
          ],
          "heatmapgl": [
           {
            "colorbar": {
             "outlinewidth": 0,
             "ticks": ""
            },
            "colorscale": [
             [
              0,
              "#0d0887"
             ],
             [
              0.1111111111111111,
              "#46039f"
             ],
             [
              0.2222222222222222,
              "#7201a8"
             ],
             [
              0.3333333333333333,
              "#9c179e"
             ],
             [
              0.4444444444444444,
              "#bd3786"
             ],
             [
              0.5555555555555556,
              "#d8576b"
             ],
             [
              0.6666666666666666,
              "#ed7953"
             ],
             [
              0.7777777777777778,
              "#fb9f3a"
             ],
             [
              0.8888888888888888,
              "#fdca26"
             ],
             [
              1,
              "#f0f921"
             ]
            ],
            "type": "heatmapgl"
           }
          ],
          "histogram": [
           {
            "marker": {
             "pattern": {
              "fillmode": "overlay",
              "size": 10,
              "solidity": 0.2
             }
            },
            "type": "histogram"
           }
          ],
          "histogram2d": [
           {
            "colorbar": {
             "outlinewidth": 0,
             "ticks": ""
            },
            "colorscale": [
             [
              0,
              "#0d0887"
             ],
             [
              0.1111111111111111,
              "#46039f"
             ],
             [
              0.2222222222222222,
              "#7201a8"
             ],
             [
              0.3333333333333333,
              "#9c179e"
             ],
             [
              0.4444444444444444,
              "#bd3786"
             ],
             [
              0.5555555555555556,
              "#d8576b"
             ],
             [
              0.6666666666666666,
              "#ed7953"
             ],
             [
              0.7777777777777778,
              "#fb9f3a"
             ],
             [
              0.8888888888888888,
              "#fdca26"
             ],
             [
              1,
              "#f0f921"
             ]
            ],
            "type": "histogram2d"
           }
          ],
          "histogram2dcontour": [
           {
            "colorbar": {
             "outlinewidth": 0,
             "ticks": ""
            },
            "colorscale": [
             [
              0,
              "#0d0887"
             ],
             [
              0.1111111111111111,
              "#46039f"
             ],
             [
              0.2222222222222222,
              "#7201a8"
             ],
             [
              0.3333333333333333,
              "#9c179e"
             ],
             [
              0.4444444444444444,
              "#bd3786"
             ],
             [
              0.5555555555555556,
              "#d8576b"
             ],
             [
              0.6666666666666666,
              "#ed7953"
             ],
             [
              0.7777777777777778,
              "#fb9f3a"
             ],
             [
              0.8888888888888888,
              "#fdca26"
             ],
             [
              1,
              "#f0f921"
             ]
            ],
            "type": "histogram2dcontour"
           }
          ],
          "mesh3d": [
           {
            "colorbar": {
             "outlinewidth": 0,
             "ticks": ""
            },
            "type": "mesh3d"
           }
          ],
          "parcoords": [
           {
            "line": {
             "colorbar": {
              "outlinewidth": 0,
              "ticks": ""
             }
            },
            "type": "parcoords"
           }
          ],
          "pie": [
           {
            "automargin": true,
            "type": "pie"
           }
          ],
          "scatter": [
           {
            "fillpattern": {
             "fillmode": "overlay",
             "size": 10,
             "solidity": 0.2
            },
            "type": "scatter"
           }
          ],
          "scatter3d": [
           {
            "line": {
             "colorbar": {
              "outlinewidth": 0,
              "ticks": ""
             }
            },
            "marker": {
             "colorbar": {
              "outlinewidth": 0,
              "ticks": ""
             }
            },
            "type": "scatter3d"
           }
          ],
          "scattercarpet": [
           {
            "marker": {
             "colorbar": {
              "outlinewidth": 0,
              "ticks": ""
             }
            },
            "type": "scattercarpet"
           }
          ],
          "scattergeo": [
           {
            "marker": {
             "colorbar": {
              "outlinewidth": 0,
              "ticks": ""
             }
            },
            "type": "scattergeo"
           }
          ],
          "scattergl": [
           {
            "marker": {
             "colorbar": {
              "outlinewidth": 0,
              "ticks": ""
             }
            },
            "type": "scattergl"
           }
          ],
          "scattermapbox": [
           {
            "marker": {
             "colorbar": {
              "outlinewidth": 0,
              "ticks": ""
             }
            },
            "type": "scattermapbox"
           }
          ],
          "scatterpolar": [
           {
            "marker": {
             "colorbar": {
              "outlinewidth": 0,
              "ticks": ""
             }
            },
            "type": "scatterpolar"
           }
          ],
          "scatterpolargl": [
           {
            "marker": {
             "colorbar": {
              "outlinewidth": 0,
              "ticks": ""
             }
            },
            "type": "scatterpolargl"
           }
          ],
          "scatterternary": [
           {
            "marker": {
             "colorbar": {
              "outlinewidth": 0,
              "ticks": ""
             }
            },
            "type": "scatterternary"
           }
          ],
          "surface": [
           {
            "colorbar": {
             "outlinewidth": 0,
             "ticks": ""
            },
            "colorscale": [
             [
              0,
              "#0d0887"
             ],
             [
              0.1111111111111111,
              "#46039f"
             ],
             [
              0.2222222222222222,
              "#7201a8"
             ],
             [
              0.3333333333333333,
              "#9c179e"
             ],
             [
              0.4444444444444444,
              "#bd3786"
             ],
             [
              0.5555555555555556,
              "#d8576b"
             ],
             [
              0.6666666666666666,
              "#ed7953"
             ],
             [
              0.7777777777777778,
              "#fb9f3a"
             ],
             [
              0.8888888888888888,
              "#fdca26"
             ],
             [
              1,
              "#f0f921"
             ]
            ],
            "type": "surface"
           }
          ],
          "table": [
           {
            "cells": {
             "fill": {
              "color": "#EBF0F8"
             },
             "line": {
              "color": "white"
             }
            },
            "header": {
             "fill": {
              "color": "#C8D4E3"
             },
             "line": {
              "color": "white"
             }
            },
            "type": "table"
           }
          ]
         },
         "layout": {
          "annotationdefaults": {
           "arrowcolor": "#2a3f5f",
           "arrowhead": 0,
           "arrowwidth": 1
          },
          "autotypenumbers": "strict",
          "coloraxis": {
           "colorbar": {
            "outlinewidth": 0,
            "ticks": ""
           }
          },
          "colorscale": {
           "diverging": [
            [
             0,
             "#8e0152"
            ],
            [
             0.1,
             "#c51b7d"
            ],
            [
             0.2,
             "#de77ae"
            ],
            [
             0.3,
             "#f1b6da"
            ],
            [
             0.4,
             "#fde0ef"
            ],
            [
             0.5,
             "#f7f7f7"
            ],
            [
             0.6,
             "#e6f5d0"
            ],
            [
             0.7,
             "#b8e186"
            ],
            [
             0.8,
             "#7fbc41"
            ],
            [
             0.9,
             "#4d9221"
            ],
            [
             1,
             "#276419"
            ]
           ],
           "sequential": [
            [
             0,
             "#0d0887"
            ],
            [
             0.1111111111111111,
             "#46039f"
            ],
            [
             0.2222222222222222,
             "#7201a8"
            ],
            [
             0.3333333333333333,
             "#9c179e"
            ],
            [
             0.4444444444444444,
             "#bd3786"
            ],
            [
             0.5555555555555556,
             "#d8576b"
            ],
            [
             0.6666666666666666,
             "#ed7953"
            ],
            [
             0.7777777777777778,
             "#fb9f3a"
            ],
            [
             0.8888888888888888,
             "#fdca26"
            ],
            [
             1,
             "#f0f921"
            ]
           ],
           "sequentialminus": [
            [
             0,
             "#0d0887"
            ],
            [
             0.1111111111111111,
             "#46039f"
            ],
            [
             0.2222222222222222,
             "#7201a8"
            ],
            [
             0.3333333333333333,
             "#9c179e"
            ],
            [
             0.4444444444444444,
             "#bd3786"
            ],
            [
             0.5555555555555556,
             "#d8576b"
            ],
            [
             0.6666666666666666,
             "#ed7953"
            ],
            [
             0.7777777777777778,
             "#fb9f3a"
            ],
            [
             0.8888888888888888,
             "#fdca26"
            ],
            [
             1,
             "#f0f921"
            ]
           ]
          },
          "colorway": [
           "#636efa",
           "#EF553B",
           "#00cc96",
           "#ab63fa",
           "#FFA15A",
           "#19d3f3",
           "#FF6692",
           "#B6E880",
           "#FF97FF",
           "#FECB52"
          ],
          "font": {
           "color": "#2a3f5f"
          },
          "geo": {
           "bgcolor": "white",
           "lakecolor": "white",
           "landcolor": "#E5ECF6",
           "showlakes": true,
           "showland": true,
           "subunitcolor": "white"
          },
          "hoverlabel": {
           "align": "left"
          },
          "hovermode": "closest",
          "mapbox": {
           "style": "light"
          },
          "paper_bgcolor": "white",
          "plot_bgcolor": "#E5ECF6",
          "polar": {
           "angularaxis": {
            "gridcolor": "white",
            "linecolor": "white",
            "ticks": ""
           },
           "bgcolor": "#E5ECF6",
           "radialaxis": {
            "gridcolor": "white",
            "linecolor": "white",
            "ticks": ""
           }
          },
          "scene": {
           "xaxis": {
            "backgroundcolor": "#E5ECF6",
            "gridcolor": "white",
            "gridwidth": 2,
            "linecolor": "white",
            "showbackground": true,
            "ticks": "",
            "zerolinecolor": "white"
           },
           "yaxis": {
            "backgroundcolor": "#E5ECF6",
            "gridcolor": "white",
            "gridwidth": 2,
            "linecolor": "white",
            "showbackground": true,
            "ticks": "",
            "zerolinecolor": "white"
           },
           "zaxis": {
            "backgroundcolor": "#E5ECF6",
            "gridcolor": "white",
            "gridwidth": 2,
            "linecolor": "white",
            "showbackground": true,
            "ticks": "",
            "zerolinecolor": "white"
           }
          },
          "shapedefaults": {
           "line": {
            "color": "#2a3f5f"
           }
          },
          "ternary": {
           "aaxis": {
            "gridcolor": "white",
            "linecolor": "white",
            "ticks": ""
           },
           "baxis": {
            "gridcolor": "white",
            "linecolor": "white",
            "ticks": ""
           },
           "bgcolor": "#E5ECF6",
           "caxis": {
            "gridcolor": "white",
            "linecolor": "white",
            "ticks": ""
           }
          },
          "title": {
           "x": 0.05
          },
          "xaxis": {
           "automargin": true,
           "gridcolor": "white",
           "linecolor": "white",
           "ticks": "",
           "title": {
            "standoff": 15
           },
           "zerolinecolor": "white",
           "zerolinewidth": 2
          },
          "yaxis": {
           "automargin": true,
           "gridcolor": "white",
           "linecolor": "white",
           "ticks": "",
           "title": {
            "standoff": 15
           },
           "zerolinecolor": "white",
           "zerolinewidth": 2
          }
         }
        },
        "title": {
         "text": "Lineare Regression für average_stadtpm10"
        },
        "xaxis": {
         "anchor": "y",
         "domain": [
          0,
          1
         ],
         "title": {
          "text": "Datum"
         }
        },
        "yaxis": {
         "anchor": "x",
         "domain": [
          0,
          1
         ],
         "title": {
          "text": "average_stadtpm2_5"
         }
        }
       }
      }
     },
     "metadata": {},
     "output_type": "display_data"
    }
   ],
   "source": [
    "# Berechnung von R^2 und MSE und MAE und die Steigung\n",
    "r_squared_spm2_5_regression = r2_score(y, stadt_PM2_5_average['stadt_PM2_5_average_trend'])\n",
    "mse_spm2_5_regression = mean_squared_error(y, stadt_PM2_5_average['stadt_PM2_5_average_trend'])\n",
    "mae_spm2_5_regression = mean_absolute_error(y, stadt_PM2_5_average['stadt_PM2_5_average_trend'])\n",
    "slope_spm2_5 = model.coef_[0]\n",
    "\n",
    "# Visualisierung mit Plotly Express\n",
    "fig = px.scatter(stadt_PM2_5_average, x='datum', y='average_stadtpm2_5', title='Lineare Regression für average_stadtpm10')\n",
    "fig.add_scatter(x=stadt_PM2_5_average['datum'], y=stadt_PM2_5_average['stadt_PM2_5_average_trend'], mode='lines', name='Trend')\n",
    "fig.update_layout(xaxis_title='Datum', yaxis_title='average_stadtpm2_5')\n",
    "fig.show()"
   ]
  },
  {
   "cell_type": "code",
   "execution_count": 237,
   "metadata": {},
   "outputs": [
    {
     "name": "stdout",
     "output_type": "stream",
     "text": [
      "0.0010935856143848843\n",
      "3.415348841850595\n",
      "0.0007351640664628209\n"
     ]
    }
   ],
   "source": [
    "print(r_squared_spm2_5_regression)\n",
    "print(mae_spm2_5_regression)\n",
    "print(slope_spm2_5)"
   ]
  },
  {
   "cell_type": "markdown",
   "metadata": {},
   "source": [
    "Jetzt wird die Prognose für die Tabelle der PM10 Werte in der Stadt gemacht"
   ]
  },
  {
   "cell_type": "markdown",
   "metadata": {},
   "source": [
    "es wird wieder die Tabelle eingelesen und in Trainings- und Testdaten unterteilt"
   ]
  },
  {
   "cell_type": "code",
   "execution_count": 238,
   "metadata": {},
   "outputs": [],
   "source": [
    "# CSV-Datei einlesen\n",
    "average_values = pd.read_csv(\"werte_daten/average_values.csv\")\n",
    "# es werden nur die nötigten Werte genommen\n",
    "stadt_PM10_average = average_values[[\"datum\", \"average_stadtpm10\"]]\n",
    "# Zeile mit dem Datum 15. März 2023 entfernen\n",
    "stadt_PM10_average = stadt_PM10_average[stadt_PM10_average['datum'] != '2023-03-15']\n",
    "# Das Datum als Index setzen\n",
    "stadt_PM10_average.set_index('datum', inplace=True)\n",
    "\n",
    "# ein Series mit den Durchschnittsdaten erstellen\n",
    "values_spm10 = stadt_PM10_average[\"average_stadtpm10\"]\n",
    "# das filtern der Datumswerte für die Visualisierung später\n",
    "zeitreihen_index_spm10 = values_spm10.index"
   ]
  },
  {
   "cell_type": "code",
   "execution_count": 239,
   "metadata": {},
   "outputs": [
    {
     "data": {
      "text/plain": [
       "((368, 5, 1), (368,))"
      ]
     },
     "execution_count": 239,
     "metadata": {},
     "output_type": "execute_result"
    }
   ],
   "source": [
    "# die Funktion ist dafür da, um die Values in X und y Werte zu unterteilen, mit einer gegebenen window-size\n",
    "def df_to_X_y(df, window_size=5):\n",
    "    df_as_np = df.to_numpy()\n",
    "    X = []\n",
    "    y = []\n",
    "    for i in range(len(df_as_np)-window_size):\n",
    "        row = [[a] for a in df_as_np[i:i+5]]\n",
    "        X.append(row)\n",
    "        label = df_as_np[i+5]\n",
    "        y.append(label)\n",
    "    return np.array(X), np.array(y)\n",
    "\n",
    "WINDOW_SIZE = 5\n",
    "X, y = df_to_X_y(values_spm10, WINDOW_SIZE)\n",
    "X.shape, y.shape"
   ]
  },
  {
   "cell_type": "code",
   "execution_count": 240,
   "metadata": {},
   "outputs": [],
   "source": [
    "# die Daten werden in Traings-, Testdaten unterteilt, zudem wird auch der Index unterteilt\n",
    "X_train, y_train = X[:280], y[:280]\n",
    "train_index = zeitreihen_index_spm10[5:285]\n",
    "X_val, y_val = X[:300], y[:300]\n",
    "val_index = zeitreihen_index_spm10[5:305]\n",
    "X_test, y_test = X[300:], y[300:]\n",
    "test_index = zeitreihen_index_spm10[305:]"
   ]
  },
  {
   "cell_type": "markdown",
   "metadata": {},
   "source": [
    "es wird wieder das Modell trainiert"
   ]
  },
  {
   "cell_type": "code",
   "execution_count": 165,
   "metadata": {},
   "outputs": [
    {
     "name": "stdout",
     "output_type": "stream",
     "text": [
      "Epoch 1/100\n",
      "\u001b[1m9/9\u001b[0m \u001b[32m━━━━━━━━━━━━━━━━━━━━\u001b[0m\u001b[37m\u001b[0m \u001b[1m1s\u001b[0m 23ms/step - loss: 164.0506 - root_mean_squared_error: 12.6608 - val_loss: 120.4390 - val_root_mean_squared_error: 10.9745\n",
      "Epoch 2/100\n",
      "\u001b[1m9/9\u001b[0m \u001b[32m━━━━━━━━━━━━━━━━━━━━\u001b[0m\u001b[37m\u001b[0m \u001b[1m0s\u001b[0m 7ms/step - loss: 105.6682 - root_mean_squared_error: 10.2731 - val_loss: 88.2535 - val_root_mean_squared_error: 9.3943\n",
      "Epoch 3/100\n",
      "\u001b[1m9/9\u001b[0m \u001b[32m━━━━━━━━━━━━━━━━━━━━\u001b[0m\u001b[37m\u001b[0m \u001b[1m0s\u001b[0m 8ms/step - loss: 64.4157 - root_mean_squared_error: 7.9708 - val_loss: 70.0449 - val_root_mean_squared_error: 8.3693\n",
      "Epoch 4/100\n",
      "\u001b[1m9/9\u001b[0m \u001b[32m━━━━━━━━━━━━━━━━━━━━\u001b[0m\u001b[37m\u001b[0m \u001b[1m0s\u001b[0m 7ms/step - loss: 78.3316 - root_mean_squared_error: 8.7298 - val_loss: 64.7530 - val_root_mean_squared_error: 8.0469\n",
      "Epoch 5/100\n",
      "\u001b[1m9/9\u001b[0m \u001b[32m━━━━━━━━━━━━━━━━━━━━\u001b[0m\u001b[37m\u001b[0m \u001b[1m0s\u001b[0m 7ms/step - loss: 50.8752 - root_mean_squared_error: 7.1226 - val_loss: 62.9698 - val_root_mean_squared_error: 7.9353\n",
      "Epoch 6/100\n",
      "\u001b[1m9/9\u001b[0m \u001b[32m━━━━━━━━━━━━━━━━━━━━\u001b[0m\u001b[37m\u001b[0m \u001b[1m0s\u001b[0m 6ms/step - loss: 61.7346 - root_mean_squared_error: 7.8338 - val_loss: 60.9160 - val_root_mean_squared_error: 7.8049\n",
      "Epoch 7/100\n",
      "\u001b[1m9/9\u001b[0m \u001b[32m━━━━━━━━━━━━━━━━━━━━\u001b[0m\u001b[37m\u001b[0m \u001b[1m0s\u001b[0m 6ms/step - loss: 44.4294 - root_mean_squared_error: 6.6337 - val_loss: 59.4903 - val_root_mean_squared_error: 7.7130\n",
      "Epoch 8/100\n",
      "\u001b[1m9/9\u001b[0m \u001b[32m━━━━━━━━━━━━━━━━━━━━\u001b[0m\u001b[37m\u001b[0m \u001b[1m0s\u001b[0m 7ms/step - loss: 45.4518 - root_mean_squared_error: 6.7139 - val_loss: 57.4805 - val_root_mean_squared_error: 7.5816\n",
      "Epoch 9/100\n",
      "\u001b[1m9/9\u001b[0m \u001b[32m━━━━━━━━━━━━━━━━━━━━\u001b[0m\u001b[37m\u001b[0m \u001b[1m0s\u001b[0m 6ms/step - loss: 56.3917 - root_mean_squared_error: 7.4689 - val_loss: 55.6429 - val_root_mean_squared_error: 7.4594\n",
      "Epoch 10/100\n",
      "\u001b[1m9/9\u001b[0m \u001b[32m━━━━━━━━━━━━━━━━━━━━\u001b[0m\u001b[37m\u001b[0m \u001b[1m0s\u001b[0m 7ms/step - loss: 59.6249 - root_mean_squared_error: 7.6773 - val_loss: 54.0511 - val_root_mean_squared_error: 7.3519\n",
      "Epoch 11/100\n",
      "\u001b[1m9/9\u001b[0m \u001b[32m━━━━━━━━━━━━━━━━━━━━\u001b[0m\u001b[37m\u001b[0m \u001b[1m0s\u001b[0m 5ms/step - loss: 41.2754 - root_mean_squared_error: 6.4087 - val_loss: 52.5753 - val_root_mean_squared_error: 7.2509\n",
      "Epoch 12/100\n",
      "\u001b[1m9/9\u001b[0m \u001b[32m━━━━━━━━━━━━━━━━━━━━\u001b[0m\u001b[37m\u001b[0m \u001b[1m0s\u001b[0m 7ms/step - loss: 42.7493 - root_mean_squared_error: 6.5159 - val_loss: 51.1536 - val_root_mean_squared_error: 7.1522\n",
      "Epoch 13/100\n",
      "\u001b[1m9/9\u001b[0m \u001b[32m━━━━━━━━━━━━━━━━━━━━\u001b[0m\u001b[37m\u001b[0m \u001b[1m0s\u001b[0m 6ms/step - loss: 47.2881 - root_mean_squared_error: 6.8495 - val_loss: 49.9956 - val_root_mean_squared_error: 7.0708\n",
      "Epoch 14/100\n",
      "\u001b[1m9/9\u001b[0m \u001b[32m━━━━━━━━━━━━━━━━━━━━\u001b[0m\u001b[37m\u001b[0m \u001b[1m0s\u001b[0m 6ms/step - loss: 45.8936 - root_mean_squared_error: 6.7555 - val_loss: 49.2987 - val_root_mean_squared_error: 7.0213\n",
      "Epoch 15/100\n",
      "\u001b[1m9/9\u001b[0m \u001b[32m━━━━━━━━━━━━━━━━━━━━\u001b[0m\u001b[37m\u001b[0m \u001b[1m0s\u001b[0m 6ms/step - loss: 40.1250 - root_mean_squared_error: 6.3296 - val_loss: 48.3589 - val_root_mean_squared_error: 6.9541\n",
      "Epoch 16/100\n",
      "\u001b[1m9/9\u001b[0m \u001b[32m━━━━━━━━━━━━━━━━━━━━\u001b[0m\u001b[37m\u001b[0m \u001b[1m0s\u001b[0m 7ms/step - loss: 34.7041 - root_mean_squared_error: 5.8648 - val_loss: 47.9647 - val_root_mean_squared_error: 6.9257\n",
      "Epoch 17/100\n",
      "\u001b[1m9/9\u001b[0m \u001b[32m━━━━━━━━━━━━━━━━━━━━\u001b[0m\u001b[37m\u001b[0m \u001b[1m0s\u001b[0m 6ms/step - loss: 37.4171 - root_mean_squared_error: 6.0975 - val_loss: 47.2961 - val_root_mean_squared_error: 6.8772\n",
      "Epoch 18/100\n",
      "\u001b[1m9/9\u001b[0m \u001b[32m━━━━━━━━━━━━━━━━━━━━\u001b[0m\u001b[37m\u001b[0m \u001b[1m0s\u001b[0m 8ms/step - loss: 40.5095 - root_mean_squared_error: 6.3606 - val_loss: 46.9373 - val_root_mean_squared_error: 6.8511\n",
      "Epoch 19/100\n",
      "\u001b[1m9/9\u001b[0m \u001b[32m━━━━━━━━━━━━━━━━━━━━\u001b[0m\u001b[37m\u001b[0m \u001b[1m0s\u001b[0m 8ms/step - loss: 41.9713 - root_mean_squared_error: 6.4677 - val_loss: 46.7980 - val_root_mean_squared_error: 6.8409\n",
      "Epoch 20/100\n",
      "\u001b[1m9/9\u001b[0m \u001b[32m━━━━━━━━━━━━━━━━━━━━\u001b[0m\u001b[37m\u001b[0m \u001b[1m0s\u001b[0m 8ms/step - loss: 38.6789 - root_mean_squared_error: 6.2176 - val_loss: 46.4494 - val_root_mean_squared_error: 6.8154\n",
      "Epoch 21/100\n",
      "\u001b[1m9/9\u001b[0m \u001b[32m━━━━━━━━━━━━━━━━━━━━\u001b[0m\u001b[37m\u001b[0m \u001b[1m0s\u001b[0m 8ms/step - loss: 33.7450 - root_mean_squared_error: 5.7891 - val_loss: 46.5207 - val_root_mean_squared_error: 6.8206\n",
      "Epoch 22/100\n",
      "\u001b[1m9/9\u001b[0m \u001b[32m━━━━━━━━━━━━━━━━━━━━\u001b[0m\u001b[37m\u001b[0m \u001b[1m0s\u001b[0m 7ms/step - loss: 36.2016 - root_mean_squared_error: 6.0089 - val_loss: 46.1402 - val_root_mean_squared_error: 6.7927\n",
      "Epoch 23/100\n",
      "\u001b[1m9/9\u001b[0m \u001b[32m━━━━━━━━━━━━━━━━━━━━\u001b[0m\u001b[37m\u001b[0m \u001b[1m0s\u001b[0m 9ms/step - loss: 32.2545 - root_mean_squared_error: 5.6263 - val_loss: 46.1493 - val_root_mean_squared_error: 6.7933\n",
      "Epoch 24/100\n",
      "\u001b[1m9/9\u001b[0m \u001b[32m━━━━━━━━━━━━━━━━━━━━\u001b[0m\u001b[37m\u001b[0m \u001b[1m0s\u001b[0m 7ms/step - loss: 37.5527 - root_mean_squared_error: 6.1215 - val_loss: 45.9957 - val_root_mean_squared_error: 6.7820\n",
      "Epoch 25/100\n",
      "\u001b[1m9/9\u001b[0m \u001b[32m━━━━━━━━━━━━━━━━━━━━\u001b[0m\u001b[37m\u001b[0m \u001b[1m0s\u001b[0m 8ms/step - loss: 42.4981 - root_mean_squared_error: 6.5058 - val_loss: 46.0378 - val_root_mean_squared_error: 6.7851\n",
      "Epoch 26/100\n",
      "\u001b[1m9/9\u001b[0m \u001b[32m━━━━━━━━━━━━━━━━━━━━\u001b[0m\u001b[37m\u001b[0m \u001b[1m0s\u001b[0m 7ms/step - loss: 28.0803 - root_mean_squared_error: 5.2445 - val_loss: 45.9533 - val_root_mean_squared_error: 6.7789\n",
      "Epoch 27/100\n",
      "\u001b[1m9/9\u001b[0m \u001b[32m━━━━━━━━━━━━━━━━━━━━\u001b[0m\u001b[37m\u001b[0m \u001b[1m0s\u001b[0m 9ms/step - loss: 46.3371 - root_mean_squared_error: 6.7380 - val_loss: 45.7745 - val_root_mean_squared_error: 6.7657\n",
      "Epoch 28/100\n",
      "\u001b[1m9/9\u001b[0m \u001b[32m━━━━━━━━━━━━━━━━━━━━\u001b[0m\u001b[37m\u001b[0m \u001b[1m0s\u001b[0m 7ms/step - loss: 34.9996 - root_mean_squared_error: 5.9122 - val_loss: 45.7554 - val_root_mean_squared_error: 6.7643\n",
      "Epoch 29/100\n",
      "\u001b[1m9/9\u001b[0m \u001b[32m━━━━━━━━━━━━━━━━━━━━\u001b[0m\u001b[37m\u001b[0m \u001b[1m0s\u001b[0m 7ms/step - loss: 35.0068 - root_mean_squared_error: 5.8907 - val_loss: 45.7695 - val_root_mean_squared_error: 6.7653\n",
      "Epoch 30/100\n",
      "\u001b[1m9/9\u001b[0m \u001b[32m━━━━━━━━━━━━━━━━━━━━\u001b[0m\u001b[37m\u001b[0m \u001b[1m0s\u001b[0m 9ms/step - loss: 33.2000 - root_mean_squared_error: 5.7490 - val_loss: 45.7247 - val_root_mean_squared_error: 6.7620\n",
      "Epoch 31/100\n",
      "\u001b[1m9/9\u001b[0m \u001b[32m━━━━━━━━━━━━━━━━━━━━\u001b[0m\u001b[37m\u001b[0m \u001b[1m0s\u001b[0m 7ms/step - loss: 32.4866 - root_mean_squared_error: 5.6856 - val_loss: 45.6013 - val_root_mean_squared_error: 6.7529\n",
      "Epoch 32/100\n",
      "\u001b[1m9/9\u001b[0m \u001b[32m━━━━━━━━━━━━━━━━━━━━\u001b[0m\u001b[37m\u001b[0m \u001b[1m0s\u001b[0m 6ms/step - loss: 40.5987 - root_mean_squared_error: 6.3608 - val_loss: 45.9155 - val_root_mean_squared_error: 6.7761\n",
      "Epoch 33/100\n",
      "\u001b[1m9/9\u001b[0m \u001b[32m━━━━━━━━━━━━━━━━━━━━\u001b[0m\u001b[37m\u001b[0m \u001b[1m0s\u001b[0m 7ms/step - loss: 42.0615 - root_mean_squared_error: 6.4621 - val_loss: 45.5205 - val_root_mean_squared_error: 6.7469\n",
      "Epoch 34/100\n",
      "\u001b[1m9/9\u001b[0m \u001b[32m━━━━━━━━━━━━━━━━━━━━\u001b[0m\u001b[37m\u001b[0m \u001b[1m0s\u001b[0m 7ms/step - loss: 36.7064 - root_mean_squared_error: 6.0549 - val_loss: 45.4569 - val_root_mean_squared_error: 6.7422\n",
      "Epoch 35/100\n",
      "\u001b[1m9/9\u001b[0m \u001b[32m━━━━━━━━━━━━━━━━━━━━\u001b[0m\u001b[37m\u001b[0m \u001b[1m0s\u001b[0m 9ms/step - loss: 40.2164 - root_mean_squared_error: 6.3288 - val_loss: 45.7106 - val_root_mean_squared_error: 6.7610\n",
      "Epoch 36/100\n",
      "\u001b[1m9/9\u001b[0m \u001b[32m━━━━━━━━━━━━━━━━━━━━\u001b[0m\u001b[37m\u001b[0m \u001b[1m0s\u001b[0m 9ms/step - loss: 37.6237 - root_mean_squared_error: 6.1276 - val_loss: 45.3222 - val_root_mean_squared_error: 6.7322\n",
      "Epoch 37/100\n",
      "\u001b[1m9/9\u001b[0m \u001b[32m━━━━━━━━━━━━━━━━━━━━\u001b[0m\u001b[37m\u001b[0m \u001b[1m0s\u001b[0m 8ms/step - loss: 32.1363 - root_mean_squared_error: 5.6484 - val_loss: 45.1837 - val_root_mean_squared_error: 6.7219\n",
      "Epoch 38/100\n",
      "\u001b[1m9/9\u001b[0m \u001b[32m━━━━━━━━━━━━━━━━━━━━\u001b[0m\u001b[37m\u001b[0m \u001b[1m0s\u001b[0m 7ms/step - loss: 32.6798 - root_mean_squared_error: 5.6872 - val_loss: 45.6818 - val_root_mean_squared_error: 6.7588\n",
      "Epoch 39/100\n",
      "\u001b[1m9/9\u001b[0m \u001b[32m━━━━━━━━━━━━━━━━━━━━\u001b[0m\u001b[37m\u001b[0m \u001b[1m0s\u001b[0m 7ms/step - loss: 33.0320 - root_mean_squared_error: 5.7265 - val_loss: 45.2815 - val_root_mean_squared_error: 6.7292\n",
      "Epoch 40/100\n",
      "\u001b[1m9/9\u001b[0m \u001b[32m━━━━━━━━━━━━━━━━━━━━\u001b[0m\u001b[37m\u001b[0m \u001b[1m0s\u001b[0m 7ms/step - loss: 40.6555 - root_mean_squared_error: 6.3651 - val_loss: 45.1383 - val_root_mean_squared_error: 6.7185\n",
      "Epoch 41/100\n",
      "\u001b[1m9/9\u001b[0m \u001b[32m━━━━━━━━━━━━━━━━━━━━\u001b[0m\u001b[37m\u001b[0m \u001b[1m0s\u001b[0m 7ms/step - loss: 36.4961 - root_mean_squared_error: 6.0404 - val_loss: 44.9982 - val_root_mean_squared_error: 6.7081\n",
      "Epoch 42/100\n",
      "\u001b[1m9/9\u001b[0m \u001b[32m━━━━━━━━━━━━━━━━━━━━\u001b[0m\u001b[37m\u001b[0m \u001b[1m0s\u001b[0m 9ms/step - loss: 38.0098 - root_mean_squared_error: 6.1564 - val_loss: 44.8758 - val_root_mean_squared_error: 6.6989\n",
      "Epoch 43/100\n",
      "\u001b[1m9/9\u001b[0m \u001b[32m━━━━━━━━━━━━━━━━━━━━\u001b[0m\u001b[37m\u001b[0m \u001b[1m0s\u001b[0m 6ms/step - loss: 33.9215 - root_mean_squared_error: 5.8209 - val_loss: 45.3397 - val_root_mean_squared_error: 6.7335\n",
      "Epoch 44/100\n",
      "\u001b[1m9/9\u001b[0m \u001b[32m━━━━━━━━━━━━━━━━━━━━\u001b[0m\u001b[37m\u001b[0m \u001b[1m0s\u001b[0m 6ms/step - loss: 38.5498 - root_mean_squared_error: 6.2052 - val_loss: 44.6727 - val_root_mean_squared_error: 6.6838\n",
      "Epoch 45/100\n",
      "\u001b[1m9/9\u001b[0m \u001b[32m━━━━━━━━━━━━━━━━━━━━\u001b[0m\u001b[37m\u001b[0m \u001b[1m0s\u001b[0m 7ms/step - loss: 33.2908 - root_mean_squared_error: 5.7611 - val_loss: 44.6845 - val_root_mean_squared_error: 6.6846\n",
      "Epoch 46/100\n",
      "\u001b[1m9/9\u001b[0m \u001b[32m━━━━━━━━━━━━━━━━━━━━\u001b[0m\u001b[37m\u001b[0m \u001b[1m0s\u001b[0m 10ms/step - loss: 33.3018 - root_mean_squared_error: 5.7571 - val_loss: 44.8459 - val_root_mean_squared_error: 6.6967\n",
      "Epoch 47/100\n",
      "\u001b[1m9/9\u001b[0m \u001b[32m━━━━━━━━━━━━━━━━━━━━\u001b[0m\u001b[37m\u001b[0m \u001b[1m0s\u001b[0m 8ms/step - loss: 36.9786 - root_mean_squared_error: 6.0690 - val_loss: 44.4085 - val_root_mean_squared_error: 6.6640\n",
      "Epoch 48/100\n",
      "\u001b[1m9/9\u001b[0m \u001b[32m━━━━━━━━━━━━━━━━━━━━\u001b[0m\u001b[37m\u001b[0m \u001b[1m0s\u001b[0m 7ms/step - loss: 30.1449 - root_mean_squared_error: 5.4178 - val_loss: 44.3605 - val_root_mean_squared_error: 6.6604\n",
      "Epoch 49/100\n",
      "\u001b[1m9/9\u001b[0m \u001b[32m━━━━━━━━━━━━━━━━━━━━\u001b[0m\u001b[37m\u001b[0m \u001b[1m0s\u001b[0m 6ms/step - loss: 41.3177 - root_mean_squared_error: 6.4143 - val_loss: 44.3473 - val_root_mean_squared_error: 6.6594\n",
      "Epoch 50/100\n",
      "\u001b[1m9/9\u001b[0m \u001b[32m━━━━━━━━━━━━━━━━━━━━\u001b[0m\u001b[37m\u001b[0m \u001b[1m0s\u001b[0m 6ms/step - loss: 37.4233 - root_mean_squared_error: 6.1097 - val_loss: 44.8748 - val_root_mean_squared_error: 6.6989\n",
      "Epoch 51/100\n",
      "\u001b[1m9/9\u001b[0m \u001b[32m━━━━━━━━━━━━━━━━━━━━\u001b[0m\u001b[37m\u001b[0m \u001b[1m0s\u001b[0m 12ms/step - loss: 38.7363 - root_mean_squared_error: 6.2070 - val_loss: 44.3229 - val_root_mean_squared_error: 6.6575\n",
      "Epoch 52/100\n",
      "\u001b[1m9/9\u001b[0m \u001b[32m━━━━━━━━━━━━━━━━━━━━\u001b[0m\u001b[37m\u001b[0m \u001b[1m0s\u001b[0m 7ms/step - loss: 35.8453 - root_mean_squared_error: 5.9395 - val_loss: 44.2745 - val_root_mean_squared_error: 6.6539\n",
      "Epoch 53/100\n",
      "\u001b[1m9/9\u001b[0m \u001b[32m━━━━━━━━━━━━━━━━━━━━\u001b[0m\u001b[37m\u001b[0m \u001b[1m0s\u001b[0m 7ms/step - loss: 41.8439 - root_mean_squared_error: 6.4446 - val_loss: 43.9412 - val_root_mean_squared_error: 6.6288\n",
      "Epoch 54/100\n",
      "\u001b[1m9/9\u001b[0m \u001b[32m━━━━━━━━━━━━━━━━━━━━\u001b[0m\u001b[37m\u001b[0m \u001b[1m0s\u001b[0m 7ms/step - loss: 32.6724 - root_mean_squared_error: 5.7075 - val_loss: 44.3750 - val_root_mean_squared_error: 6.6615\n",
      "Epoch 55/100\n",
      "\u001b[1m9/9\u001b[0m \u001b[32m━━━━━━━━━━━━━━━━━━━━\u001b[0m\u001b[37m\u001b[0m \u001b[1m0s\u001b[0m 7ms/step - loss: 34.7147 - root_mean_squared_error: 5.8903 - val_loss: 43.8944 - val_root_mean_squared_error: 6.6253\n",
      "Epoch 56/100\n",
      "\u001b[1m9/9\u001b[0m \u001b[32m━━━━━━━━━━━━━━━━━━━━\u001b[0m\u001b[37m\u001b[0m \u001b[1m0s\u001b[0m 7ms/step - loss: 42.1778 - root_mean_squared_error: 6.4620 - val_loss: 43.6641 - val_root_mean_squared_error: 6.6079\n",
      "Epoch 57/100\n",
      "\u001b[1m9/9\u001b[0m \u001b[32m━━━━━━━━━━━━━━━━━━━━\u001b[0m\u001b[37m\u001b[0m \u001b[1m0s\u001b[0m 7ms/step - loss: 33.3710 - root_mean_squared_error: 5.7721 - val_loss: 43.8065 - val_root_mean_squared_error: 6.6186\n",
      "Epoch 58/100\n",
      "\u001b[1m9/9\u001b[0m \u001b[32m━━━━━━━━━━━━━━━━━━━━\u001b[0m\u001b[37m\u001b[0m \u001b[1m0s\u001b[0m 9ms/step - loss: 33.2145 - root_mean_squared_error: 5.7492 - val_loss: 43.4926 - val_root_mean_squared_error: 6.5949\n",
      "Epoch 59/100\n",
      "\u001b[1m9/9\u001b[0m \u001b[32m━━━━━━━━━━━━━━━━━━━━\u001b[0m\u001b[37m\u001b[0m \u001b[1m0s\u001b[0m 8ms/step - loss: 26.5774 - root_mean_squared_error: 5.1165 - val_loss: 43.8537 - val_root_mean_squared_error: 6.6222\n",
      "Epoch 60/100\n",
      "\u001b[1m9/9\u001b[0m \u001b[32m━━━━━━━━━━━━━━━━━━━━\u001b[0m\u001b[37m\u001b[0m \u001b[1m0s\u001b[0m 8ms/step - loss: 38.7745 - root_mean_squared_error: 6.2076 - val_loss: 43.6031 - val_root_mean_squared_error: 6.6033\n",
      "Epoch 61/100\n",
      "\u001b[1m9/9\u001b[0m \u001b[32m━━━━━━━━━━━━━━━━━━━━\u001b[0m\u001b[37m\u001b[0m \u001b[1m0s\u001b[0m 7ms/step - loss: 34.7614 - root_mean_squared_error: 5.8892 - val_loss: 43.4156 - val_root_mean_squared_error: 6.5891\n",
      "Epoch 62/100\n",
      "\u001b[1m9/9\u001b[0m \u001b[32m━━━━━━━━━━━━━━━━━━━━\u001b[0m\u001b[37m\u001b[0m \u001b[1m0s\u001b[0m 7ms/step - loss: 38.7321 - root_mean_squared_error: 6.1948 - val_loss: 43.2257 - val_root_mean_squared_error: 6.5746\n",
      "Epoch 63/100\n",
      "\u001b[1m9/9\u001b[0m \u001b[32m━━━━━━━━━━━━━━━━━━━━\u001b[0m\u001b[37m\u001b[0m \u001b[1m0s\u001b[0m 6ms/step - loss: 35.5092 - root_mean_squared_error: 5.9563 - val_loss: 43.4624 - val_root_mean_squared_error: 6.5926\n",
      "Epoch 64/100\n",
      "\u001b[1m9/9\u001b[0m \u001b[32m━━━━━━━━━━━━━━━━━━━━\u001b[0m\u001b[37m\u001b[0m \u001b[1m0s\u001b[0m 6ms/step - loss: 31.5341 - root_mean_squared_error: 5.6054 - val_loss: 43.3028 - val_root_mean_squared_error: 6.5805\n",
      "Epoch 65/100\n",
      "\u001b[1m9/9\u001b[0m \u001b[32m━━━━━━━━━━━━━━━━━━━━\u001b[0m\u001b[37m\u001b[0m \u001b[1m0s\u001b[0m 7ms/step - loss: 34.1724 - root_mean_squared_error: 5.8262 - val_loss: 42.8768 - val_root_mean_squared_error: 6.5480\n",
      "Epoch 66/100\n",
      "\u001b[1m9/9\u001b[0m \u001b[32m━━━━━━━━━━━━━━━━━━━━\u001b[0m\u001b[37m\u001b[0m \u001b[1m0s\u001b[0m 6ms/step - loss: 34.3743 - root_mean_squared_error: 5.8547 - val_loss: 42.9818 - val_root_mean_squared_error: 6.5561\n",
      "Epoch 67/100\n",
      "\u001b[1m9/9\u001b[0m \u001b[32m━━━━━━━━━━━━━━━━━━━━\u001b[0m\u001b[37m\u001b[0m \u001b[1m0s\u001b[0m 8ms/step - loss: 33.3065 - root_mean_squared_error: 5.7596 - val_loss: 42.9102 - val_root_mean_squared_error: 6.5506\n",
      "Epoch 68/100\n",
      "\u001b[1m9/9\u001b[0m \u001b[32m━━━━━━━━━━━━━━━━━━━━\u001b[0m\u001b[37m\u001b[0m \u001b[1m0s\u001b[0m 9ms/step - loss: 36.1366 - root_mean_squared_error: 6.0061 - val_loss: 42.6268 - val_root_mean_squared_error: 6.5289\n",
      "Epoch 69/100\n",
      "\u001b[1m9/9\u001b[0m \u001b[32m━━━━━━━━━━━━━━━━━━━━\u001b[0m\u001b[37m\u001b[0m \u001b[1m0s\u001b[0m 7ms/step - loss: 44.0777 - root_mean_squared_error: 6.5987 - val_loss: 42.5090 - val_root_mean_squared_error: 6.5199\n",
      "Epoch 70/100\n",
      "\u001b[1m9/9\u001b[0m \u001b[32m━━━━━━━━━━━━━━━━━━━━\u001b[0m\u001b[37m\u001b[0m \u001b[1m0s\u001b[0m 7ms/step - loss: 24.2927 - root_mean_squared_error: 4.8435 - val_loss: 42.4211 - val_root_mean_squared_error: 6.5131\n",
      "Epoch 71/100\n",
      "\u001b[1m9/9\u001b[0m \u001b[32m━━━━━━━━━━━━━━━━━━━━\u001b[0m\u001b[37m\u001b[0m \u001b[1m0s\u001b[0m 6ms/step - loss: 30.3800 - root_mean_squared_error: 5.4955 - val_loss: 42.4439 - val_root_mean_squared_error: 6.5149\n",
      "Epoch 72/100\n",
      "\u001b[1m9/9\u001b[0m \u001b[32m━━━━━━━━━━━━━━━━━━━━\u001b[0m\u001b[37m\u001b[0m \u001b[1m0s\u001b[0m 8ms/step - loss: 31.8469 - root_mean_squared_error: 5.6372 - val_loss: 42.4317 - val_root_mean_squared_error: 6.5140\n",
      "Epoch 73/100\n",
      "\u001b[1m9/9\u001b[0m \u001b[32m━━━━━━━━━━━━━━━━━━━━\u001b[0m\u001b[37m\u001b[0m \u001b[1m0s\u001b[0m 6ms/step - loss: 32.2186 - root_mean_squared_error: 5.6727 - val_loss: 42.1043 - val_root_mean_squared_error: 6.4888\n",
      "Epoch 74/100\n",
      "\u001b[1m9/9\u001b[0m \u001b[32m━━━━━━━━━━━━━━━━━━━━\u001b[0m\u001b[37m\u001b[0m \u001b[1m0s\u001b[0m 6ms/step - loss: 33.9827 - root_mean_squared_error: 5.8020 - val_loss: 41.9999 - val_root_mean_squared_error: 6.4807\n",
      "Epoch 75/100\n",
      "\u001b[1m9/9\u001b[0m \u001b[32m━━━━━━━━━━━━━━━━━━━━\u001b[0m\u001b[37m\u001b[0m \u001b[1m0s\u001b[0m 7ms/step - loss: 29.6364 - root_mean_squared_error: 5.4287 - val_loss: 42.2953 - val_root_mean_squared_error: 6.5035\n",
      "Epoch 76/100\n",
      "\u001b[1m9/9\u001b[0m \u001b[32m━━━━━━━━━━━━━━━━━━━━\u001b[0m\u001b[37m\u001b[0m \u001b[1m0s\u001b[0m 6ms/step - loss: 30.0940 - root_mean_squared_error: 5.4496 - val_loss: 41.9902 - val_root_mean_squared_error: 6.4800\n",
      "Epoch 77/100\n",
      "\u001b[1m9/9\u001b[0m \u001b[32m━━━━━━━━━━━━━━━━━━━━\u001b[0m\u001b[37m\u001b[0m \u001b[1m0s\u001b[0m 6ms/step - loss: 30.6209 - root_mean_squared_error: 5.5058 - val_loss: 42.1936 - val_root_mean_squared_error: 6.4957\n",
      "Epoch 78/100\n",
      "\u001b[1m9/9\u001b[0m \u001b[32m━━━━━━━━━━━━━━━━━━━━\u001b[0m\u001b[37m\u001b[0m \u001b[1m0s\u001b[0m 6ms/step - loss: 31.0003 - root_mean_squared_error: 5.5596 - val_loss: 41.9806 - val_root_mean_squared_error: 6.4792\n",
      "Epoch 79/100\n",
      "\u001b[1m9/9\u001b[0m \u001b[32m━━━━━━━━━━━━━━━━━━━━\u001b[0m\u001b[37m\u001b[0m \u001b[1m0s\u001b[0m 7ms/step - loss: 32.4583 - root_mean_squared_error: 5.6892 - val_loss: 42.0592 - val_root_mean_squared_error: 6.4853\n",
      "Epoch 80/100\n",
      "\u001b[1m9/9\u001b[0m \u001b[32m━━━━━━━━━━━━━━━━━━━━\u001b[0m\u001b[37m\u001b[0m \u001b[1m0s\u001b[0m 7ms/step - loss: 33.0848 - root_mean_squared_error: 5.7428 - val_loss: 41.6461 - val_root_mean_squared_error: 6.4534\n",
      "Epoch 81/100\n",
      "\u001b[1m9/9\u001b[0m \u001b[32m━━━━━━━━━━━━━━━━━━━━\u001b[0m\u001b[37m\u001b[0m \u001b[1m0s\u001b[0m 9ms/step - loss: 29.3465 - root_mean_squared_error: 5.4060 - val_loss: 41.6151 - val_root_mean_squared_error: 6.4510\n",
      "Epoch 82/100\n",
      "\u001b[1m9/9\u001b[0m \u001b[32m━━━━━━━━━━━━━━━━━━━━\u001b[0m\u001b[37m\u001b[0m \u001b[1m0s\u001b[0m 8ms/step - loss: 33.6318 - root_mean_squared_error: 5.7913 - val_loss: 41.6005 - val_root_mean_squared_error: 6.4498\n",
      "Epoch 83/100\n",
      "\u001b[1m9/9\u001b[0m \u001b[32m━━━━━━━━━━━━━━━━━━━━\u001b[0m\u001b[37m\u001b[0m \u001b[1m0s\u001b[0m 5ms/step - loss: 37.1922 - root_mean_squared_error: 6.0894 - val_loss: 41.4777 - val_root_mean_squared_error: 6.4403\n",
      "Epoch 84/100\n",
      "\u001b[1m9/9\u001b[0m \u001b[32m━━━━━━━━━━━━━━━━━━━━\u001b[0m\u001b[37m\u001b[0m \u001b[1m0s\u001b[0m 9ms/step - loss: 34.8042 - root_mean_squared_error: 5.8927 - val_loss: 41.2039 - val_root_mean_squared_error: 6.4190\n",
      "Epoch 85/100\n",
      "\u001b[1m9/9\u001b[0m \u001b[32m━━━━━━━━━━━━━━━━━━━━\u001b[0m\u001b[37m\u001b[0m \u001b[1m0s\u001b[0m 9ms/step - loss: 36.8452 - root_mean_squared_error: 6.0215 - val_loss: 41.0151 - val_root_mean_squared_error: 6.4043\n",
      "Epoch 86/100\n",
      "\u001b[1m9/9\u001b[0m \u001b[32m━━━━━━━━━━━━━━━━━━━━\u001b[0m\u001b[37m\u001b[0m \u001b[1m0s\u001b[0m 7ms/step - loss: 33.9778 - root_mean_squared_error: 5.8208 - val_loss: 41.0241 - val_root_mean_squared_error: 6.4050\n",
      "Epoch 87/100\n",
      "\u001b[1m9/9\u001b[0m \u001b[32m━━━━━━━━━━━━━━━━━━━━\u001b[0m\u001b[37m\u001b[0m \u001b[1m0s\u001b[0m 7ms/step - loss: 35.0404 - root_mean_squared_error: 5.9101 - val_loss: 41.3481 - val_root_mean_squared_error: 6.4303\n",
      "Epoch 88/100\n",
      "\u001b[1m9/9\u001b[0m \u001b[32m━━━━━━━━━━━━━━━━━━━━\u001b[0m\u001b[37m\u001b[0m \u001b[1m0s\u001b[0m 6ms/step - loss: 34.4481 - root_mean_squared_error: 5.8639 - val_loss: 40.9252 - val_root_mean_squared_error: 6.3973\n",
      "Epoch 89/100\n",
      "\u001b[1m9/9\u001b[0m \u001b[32m━━━━━━━━━━━━━━━━━━━━\u001b[0m\u001b[37m\u001b[0m \u001b[1m0s\u001b[0m 7ms/step - loss: 38.6674 - root_mean_squared_error: 6.1945 - val_loss: 40.8821 - val_root_mean_squared_error: 6.3939\n",
      "Epoch 90/100\n",
      "\u001b[1m9/9\u001b[0m \u001b[32m━━━━━━━━━━━━━━━━━━━━\u001b[0m\u001b[37m\u001b[0m \u001b[1m0s\u001b[0m 6ms/step - loss: 34.3022 - root_mean_squared_error: 5.8522 - val_loss: 40.7479 - val_root_mean_squared_error: 6.3834\n",
      "Epoch 91/100\n",
      "\u001b[1m9/9\u001b[0m \u001b[32m━━━━━━━━━━━━━━━━━━━━\u001b[0m\u001b[37m\u001b[0m \u001b[1m0s\u001b[0m 6ms/step - loss: 33.8784 - root_mean_squared_error: 5.8154 - val_loss: 40.4096 - val_root_mean_squared_error: 6.3569\n",
      "Epoch 92/100\n",
      "\u001b[1m9/9\u001b[0m \u001b[32m━━━━━━━━━━━━━━━━━━━━\u001b[0m\u001b[37m\u001b[0m \u001b[1m0s\u001b[0m 7ms/step - loss: 29.0031 - root_mean_squared_error: 5.3717 - val_loss: 40.7316 - val_root_mean_squared_error: 6.3821\n",
      "Epoch 93/100\n",
      "\u001b[1m9/9\u001b[0m \u001b[32m━━━━━━━━━━━━━━━━━━━━\u001b[0m\u001b[37m\u001b[0m \u001b[1m0s\u001b[0m 6ms/step - loss: 33.7184 - root_mean_squared_error: 5.8031 - val_loss: 40.6355 - val_root_mean_squared_error: 6.3746\n",
      "Epoch 94/100\n",
      "\u001b[1m9/9\u001b[0m \u001b[32m━━━━━━━━━━━━━━━━━━━━\u001b[0m\u001b[37m\u001b[0m \u001b[1m0s\u001b[0m 6ms/step - loss: 29.7925 - root_mean_squared_error: 5.4534 - val_loss: 40.3442 - val_root_mean_squared_error: 6.3517\n",
      "Epoch 95/100\n",
      "\u001b[1m9/9\u001b[0m \u001b[32m━━━━━━━━━━━━━━━━━━━━\u001b[0m\u001b[37m\u001b[0m \u001b[1m0s\u001b[0m 7ms/step - loss: 40.9198 - root_mean_squared_error: 6.3377 - val_loss: 40.0745 - val_root_mean_squared_error: 6.3304\n",
      "Epoch 96/100\n",
      "\u001b[1m9/9\u001b[0m \u001b[32m━━━━━━━━━━━━━━━━━━━━\u001b[0m\u001b[37m\u001b[0m \u001b[1m0s\u001b[0m 8ms/step - loss: 33.7325 - root_mean_squared_error: 5.7909 - val_loss: 40.1427 - val_root_mean_squared_error: 6.3358\n",
      "Epoch 97/100\n",
      "\u001b[1m9/9\u001b[0m \u001b[32m━━━━━━━━━━━━━━━━━━━━\u001b[0m\u001b[37m\u001b[0m \u001b[1m0s\u001b[0m 7ms/step - loss: 32.8495 - root_mean_squared_error: 5.7210 - val_loss: 40.2451 - val_root_mean_squared_error: 6.3439\n",
      "Epoch 98/100\n",
      "\u001b[1m9/9\u001b[0m \u001b[32m━━━━━━━━━━━━━━━━━━━━\u001b[0m\u001b[37m\u001b[0m \u001b[1m0s\u001b[0m 8ms/step - loss: 27.6458 - root_mean_squared_error: 5.2407 - val_loss: 39.7697 - val_root_mean_squared_error: 6.3063\n",
      "Epoch 99/100\n",
      "\u001b[1m9/9\u001b[0m \u001b[32m━━━━━━━━━━━━━━━━━━━━\u001b[0m\u001b[37m\u001b[0m \u001b[1m0s\u001b[0m 7ms/step - loss: 39.7280 - root_mean_squared_error: 6.2737 - val_loss: 39.6342 - val_root_mean_squared_error: 6.2956\n",
      "Epoch 100/100\n",
      "\u001b[1m9/9\u001b[0m \u001b[32m━━━━━━━━━━━━━━━━━━━━\u001b[0m\u001b[37m\u001b[0m \u001b[1m0s\u001b[0m 8ms/step - loss: 27.0157 - root_mean_squared_error: 5.1785 - val_loss: 39.8440 - val_root_mean_squared_error: 6.3122\n"
     ]
    }
   ],
   "source": [
    "# es wird ein Modell erstellt, trainiert und gespeichert\n",
    "model4 = Sequential()\n",
    "model4.add(InputLayer((5,1)))\n",
    "model4.add(LSTM(64))\n",
    "model4.add(Dense(8, 'relu'))\n",
    "model4.add(Dense(1, 'linear'))\n",
    "model4.compile(loss=MeanSquaredError(), optimizer=Adam(learning_rate=0.001), metrics=[RootMeanSquaredError()])\n",
    "model4.fit(X_train, y_train, validation_data=(X_val, y_val), epochs=100)\n",
    "model4.save('model4.keras')"
   ]
  },
  {
   "cell_type": "code",
   "execution_count": 241,
   "metadata": {},
   "outputs": [],
   "source": [
    "# das Laden des Modells\n",
    "model4 = load_model('model4.keras')"
   ]
  },
  {
   "cell_type": "code",
   "execution_count": 242,
   "metadata": {},
   "outputs": [
    {
     "name": "stdout",
     "output_type": "stream",
     "text": [
      "\u001b[1m9/9\u001b[0m \u001b[32m━━━━━━━━━━━━━━━━━━━━\u001b[0m\u001b[37m\u001b[0m \u001b[1m0s\u001b[0m 12ms/step\n",
      "Mean Absolute Error: 3.7508526289326807\n"
     ]
    }
   ],
   "source": [
    "# es werden die Traingsdaten vorhergesagt und mit den tatsächlichen Werten in ein df geschrieben\n",
    "train_predictions = model4.predict(X_train).flatten()\n",
    "train_results = pd.DataFrame(data={'Train Predictions' : train_predictions, 'Actuals' : y_train}, index=train_index)\n",
    "from sklearn.metrics import mean_absolute_error\n",
    "# Berechnung des Mean Absolute Error (MAE) und R^2 und des MSE\n",
    "mae_spm10 = mean_absolute_error(train_results['Actuals'], train_results['Train Predictions'])\n",
    "r_squared_spm10 = r2_score(train_results['Actuals'], train_results['Train Predictions'])\n",
    "mse_spm10 = mean_squared_error(train_results['Actuals'], train_results['Train Predictions'])\n",
    "\n",
    "print(f'Mean Absolute Error: {mae_spm10}')"
   ]
  },
  {
   "cell_type": "markdown",
   "metadata": {},
   "source": [
    "es werden wieder Zukunftsvorhersagen gemacht"
   ]
  },
  {
   "cell_type": "code",
   "execution_count": 148,
   "metadata": {},
   "outputs": [
    {
     "name": "stdout",
     "output_type": "stream",
     "text": [
      "\u001b[1m3/3\u001b[0m \u001b[32m━━━━━━━━━━━━━━━━━━━━\u001b[0m\u001b[37m\u001b[0m \u001b[1m0s\u001b[0m 2ms/step \n",
      "\u001b[1m3/3\u001b[0m \u001b[32m━━━━━━━━━━━━━━━━━━━━\u001b[0m\u001b[37m\u001b[0m \u001b[1m0s\u001b[0m 0s/step  \n",
      "\u001b[1m3/3\u001b[0m \u001b[32m━━━━━━━━━━━━━━━━━━━━\u001b[0m\u001b[37m\u001b[0m \u001b[1m0s\u001b[0m 448us/step\n",
      "\u001b[1m3/3\u001b[0m \u001b[32m━━━━━━━━━━━━━━━━━━━━\u001b[0m\u001b[37m\u001b[0m \u001b[1m0s\u001b[0m 0s/step \n",
      "\u001b[1m3/3\u001b[0m \u001b[32m━━━━━━━━━━━━━━━━━━━━\u001b[0m\u001b[37m\u001b[0m \u001b[1m0s\u001b[0m 0s/step  \n"
     ]
    }
   ],
   "source": [
    "# die Eingabedaten für die Vorhersage der Zukunft werden erstellt\n",
    "X_next = X_test  \n",
    "predictions = []\n",
    "\n",
    "for _ in range(5):\n",
    "    y_pred = model1.predict(X_next)\n",
    "    predictions.append(y_pred)\n",
    "    # Aktualisieren von X_next für den nächsten Schritt\n",
    "    X_next = update_X_next(X_next, y_pred)  \n",
    "\n",
    "# Konvertiere new_index in einen DatetimeIndex\n",
    "new_index_dt = pd.to_datetime(new_index)\n",
    "\n",
    "# Kombiniere beide Indexstrukturen\n",
    "gesamt_index = zeitreihen_index_spm10.append(new_index_dt)"
   ]
  },
  {
   "cell_type": "code",
   "execution_count": 171,
   "metadata": {},
   "outputs": [
    {
     "name": "stdout",
     "output_type": "stream",
     "text": [
      "\u001b[1m3/3\u001b[0m \u001b[32m━━━━━━━━━━━━━━━━━━━━\u001b[0m\u001b[37m\u001b[0m \u001b[1m0s\u001b[0m 9ms/step \n"
     ]
    },
    {
     "data": {
      "application/vnd.plotly.v1+json": {
       "config": {
        "plotlyServerURL": "https://plot.ly"
       },
       "data": [
        {
         "hovertemplate": "<extra></extra>",
         "legendgroup": "",
         "line": {
          "color": "#636efa",
          "dash": "solid"
         },
         "marker": {
          "symbol": "circle"
         },
         "mode": "lines",
         "name": "",
         "orientation": "v",
         "showlegend": false,
         "type": "scatter",
         "xaxis": "x",
         "yaxis": "y"
        },
        {
         "mode": "lines+markers",
         "name": "Historische Daten",
         "type": "scatter",
         "x": [
          "2022-04-07",
          "2022-04-09",
          "2022-04-11",
          "2022-04-13",
          "2022-04-15",
          "2022-04-17",
          "2022-04-19",
          "2022-04-21",
          "2022-04-23",
          "2022-04-25",
          "2022-04-27",
          "2022-04-29",
          "2022-05-01",
          "2022-05-03",
          "2022-05-05",
          "2022-05-07",
          "2022-05-09",
          "2022-05-11",
          "2022-05-13",
          "2022-05-15",
          "2022-05-17",
          "2022-05-19",
          "2022-05-21",
          "2022-05-23",
          "2022-05-25",
          "2022-05-27",
          "2022-05-29",
          "2022-06-01",
          "2022-06-03",
          "2022-06-05",
          "2022-06-07",
          "2022-06-09",
          "2022-06-11",
          "2022-06-13",
          "2022-06-15",
          "2022-06-17",
          "2022-06-19",
          "2022-06-21",
          "2022-06-23",
          "2022-06-25",
          "2022-06-27",
          "2022-06-29",
          "2022-07-01",
          "2022-07-03",
          "2022-07-05",
          "2022-07-07",
          "2022-07-09",
          "2022-07-11",
          "2022-07-13",
          "2022-07-15",
          "2022-07-17",
          "2022-07-19",
          "2022-07-21",
          "2022-07-23",
          "2022-07-25",
          "2022-07-27",
          "2022-07-29",
          "2022-08-01",
          "2022-08-03",
          "2022-08-05",
          "2022-08-07",
          "2022-08-09",
          "2022-08-11",
          "2022-08-13",
          "2022-08-15",
          "2022-08-17",
          "2022-08-19",
          "2022-08-21",
          "2022-08-23",
          "2022-08-25",
          "2022-08-27",
          "2022-08-29",
          "2022-09-01",
          "2022-09-03",
          "2022-09-05",
          "2022-09-07",
          "2022-09-09",
          "2022-09-11",
          "2022-09-13",
          "2022-09-15",
          "2022-09-17",
          "2022-09-19",
          "2022-09-21",
          "2022-09-23",
          "2022-09-25",
          "2022-09-27",
          "2022-09-29",
          "2022-10-01",
          "2022-10-03",
          "2022-10-05",
          "2022-10-07",
          "2022-10-09",
          "2022-10-11",
          "2022-10-13",
          "2022-10-15",
          "2022-10-17",
          "2022-10-19",
          "2022-10-21",
          "2022-10-23",
          "2022-10-25",
          "2022-10-27",
          "2022-10-29",
          "2022-11-01",
          "2022-11-03",
          "2022-11-05",
          "2022-11-07",
          "2022-11-09",
          "2022-11-11",
          "2022-11-13",
          "2022-11-15",
          "2022-11-17",
          "2022-11-19",
          "2022-11-21",
          "2022-11-23",
          "2022-11-25",
          "2022-11-27",
          "2022-11-29",
          "2022-12-01",
          "2022-12-03",
          "2022-12-05",
          "2022-12-07",
          "2022-12-09",
          "2022-12-11",
          "2022-12-13",
          "2022-12-15",
          "2022-12-17",
          "2022-12-19",
          "2022-12-21",
          "2022-12-23",
          "2022-12-25",
          "2022-12-27",
          "2022-12-29",
          "2023-01-01",
          "2023-01-03",
          "2023-01-05",
          "2023-01-07",
          "2023-01-09",
          "2023-01-11",
          "2023-01-13",
          "2023-01-15",
          "2023-01-17",
          "2023-01-19",
          "2023-01-21",
          "2023-01-23",
          "2023-01-25",
          "2023-01-27",
          "2023-01-29",
          "2023-02-01",
          "2023-02-03",
          "2023-02-05",
          "2023-02-07",
          "2023-02-09",
          "2023-02-11",
          "2023-02-13",
          "2023-02-15",
          "2023-02-17",
          "2023-02-19",
          "2023-02-21",
          "2023-02-23",
          "2023-02-25",
          "2023-02-27",
          "2023-03-01",
          "2023-03-03",
          "2023-03-05",
          "2023-03-07",
          "2023-03-09",
          "2023-03-11",
          "2023-03-13",
          "2023-03-15",
          "2023-03-17",
          "2023-03-19",
          "2023-03-21",
          "2023-03-25",
          "2023-03-27",
          "2023-03-29",
          "2023-04-01",
          "2023-04-03",
          "2023-04-05",
          "2023-04-07",
          "2023-04-09",
          "2023-04-11",
          "2023-04-13",
          "2023-04-15",
          "2023-04-17",
          "2023-04-19",
          "2023-04-21",
          "2023-04-23",
          "2023-04-25",
          "2023-04-27",
          "2023-04-29",
          "2023-05-01",
          "2023-05-03",
          "2023-05-05",
          "2023-05-07",
          "2023-05-09",
          "2023-05-11",
          "2023-05-13",
          "2023-05-15",
          "2023-05-17",
          "2023-05-19",
          "2023-05-21",
          "2023-05-23",
          "2023-05-25",
          "2023-05-27",
          "2023-05-29",
          "2023-06-01",
          "2023-06-03",
          "2023-06-05",
          "2023-06-07",
          "2023-06-09",
          "2023-06-11",
          "2023-06-13",
          "2023-06-15",
          "2023-06-17",
          "2023-06-19",
          "2023-06-21",
          "2023-06-23",
          "2023-06-25",
          "2023-06-27",
          "2023-06-29",
          "2023-07-01",
          "2023-07-03",
          "2023-07-05",
          "2023-07-07",
          "2023-07-09",
          "2023-07-11",
          "2023-07-13",
          "2023-07-15",
          "2023-07-17",
          "2023-07-19",
          "2023-07-21",
          "2023-07-23",
          "2023-07-25",
          "2023-07-27",
          "2023-07-29",
          "2023-08-01",
          "2023-08-03",
          "2023-08-05",
          "2023-08-07",
          "2023-08-09",
          "2023-08-11",
          "2023-08-13",
          "2023-08-15",
          "2023-08-17",
          "2023-08-19",
          "2023-08-21",
          "2023-08-23",
          "2023-08-25",
          "2023-08-27",
          "2023-08-29",
          "2023-09-01",
          "2023-09-03",
          "2023-09-05",
          "2023-09-07",
          "2023-09-09",
          "2023-09-11",
          "2023-09-13",
          "2023-09-15",
          "2023-09-17",
          "2023-09-19",
          "2023-09-21",
          "2023-09-23",
          "2023-09-25",
          "2023-09-27",
          "2023-09-29",
          "2023-10-01",
          "2023-10-03",
          "2023-10-05",
          "2023-10-07",
          "2023-10-09",
          "2023-10-11",
          "2023-10-13",
          "2023-10-15",
          "2023-10-17",
          "2023-10-19",
          "2023-10-21",
          "2023-10-23",
          "2023-10-25",
          "2023-10-27",
          "2023-10-29",
          "2023-11-01",
          "2023-11-03",
          "2023-11-05",
          "2023-11-07",
          "2023-11-09",
          "2023-11-11",
          "2023-11-13",
          "2023-11-15",
          "2023-11-17",
          "2023-11-19",
          "2023-11-21",
          "2023-11-23",
          "2023-11-25",
          "2023-11-27",
          "2023-11-29",
          "2023-12-01",
          "2023-12-03",
          "2023-12-05",
          "2023-12-07",
          "2023-12-09",
          "2023-12-11",
          "2023-12-13",
          "2023-12-15",
          "2023-12-17",
          "2023-12-19",
          "2023-12-21",
          "2023-12-23",
          "2023-12-25",
          "2023-12-27",
          "2023-12-29",
          "2024-01-01",
          "2024-01-03",
          "2024-01-05",
          "2024-01-07",
          "2024-01-09",
          "2024-01-11",
          "2024-01-13",
          "2024-01-15",
          "2024-01-17",
          "2024-01-19",
          "2024-01-21",
          "2024-01-23",
          "2024-01-25",
          "2024-01-27",
          "2024-01-29",
          "2024-02-01",
          "2024-02-03",
          "2024-02-05",
          "2024-02-07",
          "2024-02-09",
          "2024-02-11",
          "2024-02-13",
          "2024-02-15",
          "2024-02-17",
          "2024-02-19",
          "2024-02-21",
          "2024-02-23",
          "2024-02-25",
          "2024-02-27",
          "2024-02-29",
          "2024-03-01",
          "2024-03-03",
          "2024-03-05",
          "2024-03-07",
          "2024-03-09",
          "2024-03-11",
          "2024-03-13",
          "2024-03-15",
          "2024-04-09",
          "2024-04-11",
          "2024-04-13",
          "2024-04-15",
          "2024-04-17",
          "2024-04-19",
          "2024-04-21",
          "2024-04-23",
          "2024-04-25",
          "2024-04-27",
          "2024-04-29",
          "2024-05-01",
          "2024-05-03",
          "2024-05-05",
          "2024-05-07",
          "2024-05-09",
          "2024-05-11",
          "2024-05-13",
          "2024-05-15",
          "2024-05-17",
          "2024-05-19",
          "2024-05-21",
          "2024-05-23",
          "2024-05-25",
          "2024-05-27"
         ],
         "y": [
          4.498333333333334,
          4.542666666666667,
          6.654444444444445,
          17.67375,
          8.767777777777779,
          4.3412500000000005,
          5.056666666666668,
          11.413999999999998,
          13.706666666666663,
          7.91,
          9.860666666666669,
          14.223333333333334,
          10.829999999999998,
          8.9375,
          8.171666666666667,
          10.74,
          7.877,
          7.321666666666665,
          5.72125,
          4.972,
          9.585833333333332,
          7.190666666666667,
          9.083333333333334,
          6.072500000000001,
          3.74,
          7.679166666666667,
          6.597000000000001,
          7.616666666666667,
          5.227777777777778,
          7.88,
          8.886,
          19.438,
          5.2575,
          5.366666666666667,
          12.1175,
          5.64125,
          12.388750000000002,
          6.7925,
          5.8340000000000005,
          4.116666666666666,
          12.813333333333334,
          3.876666666666667,
          4.303333333333334,
          5.691333333333333,
          5.079166666666667,
          7.256666666666668,
          3.6125,
          3.723333333333334,
          4.498333333333333,
          4.273333333333333,
          6.345000000000001,
          6.229333333333334,
          13.8375,
          13.382666666666664,
          6.346666666666668,
          6.9425,
          5.5875,
          16.04,
          5.65625,
          6.305,
          4.82,
          3.1825,
          6.040833333333333,
          5.21,
          8.327000000000002,
          11.76,
          16.077,
          5.82,
          6.268000000000002,
          6.205,
          9.358333333333334,
          10.791666666666666,
          2.5940000000000003,
          5.398888888888888,
          5.9275,
          11.595,
          9.76,
          12.478333333333332,
          6.642999999999999,
          5.3116666666666665,
          5.621999999999999,
          4.734999999999999,
          4.86375,
          7.383333333333333,
          9.767,
          2.62,
          9.403333333333334,
          10.245,
          5.24,
          5.34625,
          9.09375,
          7.093333333333334,
          10.70875,
          22.793333333333333,
          1.4675,
          6.404999999999999,
          6.956999999999999,
          12.259,
          9.445,
          8.21,
          8.756,
          11.97,
          11.827,
          8.291999999999998,
          4.634166666666667,
          5.916,
          4.0925,
          13.666249999999998,
          8.433333333333332,
          17.11125,
          8.743333333333334,
          5.45625,
          17.698333333333334,
          7.276666666666666,
          23.6075,
          15.15,
          38.38,
          49.366,
          33.443333333333335,
          32.616,
          9.004999999999999,
          26.595,
          24.452,
          21.99375,
          42.6775,
          45.4575,
          27.270833333333336,
          21.955,
          10.67125,
          22.04866666666667,
          3.2175,
          3.7433333333333336,
          8.545,
          5.205,
          10.67625,
          2.466666666666667,
          7.463333333333333,
          16.845,
          7.795,
          3.34,
          6.48,
          16.05625,
          18.776666666666664,
          28.32875,
          22.133750000000003,
          7.904999999999999,
          22.0975,
          17.5375,
          15.538,
          9.23222222222222,
          19.028333333333336,
          18.0725,
          21.888,
          12.59,
          31.363750000000003,
          15.95,
          5.133,
          43.175,
          38.126,
          2.83375,
          3.88875,
          19.225,
          28.56125,
          6.4037500000000005,
          9.338333333333331,
          24.805000000000003,
          7.9975,
          5.157500000000001,
          6.3725000000000005,
          3.815,
          19.215,
          7.431666666666666,
          4.61625,
          7.286249999999999,
          4.28625,
          5.7700000000000005,
          12.078333333333331,
          7.851666666666667,
          15.826666666666666,
          7.38125,
          7.503333333333333,
          13.385833333333334,
          11.928333333333336,
          9.506666666666666,
          13.15,
          9.159999999999998,
          7.321,
          7.210666666666667,
          22.738,
          7.5675,
          8.26,
          9.805833333333332,
          4.78125,
          7.506,
          7.8,
          6.6066666666666665,
          9.646,
          8.025833333333333,
          9.754444444444443,
          14.595,
          14.070666666666668,
          10.62,
          10.081111111111111,
          9.706666666666669,
          16.08888888888889,
          5.255,
          5.5233333333333325,
          10.525333333333332,
          6.016666666666667,
          8.317499999999999,
          14.02111111111111,
          3.953333333333333,
          8.834166666666667,
          6.78125,
          8.720833333333333,
          9.173333333333334,
          8.552222222222223,
          7.011666666666667,
          10.822666666666668,
          6.445,
          9.445,
          6.570833333333333,
          3.055,
          4.72,
          6.358888888888888,
          6.132000000000001,
          5.97,
          10.702222222222224,
          11.103333333333332,
          3.771111111111111,
          6.675,
          3.3512500000000003,
          6.173333333333333,
          6.109999999999999,
          5.285,
          3.527,
          4.145555555555556,
          6.129333333333333,
          9.912,
          3.65,
          10.204166666666666,
          8.846666666666666,
          8.755333333333333,
          9.184166666666666,
          7.221999999999999,
          5.551333333333333,
          13.403,
          5.71,
          8.018333333333333,
          5.015333333333334,
          6.416666666666667,
          5.628333333333333,
          6.6450000000000005,
          10.185333333333334,
          11.24,
          9.623333333333331,
          5.7490000000000006,
          5.260833333333333,
          13.505,
          5.021,
          2.88,
          2.4091666666666667,
          7.826666666666666,
          10.9175,
          10.28,
          10.946666666666667,
          5.311666666666667,
          11.725,
          8.06,
          15.475,
          14.74,
          5.8975,
          4.738333333333333,
          15.629166666666666,
          2.385,
          5.698,
          10.768,
          4.71,
          5.635555555555555,
          4.745,
          7.152666666666667,
          4.43,
          5.2325,
          2.873333333333333,
          6.478,
          7.689999999999999,
          4.621333333333333,
          14.399166666666666,
          19.938333333333333,
          12.304000000000002,
          12.295333333333335,
          6.151999999999999,
          6.11,
          15.30125,
          12.131666666666666,
          16.00733333333333,
          19.48333333333333,
          63.71583333333333,
          17.613333333333333,
          9.260833333333334,
          14.082,
          25.32,
          8.633333333333333,
          3.9216666666666655,
          6.41375,
          6.386666666666667,
          10.266666666666666,
          6.687,
          4.351333333333334,
          6.09,
          4.82,
          5.344666666666666,
          11.3675,
          15.182,
          37.63466666666667,
          13.491666666666667,
          7.778,
          13.214666666666664,
          16.92125,
          5.8975,
          20.315999999999995,
          20.787,
          15.555555555555555,
          7.016000000000001,
          16.198333333333334,
          7.592666666666666,
          13.585,
          11.2325,
          9.5825,
          26.085,
          12.54416666666667,
          13.426000000000002,
          15.092222222222224,
          7.647777777777779,
          10.405555555555557,
          4.009166666666666,
          3.733333333333334,
          22.866666666666667,
          17.265,
          25.76125,
          22.139333333333333,
          15.0025,
          18.96666666666667,
          26.161111111111108,
          13.000000000000002,
          14.848,
          62.03533333333333,
          14.326666666666666,
          5.896666666666666,
          7.083333333333333,
          8.47,
          3.6,
          8.916666666666666,
          2.3233333333333333,
          7.44,
          7.095,
          5.383333333333334,
          4.7075000000000005,
          8.705,
          3.285,
          2.765,
          8.897499999999999,
          9.2875,
          7.022000000000001,
          4.446666666666666,
          7.136,
          3.75,
          8.047500000000001,
          7.26,
          6.31,
          11.4925,
          5.54,
          4.866666666666666
         ]
        },
        {
         "mode": "lines+markers",
         "name": "Vorhersage",
         "type": "scatter",
         "x": [
          "2024-05-29",
          "2024-06-01T00:00:00",
          "2024-06-03T00:00:00",
          "2024-06-05T00:00:00",
          "2024-06-07T00:00:00",
          "2024-06-09T00:00:00",
          "2024-06-11T00:00:00",
          "2024-06-13T00:00:00",
          "2024-06-15T00:00:00",
          "2024-06-17T00:00:00",
          "2024-06-19T00:00:00",
          "2024-06-21T00:00:00",
          "2024-06-23T00:00:00",
          "2024-06-25T00:00:00",
          "2024-06-27T00:00:00",
          "2024-06-29T00:00:00",
          "2024-07-01T00:00:00",
          "2024-07-03T00:00:00",
          "2024-07-05T00:00:00",
          "2024-07-07T00:00:00",
          "2024-07-09T00:00:00",
          "2024-07-11T00:00:00",
          "2024-07-13T00:00:00",
          "2024-07-15T00:00:00",
          "2024-07-17T00:00:00",
          "2024-07-19T00:00:00",
          "2024-07-21T00:00:00",
          "2024-07-23T00:00:00",
          "2024-07-25T00:00:00",
          "2024-07-27T00:00:00",
          "2024-07-29T00:00:00",
          "2024-08-01T00:00:00",
          "2024-08-03T00:00:00",
          "2024-08-05T00:00:00",
          "2024-08-07T00:00:00",
          "2024-08-09T00:00:00",
          "2024-08-11T00:00:00",
          "2024-08-13T00:00:00",
          "2024-08-15T00:00:00",
          "2024-08-17T00:00:00",
          "2024-08-19T00:00:00",
          "2024-08-21T00:00:00",
          "2024-08-23T00:00:00",
          "2024-08-25T00:00:00",
          "2024-08-27T00:00:00",
          "2024-08-29T00:00:00",
          "2024-09-01T00:00:00",
          "2024-09-03T00:00:00",
          "2024-09-05T00:00:00",
          "2024-09-07T00:00:00",
          "2024-09-09T00:00:00",
          "2024-09-11T00:00:00",
          "2024-09-13T00:00:00",
          "2024-09-15T00:00:00",
          "2024-09-17T00:00:00",
          "2024-09-19T00:00:00",
          "2024-09-21T00:00:00",
          "2024-09-23T00:00:00",
          "2024-09-25T00:00:00",
          "2024-09-27T00:00:00",
          "2024-09-29T00:00:00",
          "2024-10-01T00:00:00",
          "2024-10-03T00:00:00",
          "2024-10-05T00:00:00",
          "2024-10-07T00:00:00",
          "2024-10-09T00:00:00",
          "2024-10-11T00:00:00",
          "2024-10-13T00:00:00"
         ],
         "y": [
          10.544672966003418,
          10.849620819091797,
          8.227100372314453,
          7.495145797729492,
          6.923243999481201,
          7.3630146980285645,
          7.299701690673828,
          6.745611667633057,
          8.202434539794922,
          9.67462158203125,
          19.755273818969727,
          17.40188217163086,
          21.976686477661133,
          16.851123809814453,
          10.421634674072266,
          8.34782600402832,
          13.626314163208008,
          14.158926010131836,
          17.550628662109375,
          19.01399803161621,
          15.532129287719727,
          10.167076110839844,
          9.352008819580078,
          8.564602851867676,
          10.321786880493164,
          12.527238845825195,
          10.396267890930176,
          19.161169052124023,
          16.15326499938965,
          11.088665008544922,
          10.19705581665039,
          9.49655818939209,
          9.14478588104248,
          9.848533630371094,
          11.556513786315918,
          22.738243103027344,
          22.17498207092285,
          22.68914222717285,
          21.93429946899414,
          20.359922409057617,
          19.269987106323242,
          21.961278915405273,
          29.022310256958008,
          17.599796295166016,
          21.906858444213867,
          15.751604080200195,
          11.375069618225098,
          8.592386245727539,
          7.687285900115967,
          5.807563304901123,
          7.013338088989258,
          7.130912780761719,
          7.069565773010254,
          6.513818740844727,
          7.760801315307617,
          6.286007404327393,
          5.486589431762695,
          7.134653091430664,
          8.074732780456543,
          7.264659404754639,
          6.544576644897461,
          7.9964752197265625,
          6.888418197631836,
          7.38258695602417,
          7.516461372375488,
          7.463442802429199,
          8.375252723693848,
          7.605367660522461
         ]
        }
       ],
       "layout": {
        "legend": {
         "tracegroupgap": 0
        },
        "template": {
         "data": {
          "bar": [
           {
            "error_x": {
             "color": "#2a3f5f"
            },
            "error_y": {
             "color": "#2a3f5f"
            },
            "marker": {
             "line": {
              "color": "#E5ECF6",
              "width": 0.5
             },
             "pattern": {
              "fillmode": "overlay",
              "size": 10,
              "solidity": 0.2
             }
            },
            "type": "bar"
           }
          ],
          "barpolar": [
           {
            "marker": {
             "line": {
              "color": "#E5ECF6",
              "width": 0.5
             },
             "pattern": {
              "fillmode": "overlay",
              "size": 10,
              "solidity": 0.2
             }
            },
            "type": "barpolar"
           }
          ],
          "carpet": [
           {
            "aaxis": {
             "endlinecolor": "#2a3f5f",
             "gridcolor": "white",
             "linecolor": "white",
             "minorgridcolor": "white",
             "startlinecolor": "#2a3f5f"
            },
            "baxis": {
             "endlinecolor": "#2a3f5f",
             "gridcolor": "white",
             "linecolor": "white",
             "minorgridcolor": "white",
             "startlinecolor": "#2a3f5f"
            },
            "type": "carpet"
           }
          ],
          "choropleth": [
           {
            "colorbar": {
             "outlinewidth": 0,
             "ticks": ""
            },
            "type": "choropleth"
           }
          ],
          "contour": [
           {
            "colorbar": {
             "outlinewidth": 0,
             "ticks": ""
            },
            "colorscale": [
             [
              0,
              "#0d0887"
             ],
             [
              0.1111111111111111,
              "#46039f"
             ],
             [
              0.2222222222222222,
              "#7201a8"
             ],
             [
              0.3333333333333333,
              "#9c179e"
             ],
             [
              0.4444444444444444,
              "#bd3786"
             ],
             [
              0.5555555555555556,
              "#d8576b"
             ],
             [
              0.6666666666666666,
              "#ed7953"
             ],
             [
              0.7777777777777778,
              "#fb9f3a"
             ],
             [
              0.8888888888888888,
              "#fdca26"
             ],
             [
              1,
              "#f0f921"
             ]
            ],
            "type": "contour"
           }
          ],
          "contourcarpet": [
           {
            "colorbar": {
             "outlinewidth": 0,
             "ticks": ""
            },
            "type": "contourcarpet"
           }
          ],
          "heatmap": [
           {
            "colorbar": {
             "outlinewidth": 0,
             "ticks": ""
            },
            "colorscale": [
             [
              0,
              "#0d0887"
             ],
             [
              0.1111111111111111,
              "#46039f"
             ],
             [
              0.2222222222222222,
              "#7201a8"
             ],
             [
              0.3333333333333333,
              "#9c179e"
             ],
             [
              0.4444444444444444,
              "#bd3786"
             ],
             [
              0.5555555555555556,
              "#d8576b"
             ],
             [
              0.6666666666666666,
              "#ed7953"
             ],
             [
              0.7777777777777778,
              "#fb9f3a"
             ],
             [
              0.8888888888888888,
              "#fdca26"
             ],
             [
              1,
              "#f0f921"
             ]
            ],
            "type": "heatmap"
           }
          ],
          "heatmapgl": [
           {
            "colorbar": {
             "outlinewidth": 0,
             "ticks": ""
            },
            "colorscale": [
             [
              0,
              "#0d0887"
             ],
             [
              0.1111111111111111,
              "#46039f"
             ],
             [
              0.2222222222222222,
              "#7201a8"
             ],
             [
              0.3333333333333333,
              "#9c179e"
             ],
             [
              0.4444444444444444,
              "#bd3786"
             ],
             [
              0.5555555555555556,
              "#d8576b"
             ],
             [
              0.6666666666666666,
              "#ed7953"
             ],
             [
              0.7777777777777778,
              "#fb9f3a"
             ],
             [
              0.8888888888888888,
              "#fdca26"
             ],
             [
              1,
              "#f0f921"
             ]
            ],
            "type": "heatmapgl"
           }
          ],
          "histogram": [
           {
            "marker": {
             "pattern": {
              "fillmode": "overlay",
              "size": 10,
              "solidity": 0.2
             }
            },
            "type": "histogram"
           }
          ],
          "histogram2d": [
           {
            "colorbar": {
             "outlinewidth": 0,
             "ticks": ""
            },
            "colorscale": [
             [
              0,
              "#0d0887"
             ],
             [
              0.1111111111111111,
              "#46039f"
             ],
             [
              0.2222222222222222,
              "#7201a8"
             ],
             [
              0.3333333333333333,
              "#9c179e"
             ],
             [
              0.4444444444444444,
              "#bd3786"
             ],
             [
              0.5555555555555556,
              "#d8576b"
             ],
             [
              0.6666666666666666,
              "#ed7953"
             ],
             [
              0.7777777777777778,
              "#fb9f3a"
             ],
             [
              0.8888888888888888,
              "#fdca26"
             ],
             [
              1,
              "#f0f921"
             ]
            ],
            "type": "histogram2d"
           }
          ],
          "histogram2dcontour": [
           {
            "colorbar": {
             "outlinewidth": 0,
             "ticks": ""
            },
            "colorscale": [
             [
              0,
              "#0d0887"
             ],
             [
              0.1111111111111111,
              "#46039f"
             ],
             [
              0.2222222222222222,
              "#7201a8"
             ],
             [
              0.3333333333333333,
              "#9c179e"
             ],
             [
              0.4444444444444444,
              "#bd3786"
             ],
             [
              0.5555555555555556,
              "#d8576b"
             ],
             [
              0.6666666666666666,
              "#ed7953"
             ],
             [
              0.7777777777777778,
              "#fb9f3a"
             ],
             [
              0.8888888888888888,
              "#fdca26"
             ],
             [
              1,
              "#f0f921"
             ]
            ],
            "type": "histogram2dcontour"
           }
          ],
          "mesh3d": [
           {
            "colorbar": {
             "outlinewidth": 0,
             "ticks": ""
            },
            "type": "mesh3d"
           }
          ],
          "parcoords": [
           {
            "line": {
             "colorbar": {
              "outlinewidth": 0,
              "ticks": ""
             }
            },
            "type": "parcoords"
           }
          ],
          "pie": [
           {
            "automargin": true,
            "type": "pie"
           }
          ],
          "scatter": [
           {
            "fillpattern": {
             "fillmode": "overlay",
             "size": 10,
             "solidity": 0.2
            },
            "type": "scatter"
           }
          ],
          "scatter3d": [
           {
            "line": {
             "colorbar": {
              "outlinewidth": 0,
              "ticks": ""
             }
            },
            "marker": {
             "colorbar": {
              "outlinewidth": 0,
              "ticks": ""
             }
            },
            "type": "scatter3d"
           }
          ],
          "scattercarpet": [
           {
            "marker": {
             "colorbar": {
              "outlinewidth": 0,
              "ticks": ""
             }
            },
            "type": "scattercarpet"
           }
          ],
          "scattergeo": [
           {
            "marker": {
             "colorbar": {
              "outlinewidth": 0,
              "ticks": ""
             }
            },
            "type": "scattergeo"
           }
          ],
          "scattergl": [
           {
            "marker": {
             "colorbar": {
              "outlinewidth": 0,
              "ticks": ""
             }
            },
            "type": "scattergl"
           }
          ],
          "scattermapbox": [
           {
            "marker": {
             "colorbar": {
              "outlinewidth": 0,
              "ticks": ""
             }
            },
            "type": "scattermapbox"
           }
          ],
          "scatterpolar": [
           {
            "marker": {
             "colorbar": {
              "outlinewidth": 0,
              "ticks": ""
             }
            },
            "type": "scatterpolar"
           }
          ],
          "scatterpolargl": [
           {
            "marker": {
             "colorbar": {
              "outlinewidth": 0,
              "ticks": ""
             }
            },
            "type": "scatterpolargl"
           }
          ],
          "scatterternary": [
           {
            "marker": {
             "colorbar": {
              "outlinewidth": 0,
              "ticks": ""
             }
            },
            "type": "scatterternary"
           }
          ],
          "surface": [
           {
            "colorbar": {
             "outlinewidth": 0,
             "ticks": ""
            },
            "colorscale": [
             [
              0,
              "#0d0887"
             ],
             [
              0.1111111111111111,
              "#46039f"
             ],
             [
              0.2222222222222222,
              "#7201a8"
             ],
             [
              0.3333333333333333,
              "#9c179e"
             ],
             [
              0.4444444444444444,
              "#bd3786"
             ],
             [
              0.5555555555555556,
              "#d8576b"
             ],
             [
              0.6666666666666666,
              "#ed7953"
             ],
             [
              0.7777777777777778,
              "#fb9f3a"
             ],
             [
              0.8888888888888888,
              "#fdca26"
             ],
             [
              1,
              "#f0f921"
             ]
            ],
            "type": "surface"
           }
          ],
          "table": [
           {
            "cells": {
             "fill": {
              "color": "#EBF0F8"
             },
             "line": {
              "color": "white"
             }
            },
            "header": {
             "fill": {
              "color": "#C8D4E3"
             },
             "line": {
              "color": "white"
             }
            },
            "type": "table"
           }
          ]
         },
         "layout": {
          "annotationdefaults": {
           "arrowcolor": "#2a3f5f",
           "arrowhead": 0,
           "arrowwidth": 1
          },
          "autotypenumbers": "strict",
          "coloraxis": {
           "colorbar": {
            "outlinewidth": 0,
            "ticks": ""
           }
          },
          "colorscale": {
           "diverging": [
            [
             0,
             "#8e0152"
            ],
            [
             0.1,
             "#c51b7d"
            ],
            [
             0.2,
             "#de77ae"
            ],
            [
             0.3,
             "#f1b6da"
            ],
            [
             0.4,
             "#fde0ef"
            ],
            [
             0.5,
             "#f7f7f7"
            ],
            [
             0.6,
             "#e6f5d0"
            ],
            [
             0.7,
             "#b8e186"
            ],
            [
             0.8,
             "#7fbc41"
            ],
            [
             0.9,
             "#4d9221"
            ],
            [
             1,
             "#276419"
            ]
           ],
           "sequential": [
            [
             0,
             "#0d0887"
            ],
            [
             0.1111111111111111,
             "#46039f"
            ],
            [
             0.2222222222222222,
             "#7201a8"
            ],
            [
             0.3333333333333333,
             "#9c179e"
            ],
            [
             0.4444444444444444,
             "#bd3786"
            ],
            [
             0.5555555555555556,
             "#d8576b"
            ],
            [
             0.6666666666666666,
             "#ed7953"
            ],
            [
             0.7777777777777778,
             "#fb9f3a"
            ],
            [
             0.8888888888888888,
             "#fdca26"
            ],
            [
             1,
             "#f0f921"
            ]
           ],
           "sequentialminus": [
            [
             0,
             "#0d0887"
            ],
            [
             0.1111111111111111,
             "#46039f"
            ],
            [
             0.2222222222222222,
             "#7201a8"
            ],
            [
             0.3333333333333333,
             "#9c179e"
            ],
            [
             0.4444444444444444,
             "#bd3786"
            ],
            [
             0.5555555555555556,
             "#d8576b"
            ],
            [
             0.6666666666666666,
             "#ed7953"
            ],
            [
             0.7777777777777778,
             "#fb9f3a"
            ],
            [
             0.8888888888888888,
             "#fdca26"
            ],
            [
             1,
             "#f0f921"
            ]
           ]
          },
          "colorway": [
           "#636efa",
           "#EF553B",
           "#00cc96",
           "#ab63fa",
           "#FFA15A",
           "#19d3f3",
           "#FF6692",
           "#B6E880",
           "#FF97FF",
           "#FECB52"
          ],
          "font": {
           "color": "#2a3f5f"
          },
          "geo": {
           "bgcolor": "white",
           "lakecolor": "white",
           "landcolor": "#E5ECF6",
           "showlakes": true,
           "showland": true,
           "subunitcolor": "white"
          },
          "hoverlabel": {
           "align": "left"
          },
          "hovermode": "closest",
          "mapbox": {
           "style": "light"
          },
          "paper_bgcolor": "white",
          "plot_bgcolor": "#E5ECF6",
          "polar": {
           "angularaxis": {
            "gridcolor": "white",
            "linecolor": "white",
            "ticks": ""
           },
           "bgcolor": "#E5ECF6",
           "radialaxis": {
            "gridcolor": "white",
            "linecolor": "white",
            "ticks": ""
           }
          },
          "scene": {
           "xaxis": {
            "backgroundcolor": "#E5ECF6",
            "gridcolor": "white",
            "gridwidth": 2,
            "linecolor": "white",
            "showbackground": true,
            "ticks": "",
            "zerolinecolor": "white"
           },
           "yaxis": {
            "backgroundcolor": "#E5ECF6",
            "gridcolor": "white",
            "gridwidth": 2,
            "linecolor": "white",
            "showbackground": true,
            "ticks": "",
            "zerolinecolor": "white"
           },
           "zaxis": {
            "backgroundcolor": "#E5ECF6",
            "gridcolor": "white",
            "gridwidth": 2,
            "linecolor": "white",
            "showbackground": true,
            "ticks": "",
            "zerolinecolor": "white"
           }
          },
          "shapedefaults": {
           "line": {
            "color": "#2a3f5f"
           }
          },
          "ternary": {
           "aaxis": {
            "gridcolor": "white",
            "linecolor": "white",
            "ticks": ""
           },
           "baxis": {
            "gridcolor": "white",
            "linecolor": "white",
            "ticks": ""
           },
           "bgcolor": "#E5ECF6",
           "caxis": {
            "gridcolor": "white",
            "linecolor": "white",
            "ticks": ""
           }
          },
          "title": {
           "x": 0.05
          },
          "xaxis": {
           "automargin": true,
           "gridcolor": "white",
           "linecolor": "white",
           "ticks": "",
           "title": {
            "standoff": 15
           },
           "zerolinecolor": "white",
           "zerolinewidth": 2
          },
          "yaxis": {
           "automargin": true,
           "gridcolor": "white",
           "linecolor": "white",
           "ticks": "",
           "title": {
            "standoff": 15
           },
           "zerolinecolor": "white",
           "zerolinewidth": 2
          }
         }
        },
        "title": {
         "text": "Vorhersage für den Wert PM2.5 in der Stadt mit LSTM-Modell"
        },
        "xaxis": {
         "anchor": "y",
         "domain": [
          0,
          1
         ],
         "title": {
          "text": "Zeit"
         }
        },
        "yaxis": {
         "anchor": "x",
         "domain": [
          0,
          1
         ],
         "title": {
          "text": "Wert"
         }
        }
       }
      }
     },
     "metadata": {},
     "output_type": "display_data"
    }
   ],
   "source": [
    "# Vorhersage für den ersten Schritt machen\n",
    "y_pred_step1 = model4.predict(X_test)\n",
    "\n",
    "# Vorbereiten der Daten für Plotly Express\n",
    "historical_data = values_spm10\n",
    "\n",
    "# Plotly Express-Figur erstellen\n",
    "fig = px.line(title='Vorhersage für den ersten Schritt mit LSTM-Modell')\n",
    "\n",
    "# Plot der historischen Daten\n",
    "fig.add_scatter(x=gesamt_index[:len(historical_data)], y=historical_data, mode='lines+markers', name='Historische Daten')\n",
    "\n",
    "# Plot der Vorhersage für den ersten Schritt\n",
    "x_values_pred = gesamt_index[len(historical_data):len(historical_data) + len(y_pred_step1)]\n",
    "fig.add_scatter(x=x_values_pred, y=y_pred_step1.flatten(), mode='lines+markers', name='Vorhersage')\n",
    "\n",
    "fig.update_layout(xaxis_title='Zeit', yaxis_title='Wert', title='Vorhersage für den Wert PM2.5 in der Stadt mit LSTM-Modell')\n",
    "fig.show()"
   ]
  },
  {
   "cell_type": "markdown",
   "metadata": {},
   "source": [
    "Nun wird eine Lineare Regression versucht"
   ]
  },
  {
   "cell_type": "code",
   "execution_count": 243,
   "metadata": {},
   "outputs": [],
   "source": [
    "# Datum in numerisches Format umwandeln\n",
    "stadt_PM10_average = stadt_PM10_average.copy()\n",
    "stadt_PM10_average.reset_index(inplace=True)\n",
    "stadt_PM10_average['datum'] = pd.to_datetime(stadt_PM10_average['datum'])\n",
    "stadt_PM10_average['datum_numeric'] = (stadt_PM10_average['datum'] - stadt_PM10_average['datum'].min()).dt.days\n",
    "\n",
    "# Lineare Regression\n",
    "X = stadt_PM10_average[['datum_numeric']]\n",
    "y = stadt_PM10_average['average_stadtpm10']\n",
    "model = LinearRegression()\n",
    "model.fit(X, y)\n",
    "stadt_PM10_average['average_stadtpm10_trend'] = model.predict(X)"
   ]
  },
  {
   "cell_type": "code",
   "execution_count": 244,
   "metadata": {},
   "outputs": [
    {
     "data": {
      "application/vnd.plotly.v1+json": {
       "config": {
        "plotlyServerURL": "https://plot.ly"
       },
       "data": [
        {
         "hovertemplate": "datum=%{x}<br>average_stadtpm10=%{y}<extra></extra>",
         "legendgroup": "",
         "marker": {
          "color": "#636efa",
          "symbol": "circle"
         },
         "mode": "markers",
         "name": "",
         "orientation": "v",
         "showlegend": false,
         "type": "scatter",
         "x": [
          "2022-04-07T00:00:00",
          "2022-04-09T00:00:00",
          "2022-04-11T00:00:00",
          "2022-04-13T00:00:00",
          "2022-04-15T00:00:00",
          "2022-04-17T00:00:00",
          "2022-04-19T00:00:00",
          "2022-04-21T00:00:00",
          "2022-04-23T00:00:00",
          "2022-04-25T00:00:00",
          "2022-04-27T00:00:00",
          "2022-04-29T00:00:00",
          "2022-05-01T00:00:00",
          "2022-05-03T00:00:00",
          "2022-05-05T00:00:00",
          "2022-05-07T00:00:00",
          "2022-05-09T00:00:00",
          "2022-05-11T00:00:00",
          "2022-05-13T00:00:00",
          "2022-05-15T00:00:00",
          "2022-05-17T00:00:00",
          "2022-05-19T00:00:00",
          "2022-05-21T00:00:00",
          "2022-05-23T00:00:00",
          "2022-05-25T00:00:00",
          "2022-05-27T00:00:00",
          "2022-05-29T00:00:00",
          "2022-06-01T00:00:00",
          "2022-06-03T00:00:00",
          "2022-06-05T00:00:00",
          "2022-06-07T00:00:00",
          "2022-06-09T00:00:00",
          "2022-06-11T00:00:00",
          "2022-06-13T00:00:00",
          "2022-06-15T00:00:00",
          "2022-06-17T00:00:00",
          "2022-06-19T00:00:00",
          "2022-06-21T00:00:00",
          "2022-06-23T00:00:00",
          "2022-06-25T00:00:00",
          "2022-06-27T00:00:00",
          "2022-06-29T00:00:00",
          "2022-07-01T00:00:00",
          "2022-07-03T00:00:00",
          "2022-07-05T00:00:00",
          "2022-07-07T00:00:00",
          "2022-07-09T00:00:00",
          "2022-07-11T00:00:00",
          "2022-07-13T00:00:00",
          "2022-07-15T00:00:00",
          "2022-07-17T00:00:00",
          "2022-07-19T00:00:00",
          "2022-07-21T00:00:00",
          "2022-07-23T00:00:00",
          "2022-07-25T00:00:00",
          "2022-07-27T00:00:00",
          "2022-07-29T00:00:00",
          "2022-08-01T00:00:00",
          "2022-08-03T00:00:00",
          "2022-08-05T00:00:00",
          "2022-08-07T00:00:00",
          "2022-08-09T00:00:00",
          "2022-08-11T00:00:00",
          "2022-08-13T00:00:00",
          "2022-08-15T00:00:00",
          "2022-08-17T00:00:00",
          "2022-08-19T00:00:00",
          "2022-08-21T00:00:00",
          "2022-08-23T00:00:00",
          "2022-08-25T00:00:00",
          "2022-08-27T00:00:00",
          "2022-08-29T00:00:00",
          "2022-09-01T00:00:00",
          "2022-09-03T00:00:00",
          "2022-09-05T00:00:00",
          "2022-09-07T00:00:00",
          "2022-09-09T00:00:00",
          "2022-09-11T00:00:00",
          "2022-09-13T00:00:00",
          "2022-09-15T00:00:00",
          "2022-09-17T00:00:00",
          "2022-09-19T00:00:00",
          "2022-09-21T00:00:00",
          "2022-09-23T00:00:00",
          "2022-09-25T00:00:00",
          "2022-09-27T00:00:00",
          "2022-09-29T00:00:00",
          "2022-10-01T00:00:00",
          "2022-10-03T00:00:00",
          "2022-10-05T00:00:00",
          "2022-10-07T00:00:00",
          "2022-10-09T00:00:00",
          "2022-10-11T00:00:00",
          "2022-10-13T00:00:00",
          "2022-10-15T00:00:00",
          "2022-10-17T00:00:00",
          "2022-10-19T00:00:00",
          "2022-10-21T00:00:00",
          "2022-10-23T00:00:00",
          "2022-10-25T00:00:00",
          "2022-10-27T00:00:00",
          "2022-10-29T00:00:00",
          "2022-11-01T00:00:00",
          "2022-11-03T00:00:00",
          "2022-11-05T00:00:00",
          "2022-11-07T00:00:00",
          "2022-11-09T00:00:00",
          "2022-11-11T00:00:00",
          "2022-11-13T00:00:00",
          "2022-11-15T00:00:00",
          "2022-11-17T00:00:00",
          "2022-11-19T00:00:00",
          "2022-11-21T00:00:00",
          "2022-11-23T00:00:00",
          "2022-11-25T00:00:00",
          "2022-11-27T00:00:00",
          "2022-11-29T00:00:00",
          "2022-12-01T00:00:00",
          "2022-12-03T00:00:00",
          "2022-12-05T00:00:00",
          "2022-12-07T00:00:00",
          "2022-12-09T00:00:00",
          "2022-12-11T00:00:00",
          "2022-12-13T00:00:00",
          "2022-12-15T00:00:00",
          "2022-12-17T00:00:00",
          "2022-12-19T00:00:00",
          "2022-12-21T00:00:00",
          "2022-12-23T00:00:00",
          "2022-12-25T00:00:00",
          "2022-12-27T00:00:00",
          "2022-12-29T00:00:00",
          "2023-01-01T00:00:00",
          "2023-01-03T00:00:00",
          "2023-01-05T00:00:00",
          "2023-01-07T00:00:00",
          "2023-01-09T00:00:00",
          "2023-01-11T00:00:00",
          "2023-01-13T00:00:00",
          "2023-01-15T00:00:00",
          "2023-01-17T00:00:00",
          "2023-01-19T00:00:00",
          "2023-01-21T00:00:00",
          "2023-01-23T00:00:00",
          "2023-01-25T00:00:00",
          "2023-01-27T00:00:00",
          "2023-01-29T00:00:00",
          "2023-02-01T00:00:00",
          "2023-02-03T00:00:00",
          "2023-02-05T00:00:00",
          "2023-02-07T00:00:00",
          "2023-02-09T00:00:00",
          "2023-02-11T00:00:00",
          "2023-02-13T00:00:00",
          "2023-02-15T00:00:00",
          "2023-02-17T00:00:00",
          "2023-02-19T00:00:00",
          "2023-02-21T00:00:00",
          "2023-02-23T00:00:00",
          "2023-02-25T00:00:00",
          "2023-02-27T00:00:00",
          "2023-03-01T00:00:00",
          "2023-03-03T00:00:00",
          "2023-03-05T00:00:00",
          "2023-03-07T00:00:00",
          "2023-03-09T00:00:00",
          "2023-03-11T00:00:00",
          "2023-03-13T00:00:00",
          "2023-03-17T00:00:00",
          "2023-03-19T00:00:00",
          "2023-03-21T00:00:00",
          "2023-03-25T00:00:00",
          "2023-03-27T00:00:00",
          "2023-03-29T00:00:00",
          "2023-04-01T00:00:00",
          "2023-04-03T00:00:00",
          "2023-04-05T00:00:00",
          "2023-04-07T00:00:00",
          "2023-04-09T00:00:00",
          "2023-04-11T00:00:00",
          "2023-04-13T00:00:00",
          "2023-04-15T00:00:00",
          "2023-04-17T00:00:00",
          "2023-04-19T00:00:00",
          "2023-04-21T00:00:00",
          "2023-04-23T00:00:00",
          "2023-04-25T00:00:00",
          "2023-04-27T00:00:00",
          "2023-04-29T00:00:00",
          "2023-05-01T00:00:00",
          "2023-05-03T00:00:00",
          "2023-05-05T00:00:00",
          "2023-05-07T00:00:00",
          "2023-05-09T00:00:00",
          "2023-05-11T00:00:00",
          "2023-05-13T00:00:00",
          "2023-05-15T00:00:00",
          "2023-05-17T00:00:00",
          "2023-05-19T00:00:00",
          "2023-05-21T00:00:00",
          "2023-05-23T00:00:00",
          "2023-05-25T00:00:00",
          "2023-05-27T00:00:00",
          "2023-05-29T00:00:00",
          "2023-06-01T00:00:00",
          "2023-06-03T00:00:00",
          "2023-06-05T00:00:00",
          "2023-06-07T00:00:00",
          "2023-06-09T00:00:00",
          "2023-06-11T00:00:00",
          "2023-06-13T00:00:00",
          "2023-06-15T00:00:00",
          "2023-06-17T00:00:00",
          "2023-06-19T00:00:00",
          "2023-06-21T00:00:00",
          "2023-06-23T00:00:00",
          "2023-06-25T00:00:00",
          "2023-06-27T00:00:00",
          "2023-06-29T00:00:00",
          "2023-07-01T00:00:00",
          "2023-07-03T00:00:00",
          "2023-07-05T00:00:00",
          "2023-07-07T00:00:00",
          "2023-07-09T00:00:00",
          "2023-07-11T00:00:00",
          "2023-07-13T00:00:00",
          "2023-07-15T00:00:00",
          "2023-07-17T00:00:00",
          "2023-07-19T00:00:00",
          "2023-07-21T00:00:00",
          "2023-07-23T00:00:00",
          "2023-07-25T00:00:00",
          "2023-07-27T00:00:00",
          "2023-07-29T00:00:00",
          "2023-08-01T00:00:00",
          "2023-08-03T00:00:00",
          "2023-08-05T00:00:00",
          "2023-08-07T00:00:00",
          "2023-08-09T00:00:00",
          "2023-08-11T00:00:00",
          "2023-08-13T00:00:00",
          "2023-08-15T00:00:00",
          "2023-08-17T00:00:00",
          "2023-08-19T00:00:00",
          "2023-08-21T00:00:00",
          "2023-08-23T00:00:00",
          "2023-08-25T00:00:00",
          "2023-08-27T00:00:00",
          "2023-08-29T00:00:00",
          "2023-09-01T00:00:00",
          "2023-09-03T00:00:00",
          "2023-09-05T00:00:00",
          "2023-09-07T00:00:00",
          "2023-09-09T00:00:00",
          "2023-09-11T00:00:00",
          "2023-09-13T00:00:00",
          "2023-09-15T00:00:00",
          "2023-09-17T00:00:00",
          "2023-09-19T00:00:00",
          "2023-09-21T00:00:00",
          "2023-09-23T00:00:00",
          "2023-09-25T00:00:00",
          "2023-09-27T00:00:00",
          "2023-09-29T00:00:00",
          "2023-10-01T00:00:00",
          "2023-10-03T00:00:00",
          "2023-10-05T00:00:00",
          "2023-10-07T00:00:00",
          "2023-10-09T00:00:00",
          "2023-10-11T00:00:00",
          "2023-10-13T00:00:00",
          "2023-10-15T00:00:00",
          "2023-10-17T00:00:00",
          "2023-10-19T00:00:00",
          "2023-10-21T00:00:00",
          "2023-10-23T00:00:00",
          "2023-10-25T00:00:00",
          "2023-10-27T00:00:00",
          "2023-10-29T00:00:00",
          "2023-11-01T00:00:00",
          "2023-11-03T00:00:00",
          "2023-11-05T00:00:00",
          "2023-11-07T00:00:00",
          "2023-11-09T00:00:00",
          "2023-11-11T00:00:00",
          "2023-11-13T00:00:00",
          "2023-11-15T00:00:00",
          "2023-11-17T00:00:00",
          "2023-11-19T00:00:00",
          "2023-11-21T00:00:00",
          "2023-11-23T00:00:00",
          "2023-11-25T00:00:00",
          "2023-11-27T00:00:00",
          "2023-11-29T00:00:00",
          "2023-12-01T00:00:00",
          "2023-12-03T00:00:00",
          "2023-12-05T00:00:00",
          "2023-12-07T00:00:00",
          "2023-12-09T00:00:00",
          "2023-12-11T00:00:00",
          "2023-12-13T00:00:00",
          "2023-12-15T00:00:00",
          "2023-12-17T00:00:00",
          "2023-12-19T00:00:00",
          "2023-12-21T00:00:00",
          "2023-12-23T00:00:00",
          "2023-12-25T00:00:00",
          "2023-12-27T00:00:00",
          "2023-12-29T00:00:00",
          "2024-01-01T00:00:00",
          "2024-01-03T00:00:00",
          "2024-01-05T00:00:00",
          "2024-01-07T00:00:00",
          "2024-01-09T00:00:00",
          "2024-01-11T00:00:00",
          "2024-01-13T00:00:00",
          "2024-01-15T00:00:00",
          "2024-01-17T00:00:00",
          "2024-01-19T00:00:00",
          "2024-01-21T00:00:00",
          "2024-01-23T00:00:00",
          "2024-01-25T00:00:00",
          "2024-01-27T00:00:00",
          "2024-01-29T00:00:00",
          "2024-02-01T00:00:00",
          "2024-02-03T00:00:00",
          "2024-02-05T00:00:00",
          "2024-02-07T00:00:00",
          "2024-02-09T00:00:00",
          "2024-02-11T00:00:00",
          "2024-02-13T00:00:00",
          "2024-02-15T00:00:00",
          "2024-02-17T00:00:00",
          "2024-02-19T00:00:00",
          "2024-02-21T00:00:00",
          "2024-02-23T00:00:00",
          "2024-02-25T00:00:00",
          "2024-02-27T00:00:00",
          "2024-02-29T00:00:00",
          "2024-03-01T00:00:00",
          "2024-03-03T00:00:00",
          "2024-03-05T00:00:00",
          "2024-03-07T00:00:00",
          "2024-03-09T00:00:00",
          "2024-03-11T00:00:00",
          "2024-03-13T00:00:00",
          "2024-03-15T00:00:00",
          "2024-04-09T00:00:00",
          "2024-04-11T00:00:00",
          "2024-04-13T00:00:00",
          "2024-04-15T00:00:00",
          "2024-04-17T00:00:00",
          "2024-04-19T00:00:00",
          "2024-04-21T00:00:00",
          "2024-04-23T00:00:00",
          "2024-04-25T00:00:00",
          "2024-04-27T00:00:00",
          "2024-04-29T00:00:00",
          "2024-05-01T00:00:00",
          "2024-05-03T00:00:00",
          "2024-05-05T00:00:00",
          "2024-05-07T00:00:00",
          "2024-05-09T00:00:00",
          "2024-05-11T00:00:00",
          "2024-05-13T00:00:00",
          "2024-05-15T00:00:00",
          "2024-05-17T00:00:00",
          "2024-05-19T00:00:00",
          "2024-05-21T00:00:00",
          "2024-05-23T00:00:00",
          "2024-05-25T00:00:00",
          "2024-05-27T00:00:00",
          "2024-05-29T00:00:00"
         ],
         "xaxis": "x",
         "y": [
          4.498333333333334,
          4.542666666666667,
          6.654444444444445,
          17.67375,
          8.767777777777779,
          4.3412500000000005,
          5.056666666666668,
          11.413999999999998,
          13.706666666666663,
          7.91,
          9.860666666666669,
          14.223333333333334,
          10.829999999999998,
          8.9375,
          8.171666666666667,
          10.74,
          7.877,
          7.321666666666665,
          5.72125,
          4.972,
          9.585833333333332,
          7.190666666666667,
          9.083333333333334,
          6.072500000000001,
          3.74,
          7.679166666666667,
          6.597000000000001,
          7.616666666666667,
          5.227777777777778,
          7.88,
          8.886,
          19.438,
          5.2575,
          5.366666666666667,
          12.1175,
          5.64125,
          12.388750000000002,
          6.7925,
          5.8340000000000005,
          4.116666666666666,
          12.813333333333334,
          3.876666666666667,
          4.303333333333334,
          5.691333333333333,
          5.079166666666667,
          7.256666666666668,
          3.6125,
          3.723333333333334,
          4.498333333333333,
          4.273333333333333,
          6.345000000000001,
          6.229333333333334,
          13.8375,
          13.382666666666664,
          6.346666666666668,
          6.9425,
          5.5875,
          16.04,
          5.65625,
          6.305,
          4.82,
          3.1825,
          6.040833333333333,
          5.21,
          8.327000000000002,
          11.76,
          16.077,
          5.82,
          6.268000000000002,
          6.205,
          9.358333333333334,
          10.791666666666666,
          2.5940000000000003,
          5.398888888888888,
          5.9275,
          11.595,
          9.76,
          12.478333333333332,
          6.642999999999999,
          5.3116666666666665,
          5.621999999999999,
          4.734999999999999,
          4.86375,
          7.383333333333333,
          9.767,
          2.62,
          9.403333333333334,
          10.245,
          5.24,
          5.34625,
          9.09375,
          7.093333333333334,
          10.70875,
          22.793333333333333,
          1.4675,
          6.404999999999999,
          6.956999999999999,
          12.259,
          9.445,
          8.21,
          8.756,
          11.97,
          11.827,
          8.291999999999998,
          4.634166666666667,
          5.916,
          4.0925,
          13.666249999999998,
          8.433333333333332,
          17.11125,
          8.743333333333334,
          5.45625,
          17.698333333333334,
          7.276666666666666,
          23.6075,
          15.15,
          38.38,
          49.366,
          33.443333333333335,
          32.616,
          9.004999999999999,
          26.595,
          24.452,
          21.99375,
          42.6775,
          45.4575,
          27.270833333333336,
          21.955,
          10.67125,
          22.04866666666667,
          3.2175,
          3.7433333333333336,
          8.545,
          5.205,
          10.67625,
          2.466666666666667,
          7.463333333333333,
          16.845,
          7.795,
          3.34,
          6.48,
          16.05625,
          18.776666666666664,
          28.32875,
          22.133750000000003,
          7.904999999999999,
          22.0975,
          17.5375,
          15.538,
          9.23222222222222,
          19.028333333333336,
          18.0725,
          21.888,
          12.59,
          31.363750000000003,
          15.95,
          5.133,
          43.175,
          38.126,
          2.83375,
          3.88875,
          19.225,
          28.56125,
          6.4037500000000005,
          9.338333333333331,
          24.805000000000003,
          7.9975,
          5.157500000000001,
          6.3725000000000005,
          3.815,
          19.215,
          7.431666666666666,
          4.61625,
          7.286249999999999,
          4.28625,
          5.7700000000000005,
          12.078333333333331,
          7.851666666666667,
          15.826666666666666,
          7.38125,
          7.503333333333333,
          13.385833333333334,
          11.928333333333336,
          9.506666666666666,
          13.15,
          9.159999999999998,
          7.321,
          7.210666666666667,
          22.738,
          7.5675,
          8.26,
          9.805833333333332,
          4.78125,
          7.506,
          7.8,
          6.6066666666666665,
          9.646,
          8.025833333333333,
          9.754444444444443,
          14.595,
          14.070666666666668,
          10.62,
          10.081111111111111,
          9.706666666666669,
          16.08888888888889,
          5.255,
          5.5233333333333325,
          10.525333333333332,
          6.016666666666667,
          8.317499999999999,
          14.02111111111111,
          3.953333333333333,
          8.834166666666667,
          6.78125,
          8.720833333333333,
          9.173333333333334,
          8.552222222222223,
          7.011666666666667,
          10.822666666666668,
          6.445,
          9.445,
          6.570833333333333,
          3.055,
          4.72,
          6.358888888888888,
          6.132000000000001,
          5.97,
          10.702222222222224,
          11.103333333333332,
          3.771111111111111,
          6.675,
          3.3512500000000003,
          6.173333333333333,
          6.109999999999999,
          5.285,
          3.527,
          4.145555555555556,
          6.129333333333333,
          9.912,
          3.65,
          10.204166666666666,
          8.846666666666666,
          8.755333333333333,
          9.184166666666666,
          7.221999999999999,
          5.551333333333333,
          13.403,
          5.71,
          8.018333333333333,
          5.015333333333334,
          6.416666666666667,
          5.628333333333333,
          6.6450000000000005,
          10.185333333333334,
          11.24,
          9.623333333333331,
          5.7490000000000006,
          5.260833333333333,
          13.505,
          5.021,
          2.88,
          2.4091666666666667,
          7.826666666666666,
          10.9175,
          10.28,
          10.946666666666667,
          5.311666666666667,
          11.725,
          8.06,
          15.475,
          14.74,
          5.8975,
          4.738333333333333,
          15.629166666666666,
          2.385,
          5.698,
          10.768,
          4.71,
          5.635555555555555,
          4.745,
          7.152666666666667,
          4.43,
          5.2325,
          2.873333333333333,
          6.478,
          7.689999999999999,
          4.621333333333333,
          14.399166666666666,
          19.938333333333333,
          12.304000000000002,
          12.295333333333335,
          6.151999999999999,
          6.11,
          15.30125,
          12.131666666666666,
          16.00733333333333,
          19.48333333333333,
          63.71583333333333,
          17.613333333333333,
          9.260833333333334,
          14.082,
          25.32,
          8.633333333333333,
          3.9216666666666655,
          6.41375,
          6.386666666666667,
          10.266666666666666,
          6.687,
          4.351333333333334,
          6.09,
          4.82,
          5.344666666666666,
          11.3675,
          15.182,
          37.63466666666667,
          13.491666666666667,
          7.778,
          13.214666666666664,
          16.92125,
          5.8975,
          20.315999999999995,
          20.787,
          15.555555555555555,
          7.016000000000001,
          16.198333333333334,
          7.592666666666666,
          13.585,
          11.2325,
          9.5825,
          26.085,
          12.54416666666667,
          13.426000000000002,
          15.092222222222224,
          7.647777777777779,
          10.405555555555557,
          4.009166666666666,
          3.733333333333334,
          22.866666666666667,
          17.265,
          25.76125,
          22.139333333333333,
          15.0025,
          18.96666666666667,
          26.161111111111108,
          13.000000000000002,
          14.848,
          62.03533333333333,
          14.326666666666666,
          5.896666666666666,
          7.083333333333333,
          8.47,
          3.6,
          8.916666666666666,
          2.3233333333333333,
          7.44,
          7.095,
          5.383333333333334,
          4.7075000000000005,
          8.705,
          3.285,
          2.765,
          8.897499999999999,
          9.2875,
          7.022000000000001,
          4.446666666666666,
          7.136,
          3.75,
          8.047500000000001,
          7.26,
          6.31,
          11.4925,
          5.54,
          4.866666666666666
         ],
         "yaxis": "y"
        },
        {
         "mode": "lines",
         "name": "Trend",
         "type": "scatter",
         "x": [
          "2022-04-07T00:00:00",
          "2022-04-09T00:00:00",
          "2022-04-11T00:00:00",
          "2022-04-13T00:00:00",
          "2022-04-15T00:00:00",
          "2022-04-17T00:00:00",
          "2022-04-19T00:00:00",
          "2022-04-21T00:00:00",
          "2022-04-23T00:00:00",
          "2022-04-25T00:00:00",
          "2022-04-27T00:00:00",
          "2022-04-29T00:00:00",
          "2022-05-01T00:00:00",
          "2022-05-03T00:00:00",
          "2022-05-05T00:00:00",
          "2022-05-07T00:00:00",
          "2022-05-09T00:00:00",
          "2022-05-11T00:00:00",
          "2022-05-13T00:00:00",
          "2022-05-15T00:00:00",
          "2022-05-17T00:00:00",
          "2022-05-19T00:00:00",
          "2022-05-21T00:00:00",
          "2022-05-23T00:00:00",
          "2022-05-25T00:00:00",
          "2022-05-27T00:00:00",
          "2022-05-29T00:00:00",
          "2022-06-01T00:00:00",
          "2022-06-03T00:00:00",
          "2022-06-05T00:00:00",
          "2022-06-07T00:00:00",
          "2022-06-09T00:00:00",
          "2022-06-11T00:00:00",
          "2022-06-13T00:00:00",
          "2022-06-15T00:00:00",
          "2022-06-17T00:00:00",
          "2022-06-19T00:00:00",
          "2022-06-21T00:00:00",
          "2022-06-23T00:00:00",
          "2022-06-25T00:00:00",
          "2022-06-27T00:00:00",
          "2022-06-29T00:00:00",
          "2022-07-01T00:00:00",
          "2022-07-03T00:00:00",
          "2022-07-05T00:00:00",
          "2022-07-07T00:00:00",
          "2022-07-09T00:00:00",
          "2022-07-11T00:00:00",
          "2022-07-13T00:00:00",
          "2022-07-15T00:00:00",
          "2022-07-17T00:00:00",
          "2022-07-19T00:00:00",
          "2022-07-21T00:00:00",
          "2022-07-23T00:00:00",
          "2022-07-25T00:00:00",
          "2022-07-27T00:00:00",
          "2022-07-29T00:00:00",
          "2022-08-01T00:00:00",
          "2022-08-03T00:00:00",
          "2022-08-05T00:00:00",
          "2022-08-07T00:00:00",
          "2022-08-09T00:00:00",
          "2022-08-11T00:00:00",
          "2022-08-13T00:00:00",
          "2022-08-15T00:00:00",
          "2022-08-17T00:00:00",
          "2022-08-19T00:00:00",
          "2022-08-21T00:00:00",
          "2022-08-23T00:00:00",
          "2022-08-25T00:00:00",
          "2022-08-27T00:00:00",
          "2022-08-29T00:00:00",
          "2022-09-01T00:00:00",
          "2022-09-03T00:00:00",
          "2022-09-05T00:00:00",
          "2022-09-07T00:00:00",
          "2022-09-09T00:00:00",
          "2022-09-11T00:00:00",
          "2022-09-13T00:00:00",
          "2022-09-15T00:00:00",
          "2022-09-17T00:00:00",
          "2022-09-19T00:00:00",
          "2022-09-21T00:00:00",
          "2022-09-23T00:00:00",
          "2022-09-25T00:00:00",
          "2022-09-27T00:00:00",
          "2022-09-29T00:00:00",
          "2022-10-01T00:00:00",
          "2022-10-03T00:00:00",
          "2022-10-05T00:00:00",
          "2022-10-07T00:00:00",
          "2022-10-09T00:00:00",
          "2022-10-11T00:00:00",
          "2022-10-13T00:00:00",
          "2022-10-15T00:00:00",
          "2022-10-17T00:00:00",
          "2022-10-19T00:00:00",
          "2022-10-21T00:00:00",
          "2022-10-23T00:00:00",
          "2022-10-25T00:00:00",
          "2022-10-27T00:00:00",
          "2022-10-29T00:00:00",
          "2022-11-01T00:00:00",
          "2022-11-03T00:00:00",
          "2022-11-05T00:00:00",
          "2022-11-07T00:00:00",
          "2022-11-09T00:00:00",
          "2022-11-11T00:00:00",
          "2022-11-13T00:00:00",
          "2022-11-15T00:00:00",
          "2022-11-17T00:00:00",
          "2022-11-19T00:00:00",
          "2022-11-21T00:00:00",
          "2022-11-23T00:00:00",
          "2022-11-25T00:00:00",
          "2022-11-27T00:00:00",
          "2022-11-29T00:00:00",
          "2022-12-01T00:00:00",
          "2022-12-03T00:00:00",
          "2022-12-05T00:00:00",
          "2022-12-07T00:00:00",
          "2022-12-09T00:00:00",
          "2022-12-11T00:00:00",
          "2022-12-13T00:00:00",
          "2022-12-15T00:00:00",
          "2022-12-17T00:00:00",
          "2022-12-19T00:00:00",
          "2022-12-21T00:00:00",
          "2022-12-23T00:00:00",
          "2022-12-25T00:00:00",
          "2022-12-27T00:00:00",
          "2022-12-29T00:00:00",
          "2023-01-01T00:00:00",
          "2023-01-03T00:00:00",
          "2023-01-05T00:00:00",
          "2023-01-07T00:00:00",
          "2023-01-09T00:00:00",
          "2023-01-11T00:00:00",
          "2023-01-13T00:00:00",
          "2023-01-15T00:00:00",
          "2023-01-17T00:00:00",
          "2023-01-19T00:00:00",
          "2023-01-21T00:00:00",
          "2023-01-23T00:00:00",
          "2023-01-25T00:00:00",
          "2023-01-27T00:00:00",
          "2023-01-29T00:00:00",
          "2023-02-01T00:00:00",
          "2023-02-03T00:00:00",
          "2023-02-05T00:00:00",
          "2023-02-07T00:00:00",
          "2023-02-09T00:00:00",
          "2023-02-11T00:00:00",
          "2023-02-13T00:00:00",
          "2023-02-15T00:00:00",
          "2023-02-17T00:00:00",
          "2023-02-19T00:00:00",
          "2023-02-21T00:00:00",
          "2023-02-23T00:00:00",
          "2023-02-25T00:00:00",
          "2023-02-27T00:00:00",
          "2023-03-01T00:00:00",
          "2023-03-03T00:00:00",
          "2023-03-05T00:00:00",
          "2023-03-07T00:00:00",
          "2023-03-09T00:00:00",
          "2023-03-11T00:00:00",
          "2023-03-13T00:00:00",
          "2023-03-17T00:00:00",
          "2023-03-19T00:00:00",
          "2023-03-21T00:00:00",
          "2023-03-25T00:00:00",
          "2023-03-27T00:00:00",
          "2023-03-29T00:00:00",
          "2023-04-01T00:00:00",
          "2023-04-03T00:00:00",
          "2023-04-05T00:00:00",
          "2023-04-07T00:00:00",
          "2023-04-09T00:00:00",
          "2023-04-11T00:00:00",
          "2023-04-13T00:00:00",
          "2023-04-15T00:00:00",
          "2023-04-17T00:00:00",
          "2023-04-19T00:00:00",
          "2023-04-21T00:00:00",
          "2023-04-23T00:00:00",
          "2023-04-25T00:00:00",
          "2023-04-27T00:00:00",
          "2023-04-29T00:00:00",
          "2023-05-01T00:00:00",
          "2023-05-03T00:00:00",
          "2023-05-05T00:00:00",
          "2023-05-07T00:00:00",
          "2023-05-09T00:00:00",
          "2023-05-11T00:00:00",
          "2023-05-13T00:00:00",
          "2023-05-15T00:00:00",
          "2023-05-17T00:00:00",
          "2023-05-19T00:00:00",
          "2023-05-21T00:00:00",
          "2023-05-23T00:00:00",
          "2023-05-25T00:00:00",
          "2023-05-27T00:00:00",
          "2023-05-29T00:00:00",
          "2023-06-01T00:00:00",
          "2023-06-03T00:00:00",
          "2023-06-05T00:00:00",
          "2023-06-07T00:00:00",
          "2023-06-09T00:00:00",
          "2023-06-11T00:00:00",
          "2023-06-13T00:00:00",
          "2023-06-15T00:00:00",
          "2023-06-17T00:00:00",
          "2023-06-19T00:00:00",
          "2023-06-21T00:00:00",
          "2023-06-23T00:00:00",
          "2023-06-25T00:00:00",
          "2023-06-27T00:00:00",
          "2023-06-29T00:00:00",
          "2023-07-01T00:00:00",
          "2023-07-03T00:00:00",
          "2023-07-05T00:00:00",
          "2023-07-07T00:00:00",
          "2023-07-09T00:00:00",
          "2023-07-11T00:00:00",
          "2023-07-13T00:00:00",
          "2023-07-15T00:00:00",
          "2023-07-17T00:00:00",
          "2023-07-19T00:00:00",
          "2023-07-21T00:00:00",
          "2023-07-23T00:00:00",
          "2023-07-25T00:00:00",
          "2023-07-27T00:00:00",
          "2023-07-29T00:00:00",
          "2023-08-01T00:00:00",
          "2023-08-03T00:00:00",
          "2023-08-05T00:00:00",
          "2023-08-07T00:00:00",
          "2023-08-09T00:00:00",
          "2023-08-11T00:00:00",
          "2023-08-13T00:00:00",
          "2023-08-15T00:00:00",
          "2023-08-17T00:00:00",
          "2023-08-19T00:00:00",
          "2023-08-21T00:00:00",
          "2023-08-23T00:00:00",
          "2023-08-25T00:00:00",
          "2023-08-27T00:00:00",
          "2023-08-29T00:00:00",
          "2023-09-01T00:00:00",
          "2023-09-03T00:00:00",
          "2023-09-05T00:00:00",
          "2023-09-07T00:00:00",
          "2023-09-09T00:00:00",
          "2023-09-11T00:00:00",
          "2023-09-13T00:00:00",
          "2023-09-15T00:00:00",
          "2023-09-17T00:00:00",
          "2023-09-19T00:00:00",
          "2023-09-21T00:00:00",
          "2023-09-23T00:00:00",
          "2023-09-25T00:00:00",
          "2023-09-27T00:00:00",
          "2023-09-29T00:00:00",
          "2023-10-01T00:00:00",
          "2023-10-03T00:00:00",
          "2023-10-05T00:00:00",
          "2023-10-07T00:00:00",
          "2023-10-09T00:00:00",
          "2023-10-11T00:00:00",
          "2023-10-13T00:00:00",
          "2023-10-15T00:00:00",
          "2023-10-17T00:00:00",
          "2023-10-19T00:00:00",
          "2023-10-21T00:00:00",
          "2023-10-23T00:00:00",
          "2023-10-25T00:00:00",
          "2023-10-27T00:00:00",
          "2023-10-29T00:00:00",
          "2023-11-01T00:00:00",
          "2023-11-03T00:00:00",
          "2023-11-05T00:00:00",
          "2023-11-07T00:00:00",
          "2023-11-09T00:00:00",
          "2023-11-11T00:00:00",
          "2023-11-13T00:00:00",
          "2023-11-15T00:00:00",
          "2023-11-17T00:00:00",
          "2023-11-19T00:00:00",
          "2023-11-21T00:00:00",
          "2023-11-23T00:00:00",
          "2023-11-25T00:00:00",
          "2023-11-27T00:00:00",
          "2023-11-29T00:00:00",
          "2023-12-01T00:00:00",
          "2023-12-03T00:00:00",
          "2023-12-05T00:00:00",
          "2023-12-07T00:00:00",
          "2023-12-09T00:00:00",
          "2023-12-11T00:00:00",
          "2023-12-13T00:00:00",
          "2023-12-15T00:00:00",
          "2023-12-17T00:00:00",
          "2023-12-19T00:00:00",
          "2023-12-21T00:00:00",
          "2023-12-23T00:00:00",
          "2023-12-25T00:00:00",
          "2023-12-27T00:00:00",
          "2023-12-29T00:00:00",
          "2024-01-01T00:00:00",
          "2024-01-03T00:00:00",
          "2024-01-05T00:00:00",
          "2024-01-07T00:00:00",
          "2024-01-09T00:00:00",
          "2024-01-11T00:00:00",
          "2024-01-13T00:00:00",
          "2024-01-15T00:00:00",
          "2024-01-17T00:00:00",
          "2024-01-19T00:00:00",
          "2024-01-21T00:00:00",
          "2024-01-23T00:00:00",
          "2024-01-25T00:00:00",
          "2024-01-27T00:00:00",
          "2024-01-29T00:00:00",
          "2024-02-01T00:00:00",
          "2024-02-03T00:00:00",
          "2024-02-05T00:00:00",
          "2024-02-07T00:00:00",
          "2024-02-09T00:00:00",
          "2024-02-11T00:00:00",
          "2024-02-13T00:00:00",
          "2024-02-15T00:00:00",
          "2024-02-17T00:00:00",
          "2024-02-19T00:00:00",
          "2024-02-21T00:00:00",
          "2024-02-23T00:00:00",
          "2024-02-25T00:00:00",
          "2024-02-27T00:00:00",
          "2024-02-29T00:00:00",
          "2024-03-01T00:00:00",
          "2024-03-03T00:00:00",
          "2024-03-05T00:00:00",
          "2024-03-07T00:00:00",
          "2024-03-09T00:00:00",
          "2024-03-11T00:00:00",
          "2024-03-13T00:00:00",
          "2024-03-15T00:00:00",
          "2024-04-09T00:00:00",
          "2024-04-11T00:00:00",
          "2024-04-13T00:00:00",
          "2024-04-15T00:00:00",
          "2024-04-17T00:00:00",
          "2024-04-19T00:00:00",
          "2024-04-21T00:00:00",
          "2024-04-23T00:00:00",
          "2024-04-25T00:00:00",
          "2024-04-27T00:00:00",
          "2024-04-29T00:00:00",
          "2024-05-01T00:00:00",
          "2024-05-03T00:00:00",
          "2024-05-05T00:00:00",
          "2024-05-07T00:00:00",
          "2024-05-09T00:00:00",
          "2024-05-11T00:00:00",
          "2024-05-13T00:00:00",
          "2024-05-15T00:00:00",
          "2024-05-17T00:00:00",
          "2024-05-19T00:00:00",
          "2024-05-21T00:00:00",
          "2024-05-23T00:00:00",
          "2024-05-25T00:00:00",
          "2024-05-27T00:00:00",
          "2024-05-29T00:00:00"
         ],
         "y": [
          9.82302114511492,
          9.826996844427098,
          9.830972543739277,
          9.834948243051457,
          9.838923942363635,
          9.842899641675814,
          9.846875340987992,
          9.850851040300173,
          9.854826739612351,
          9.85880243892453,
          9.862778138236708,
          9.866753837548886,
          9.870729536861067,
          9.874705236173245,
          9.878680935485423,
          9.882656634797602,
          9.886632334109782,
          9.89060803342196,
          9.894583732734139,
          9.898559432046317,
          9.902535131358496,
          9.906510830670676,
          9.910486529982855,
          9.914462229295033,
          9.918437928607212,
          9.922413627919392,
          9.92638932723157,
          9.932352876199838,
          9.936328575512016,
          9.940304274824197,
          9.944279974136375,
          9.948255673448553,
          9.952231372760732,
          9.95620707207291,
          9.96018277138509,
          9.964158470697269,
          9.968134170009447,
          9.972109869321626,
          9.976085568633804,
          9.980061267945985,
          9.984036967258163,
          9.988012666570341,
          9.99198836588252,
          9.9959640651947,
          9.999939764506879,
          10.003915463819057,
          10.007891163131236,
          10.011866862443414,
          10.015842561755594,
          10.019818261067773,
          10.023793960379951,
          10.02776965969213,
          10.03174535900431,
          10.035721058316488,
          10.039696757628667,
          10.043672456940845,
          10.047648156253024,
          10.053611705221293,
          10.057587404533471,
          10.06156310384565,
          10.065538803157828,
          10.069514502470009,
          10.073490201782187,
          10.077465901094365,
          10.081441600406544,
          10.085417299718724,
          10.089392999030903,
          10.093368698343081,
          10.09734439765526,
          10.101320096967438,
          10.105295796279618,
          10.109271495591797,
          10.115235044560064,
          10.119210743872243,
          10.123186443184423,
          10.127162142496601,
          10.13113784180878,
          10.135113541120958,
          10.139089240433137,
          10.143064939745317,
          10.147040639057495,
          10.151016338369674,
          10.154992037681852,
          10.158967736994033,
          10.162943436306211,
          10.16691913561839,
          10.170894834930568,
          10.174870534242746,
          10.178846233554927,
          10.182821932867105,
          10.186797632179283,
          10.190773331491462,
          10.194749030803642,
          10.19872473011582,
          10.202700429427999,
          10.206676128740177,
          10.210651828052356,
          10.214627527364536,
          10.218603226676715,
          10.222578925988893,
          10.226554625301072,
          10.230530324613252,
          10.23649387358152,
          10.240469572893698,
          10.244445272205876,
          10.248420971518057,
          10.252396670830235,
          10.256372370142413,
          10.260348069454592,
          10.26432376876677,
          10.26829946807895,
          10.272275167391129,
          10.276250866703307,
          10.280226566015486,
          10.284202265327666,
          10.288177964639845,
          10.292153663952023,
          10.296129363264201,
          10.30010506257638,
          10.30408076188856,
          10.308056461200739,
          10.312032160512917,
          10.316007859825095,
          10.319983559137276,
          10.323959258449454,
          10.327934957761633,
          10.331910657073811,
          10.33588635638599,
          10.33986205569817,
          10.343837755010348,
          10.347813454322527,
          10.351789153634705,
          10.357752702602975,
          10.361728401915153,
          10.365704101227331,
          10.36967980053951,
          10.37365549985169,
          10.377631199163869,
          10.381606898476047,
          10.385582597788225,
          10.389558297100404,
          10.393533996412584,
          10.397509695724763,
          10.401485395036941,
          10.40546109434912,
          10.4094367936613,
          10.413412492973478,
          10.419376041941746,
          10.423351741253924,
          10.427327440566103,
          10.431303139878283,
          10.435278839190461,
          10.43925453850264,
          10.443230237814818,
          10.447205937126999,
          10.451181636439177,
          10.455157335751355,
          10.459133035063534,
          10.463108734375712,
          10.467084433687893,
          10.471060133000071,
          10.47503583231225,
          10.479011531624428,
          10.482987230936608,
          10.486962930248787,
          10.490938629560965,
          10.494914328873143,
          10.498890028185322,
          10.50684142680968,
          10.510817126121859,
          10.514792825434037,
          10.522744224058396,
          10.526719923370575,
          10.530695622682753,
          10.53665917165102,
          10.540634870963201,
          10.54461057027538,
          10.548586269587558,
          10.552561968899736,
          10.556537668211917,
          10.560513367524095,
          10.564489066836273,
          10.568464766148452,
          10.57244046546063,
          10.57641616477281,
          10.580391864084989,
          10.584367563397167,
          10.588343262709346,
          10.592318962021526,
          10.596294661333705,
          10.600270360645883,
          10.604246059958061,
          10.60822175927024,
          10.61219745858242,
          10.616173157894599,
          10.620148857206777,
          10.624124556518955,
          10.628100255831136,
          10.632075955143314,
          10.636051654455493,
          10.640027353767671,
          10.64400305307985,
          10.64797875239203,
          10.651954451704208,
          10.657918000672476,
          10.661893699984654,
          10.665869399296835,
          10.669845098609013,
          10.673820797921191,
          10.67779649723337,
          10.68177219654555,
          10.685747895857729,
          10.689723595169907,
          10.693699294482085,
          10.697674993794264,
          10.701650693106444,
          10.705626392418623,
          10.709602091730801,
          10.71357779104298,
          10.71755349035516,
          10.721529189667338,
          10.725504888979517,
          10.729480588291695,
          10.733456287603873,
          10.737431986916054,
          10.741407686228232,
          10.74538338554041,
          10.749359084852589,
          10.753334784164768,
          10.757310483476948,
          10.761286182789126,
          10.765261882101305,
          10.769237581413483,
          10.773213280725663,
          10.779176829693931,
          10.78315252900611,
          10.787128228318288,
          10.791103927630468,
          10.795079626942647,
          10.799055326254825,
          10.803031025567003,
          10.807006724879184,
          10.810982424191362,
          10.81495812350354,
          10.818933822815719,
          10.822909522127897,
          10.826885221440078,
          10.830860920752256,
          10.834836620064435,
          10.840800169032702,
          10.844775868344882,
          10.848751567657061,
          10.85272726696924,
          10.856702966281418,
          10.860678665593596,
          10.864654364905777,
          10.868630064217955,
          10.872605763530133,
          10.876581462842312,
          10.880557162154492,
          10.88453286146667,
          10.888508560778849,
          10.892484260091027,
          10.896459959403206,
          10.900435658715386,
          10.904411358027565,
          10.908387057339743,
          10.912362756651921,
          10.916338455964102,
          10.92031415527628,
          10.924289854588459,
          10.928265553900637,
          10.932241253212815,
          10.936216952524996,
          10.940192651837174,
          10.944168351149353,
          10.948144050461531,
          10.952119749773711,
          10.95609544908589,
          10.962058998054157,
          10.966034697366336,
          10.970010396678514,
          10.973986095990695,
          10.977961795302873,
          10.981937494615051,
          10.98591319392723,
          10.98988889323941,
          10.993864592551589,
          10.997840291863767,
          11.001815991175945,
          11.005791690488124,
          11.009767389800304,
          11.013743089112483,
          11.017718788424661,
          11.02169448773684,
          11.02567018704902,
          11.029645886361198,
          11.033621585673377,
          11.037597284985555,
          11.041572984297733,
          11.045548683609914,
          11.049524382922092,
          11.05350008223427,
          11.057475781546449,
          11.06145148085863,
          11.065427180170808,
          11.069402879482986,
          11.073378578795165,
          11.077354278107343,
          11.083317827075613,
          11.087293526387791,
          11.09126922569997,
          11.09524492501215,
          11.099220624324328,
          11.103196323636507,
          11.107172022948685,
          11.111147722260863,
          11.115123421573044,
          11.119099120885222,
          11.1230748201974,
          11.127050519509579,
          11.13102621882176,
          11.135001918133938,
          11.138977617446116,
          11.144941166414384,
          11.148916865726562,
          11.152892565038742,
          11.156868264350921,
          11.1608439636631,
          11.164819662975278,
          11.168795362287458,
          11.172771061599637,
          11.176746760911815,
          11.180722460223993,
          11.184698159536172,
          11.188673858848352,
          11.19264955816053,
          11.196625257472709,
          11.200600956784887,
          11.202588806440977,
          11.206564505753157,
          11.210540205065335,
          11.214515904377514,
          11.218491603689692,
          11.22246730300187,
          11.226443002314051,
          11.23041870162623,
          11.280114943028465,
          11.284090642340644,
          11.288066341652822,
          11.292042040965,
          11.29601774027718,
          11.29999343958936,
          11.303969138901538,
          11.307944838213716,
          11.311920537525896,
          11.315896236838075,
          11.319871936150253,
          11.323847635462432,
          11.32782333477461,
          11.33179903408679,
          11.335774733398969,
          11.339750432711147,
          11.343726132023326,
          11.347701831335506,
          11.351677530647684,
          11.355653229959863,
          11.359628929272041,
          11.36360462858422,
          11.367580327896398,
          11.371556027208578,
          11.375531726520757,
          11.379507425832935
         ]
        }
       ],
       "layout": {
        "legend": {
         "tracegroupgap": 0
        },
        "template": {
         "data": {
          "bar": [
           {
            "error_x": {
             "color": "#2a3f5f"
            },
            "error_y": {
             "color": "#2a3f5f"
            },
            "marker": {
             "line": {
              "color": "#E5ECF6",
              "width": 0.5
             },
             "pattern": {
              "fillmode": "overlay",
              "size": 10,
              "solidity": 0.2
             }
            },
            "type": "bar"
           }
          ],
          "barpolar": [
           {
            "marker": {
             "line": {
              "color": "#E5ECF6",
              "width": 0.5
             },
             "pattern": {
              "fillmode": "overlay",
              "size": 10,
              "solidity": 0.2
             }
            },
            "type": "barpolar"
           }
          ],
          "carpet": [
           {
            "aaxis": {
             "endlinecolor": "#2a3f5f",
             "gridcolor": "white",
             "linecolor": "white",
             "minorgridcolor": "white",
             "startlinecolor": "#2a3f5f"
            },
            "baxis": {
             "endlinecolor": "#2a3f5f",
             "gridcolor": "white",
             "linecolor": "white",
             "minorgridcolor": "white",
             "startlinecolor": "#2a3f5f"
            },
            "type": "carpet"
           }
          ],
          "choropleth": [
           {
            "colorbar": {
             "outlinewidth": 0,
             "ticks": ""
            },
            "type": "choropleth"
           }
          ],
          "contour": [
           {
            "colorbar": {
             "outlinewidth": 0,
             "ticks": ""
            },
            "colorscale": [
             [
              0,
              "#0d0887"
             ],
             [
              0.1111111111111111,
              "#46039f"
             ],
             [
              0.2222222222222222,
              "#7201a8"
             ],
             [
              0.3333333333333333,
              "#9c179e"
             ],
             [
              0.4444444444444444,
              "#bd3786"
             ],
             [
              0.5555555555555556,
              "#d8576b"
             ],
             [
              0.6666666666666666,
              "#ed7953"
             ],
             [
              0.7777777777777778,
              "#fb9f3a"
             ],
             [
              0.8888888888888888,
              "#fdca26"
             ],
             [
              1,
              "#f0f921"
             ]
            ],
            "type": "contour"
           }
          ],
          "contourcarpet": [
           {
            "colorbar": {
             "outlinewidth": 0,
             "ticks": ""
            },
            "type": "contourcarpet"
           }
          ],
          "heatmap": [
           {
            "colorbar": {
             "outlinewidth": 0,
             "ticks": ""
            },
            "colorscale": [
             [
              0,
              "#0d0887"
             ],
             [
              0.1111111111111111,
              "#46039f"
             ],
             [
              0.2222222222222222,
              "#7201a8"
             ],
             [
              0.3333333333333333,
              "#9c179e"
             ],
             [
              0.4444444444444444,
              "#bd3786"
             ],
             [
              0.5555555555555556,
              "#d8576b"
             ],
             [
              0.6666666666666666,
              "#ed7953"
             ],
             [
              0.7777777777777778,
              "#fb9f3a"
             ],
             [
              0.8888888888888888,
              "#fdca26"
             ],
             [
              1,
              "#f0f921"
             ]
            ],
            "type": "heatmap"
           }
          ],
          "heatmapgl": [
           {
            "colorbar": {
             "outlinewidth": 0,
             "ticks": ""
            },
            "colorscale": [
             [
              0,
              "#0d0887"
             ],
             [
              0.1111111111111111,
              "#46039f"
             ],
             [
              0.2222222222222222,
              "#7201a8"
             ],
             [
              0.3333333333333333,
              "#9c179e"
             ],
             [
              0.4444444444444444,
              "#bd3786"
             ],
             [
              0.5555555555555556,
              "#d8576b"
             ],
             [
              0.6666666666666666,
              "#ed7953"
             ],
             [
              0.7777777777777778,
              "#fb9f3a"
             ],
             [
              0.8888888888888888,
              "#fdca26"
             ],
             [
              1,
              "#f0f921"
             ]
            ],
            "type": "heatmapgl"
           }
          ],
          "histogram": [
           {
            "marker": {
             "pattern": {
              "fillmode": "overlay",
              "size": 10,
              "solidity": 0.2
             }
            },
            "type": "histogram"
           }
          ],
          "histogram2d": [
           {
            "colorbar": {
             "outlinewidth": 0,
             "ticks": ""
            },
            "colorscale": [
             [
              0,
              "#0d0887"
             ],
             [
              0.1111111111111111,
              "#46039f"
             ],
             [
              0.2222222222222222,
              "#7201a8"
             ],
             [
              0.3333333333333333,
              "#9c179e"
             ],
             [
              0.4444444444444444,
              "#bd3786"
             ],
             [
              0.5555555555555556,
              "#d8576b"
             ],
             [
              0.6666666666666666,
              "#ed7953"
             ],
             [
              0.7777777777777778,
              "#fb9f3a"
             ],
             [
              0.8888888888888888,
              "#fdca26"
             ],
             [
              1,
              "#f0f921"
             ]
            ],
            "type": "histogram2d"
           }
          ],
          "histogram2dcontour": [
           {
            "colorbar": {
             "outlinewidth": 0,
             "ticks": ""
            },
            "colorscale": [
             [
              0,
              "#0d0887"
             ],
             [
              0.1111111111111111,
              "#46039f"
             ],
             [
              0.2222222222222222,
              "#7201a8"
             ],
             [
              0.3333333333333333,
              "#9c179e"
             ],
             [
              0.4444444444444444,
              "#bd3786"
             ],
             [
              0.5555555555555556,
              "#d8576b"
             ],
             [
              0.6666666666666666,
              "#ed7953"
             ],
             [
              0.7777777777777778,
              "#fb9f3a"
             ],
             [
              0.8888888888888888,
              "#fdca26"
             ],
             [
              1,
              "#f0f921"
             ]
            ],
            "type": "histogram2dcontour"
           }
          ],
          "mesh3d": [
           {
            "colorbar": {
             "outlinewidth": 0,
             "ticks": ""
            },
            "type": "mesh3d"
           }
          ],
          "parcoords": [
           {
            "line": {
             "colorbar": {
              "outlinewidth": 0,
              "ticks": ""
             }
            },
            "type": "parcoords"
           }
          ],
          "pie": [
           {
            "automargin": true,
            "type": "pie"
           }
          ],
          "scatter": [
           {
            "fillpattern": {
             "fillmode": "overlay",
             "size": 10,
             "solidity": 0.2
            },
            "type": "scatter"
           }
          ],
          "scatter3d": [
           {
            "line": {
             "colorbar": {
              "outlinewidth": 0,
              "ticks": ""
             }
            },
            "marker": {
             "colorbar": {
              "outlinewidth": 0,
              "ticks": ""
             }
            },
            "type": "scatter3d"
           }
          ],
          "scattercarpet": [
           {
            "marker": {
             "colorbar": {
              "outlinewidth": 0,
              "ticks": ""
             }
            },
            "type": "scattercarpet"
           }
          ],
          "scattergeo": [
           {
            "marker": {
             "colorbar": {
              "outlinewidth": 0,
              "ticks": ""
             }
            },
            "type": "scattergeo"
           }
          ],
          "scattergl": [
           {
            "marker": {
             "colorbar": {
              "outlinewidth": 0,
              "ticks": ""
             }
            },
            "type": "scattergl"
           }
          ],
          "scattermapbox": [
           {
            "marker": {
             "colorbar": {
              "outlinewidth": 0,
              "ticks": ""
             }
            },
            "type": "scattermapbox"
           }
          ],
          "scatterpolar": [
           {
            "marker": {
             "colorbar": {
              "outlinewidth": 0,
              "ticks": ""
             }
            },
            "type": "scatterpolar"
           }
          ],
          "scatterpolargl": [
           {
            "marker": {
             "colorbar": {
              "outlinewidth": 0,
              "ticks": ""
             }
            },
            "type": "scatterpolargl"
           }
          ],
          "scatterternary": [
           {
            "marker": {
             "colorbar": {
              "outlinewidth": 0,
              "ticks": ""
             }
            },
            "type": "scatterternary"
           }
          ],
          "surface": [
           {
            "colorbar": {
             "outlinewidth": 0,
             "ticks": ""
            },
            "colorscale": [
             [
              0,
              "#0d0887"
             ],
             [
              0.1111111111111111,
              "#46039f"
             ],
             [
              0.2222222222222222,
              "#7201a8"
             ],
             [
              0.3333333333333333,
              "#9c179e"
             ],
             [
              0.4444444444444444,
              "#bd3786"
             ],
             [
              0.5555555555555556,
              "#d8576b"
             ],
             [
              0.6666666666666666,
              "#ed7953"
             ],
             [
              0.7777777777777778,
              "#fb9f3a"
             ],
             [
              0.8888888888888888,
              "#fdca26"
             ],
             [
              1,
              "#f0f921"
             ]
            ],
            "type": "surface"
           }
          ],
          "table": [
           {
            "cells": {
             "fill": {
              "color": "#EBF0F8"
             },
             "line": {
              "color": "white"
             }
            },
            "header": {
             "fill": {
              "color": "#C8D4E3"
             },
             "line": {
              "color": "white"
             }
            },
            "type": "table"
           }
          ]
         },
         "layout": {
          "annotationdefaults": {
           "arrowcolor": "#2a3f5f",
           "arrowhead": 0,
           "arrowwidth": 1
          },
          "autotypenumbers": "strict",
          "coloraxis": {
           "colorbar": {
            "outlinewidth": 0,
            "ticks": ""
           }
          },
          "colorscale": {
           "diverging": [
            [
             0,
             "#8e0152"
            ],
            [
             0.1,
             "#c51b7d"
            ],
            [
             0.2,
             "#de77ae"
            ],
            [
             0.3,
             "#f1b6da"
            ],
            [
             0.4,
             "#fde0ef"
            ],
            [
             0.5,
             "#f7f7f7"
            ],
            [
             0.6,
             "#e6f5d0"
            ],
            [
             0.7,
             "#b8e186"
            ],
            [
             0.8,
             "#7fbc41"
            ],
            [
             0.9,
             "#4d9221"
            ],
            [
             1,
             "#276419"
            ]
           ],
           "sequential": [
            [
             0,
             "#0d0887"
            ],
            [
             0.1111111111111111,
             "#46039f"
            ],
            [
             0.2222222222222222,
             "#7201a8"
            ],
            [
             0.3333333333333333,
             "#9c179e"
            ],
            [
             0.4444444444444444,
             "#bd3786"
            ],
            [
             0.5555555555555556,
             "#d8576b"
            ],
            [
             0.6666666666666666,
             "#ed7953"
            ],
            [
             0.7777777777777778,
             "#fb9f3a"
            ],
            [
             0.8888888888888888,
             "#fdca26"
            ],
            [
             1,
             "#f0f921"
            ]
           ],
           "sequentialminus": [
            [
             0,
             "#0d0887"
            ],
            [
             0.1111111111111111,
             "#46039f"
            ],
            [
             0.2222222222222222,
             "#7201a8"
            ],
            [
             0.3333333333333333,
             "#9c179e"
            ],
            [
             0.4444444444444444,
             "#bd3786"
            ],
            [
             0.5555555555555556,
             "#d8576b"
            ],
            [
             0.6666666666666666,
             "#ed7953"
            ],
            [
             0.7777777777777778,
             "#fb9f3a"
            ],
            [
             0.8888888888888888,
             "#fdca26"
            ],
            [
             1,
             "#f0f921"
            ]
           ]
          },
          "colorway": [
           "#636efa",
           "#EF553B",
           "#00cc96",
           "#ab63fa",
           "#FFA15A",
           "#19d3f3",
           "#FF6692",
           "#B6E880",
           "#FF97FF",
           "#FECB52"
          ],
          "font": {
           "color": "#2a3f5f"
          },
          "geo": {
           "bgcolor": "white",
           "lakecolor": "white",
           "landcolor": "#E5ECF6",
           "showlakes": true,
           "showland": true,
           "subunitcolor": "white"
          },
          "hoverlabel": {
           "align": "left"
          },
          "hovermode": "closest",
          "mapbox": {
           "style": "light"
          },
          "paper_bgcolor": "white",
          "plot_bgcolor": "#E5ECF6",
          "polar": {
           "angularaxis": {
            "gridcolor": "white",
            "linecolor": "white",
            "ticks": ""
           },
           "bgcolor": "#E5ECF6",
           "radialaxis": {
            "gridcolor": "white",
            "linecolor": "white",
            "ticks": ""
           }
          },
          "scene": {
           "xaxis": {
            "backgroundcolor": "#E5ECF6",
            "gridcolor": "white",
            "gridwidth": 2,
            "linecolor": "white",
            "showbackground": true,
            "ticks": "",
            "zerolinecolor": "white"
           },
           "yaxis": {
            "backgroundcolor": "#E5ECF6",
            "gridcolor": "white",
            "gridwidth": 2,
            "linecolor": "white",
            "showbackground": true,
            "ticks": "",
            "zerolinecolor": "white"
           },
           "zaxis": {
            "backgroundcolor": "#E5ECF6",
            "gridcolor": "white",
            "gridwidth": 2,
            "linecolor": "white",
            "showbackground": true,
            "ticks": "",
            "zerolinecolor": "white"
           }
          },
          "shapedefaults": {
           "line": {
            "color": "#2a3f5f"
           }
          },
          "ternary": {
           "aaxis": {
            "gridcolor": "white",
            "linecolor": "white",
            "ticks": ""
           },
           "baxis": {
            "gridcolor": "white",
            "linecolor": "white",
            "ticks": ""
           },
           "bgcolor": "#E5ECF6",
           "caxis": {
            "gridcolor": "white",
            "linecolor": "white",
            "ticks": ""
           }
          },
          "title": {
           "x": 0.05
          },
          "xaxis": {
           "automargin": true,
           "gridcolor": "white",
           "linecolor": "white",
           "ticks": "",
           "title": {
            "standoff": 15
           },
           "zerolinecolor": "white",
           "zerolinewidth": 2
          },
          "yaxis": {
           "automargin": true,
           "gridcolor": "white",
           "linecolor": "white",
           "ticks": "",
           "title": {
            "standoff": 15
           },
           "zerolinecolor": "white",
           "zerolinewidth": 2
          }
         }
        },
        "title": {
         "text": "Lineare Regression für average_stadtpm10"
        },
        "xaxis": {
         "anchor": "y",
         "domain": [
          0,
          1
         ],
         "title": {
          "text": "Datum"
         }
        },
        "yaxis": {
         "anchor": "x",
         "domain": [
          0,
          1
         ],
         "title": {
          "text": "average_stadtpm10"
         }
        }
       }
      }
     },
     "metadata": {},
     "output_type": "display_data"
    }
   ],
   "source": [
    "# Berechnung von R^2 und MSE und MAE und die Steigung\n",
    "r_squared_spm10_regression = r2_score(y, stadt_PM10_average['average_stadtpm10_trend'])\n",
    "mse_spm10_regression = mean_squared_error(y, stadt_PM10_average['average_stadtpm10_trend'])\n",
    "mae_spm10_regression = mean_absolute_error(y, stadt_PM10_average['average_stadtpm10_trend'])\n",
    "slope_spm10 = model.coef_[0]\n",
    "\n",
    "# Visualisierung mit Plotly Express\n",
    "fig = px.scatter(stadt_PM10_average, x='datum', y='average_stadtpm10', title='Lineare Regression für average_stadtpm10')\n",
    "fig.add_scatter(x=stadt_PM10_average['datum'], y=stadt_PM10_average['average_stadtpm10_trend'], mode='lines', name='Trend')\n",
    "fig.update_layout(xaxis_title='Datum', yaxis_title='average_stadtpm10')\n",
    "fig.show()"
   ]
  },
  {
   "cell_type": "code",
   "execution_count": 245,
   "metadata": {},
   "outputs": [
    {
     "name": "stdout",
     "output_type": "stream",
     "text": [
      "0.0029282588843474455\n",
      "5.444560977284486\n",
      "0.00198784965608942\n"
     ]
    }
   ],
   "source": [
    "print(r_squared_spm10_regression)\n",
    "print(mae_spm10_regression)\n",
    "print(slope_spm10)"
   ]
  }
 ],
 "metadata": {
  "kernelspec": {
   "display_name": "studium",
   "language": "python",
   "name": "python3"
  },
  "language_info": {
   "codemirror_mode": {
    "name": "ipython",
    "version": 3
   },
   "file_extension": ".py",
   "mimetype": "text/x-python",
   "name": "python",
   "nbconvert_exporter": "python",
   "pygments_lexer": "ipython3",
   "version": "3.11.9"
  }
 },
 "nbformat": 4,
 "nbformat_minor": 2
}
